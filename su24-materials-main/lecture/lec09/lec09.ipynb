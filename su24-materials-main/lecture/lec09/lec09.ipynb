{
 "cells": [
  {
   "cell_type": "markdown",
   "id": "8848a155-69fb-4e89-b179-ebc52a2d9009",
   "metadata": {},
   "source": [
    "# Sampling\n",
    "\n",
    "Content credits on the [Acknowledgments Page](https://ds100.org/sp23/acks/).\n",
    "\n",
    "Updated by Joseph Gonzalez, Dominic Liu, Fernando Pérez."
   ]
  },
  {
   "cell_type": "code",
   "execution_count": 1,
   "id": "69c92aba-18f9-43d7-90a7-9c850375cbaf",
   "metadata": {
    "trusted": true
   },
   "outputs": [],
   "source": [
    "import matplotlib.pyplot as plt\n",
    "import numpy as np\n",
    "import pandas as pd\n",
    "import seaborn as sns\n",
    "\n",
    "sns.set_theme(style='darkgrid', font_scale = 1.5,\n",
    "              rc={'figure.figsize':(7,5)})\n",
    "\n",
    "rng = np.random.default_rng()"
   ]
  },
  {
   "cell_type": "markdown",
   "id": "6fc02f3c-6adc-445a-9419-cd0c1b264e62",
   "metadata": {
    "tags": []
   },
   "source": [
    "## Barbie v. Oppenheimer\n",
    "\n",
    "To study how various sampling strategies work we will use a (fictional)  **census** -- a complete survey of all Berkeley residents (our population). For the purposes of this fictional demo, assume:\n",
    "* `wears_birkenstocks` indicates if a resident wears birks.\n",
    "* There are only two movies they can watch on July 21st: Barbie and Oppenheimer.\n",
    "* Every resident watches a movie (either Barbie or Oppenheimer) on July 21st.\n"
   ]
  },
  {
   "cell_type": "code",
   "execution_count": 2,
   "id": "143c1a2c-370c-42f9-b7f8-117b3b93d7f9",
   "metadata": {
    "tags": [],
    "trusted": true
   },
   "outputs": [
    {
     "data": {
      "text/html": [
       "<div>\n",
       "<style scoped>\n",
       "    .dataframe tbody tr th:only-of-type {\n",
       "        vertical-align: middle;\n",
       "    }\n",
       "\n",
       "    .dataframe tbody tr th {\n",
       "        vertical-align: top;\n",
       "    }\n",
       "\n",
       "    .dataframe thead th {\n",
       "        text-align: right;\n",
       "    }\n",
       "</style>\n",
       "<table border=\"1\" class=\"dataframe\">\n",
       "  <thead>\n",
       "    <tr style=\"text-align: right;\">\n",
       "      <th></th>\n",
       "      <th>age</th>\n",
       "      <th>wears_birkenstocks</th>\n",
       "      <th>movie</th>\n",
       "      <th>Barbie</th>\n",
       "    </tr>\n",
       "  </thead>\n",
       "  <tbody>\n",
       "    <tr>\n",
       "      <th>0</th>\n",
       "      <td>35</td>\n",
       "      <td>False</td>\n",
       "      <td>Barbie</td>\n",
       "      <td>True</td>\n",
       "    </tr>\n",
       "    <tr>\n",
       "      <th>1</th>\n",
       "      <td>42</td>\n",
       "      <td>True</td>\n",
       "      <td>Oppenheimer</td>\n",
       "      <td>False</td>\n",
       "    </tr>\n",
       "    <tr>\n",
       "      <th>2</th>\n",
       "      <td>55</td>\n",
       "      <td>False</td>\n",
       "      <td>Barbie</td>\n",
       "      <td>True</td>\n",
       "    </tr>\n",
       "    <tr>\n",
       "      <th>3</th>\n",
       "      <td>77</td>\n",
       "      <td>True</td>\n",
       "      <td>Oppenheimer</td>\n",
       "      <td>False</td>\n",
       "    </tr>\n",
       "    <tr>\n",
       "      <th>4</th>\n",
       "      <td>31</td>\n",
       "      <td>False</td>\n",
       "      <td>Barbie</td>\n",
       "      <td>True</td>\n",
       "    </tr>\n",
       "    <tr>\n",
       "      <th>...</th>\n",
       "      <td>...</td>\n",
       "      <td>...</td>\n",
       "      <td>...</td>\n",
       "      <td>...</td>\n",
       "    </tr>\n",
       "    <tr>\n",
       "      <th>1299995</th>\n",
       "      <td>62</td>\n",
       "      <td>True</td>\n",
       "      <td>Barbie</td>\n",
       "      <td>True</td>\n",
       "    </tr>\n",
       "    <tr>\n",
       "      <th>1299996</th>\n",
       "      <td>78</td>\n",
       "      <td>True</td>\n",
       "      <td>Oppenheimer</td>\n",
       "      <td>False</td>\n",
       "    </tr>\n",
       "    <tr>\n",
       "      <th>1299997</th>\n",
       "      <td>68</td>\n",
       "      <td>False</td>\n",
       "      <td>Oppenheimer</td>\n",
       "      <td>False</td>\n",
       "    </tr>\n",
       "    <tr>\n",
       "      <th>1299998</th>\n",
       "      <td>82</td>\n",
       "      <td>True</td>\n",
       "      <td>Oppenheimer</td>\n",
       "      <td>False</td>\n",
       "    </tr>\n",
       "    <tr>\n",
       "      <th>1299999</th>\n",
       "      <td>23</td>\n",
       "      <td>False</td>\n",
       "      <td>Barbie</td>\n",
       "      <td>True</td>\n",
       "    </tr>\n",
       "  </tbody>\n",
       "</table>\n",
       "<p>1300000 rows × 4 columns</p>\n",
       "</div>"
      ],
      "text/plain": [
       "         age  wears_birkenstocks        movie  Barbie\n",
       "0         35               False       Barbie    True\n",
       "1         42                True  Oppenheimer   False\n",
       "2         55               False       Barbie    True\n",
       "3         77                True  Oppenheimer   False\n",
       "4         31               False       Barbie    True\n",
       "...      ...                 ...          ...     ...\n",
       "1299995   62                True       Barbie    True\n",
       "1299996   78                True  Oppenheimer   False\n",
       "1299997   68               False  Oppenheimer   False\n",
       "1299998   82                True  Oppenheimer   False\n",
       "1299999   23               False       Barbie    True\n",
       "\n",
       "[1300000 rows x 4 columns]"
      ]
     },
     "execution_count": 2,
     "metadata": {},
     "output_type": "execute_result"
    }
   ],
   "source": [
    "census = pd.read_csv(\"movie_census.csv\")\n",
    "census['Barbie'] = census['movie'] == 'Barbie'\n",
    "census"
   ]
  },
  {
   "cell_type": "markdown",
   "id": "bc40ee2f-4849-4a5f-bca7-c05085a63229",
   "metadata": {},
   "source": [
    "What fraction of Berkeley residents chose Barbie?"
   ]
  },
  {
   "cell_type": "code",
   "execution_count": 3,
   "id": "16c4d531-8207-4f2a-99b1-9276eb70feef",
   "metadata": {
    "trusted": true
   },
   "outputs": [
    {
     "data": {
      "text/plain": [
       "0.5302792307692308"
      ]
     },
     "execution_count": 3,
     "metadata": {},
     "output_type": "execute_result"
    }
   ],
   "source": [
    "actual_barbie = census[\"Barbie\"].mean()\n",
    "actual_barbie"
   ]
  },
  {
   "cell_type": "markdown",
   "id": "43d2a184-f19f-4612-b441-83197cd7c994",
   "metadata": {},
   "source": [
    "This is the **actual outcome** of the competition. Based on this result, Barbie would win."
   ]
  },
  {
   "cell_type": "markdown",
   "id": "08b7b196-d446-4cb7-9381-5e5d841c4c46",
   "metadata": {},
   "source": [
    "## Convenience sample: _Undergrads in Prof. Gonzalez OH_"
   ]
  },
  {
   "cell_type": "code",
   "execution_count": 24,
   "id": "82557452-d991-4815-9452-7708a3e96eca",
   "metadata": {
    "trusted": true
   },
   "outputs": [
    {
     "data": {
      "text/plain": [
       "0.7"
      ]
     },
     "execution_count": 24,
     "metadata": {},
     "output_type": "execute_result"
    }
   ],
   "source": [
    "undergrads = census[(18 <= census['age']) & (census['age'] <= 22)].sample(10, replace=False)\n",
    "undergrads[\"Barbie\"].mean()"
   ]
  },
  {
   "cell_type": "markdown",
   "id": "118fc64a-ee4c-49ef-8e97-0c48d72c7c2e",
   "metadata": {},
   "source": [
    "Based on this result, we would have predicted that Barbie would win! What happened?"
   ]
  },
  {
   "cell_type": "markdown",
   "id": "766bdf34-bcbb-43fe-a797-5b7065aa0e91",
   "metadata": {},
   "source": [
    "1. Is the sample too small / noisy?"
   ]
  },
  {
   "cell_type": "code",
   "execution_count": 26,
   "id": "81e06573-8521-4deb-88ef-64206154217e",
   "metadata": {
    "trusted": true
   },
   "outputs": [
    {
     "data": {
      "text/plain": [
       "10"
      ]
     },
     "execution_count": 26,
     "metadata": {},
     "output_type": "execute_result"
    }
   ],
   "source": [
    "len(undergrads)"
   ]
  },
  {
   "cell_type": "code",
   "execution_count": 27,
   "id": "ad2dc4cb-b41b-463b-a692-a4670274dfe3",
   "metadata": {
    "trusted": true
   },
   "outputs": [
    {
     "name": "stdout",
     "output_type": "stream",
     "text": [
      "Percent of Berkeley: 0.0007692307692307692\n"
     ]
    }
   ],
   "source": [
    "print(\"Percent of Berkeley:\", len(undergrads)/len(census) * 100)"
   ]
  },
  {
   "cell_type": "markdown",
   "id": "77de6faa",
   "metadata": {},
   "source": [
    "## Convenience sample: _Elderly at a Campus Event_"
   ]
  },
  {
   "cell_type": "code",
   "execution_count": 38,
   "id": "c4f00063",
   "metadata": {
    "trusted": true
   },
   "outputs": [
    {
     "data": {
      "text/plain": [
       "0.33"
      ]
     },
     "execution_count": 38,
     "metadata": {},
     "output_type": "execute_result"
    }
   ],
   "source": [
    "elderly = census[census['age'] >= 65].sample(100)\n",
    "elderly[\"Barbie\"].mean()"
   ]
  },
  {
   "cell_type": "markdown",
   "id": "46d0b5fc",
   "metadata": {},
   "source": [
    "Based on this result, we would have predicted that Oppenheimer would win! What happened?"
   ]
  },
  {
   "cell_type": "markdown",
   "id": "5fa32d13",
   "metadata": {},
   "source": [
    "1. Is the sample too small / noisy?"
   ]
  },
  {
   "cell_type": "code",
   "execution_count": 39,
   "id": "e7b0b96a",
   "metadata": {
    "trusted": true
   },
   "outputs": [
    {
     "data": {
      "text/plain": [
       "100"
      ]
     },
     "execution_count": 39,
     "metadata": {},
     "output_type": "execute_result"
    }
   ],
   "source": [
    "len(elderly)"
   ]
  },
  {
   "cell_type": "code",
   "execution_count": 40,
   "id": "ea785313",
   "metadata": {
    "trusted": true
   },
   "outputs": [
    {
     "name": "stdout",
     "output_type": "stream",
     "text": [
      "Percent of Berkeley: 0.007692307692307693\n"
     ]
    }
   ],
   "source": [
    "print(\"Percent of Berkeley:\", len(elderly)/len(census) * 100)"
   ]
  },
  {
   "cell_type": "markdown",
   "id": "a4cccfcf-6252-4c25-9f56-b39b13401bd4",
   "metadata": {},
   "source": [
    "### Check for bias"
   ]
  },
  {
   "cell_type": "markdown",
   "id": "05b6e116-391e-4e67-be25-c463d12723ee",
   "metadata": {},
   "source": [
    "Let us aggregate all choices by age and visualize the fraction of Barbie views, split by `wears_birkenstocks`."
   ]
  },
  {
   "cell_type": "code",
   "execution_count": 44,
   "id": "02d1e1ff-13d0-4e08-a3ac-ddb5537b209e",
   "metadata": {
    "trusted": true
   },
   "outputs": [
    {
     "data": {
      "text/html": [
       "<div>\n",
       "<style scoped>\n",
       "    .dataframe tbody tr th:only-of-type {\n",
       "        vertical-align: middle;\n",
       "    }\n",
       "\n",
       "    .dataframe tbody tr th {\n",
       "        vertical-align: top;\n",
       "    }\n",
       "\n",
       "    .dataframe thead th {\n",
       "        text-align: right;\n",
       "    }\n",
       "</style>\n",
       "<table border=\"1\" class=\"dataframe\">\n",
       "  <thead>\n",
       "    <tr style=\"text-align: right;\">\n",
       "      <th></th>\n",
       "      <th>age</th>\n",
       "      <th>wears_birkenstocks</th>\n",
       "      <th>Barbie</th>\n",
       "    </tr>\n",
       "  </thead>\n",
       "  <tbody>\n",
       "    <tr>\n",
       "      <th>0</th>\n",
       "      <td>18</td>\n",
       "      <td>False</td>\n",
       "      <td>0.819594</td>\n",
       "    </tr>\n",
       "    <tr>\n",
       "      <th>1</th>\n",
       "      <td>18</td>\n",
       "      <td>True</td>\n",
       "      <td>0.667001</td>\n",
       "    </tr>\n",
       "    <tr>\n",
       "      <th>2</th>\n",
       "      <td>19</td>\n",
       "      <td>False</td>\n",
       "      <td>0.812214</td>\n",
       "    </tr>\n",
       "    <tr>\n",
       "      <th>3</th>\n",
       "      <td>19</td>\n",
       "      <td>True</td>\n",
       "      <td>0.661252</td>\n",
       "    </tr>\n",
       "    <tr>\n",
       "      <th>4</th>\n",
       "      <td>20</td>\n",
       "      <td>False</td>\n",
       "      <td>0.805281</td>\n",
       "    </tr>\n",
       "    <tr>\n",
       "      <th>...</th>\n",
       "      <td>...</td>\n",
       "      <td>...</td>\n",
       "      <td>...</td>\n",
       "    </tr>\n",
       "    <tr>\n",
       "      <th>125</th>\n",
       "      <td>80</td>\n",
       "      <td>True</td>\n",
       "      <td>0.259731</td>\n",
       "    </tr>\n",
       "    <tr>\n",
       "      <th>126</th>\n",
       "      <td>81</td>\n",
       "      <td>False</td>\n",
       "      <td>0.394946</td>\n",
       "    </tr>\n",
       "    <tr>\n",
       "      <th>127</th>\n",
       "      <td>81</td>\n",
       "      <td>True</td>\n",
       "      <td>0.256759</td>\n",
       "    </tr>\n",
       "    <tr>\n",
       "      <th>128</th>\n",
       "      <td>82</td>\n",
       "      <td>False</td>\n",
       "      <td>0.398970</td>\n",
       "    </tr>\n",
       "    <tr>\n",
       "      <th>129</th>\n",
       "      <td>82</td>\n",
       "      <td>True</td>\n",
       "      <td>0.248060</td>\n",
       "    </tr>\n",
       "  </tbody>\n",
       "</table>\n",
       "<p>130 rows × 3 columns</p>\n",
       "</div>"
      ],
      "text/plain": [
       "     age  wears_birkenstocks    Barbie\n",
       "0     18               False  0.819594\n",
       "1     18                True  0.667001\n",
       "2     19               False  0.812214\n",
       "3     19                True  0.661252\n",
       "4     20               False  0.805281\n",
       "..   ...                 ...       ...\n",
       "125   80                True  0.259731\n",
       "126   81               False  0.394946\n",
       "127   81                True  0.256759\n",
       "128   82               False  0.398970\n",
       "129   82                True  0.248060\n",
       "\n",
       "[130 rows x 3 columns]"
      ]
     },
     "execution_count": 44,
     "metadata": {},
     "output_type": "execute_result"
    }
   ],
   "source": [
    "votes_by_barbie = census.groupby([\"age\",\"wears_birkenstocks\"]).agg(\"mean\", numeric_only=True).reset_index()\n",
    "votes_by_barbie"
   ]
  },
  {
   "cell_type": "code",
   "execution_count": 42,
   "id": "ac488c63",
   "metadata": {
    "trusted": true
   },
   "outputs": [
    {
     "data": {
      "application/vnd.plotly.v1+json": {
       "config": {
        "plotlyServerURL": "https://plot.ly"
       },
       "data": [
        {
         "hovertemplate": "wears_birkenstocks=False<br>age=%{x}<br>Barbie=%{y}<extra></extra>",
         "legendgroup": "False",
         "marker": {
          "color": "#636efa",
          "symbol": "circle"
         },
         "mode": "markers",
         "name": "False",
         "orientation": "v",
         "showlegend": true,
         "type": "scatter",
         "x": [
          18,
          19,
          20,
          21,
          22,
          23,
          24,
          25,
          26,
          27,
          28,
          29,
          30,
          31,
          32,
          33,
          34,
          35,
          36,
          37,
          38,
          39,
          40,
          41,
          42,
          43,
          44,
          45,
          46,
          47,
          48,
          49,
          50,
          51,
          52,
          53,
          54,
          55,
          56,
          57,
          58,
          59,
          60,
          61,
          62,
          63,
          64,
          65,
          66,
          67,
          68,
          69,
          70,
          71,
          72,
          73,
          74,
          75,
          76,
          77,
          78,
          79,
          80,
          81,
          82
         ],
         "xaxis": "x",
         "y": [
          0.8195939086294416,
          0.812214498510427,
          0.8052808544303798,
          0.7988402319536093,
          0.7969641401792991,
          0.7836461661341853,
          0.7794309842163466,
          0.7746703955253695,
          0.7683536707341468,
          0.759606702116986,
          0.7518708152816069,
          0.7430822255046775,
          0.7384245339747444,
          0.7328934010152284,
          0.7192716236722306,
          0.7195493300852619,
          0.7090311004784688,
          0.7013346515076619,
          0.6869041645760161,
          0.6865626874625075,
          0.6941391941391941,
          0.6774827925270404,
          0.6684299830322388,
          0.6700400801603207,
          0.6591331572253204,
          0.6519987916624711,
          0.6430648881757095,
          0.6375558867362145,
          0.6320586487021993,
          0.6273627362736274,
          0.6114720812182741,
          0.6061232526087813,
          0.6037126715092817,
          0.5927323272438443,
          0.5971791537461238,
          0.5809248554913294,
          0.5823754789272031,
          0.5734329262137883,
          0.5698751510269835,
          0.5540787337662337,
          0.5575029539188657,
          0.5439271255060729,
          0.5411846828879139,
          0.5233663366336634,
          0.5270054010802161,
          0.5263157894736842,
          0.5058858151854032,
          0.49919208240759444,
          0.49753545920933506,
          0.4906089363384737,
          0.48677512725820943,
          0.4890294524609607,
          0.47772052137011217,
          0.4662417845050787,
          0.4553714057507987,
          0.45975755166931637,
          0.4523880745837072,
          0.42993062438057483,
          0.4282284685405622,
          0.4289704708699122,
          0.4147699035881125,
          0.4137720901889092,
          0.401757753308415,
          0.3949461391321856,
          0.3989698890649762
         ],
         "yaxis": "y"
        },
        {
         "hovertemplate": "wears_birkenstocks=True<br>age=%{x}<br>Barbie=%{y}<extra></extra>",
         "legendgroup": "True",
         "marker": {
          "color": "#EF553B",
          "symbol": "circle"
         },
         "mode": "markers",
         "name": "True",
         "orientation": "v",
         "showlegend": true,
         "type": "scatter",
         "x": [
          18,
          19,
          20,
          21,
          22,
          23,
          24,
          25,
          26,
          27,
          28,
          29,
          30,
          31,
          32,
          33,
          34,
          35,
          36,
          37,
          38,
          39,
          40,
          41,
          42,
          43,
          44,
          45,
          46,
          47,
          48,
          49,
          50,
          51,
          52,
          53,
          54,
          55,
          56,
          57,
          58,
          59,
          60,
          61,
          62,
          63,
          64,
          65,
          66,
          67,
          68,
          69,
          70,
          71,
          72,
          73,
          74,
          75,
          76,
          77,
          78,
          79,
          80,
          81,
          82
         ],
         "xaxis": "x",
         "y": [
          0.6670008019246191,
          0.6612519809825673,
          0.6544088572558323,
          0.6519006285543251,
          0.6413922303293236,
          0.6396648044692738,
          0.6308987075443342,
          0.6320689313657522,
          0.6086028065893838,
          0.6126126126126126,
          0.5963468486551585,
          0.5988757277655089,
          0.5868822820409804,
          0.5908415105560512,
          0.5803694242483789,
          0.5739096112097888,
          0.5611717974180734,
          0.548796454829288,
          0.5462421922224461,
          0.546286058900392,
          0.5342868736051938,
          0.5303199593702387,
          0.5076339686658018,
          0.5151454161215658,
          0.5089071257005604,
          0.503375024816359,
          0.4961439588688946,
          0.4960984393757503,
          0.4776605187888352,
          0.47171889077985785,
          0.46315683511173744,
          0.45653040877367895,
          0.4477111286503552,
          0.44719258003390844,
          0.45008035355564485,
          0.4296976349665702,
          0.43027059173357124,
          0.4272047832585949,
          0.41396039603960394,
          0.40764331210191085,
          0.4038346315158778,
          0.39622641509433965,
          0.3836641069113394,
          0.37846607669616517,
          0.38071421426427926,
          0.361265923566879,
          0.35606288174627015,
          0.35363021306674747,
          0.3578120278029616,
          0.3438473129080864,
          0.3447576556479416,
          0.3261286738713261,
          0.3201342944603535,
          0.31535437040024195,
          0.30621719822365767,
          0.296402451077288,
          0.2909508589692369,
          0.2845577211394303,
          0.280259222333001,
          0.2750792514572042,
          0.2709800764741397,
          0.2590216519647153,
          0.2597310686482661,
          0.25675942372212357,
          0.24805967140409232
         ],
         "yaxis": "y"
        }
       ],
       "layout": {
        "legend": {
         "title": {
          "text": "wears_birkenstocks"
         },
         "tracegroupgap": 0
        },
        "template": {
         "data": {
          "bar": [
           {
            "error_x": {
             "color": "#2a3f5f"
            },
            "error_y": {
             "color": "#2a3f5f"
            },
            "marker": {
             "line": {
              "color": "#E5ECF6",
              "width": 0.5
             },
             "pattern": {
              "fillmode": "overlay",
              "size": 10,
              "solidity": 0.2
             }
            },
            "type": "bar"
           }
          ],
          "barpolar": [
           {
            "marker": {
             "line": {
              "color": "#E5ECF6",
              "width": 0.5
             },
             "pattern": {
              "fillmode": "overlay",
              "size": 10,
              "solidity": 0.2
             }
            },
            "type": "barpolar"
           }
          ],
          "carpet": [
           {
            "aaxis": {
             "endlinecolor": "#2a3f5f",
             "gridcolor": "white",
             "linecolor": "white",
             "minorgridcolor": "white",
             "startlinecolor": "#2a3f5f"
            },
            "baxis": {
             "endlinecolor": "#2a3f5f",
             "gridcolor": "white",
             "linecolor": "white",
             "minorgridcolor": "white",
             "startlinecolor": "#2a3f5f"
            },
            "type": "carpet"
           }
          ],
          "choropleth": [
           {
            "colorbar": {
             "outlinewidth": 0,
             "ticks": ""
            },
            "type": "choropleth"
           }
          ],
          "contour": [
           {
            "colorbar": {
             "outlinewidth": 0,
             "ticks": ""
            },
            "colorscale": [
             [
              0,
              "#0d0887"
             ],
             [
              0.1111111111111111,
              "#46039f"
             ],
             [
              0.2222222222222222,
              "#7201a8"
             ],
             [
              0.3333333333333333,
              "#9c179e"
             ],
             [
              0.4444444444444444,
              "#bd3786"
             ],
             [
              0.5555555555555556,
              "#d8576b"
             ],
             [
              0.6666666666666666,
              "#ed7953"
             ],
             [
              0.7777777777777778,
              "#fb9f3a"
             ],
             [
              0.8888888888888888,
              "#fdca26"
             ],
             [
              1,
              "#f0f921"
             ]
            ],
            "type": "contour"
           }
          ],
          "contourcarpet": [
           {
            "colorbar": {
             "outlinewidth": 0,
             "ticks": ""
            },
            "type": "contourcarpet"
           }
          ],
          "heatmap": [
           {
            "colorbar": {
             "outlinewidth": 0,
             "ticks": ""
            },
            "colorscale": [
             [
              0,
              "#0d0887"
             ],
             [
              0.1111111111111111,
              "#46039f"
             ],
             [
              0.2222222222222222,
              "#7201a8"
             ],
             [
              0.3333333333333333,
              "#9c179e"
             ],
             [
              0.4444444444444444,
              "#bd3786"
             ],
             [
              0.5555555555555556,
              "#d8576b"
             ],
             [
              0.6666666666666666,
              "#ed7953"
             ],
             [
              0.7777777777777778,
              "#fb9f3a"
             ],
             [
              0.8888888888888888,
              "#fdca26"
             ],
             [
              1,
              "#f0f921"
             ]
            ],
            "type": "heatmap"
           }
          ],
          "heatmapgl": [
           {
            "colorbar": {
             "outlinewidth": 0,
             "ticks": ""
            },
            "colorscale": [
             [
              0,
              "#0d0887"
             ],
             [
              0.1111111111111111,
              "#46039f"
             ],
             [
              0.2222222222222222,
              "#7201a8"
             ],
             [
              0.3333333333333333,
              "#9c179e"
             ],
             [
              0.4444444444444444,
              "#bd3786"
             ],
             [
              0.5555555555555556,
              "#d8576b"
             ],
             [
              0.6666666666666666,
              "#ed7953"
             ],
             [
              0.7777777777777778,
              "#fb9f3a"
             ],
             [
              0.8888888888888888,
              "#fdca26"
             ],
             [
              1,
              "#f0f921"
             ]
            ],
            "type": "heatmapgl"
           }
          ],
          "histogram": [
           {
            "marker": {
             "pattern": {
              "fillmode": "overlay",
              "size": 10,
              "solidity": 0.2
             }
            },
            "type": "histogram"
           }
          ],
          "histogram2d": [
           {
            "colorbar": {
             "outlinewidth": 0,
             "ticks": ""
            },
            "colorscale": [
             [
              0,
              "#0d0887"
             ],
             [
              0.1111111111111111,
              "#46039f"
             ],
             [
              0.2222222222222222,
              "#7201a8"
             ],
             [
              0.3333333333333333,
              "#9c179e"
             ],
             [
              0.4444444444444444,
              "#bd3786"
             ],
             [
              0.5555555555555556,
              "#d8576b"
             ],
             [
              0.6666666666666666,
              "#ed7953"
             ],
             [
              0.7777777777777778,
              "#fb9f3a"
             ],
             [
              0.8888888888888888,
              "#fdca26"
             ],
             [
              1,
              "#f0f921"
             ]
            ],
            "type": "histogram2d"
           }
          ],
          "histogram2dcontour": [
           {
            "colorbar": {
             "outlinewidth": 0,
             "ticks": ""
            },
            "colorscale": [
             [
              0,
              "#0d0887"
             ],
             [
              0.1111111111111111,
              "#46039f"
             ],
             [
              0.2222222222222222,
              "#7201a8"
             ],
             [
              0.3333333333333333,
              "#9c179e"
             ],
             [
              0.4444444444444444,
              "#bd3786"
             ],
             [
              0.5555555555555556,
              "#d8576b"
             ],
             [
              0.6666666666666666,
              "#ed7953"
             ],
             [
              0.7777777777777778,
              "#fb9f3a"
             ],
             [
              0.8888888888888888,
              "#fdca26"
             ],
             [
              1,
              "#f0f921"
             ]
            ],
            "type": "histogram2dcontour"
           }
          ],
          "mesh3d": [
           {
            "colorbar": {
             "outlinewidth": 0,
             "ticks": ""
            },
            "type": "mesh3d"
           }
          ],
          "parcoords": [
           {
            "line": {
             "colorbar": {
              "outlinewidth": 0,
              "ticks": ""
             }
            },
            "type": "parcoords"
           }
          ],
          "pie": [
           {
            "automargin": true,
            "type": "pie"
           }
          ],
          "scatter": [
           {
            "fillpattern": {
             "fillmode": "overlay",
             "size": 10,
             "solidity": 0.2
            },
            "type": "scatter"
           }
          ],
          "scatter3d": [
           {
            "line": {
             "colorbar": {
              "outlinewidth": 0,
              "ticks": ""
             }
            },
            "marker": {
             "colorbar": {
              "outlinewidth": 0,
              "ticks": ""
             }
            },
            "type": "scatter3d"
           }
          ],
          "scattercarpet": [
           {
            "marker": {
             "colorbar": {
              "outlinewidth": 0,
              "ticks": ""
             }
            },
            "type": "scattercarpet"
           }
          ],
          "scattergeo": [
           {
            "marker": {
             "colorbar": {
              "outlinewidth": 0,
              "ticks": ""
             }
            },
            "type": "scattergeo"
           }
          ],
          "scattergl": [
           {
            "marker": {
             "colorbar": {
              "outlinewidth": 0,
              "ticks": ""
             }
            },
            "type": "scattergl"
           }
          ],
          "scattermapbox": [
           {
            "marker": {
             "colorbar": {
              "outlinewidth": 0,
              "ticks": ""
             }
            },
            "type": "scattermapbox"
           }
          ],
          "scatterpolar": [
           {
            "marker": {
             "colorbar": {
              "outlinewidth": 0,
              "ticks": ""
             }
            },
            "type": "scatterpolar"
           }
          ],
          "scatterpolargl": [
           {
            "marker": {
             "colorbar": {
              "outlinewidth": 0,
              "ticks": ""
             }
            },
            "type": "scatterpolargl"
           }
          ],
          "scatterternary": [
           {
            "marker": {
             "colorbar": {
              "outlinewidth": 0,
              "ticks": ""
             }
            },
            "type": "scatterternary"
           }
          ],
          "surface": [
           {
            "colorbar": {
             "outlinewidth": 0,
             "ticks": ""
            },
            "colorscale": [
             [
              0,
              "#0d0887"
             ],
             [
              0.1111111111111111,
              "#46039f"
             ],
             [
              0.2222222222222222,
              "#7201a8"
             ],
             [
              0.3333333333333333,
              "#9c179e"
             ],
             [
              0.4444444444444444,
              "#bd3786"
             ],
             [
              0.5555555555555556,
              "#d8576b"
             ],
             [
              0.6666666666666666,
              "#ed7953"
             ],
             [
              0.7777777777777778,
              "#fb9f3a"
             ],
             [
              0.8888888888888888,
              "#fdca26"
             ],
             [
              1,
              "#f0f921"
             ]
            ],
            "type": "surface"
           }
          ],
          "table": [
           {
            "cells": {
             "fill": {
              "color": "#EBF0F8"
             },
             "line": {
              "color": "white"
             }
            },
            "header": {
             "fill": {
              "color": "#C8D4E3"
             },
             "line": {
              "color": "white"
             }
            },
            "type": "table"
           }
          ]
         },
         "layout": {
          "annotationdefaults": {
           "arrowcolor": "#2a3f5f",
           "arrowhead": 0,
           "arrowwidth": 1
          },
          "autotypenumbers": "strict",
          "coloraxis": {
           "colorbar": {
            "outlinewidth": 0,
            "ticks": ""
           }
          },
          "colorscale": {
           "diverging": [
            [
             0,
             "#8e0152"
            ],
            [
             0.1,
             "#c51b7d"
            ],
            [
             0.2,
             "#de77ae"
            ],
            [
             0.3,
             "#f1b6da"
            ],
            [
             0.4,
             "#fde0ef"
            ],
            [
             0.5,
             "#f7f7f7"
            ],
            [
             0.6,
             "#e6f5d0"
            ],
            [
             0.7,
             "#b8e186"
            ],
            [
             0.8,
             "#7fbc41"
            ],
            [
             0.9,
             "#4d9221"
            ],
            [
             1,
             "#276419"
            ]
           ],
           "sequential": [
            [
             0,
             "#0d0887"
            ],
            [
             0.1111111111111111,
             "#46039f"
            ],
            [
             0.2222222222222222,
             "#7201a8"
            ],
            [
             0.3333333333333333,
             "#9c179e"
            ],
            [
             0.4444444444444444,
             "#bd3786"
            ],
            [
             0.5555555555555556,
             "#d8576b"
            ],
            [
             0.6666666666666666,
             "#ed7953"
            ],
            [
             0.7777777777777778,
             "#fb9f3a"
            ],
            [
             0.8888888888888888,
             "#fdca26"
            ],
            [
             1,
             "#f0f921"
            ]
           ],
           "sequentialminus": [
            [
             0,
             "#0d0887"
            ],
            [
             0.1111111111111111,
             "#46039f"
            ],
            [
             0.2222222222222222,
             "#7201a8"
            ],
            [
             0.3333333333333333,
             "#9c179e"
            ],
            [
             0.4444444444444444,
             "#bd3786"
            ],
            [
             0.5555555555555556,
             "#d8576b"
            ],
            [
             0.6666666666666666,
             "#ed7953"
            ],
            [
             0.7777777777777778,
             "#fb9f3a"
            ],
            [
             0.8888888888888888,
             "#fdca26"
            ],
            [
             1,
             "#f0f921"
            ]
           ]
          },
          "colorway": [
           "#636efa",
           "#EF553B",
           "#00cc96",
           "#ab63fa",
           "#FFA15A",
           "#19d3f3",
           "#FF6692",
           "#B6E880",
           "#FF97FF",
           "#FECB52"
          ],
          "font": {
           "color": "#2a3f5f"
          },
          "geo": {
           "bgcolor": "white",
           "lakecolor": "white",
           "landcolor": "#E5ECF6",
           "showlakes": true,
           "showland": true,
           "subunitcolor": "white"
          },
          "hoverlabel": {
           "align": "left"
          },
          "hovermode": "closest",
          "mapbox": {
           "style": "light"
          },
          "paper_bgcolor": "white",
          "plot_bgcolor": "#E5ECF6",
          "polar": {
           "angularaxis": {
            "gridcolor": "white",
            "linecolor": "white",
            "ticks": ""
           },
           "bgcolor": "#E5ECF6",
           "radialaxis": {
            "gridcolor": "white",
            "linecolor": "white",
            "ticks": ""
           }
          },
          "scene": {
           "xaxis": {
            "backgroundcolor": "#E5ECF6",
            "gridcolor": "white",
            "gridwidth": 2,
            "linecolor": "white",
            "showbackground": true,
            "ticks": "",
            "zerolinecolor": "white"
           },
           "yaxis": {
            "backgroundcolor": "#E5ECF6",
            "gridcolor": "white",
            "gridwidth": 2,
            "linecolor": "white",
            "showbackground": true,
            "ticks": "",
            "zerolinecolor": "white"
           },
           "zaxis": {
            "backgroundcolor": "#E5ECF6",
            "gridcolor": "white",
            "gridwidth": 2,
            "linecolor": "white",
            "showbackground": true,
            "ticks": "",
            "zerolinecolor": "white"
           }
          },
          "shapedefaults": {
           "line": {
            "color": "#2a3f5f"
           }
          },
          "ternary": {
           "aaxis": {
            "gridcolor": "white",
            "linecolor": "white",
            "ticks": ""
           },
           "baxis": {
            "gridcolor": "white",
            "linecolor": "white",
            "ticks": ""
           },
           "bgcolor": "#E5ECF6",
           "caxis": {
            "gridcolor": "white",
            "linecolor": "white",
            "ticks": ""
           }
          },
          "title": {
           "x": 0.05
          },
          "xaxis": {
           "automargin": true,
           "gridcolor": "white",
           "linecolor": "white",
           "ticks": "",
           "title": {
            "standoff": 15
           },
           "zerolinecolor": "white",
           "zerolinewidth": 2
          },
          "yaxis": {
           "automargin": true,
           "gridcolor": "white",
           "linecolor": "white",
           "ticks": "",
           "title": {
            "standoff": 15
           },
           "zerolinecolor": "white",
           "zerolinewidth": 2
          }
         }
        },
        "title": {
         "text": "Preferences by Demographics"
        },
        "xaxis": {
         "anchor": "y",
         "domain": [
          0,
          1
         ],
         "title": {
          "text": "age"
         }
        },
        "yaxis": {
         "anchor": "x",
         "domain": [
          0,
          1
         ],
         "title": {
          "text": "Barbie"
         }
        }
       }
      }
     },
     "metadata": {},
     "output_type": "display_data"
    }
   ],
   "source": [
    "import plotly.express as px\n",
    "px.scatter(votes_by_barbie, x = \"age\", y = \"Barbie\", \n",
    "           color = \"wears_birkenstocks\",\n",
    "           title= \"Preferences by Demographics\")"
   ]
  },
  {
   "cell_type": "markdown",
   "id": "a3734e93-bcf8-4c74-b19f-dae29f2a85bd",
   "metadata": {},
   "source": [
    "* We see that retirees (in Berkeley) tend to watch Oppenheimer.\n",
    "* We also see that residents who don't routinely wear Birkenstocks tend to prefer Barbie (nothing wrong with Birkenstocks)."
   ]
  },
  {
   "cell_type": "markdown",
   "id": "e85c9a04-c048-4fda-95b2-9415446c4966",
   "metadata": {},
   "source": [
    "## Simple Random Sample"
   ]
  },
  {
   "cell_type": "markdown",
   "id": "b2ed52f3-8683-4d54-85ba-efb5c53d7663",
   "metadata": {},
   "source": [
    "What if we instead took a simple random sample (SRS) to collect our sample?\n",
    "\n",
    "Suppose we took an SRS:"
   ]
  },
  {
   "cell_type": "code",
   "execution_count": 57,
   "id": "76e18d6e-f0d4-412f-9c06-45c186c7f5c1",
   "metadata": {
    "trusted": true
   },
   "outputs": [
    {
     "data": {
      "text/plain": [
       "0.5308"
      ]
     },
     "execution_count": 57,
     "metadata": {},
     "output_type": "execute_result"
    }
   ],
   "source": [
    "## By default, replace = False\n",
    "n = 10000\n",
    "random_sample = census.sample(n, replace = False)\n",
    "\n",
    "random_sample[\"Barbie\"].mean()"
   ]
  },
  {
   "cell_type": "markdown",
   "id": "ba801f5d-6476-4ea9-a795-c2baf2917d4b",
   "metadata": {},
   "source": [
    "This is very close to the actual vote!"
   ]
  },
  {
   "cell_type": "code",
   "execution_count": 55,
   "id": "e8e3bcdd-9b97-4d62-9bf2-3844b705c84b",
   "metadata": {
    "trusted": true
   },
   "outputs": [
    {
     "data": {
      "text/plain": [
       "0.5302792307692308"
      ]
     },
     "execution_count": 55,
     "metadata": {},
     "output_type": "execute_result"
    }
   ],
   "source": [
    "actual_barbie"
   ]
  },
  {
   "cell_type": "markdown",
   "id": "2938ff0e-6951-414f-b7e2-864aff5e10bc",
   "metadata": {},
   "source": [
    "It turns out that we can get similar results with a **much smaller sample size**, say, 800:"
   ]
  },
  {
   "cell_type": "code",
   "execution_count": 81,
   "id": "231149d1-57ac-4424-aa8a-d20798fa23b5",
   "metadata": {
    "trusted": true
   },
   "outputs": [
    {
     "data": {
      "text/markdown": [
       "**Actual** = 0.5303, **Sample** = 0.5275, **Err** = 0.52%."
      ],
      "text/plain": [
       "<IPython.core.display.Markdown object>"
      ]
     },
     "execution_count": 81,
     "metadata": {},
     "output_type": "execute_result"
    }
   ],
   "source": [
    "n = 800\n",
    "random_sample = census.sample(n, replace = False)\n",
    "\n",
    "# Compute the sample average and the resulting relative error\n",
    "sample_barbie = random_sample[\"Barbie\"].mean()\n",
    "err = abs(sample_barbie-actual_barbie)/actual_barbie\n",
    "\n",
    "# We can print output with Markdown formatting too...\n",
    "from IPython.display import Markdown\n",
    "Markdown(f\"**Actual** = {actual_barbie:.4f}, **Sample** = {sample_barbie:.4f}, \"\n",
    "         f\"**Err** = {100*err:.2f}%.\")"
   ]
  },
  {
   "cell_type": "markdown",
   "id": "d8358d76-0626-4a28-be7d-169a734b7a8b",
   "metadata": {},
   "source": [
    "We'll learn how to choose this number when we (re)learn the Central Limit Theorem later in the semester."
   ]
  },
  {
   "cell_type": "markdown",
   "id": "6bca35a6-2c3a-4cc6-9825-ff87a133c604",
   "metadata": {},
   "source": [
    "### Quantifying chance error"
   ]
  },
  {
   "cell_type": "markdown",
   "id": "a11f189c-41f9-4a97-a8e3-1265d25c1761",
   "metadata": {},
   "source": [
    "In our SRS of size 800, what would be our chance error?\n",
    "\n",
    "Let's simulate 1000 versions of taking the 800-sized SRS from before:"
   ]
  },
  {
   "cell_type": "code",
   "execution_count": 82,
   "id": "56ad3032-fed5-42f4-b5cf-3da7560be2e7",
   "metadata": {
    "trusted": true
   },
   "outputs": [],
   "source": [
    "nrep = 1000   # number of simulations\n",
    "n = 800       # size of our sample\n",
    "poll_result = []\n",
    "for i in range(0, nrep):\n",
    "    random_sample = census.sample(n, replace = False)\n",
    "    poll_result.append(random_sample[\"Barbie\"].mean())"
   ]
  },
  {
   "cell_type": "markdown",
   "id": "cc3cb08b",
   "metadata": {},
   "source": [
    "Visualizing the distribution of outcomes:"
   ]
  },
  {
   "cell_type": "code",
   "execution_count": 89,
   "id": "814f057d",
   "metadata": {
    "trusted": true
   },
   "outputs": [
    {
     "data": {
      "application/vnd.plotly.v1+json": {
       "config": {
        "plotlyServerURL": "https://plot.ly"
       },
       "data": [
        {
         "alignmentgroup": "True",
         "bingroup": "x",
         "histnorm": "probability density",
         "hovertemplate": "variable=0<br>value=%{x}<br>probability density=%{y}<extra></extra>",
         "legendgroup": "0",
         "marker": {
          "color": "#636efa",
          "pattern": {
           "shape": ""
          }
         },
         "name": "0",
         "nbinsx": 50,
         "offsetgroup": "0",
         "orientation": "v",
         "showlegend": true,
         "type": "histogram",
         "x": [
          0.53125,
          0.52,
          0.53,
          0.55875,
          0.54875,
          0.48375,
          0.5275,
          0.49625,
          0.53875,
          0.49875,
          0.52125,
          0.51875,
          0.53,
          0.535,
          0.54125,
          0.51375,
          0.5325,
          0.5125,
          0.5625,
          0.53875,
          0.53875,
          0.5225,
          0.5475,
          0.535,
          0.54625,
          0.5175,
          0.535,
          0.525,
          0.54,
          0.5175,
          0.515,
          0.56125,
          0.5225,
          0.53,
          0.525,
          0.55875,
          0.52875,
          0.53875,
          0.4725,
          0.5375,
          0.56125,
          0.51125,
          0.54375,
          0.5225,
          0.52625,
          0.5525,
          0.53,
          0.54125,
          0.5325,
          0.5125,
          0.5575,
          0.5325,
          0.57375,
          0.52875,
          0.52625,
          0.5075,
          0.53375,
          0.52375,
          0.5225,
          0.525,
          0.50625,
          0.5275,
          0.525,
          0.51625,
          0.5,
          0.54375,
          0.50875,
          0.52875,
          0.5325,
          0.525,
          0.5575,
          0.54375,
          0.54125,
          0.51875,
          0.5375,
          0.535,
          0.55375,
          0.56125,
          0.54375,
          0.55,
          0.565,
          0.5325,
          0.54625,
          0.53375,
          0.52125,
          0.5425,
          0.54375,
          0.5375,
          0.51,
          0.49625,
          0.50875,
          0.58125,
          0.53,
          0.55125,
          0.54625,
          0.5275,
          0.53875,
          0.505,
          0.52625,
          0.53375,
          0.5425,
          0.53625,
          0.49875,
          0.5725,
          0.53625,
          0.51125,
          0.54,
          0.54,
          0.5325,
          0.54,
          0.5475,
          0.51625,
          0.55125,
          0.5225,
          0.55125,
          0.5325,
          0.51875,
          0.5425,
          0.5175,
          0.5275,
          0.4975,
          0.5075,
          0.52625,
          0.53625,
          0.515,
          0.5,
          0.52,
          0.5125,
          0.56,
          0.52875,
          0.535,
          0.54,
          0.5375,
          0.51125,
          0.5325,
          0.5325,
          0.545,
          0.54625,
          0.53375,
          0.52125,
          0.52375,
          0.51875,
          0.51375,
          0.5775,
          0.51,
          0.52125,
          0.525,
          0.5575,
          0.5325,
          0.52,
          0.56,
          0.52625,
          0.5575,
          0.5225,
          0.555,
          0.52625,
          0.55375,
          0.5525,
          0.54375,
          0.52875,
          0.58125,
          0.5175,
          0.55375,
          0.52625,
          0.49875,
          0.535,
          0.52125,
          0.535,
          0.52625,
          0.5225,
          0.5275,
          0.535,
          0.52625,
          0.5225,
          0.52375,
          0.52125,
          0.53,
          0.545,
          0.555,
          0.50125,
          0.56375,
          0.525,
          0.5075,
          0.52875,
          0.54,
          0.50125,
          0.52125,
          0.50875,
          0.535,
          0.5225,
          0.56375,
          0.54875,
          0.5425,
          0.53375,
          0.52,
          0.55875,
          0.54125,
          0.52875,
          0.52625,
          0.55125,
          0.54875,
          0.5425,
          0.55125,
          0.54125,
          0.525,
          0.5475,
          0.5275,
          0.545,
          0.5325,
          0.53125,
          0.54375,
          0.54375,
          0.53875,
          0.5475,
          0.52625,
          0.56875,
          0.52375,
          0.4975,
          0.5375,
          0.53375,
          0.52875,
          0.575,
          0.5475,
          0.5575,
          0.51875,
          0.5525,
          0.5525,
          0.53625,
          0.485,
          0.52625,
          0.5375,
          0.51375,
          0.5275,
          0.54375,
          0.52,
          0.4925,
          0.55125,
          0.51625,
          0.55125,
          0.49375,
          0.5525,
          0.50375,
          0.53625,
          0.49125,
          0.54125,
          0.5075,
          0.54375,
          0.545,
          0.5625,
          0.5275,
          0.535,
          0.5525,
          0.53375,
          0.5425,
          0.50375,
          0.545,
          0.54,
          0.55,
          0.53,
          0.5475,
          0.51375,
          0.53125,
          0.54375,
          0.53875,
          0.51875,
          0.5275,
          0.52875,
          0.5225,
          0.55625,
          0.52875,
          0.5075,
          0.51375,
          0.5175,
          0.5125,
          0.58125,
          0.49875,
          0.54875,
          0.5225,
          0.515,
          0.5125,
          0.53,
          0.5325,
          0.53,
          0.51,
          0.52125,
          0.555,
          0.5275,
          0.52375,
          0.50625,
          0.53875,
          0.515,
          0.51875,
          0.53125,
          0.5475,
          0.505,
          0.56875,
          0.52375,
          0.5275,
          0.5475,
          0.55,
          0.49,
          0.53125,
          0.52375,
          0.52875,
          0.535,
          0.5525,
          0.5075,
          0.51875,
          0.5125,
          0.50375,
          0.49375,
          0.54,
          0.52125,
          0.54,
          0.51125,
          0.51875,
          0.49875,
          0.5325,
          0.5275,
          0.50875,
          0.5175,
          0.48875,
          0.54375,
          0.515,
          0.53125,
          0.53375,
          0.50375,
          0.5375,
          0.52375,
          0.545,
          0.52625,
          0.51625,
          0.5275,
          0.53125,
          0.52625,
          0.55,
          0.53625,
          0.525,
          0.53625,
          0.52375,
          0.5275,
          0.53,
          0.51625,
          0.515,
          0.56625,
          0.55125,
          0.54,
          0.5225,
          0.5375,
          0.5175,
          0.5225,
          0.5525,
          0.54125,
          0.5325,
          0.53125,
          0.53125,
          0.54625,
          0.505,
          0.5375,
          0.545,
          0.5025,
          0.5225,
          0.54375,
          0.51875,
          0.5425,
          0.49625,
          0.52375,
          0.52625,
          0.5575,
          0.5225,
          0.49,
          0.57125,
          0.55375,
          0.51125,
          0.52875,
          0.54375,
          0.52,
          0.54375,
          0.52625,
          0.525,
          0.52,
          0.54625,
          0.55125,
          0.54,
          0.56125,
          0.51625,
          0.5125,
          0.5375,
          0.52,
          0.53,
          0.50875,
          0.52375,
          0.53125,
          0.54125,
          0.52125,
          0.56375,
          0.52875,
          0.54375,
          0.54,
          0.5425,
          0.52375,
          0.51125,
          0.55,
          0.515,
          0.50375,
          0.52,
          0.5125,
          0.55,
          0.51875,
          0.5175,
          0.54375,
          0.50625,
          0.5,
          0.5075,
          0.54375,
          0.56,
          0.5375,
          0.5225,
          0.525,
          0.51625,
          0.5475,
          0.52875,
          0.53,
          0.5125,
          0.5625,
          0.49125,
          0.54,
          0.52125,
          0.555,
          0.5225,
          0.53,
          0.525,
          0.5275,
          0.5325,
          0.51625,
          0.52125,
          0.53625,
          0.5475,
          0.525,
          0.5125,
          0.515,
          0.53875,
          0.5425,
          0.5375,
          0.53,
          0.54,
          0.5325,
          0.5525,
          0.525,
          0.52875,
          0.515,
          0.525,
          0.49125,
          0.54875,
          0.52375,
          0.55375,
          0.5225,
          0.5275,
          0.5175,
          0.525,
          0.5525,
          0.54625,
          0.54125,
          0.53875,
          0.5425,
          0.5375,
          0.52875,
          0.51,
          0.51875,
          0.5275,
          0.5325,
          0.55,
          0.5175,
          0.52625,
          0.5425,
          0.51375,
          0.5225,
          0.55125,
          0.56375,
          0.51875,
          0.55375,
          0.5525,
          0.56125,
          0.51875,
          0.51,
          0.55375,
          0.52375,
          0.4925,
          0.52625,
          0.52625,
          0.54375,
          0.53125,
          0.57125,
          0.51125,
          0.5675,
          0.5375,
          0.49625,
          0.545,
          0.55125,
          0.5075,
          0.5125,
          0.50625,
          0.51625,
          0.53625,
          0.50875,
          0.5225,
          0.5525,
          0.54125,
          0.51875,
          0.5225,
          0.5475,
          0.5175,
          0.5125,
          0.5625,
          0.56,
          0.49125,
          0.545,
          0.5525,
          0.53,
          0.55375,
          0.47875,
          0.50875,
          0.53625,
          0.51875,
          0.54875,
          0.53875,
          0.56375,
          0.5425,
          0.50375,
          0.54375,
          0.53125,
          0.52375,
          0.5125,
          0.5275,
          0.5625,
          0.485,
          0.505,
          0.545,
          0.51875,
          0.53,
          0.555,
          0.5475,
          0.525,
          0.5375,
          0.53625,
          0.53,
          0.555,
          0.54125,
          0.54625,
          0.52875,
          0.5125,
          0.5375,
          0.54625,
          0.545,
          0.49375,
          0.54625,
          0.54125,
          0.49875,
          0.54375,
          0.54625,
          0.51,
          0.5375,
          0.51125,
          0.52,
          0.505,
          0.52125,
          0.54625,
          0.54625,
          0.54,
          0.55,
          0.495,
          0.5275,
          0.50125,
          0.52625,
          0.52375,
          0.51,
          0.54125,
          0.505,
          0.5225,
          0.515,
          0.5325,
          0.5175,
          0.49625,
          0.52875,
          0.53875,
          0.53,
          0.5425,
          0.53875,
          0.52125,
          0.54875,
          0.51,
          0.565,
          0.535,
          0.52625,
          0.52,
          0.55375,
          0.51,
          0.5,
          0.4975,
          0.53625,
          0.53375,
          0.535,
          0.525,
          0.54875,
          0.51875,
          0.5125,
          0.5325,
          0.52875,
          0.5475,
          0.515,
          0.51875,
          0.53375,
          0.56125,
          0.5575,
          0.50375,
          0.51375,
          0.53,
          0.52125,
          0.5675,
          0.53375,
          0.53125,
          0.53875,
          0.525,
          0.52625,
          0.55375,
          0.51625,
          0.55,
          0.52,
          0.5275,
          0.51875,
          0.51625,
          0.52625,
          0.53375,
          0.535,
          0.515,
          0.5375,
          0.54875,
          0.55125,
          0.515,
          0.54375,
          0.5225,
          0.545,
          0.52375,
          0.5125,
          0.50625,
          0.495,
          0.505,
          0.4925,
          0.53625,
          0.54125,
          0.50875,
          0.54125,
          0.54375,
          0.52125,
          0.53875,
          0.54125,
          0.53625,
          0.5425,
          0.5175,
          0.51875,
          0.51625,
          0.54875,
          0.5375,
          0.525,
          0.52875,
          0.52375,
          0.54125,
          0.5275,
          0.5375,
          0.51,
          0.54125,
          0.53875,
          0.535,
          0.50625,
          0.55875,
          0.52,
          0.5025,
          0.54875,
          0.50875,
          0.5075,
          0.5225,
          0.54125,
          0.53875,
          0.51875,
          0.50625,
          0.5475,
          0.52125,
          0.5175,
          0.51,
          0.54125,
          0.5275,
          0.5125,
          0.54375,
          0.55125,
          0.50625,
          0.5225,
          0.56,
          0.5375,
          0.525,
          0.53,
          0.52,
          0.54125,
          0.55375,
          0.515,
          0.51875,
          0.50375,
          0.54,
          0.49375,
          0.52875,
          0.485,
          0.525,
          0.5025,
          0.53625,
          0.55375,
          0.52125,
          0.5275,
          0.54375,
          0.50875,
          0.5325,
          0.5325,
          0.49875,
          0.52125,
          0.5325,
          0.5575,
          0.5275,
          0.55,
          0.53875,
          0.53,
          0.53375,
          0.51375,
          0.53375,
          0.52125,
          0.50875,
          0.54125,
          0.5075,
          0.52625,
          0.5425,
          0.5325,
          0.54,
          0.48625,
          0.53625,
          0.5175,
          0.55,
          0.53375,
          0.54,
          0.54,
          0.52875,
          0.53875,
          0.51875,
          0.5475,
          0.57625,
          0.53125,
          0.52,
          0.53625,
          0.53625,
          0.5325,
          0.535,
          0.56,
          0.54125,
          0.52875,
          0.5025,
          0.54875,
          0.52125,
          0.52875,
          0.54625,
          0.5375,
          0.505,
          0.515,
          0.53,
          0.505,
          0.515,
          0.53625,
          0.5325,
          0.55375,
          0.5275,
          0.5575,
          0.5275,
          0.53875,
          0.52125,
          0.56625,
          0.52875,
          0.5075,
          0.54,
          0.5275,
          0.52375,
          0.545,
          0.52875,
          0.51875,
          0.535,
          0.50375,
          0.5425,
          0.52625,
          0.5475,
          0.53625,
          0.545,
          0.54375,
          0.55875,
          0.52,
          0.51375,
          0.57125,
          0.54,
          0.52875,
          0.54,
          0.545,
          0.5525,
          0.52375,
          0.52625,
          0.53125,
          0.525,
          0.5325,
          0.53625,
          0.5225,
          0.54625,
          0.49125,
          0.52375,
          0.49875,
          0.53375,
          0.5125,
          0.52375,
          0.5025,
          0.51375,
          0.52375,
          0.52625,
          0.50625,
          0.54375,
          0.5075,
          0.515,
          0.53,
          0.53875,
          0.5025,
          0.52875,
          0.5125,
          0.53375,
          0.55375,
          0.5,
          0.53625,
          0.525,
          0.5375,
          0.5175,
          0.55125,
          0.5325,
          0.53625,
          0.5375,
          0.545,
          0.55125,
          0.54125,
          0.56625,
          0.53,
          0.53875,
          0.5375,
          0.56,
          0.525,
          0.51125,
          0.5375,
          0.52375,
          0.5225,
          0.5075,
          0.53,
          0.53875,
          0.5025,
          0.52625,
          0.54125,
          0.525,
          0.52625,
          0.5225,
          0.54625,
          0.5125,
          0.525,
          0.54375,
          0.53625,
          0.52625,
          0.53,
          0.53375,
          0.53875,
          0.5375,
          0.5375,
          0.48875,
          0.5275,
          0.50875,
          0.5125,
          0.51625,
          0.56125,
          0.52,
          0.5325,
          0.56125,
          0.51125,
          0.53625,
          0.535,
          0.55,
          0.50875,
          0.5375,
          0.53,
          0.56,
          0.51875,
          0.50875,
          0.50125,
          0.515,
          0.5025,
          0.53875,
          0.555,
          0.50875,
          0.52,
          0.54625,
          0.53,
          0.57125,
          0.52875,
          0.55625,
          0.52625,
          0.52125,
          0.5375,
          0.525,
          0.56,
          0.5225,
          0.53125,
          0.55125,
          0.51625,
          0.51625,
          0.54625,
          0.52,
          0.5325,
          0.5125,
          0.51,
          0.54,
          0.5325,
          0.55125,
          0.5325,
          0.56375,
          0.55125,
          0.5225,
          0.52625,
          0.53125,
          0.5275,
          0.53875,
          0.57125,
          0.53625,
          0.56,
          0.5225,
          0.5375,
          0.5425,
          0.515,
          0.5525,
          0.5175,
          0.5425,
          0.525,
          0.525,
          0.555,
          0.555,
          0.535,
          0.5225,
          0.525,
          0.55,
          0.52875,
          0.565,
          0.5425,
          0.5425,
          0.5475,
          0.52625,
          0.5025,
          0.5075,
          0.555,
          0.5175,
          0.54,
          0.54375,
          0.55125,
          0.49125,
          0.50375,
          0.55375,
          0.52,
          0.53625,
          0.5425,
          0.5375,
          0.51125,
          0.5125,
          0.56,
          0.5125,
          0.55375,
          0.5575,
          0.485,
          0.525,
          0.52,
          0.53,
          0.5075,
          0.535,
          0.53,
          0.535,
          0.5225,
          0.52625,
          0.55625,
          0.52875,
          0.54375,
          0.5175,
          0.56875,
          0.53375,
          0.5225,
          0.5575,
          0.53375,
          0.5475,
          0.5275,
          0.49,
          0.5475
         ],
         "xaxis": "x",
         "yaxis": "y"
        },
        {
         "line": {
          "color": "red",
          "width": 3
         },
         "mode": "lines",
         "type": "scatter",
         "x": [
          0.4725,
          0.4735984848484848,
          0.4746969696969697,
          0.4757954545454545,
          0.47689393939393937,
          0.4779924242424242,
          0.47909090909090907,
          0.4801893939393939,
          0.48128787878787876,
          0.4823863636363636,
          0.48348484848484846,
          0.4845833333333333,
          0.48568181818181816,
          0.486780303030303,
          0.48787878787878786,
          0.4889772727272727,
          0.49007575757575755,
          0.4911742424242424,
          0.49227272727272725,
          0.4933712121212121,
          0.49446969696969695,
          0.4955681818181818,
          0.49666666666666665,
          0.4977651515151515,
          0.49886363636363634,
          0.4999621212121212,
          0.5010606060606061,
          0.5021590909090909,
          0.5032575757575758,
          0.5043560606060606,
          0.5054545454545455,
          0.5065530303030303,
          0.5076515151515152,
          0.50875,
          0.5098484848484849,
          0.5109469696969697,
          0.5120454545454546,
          0.5131439393939394,
          0.5142424242424243,
          0.5153409090909091,
          0.516439393939394,
          0.5175378787878788,
          0.5186363636363637,
          0.5197348484848485,
          0.5208333333333334,
          0.5219318181818182,
          0.5230303030303031,
          0.5241287878787879,
          0.5252272727272728,
          0.5263257575757576,
          0.5274242424242425,
          0.5285227272727273,
          0.5296212121212122,
          0.530719696969697,
          0.5318181818181819,
          0.5329166666666667,
          0.5340151515151516,
          0.5351136363636364,
          0.5362121212121213,
          0.5373106060606061,
          0.538409090909091,
          0.5395075757575758,
          0.5406060606060606,
          0.5417045454545455,
          0.5428030303030303,
          0.5439015151515152,
          0.545,
          0.5460984848484849,
          0.5471969696969697,
          0.5482954545454546,
          0.5493939393939394,
          0.5504924242424243,
          0.5515909090909091,
          0.552689393939394,
          0.5537878787878788,
          0.5548863636363637,
          0.5559848484848485,
          0.5570833333333334,
          0.5581818181818182,
          0.5592803030303031,
          0.5603787878787879,
          0.5614772727272728,
          0.5625757575757576,
          0.5636742424242425,
          0.5647727272727273,
          0.5658712121212122,
          0.566969696969697,
          0.5680681818181819,
          0.5691666666666667,
          0.5702651515151516,
          0.5713636363636364,
          0.5724621212121213,
          0.5735606060606061,
          0.574659090909091,
          0.5757575757575758,
          0.5768560606060606,
          0.5779545454545455,
          0.5790530303030303,
          0.5801515151515152,
          0.58125
         ],
         "y": [
          0.13482240191743286,
          0.15543840814845836,
          0.1798384449256551,
          0.2114678622364376,
          0.25449724200774965,
          0.313235992009383,
          0.39147226122323847,
          0.4919019956315248,
          0.6158035639944395,
          0.7630400835289467,
          0.932332797616945,
          1.1216128086733252,
          1.3282327607860052,
          1.5489656874304079,
          1.7799667744307397,
          2.017040922975745,
          2.2564749721226245,
          2.4963564357785737,
          2.737913772010681,
          2.9862509087795797,
          3.250047806527931,
          3.5402467399911104,
          3.868160863356752,
          4.243588886435986,
          4.673364218435547,
          5.160476152889703,
          5.703691280639333,
          6.297579664516054,
          6.932955222582094,
          7.597831748118839,
          8.278968339340544,
          8.963925019703664,
          9.643348184380942,
          10.313050625986682,
          10.975399192933192,
          11.639583442691208,
          12.320496573846727,
          13.036201951297082,
          13.804264901974603,
          14.637542561087646,
          15.540237608686782,
          16.505025803388243,
          17.511836397131837,
          18.52850262669218,
          19.513185395060887,
          20.418329233644133,
          21.195897978205235,
          21.803582410107207,
          22.211405161954435,
          22.407674338271917,
          22.40279189047086,
          22.229364662753245,
          21.937660640652844,
          21.586673700556187,
          21.2325312023835,
          20.917106452960244,
          20.659938665255446,
          20.455701046624913,
          20.277753647049174,
          20.08643141414444,
          19.83941325989426,
          19.501279966386758,
          19.050149893912508,
          18.480551848883824,
          17.802789531069635,
          17.03959099586672,
          16.22091222041469,
          15.377764304414102,
          14.536146244597798,
          13.712487660664427,
          12.912009856185325,
          12.130718844392282,
          11.360412760188963,
          10.594714609948362,
          9.833538703770223,
          9.084049751388724,
          8.35785571023382,
          7.666025258626844,
          7.014531413708712,
          6.402358352120251,
          5.823022816951182,
          5.2685166739420435,
          4.7336022256110795,
          4.218453320975223,
          3.7286442976120324,
          3.272809150695811,
          2.859253836431226,
          2.4930388580287848,
          2.1745982510233897,
          1.9001542315459932,
          1.6634281714343868,
          1.4577344477036551,
          1.2775733140852013,
          1.1192197492597233,
          0.9803241548353113,
          0.8589645225896847,
          0.7527571054694465,
          0.6585080055077466,
          0.5725609436623934,
          0.4916333913252742
         ]
        }
       ],
       "layout": {
        "barmode": "relative",
        "legend": {
         "title": {
          "text": "variable"
         },
         "tracegroupgap": 0
        },
        "margin": {
         "t": 60
        },
        "shapes": [
         {
          "line": {
           "color": "orange",
           "dash": "dash",
           "width": 3
          },
          "type": "line",
          "x0": 0.5302792307692308,
          "x1": 0.5302792307692308,
          "xref": "x",
          "y0": 0,
          "y1": 1,
          "yref": "y domain"
         }
        ],
        "showlegend": false,
        "template": {
         "data": {
          "bar": [
           {
            "error_x": {
             "color": "#2a3f5f"
            },
            "error_y": {
             "color": "#2a3f5f"
            },
            "marker": {
             "line": {
              "color": "#E5ECF6",
              "width": 0.5
             },
             "pattern": {
              "fillmode": "overlay",
              "size": 10,
              "solidity": 0.2
             }
            },
            "type": "bar"
           }
          ],
          "barpolar": [
           {
            "marker": {
             "line": {
              "color": "#E5ECF6",
              "width": 0.5
             },
             "pattern": {
              "fillmode": "overlay",
              "size": 10,
              "solidity": 0.2
             }
            },
            "type": "barpolar"
           }
          ],
          "carpet": [
           {
            "aaxis": {
             "endlinecolor": "#2a3f5f",
             "gridcolor": "white",
             "linecolor": "white",
             "minorgridcolor": "white",
             "startlinecolor": "#2a3f5f"
            },
            "baxis": {
             "endlinecolor": "#2a3f5f",
             "gridcolor": "white",
             "linecolor": "white",
             "minorgridcolor": "white",
             "startlinecolor": "#2a3f5f"
            },
            "type": "carpet"
           }
          ],
          "choropleth": [
           {
            "colorbar": {
             "outlinewidth": 0,
             "ticks": ""
            },
            "type": "choropleth"
           }
          ],
          "contour": [
           {
            "colorbar": {
             "outlinewidth": 0,
             "ticks": ""
            },
            "colorscale": [
             [
              0,
              "#0d0887"
             ],
             [
              0.1111111111111111,
              "#46039f"
             ],
             [
              0.2222222222222222,
              "#7201a8"
             ],
             [
              0.3333333333333333,
              "#9c179e"
             ],
             [
              0.4444444444444444,
              "#bd3786"
             ],
             [
              0.5555555555555556,
              "#d8576b"
             ],
             [
              0.6666666666666666,
              "#ed7953"
             ],
             [
              0.7777777777777778,
              "#fb9f3a"
             ],
             [
              0.8888888888888888,
              "#fdca26"
             ],
             [
              1,
              "#f0f921"
             ]
            ],
            "type": "contour"
           }
          ],
          "contourcarpet": [
           {
            "colorbar": {
             "outlinewidth": 0,
             "ticks": ""
            },
            "type": "contourcarpet"
           }
          ],
          "heatmap": [
           {
            "colorbar": {
             "outlinewidth": 0,
             "ticks": ""
            },
            "colorscale": [
             [
              0,
              "#0d0887"
             ],
             [
              0.1111111111111111,
              "#46039f"
             ],
             [
              0.2222222222222222,
              "#7201a8"
             ],
             [
              0.3333333333333333,
              "#9c179e"
             ],
             [
              0.4444444444444444,
              "#bd3786"
             ],
             [
              0.5555555555555556,
              "#d8576b"
             ],
             [
              0.6666666666666666,
              "#ed7953"
             ],
             [
              0.7777777777777778,
              "#fb9f3a"
             ],
             [
              0.8888888888888888,
              "#fdca26"
             ],
             [
              1,
              "#f0f921"
             ]
            ],
            "type": "heatmap"
           }
          ],
          "heatmapgl": [
           {
            "colorbar": {
             "outlinewidth": 0,
             "ticks": ""
            },
            "colorscale": [
             [
              0,
              "#0d0887"
             ],
             [
              0.1111111111111111,
              "#46039f"
             ],
             [
              0.2222222222222222,
              "#7201a8"
             ],
             [
              0.3333333333333333,
              "#9c179e"
             ],
             [
              0.4444444444444444,
              "#bd3786"
             ],
             [
              0.5555555555555556,
              "#d8576b"
             ],
             [
              0.6666666666666666,
              "#ed7953"
             ],
             [
              0.7777777777777778,
              "#fb9f3a"
             ],
             [
              0.8888888888888888,
              "#fdca26"
             ],
             [
              1,
              "#f0f921"
             ]
            ],
            "type": "heatmapgl"
           }
          ],
          "histogram": [
           {
            "marker": {
             "pattern": {
              "fillmode": "overlay",
              "size": 10,
              "solidity": 0.2
             }
            },
            "type": "histogram"
           }
          ],
          "histogram2d": [
           {
            "colorbar": {
             "outlinewidth": 0,
             "ticks": ""
            },
            "colorscale": [
             [
              0,
              "#0d0887"
             ],
             [
              0.1111111111111111,
              "#46039f"
             ],
             [
              0.2222222222222222,
              "#7201a8"
             ],
             [
              0.3333333333333333,
              "#9c179e"
             ],
             [
              0.4444444444444444,
              "#bd3786"
             ],
             [
              0.5555555555555556,
              "#d8576b"
             ],
             [
              0.6666666666666666,
              "#ed7953"
             ],
             [
              0.7777777777777778,
              "#fb9f3a"
             ],
             [
              0.8888888888888888,
              "#fdca26"
             ],
             [
              1,
              "#f0f921"
             ]
            ],
            "type": "histogram2d"
           }
          ],
          "histogram2dcontour": [
           {
            "colorbar": {
             "outlinewidth": 0,
             "ticks": ""
            },
            "colorscale": [
             [
              0,
              "#0d0887"
             ],
             [
              0.1111111111111111,
              "#46039f"
             ],
             [
              0.2222222222222222,
              "#7201a8"
             ],
             [
              0.3333333333333333,
              "#9c179e"
             ],
             [
              0.4444444444444444,
              "#bd3786"
             ],
             [
              0.5555555555555556,
              "#d8576b"
             ],
             [
              0.6666666666666666,
              "#ed7953"
             ],
             [
              0.7777777777777778,
              "#fb9f3a"
             ],
             [
              0.8888888888888888,
              "#fdca26"
             ],
             [
              1,
              "#f0f921"
             ]
            ],
            "type": "histogram2dcontour"
           }
          ],
          "mesh3d": [
           {
            "colorbar": {
             "outlinewidth": 0,
             "ticks": ""
            },
            "type": "mesh3d"
           }
          ],
          "parcoords": [
           {
            "line": {
             "colorbar": {
              "outlinewidth": 0,
              "ticks": ""
             }
            },
            "type": "parcoords"
           }
          ],
          "pie": [
           {
            "automargin": true,
            "type": "pie"
           }
          ],
          "scatter": [
           {
            "fillpattern": {
             "fillmode": "overlay",
             "size": 10,
             "solidity": 0.2
            },
            "type": "scatter"
           }
          ],
          "scatter3d": [
           {
            "line": {
             "colorbar": {
              "outlinewidth": 0,
              "ticks": ""
             }
            },
            "marker": {
             "colorbar": {
              "outlinewidth": 0,
              "ticks": ""
             }
            },
            "type": "scatter3d"
           }
          ],
          "scattercarpet": [
           {
            "marker": {
             "colorbar": {
              "outlinewidth": 0,
              "ticks": ""
             }
            },
            "type": "scattercarpet"
           }
          ],
          "scattergeo": [
           {
            "marker": {
             "colorbar": {
              "outlinewidth": 0,
              "ticks": ""
             }
            },
            "type": "scattergeo"
           }
          ],
          "scattergl": [
           {
            "marker": {
             "colorbar": {
              "outlinewidth": 0,
              "ticks": ""
             }
            },
            "type": "scattergl"
           }
          ],
          "scattermapbox": [
           {
            "marker": {
             "colorbar": {
              "outlinewidth": 0,
              "ticks": ""
             }
            },
            "type": "scattermapbox"
           }
          ],
          "scatterpolar": [
           {
            "marker": {
             "colorbar": {
              "outlinewidth": 0,
              "ticks": ""
             }
            },
            "type": "scatterpolar"
           }
          ],
          "scatterpolargl": [
           {
            "marker": {
             "colorbar": {
              "outlinewidth": 0,
              "ticks": ""
             }
            },
            "type": "scatterpolargl"
           }
          ],
          "scatterternary": [
           {
            "marker": {
             "colorbar": {
              "outlinewidth": 0,
              "ticks": ""
             }
            },
            "type": "scatterternary"
           }
          ],
          "surface": [
           {
            "colorbar": {
             "outlinewidth": 0,
             "ticks": ""
            },
            "colorscale": [
             [
              0,
              "#0d0887"
             ],
             [
              0.1111111111111111,
              "#46039f"
             ],
             [
              0.2222222222222222,
              "#7201a8"
             ],
             [
              0.3333333333333333,
              "#9c179e"
             ],
             [
              0.4444444444444444,
              "#bd3786"
             ],
             [
              0.5555555555555556,
              "#d8576b"
             ],
             [
              0.6666666666666666,
              "#ed7953"
             ],
             [
              0.7777777777777778,
              "#fb9f3a"
             ],
             [
              0.8888888888888888,
              "#fdca26"
             ],
             [
              1,
              "#f0f921"
             ]
            ],
            "type": "surface"
           }
          ],
          "table": [
           {
            "cells": {
             "fill": {
              "color": "#EBF0F8"
             },
             "line": {
              "color": "white"
             }
            },
            "header": {
             "fill": {
              "color": "#C8D4E3"
             },
             "line": {
              "color": "white"
             }
            },
            "type": "table"
           }
          ]
         },
         "layout": {
          "annotationdefaults": {
           "arrowcolor": "#2a3f5f",
           "arrowhead": 0,
           "arrowwidth": 1
          },
          "autotypenumbers": "strict",
          "coloraxis": {
           "colorbar": {
            "outlinewidth": 0,
            "ticks": ""
           }
          },
          "colorscale": {
           "diverging": [
            [
             0,
             "#8e0152"
            ],
            [
             0.1,
             "#c51b7d"
            ],
            [
             0.2,
             "#de77ae"
            ],
            [
             0.3,
             "#f1b6da"
            ],
            [
             0.4,
             "#fde0ef"
            ],
            [
             0.5,
             "#f7f7f7"
            ],
            [
             0.6,
             "#e6f5d0"
            ],
            [
             0.7,
             "#b8e186"
            ],
            [
             0.8,
             "#7fbc41"
            ],
            [
             0.9,
             "#4d9221"
            ],
            [
             1,
             "#276419"
            ]
           ],
           "sequential": [
            [
             0,
             "#0d0887"
            ],
            [
             0.1111111111111111,
             "#46039f"
            ],
            [
             0.2222222222222222,
             "#7201a8"
            ],
            [
             0.3333333333333333,
             "#9c179e"
            ],
            [
             0.4444444444444444,
             "#bd3786"
            ],
            [
             0.5555555555555556,
             "#d8576b"
            ],
            [
             0.6666666666666666,
             "#ed7953"
            ],
            [
             0.7777777777777778,
             "#fb9f3a"
            ],
            [
             0.8888888888888888,
             "#fdca26"
            ],
            [
             1,
             "#f0f921"
            ]
           ],
           "sequentialminus": [
            [
             0,
             "#0d0887"
            ],
            [
             0.1111111111111111,
             "#46039f"
            ],
            [
             0.2222222222222222,
             "#7201a8"
            ],
            [
             0.3333333333333333,
             "#9c179e"
            ],
            [
             0.4444444444444444,
             "#bd3786"
            ],
            [
             0.5555555555555556,
             "#d8576b"
            ],
            [
             0.6666666666666666,
             "#ed7953"
            ],
            [
             0.7777777777777778,
             "#fb9f3a"
            ],
            [
             0.8888888888888888,
             "#fdca26"
            ],
            [
             1,
             "#f0f921"
            ]
           ]
          },
          "colorway": [
           "#636efa",
           "#EF553B",
           "#00cc96",
           "#ab63fa",
           "#FFA15A",
           "#19d3f3",
           "#FF6692",
           "#B6E880",
           "#FF97FF",
           "#FECB52"
          ],
          "font": {
           "color": "#2a3f5f"
          },
          "geo": {
           "bgcolor": "white",
           "lakecolor": "white",
           "landcolor": "#E5ECF6",
           "showlakes": true,
           "showland": true,
           "subunitcolor": "white"
          },
          "hoverlabel": {
           "align": "left"
          },
          "hovermode": "closest",
          "mapbox": {
           "style": "light"
          },
          "paper_bgcolor": "white",
          "plot_bgcolor": "#E5ECF6",
          "polar": {
           "angularaxis": {
            "gridcolor": "white",
            "linecolor": "white",
            "ticks": ""
           },
           "bgcolor": "#E5ECF6",
           "radialaxis": {
            "gridcolor": "white",
            "linecolor": "white",
            "ticks": ""
           }
          },
          "scene": {
           "xaxis": {
            "backgroundcolor": "#E5ECF6",
            "gridcolor": "white",
            "gridwidth": 2,
            "linecolor": "white",
            "showbackground": true,
            "ticks": "",
            "zerolinecolor": "white"
           },
           "yaxis": {
            "backgroundcolor": "#E5ECF6",
            "gridcolor": "white",
            "gridwidth": 2,
            "linecolor": "white",
            "showbackground": true,
            "ticks": "",
            "zerolinecolor": "white"
           },
           "zaxis": {
            "backgroundcolor": "#E5ECF6",
            "gridcolor": "white",
            "gridwidth": 2,
            "linecolor": "white",
            "showbackground": true,
            "ticks": "",
            "zerolinecolor": "white"
           }
          },
          "shapedefaults": {
           "line": {
            "color": "#2a3f5f"
           }
          },
          "ternary": {
           "aaxis": {
            "gridcolor": "white",
            "linecolor": "white",
            "ticks": ""
           },
           "baxis": {
            "gridcolor": "white",
            "linecolor": "white",
            "ticks": ""
           },
           "bgcolor": "#E5ECF6",
           "caxis": {
            "gridcolor": "white",
            "linecolor": "white",
            "ticks": ""
           }
          },
          "title": {
           "x": 0.05
          },
          "xaxis": {
           "automargin": true,
           "gridcolor": "white",
           "linecolor": "white",
           "ticks": "",
           "title": {
            "standoff": 15
           },
           "zerolinecolor": "white",
           "zerolinewidth": 2
          },
          "yaxis": {
           "automargin": true,
           "gridcolor": "white",
           "linecolor": "white",
           "ticks": "",
           "title": {
            "standoff": 15
           },
           "zerolinecolor": "white",
           "zerolinewidth": 2
          }
         }
        },
        "xaxis": {
         "anchor": "y",
         "domain": [
          0,
          1
         ],
         "title": {
          "text": "value"
         }
        },
        "yaxis": {
         "anchor": "x",
         "domain": [
          0,
          1
         ],
         "title": {
          "text": "probability density"
         }
        }
       }
      }
     },
     "metadata": {},
     "output_type": "display_data"
    }
   ],
   "source": [
    "fig = px.histogram(poll_result, histnorm='probability density', nbins=50)\n",
    "fig.add_vline(x=actual_barbie, line_width=3, line_dash=\"dash\", line_color=\"orange\")\n",
    "fig.update_layout(showlegend=False)\n",
    "\n",
    "# Add Kernel Density Estimate curve\n",
    "from scipy import stats\n",
    "from plotly import graph_objects as go\n",
    "x = np.linspace(min(poll_result), max(poll_result), 100)\n",
    "fig.add_trace(go.Scatter(\n",
    "    x=x, \n",
    "    y=stats.gaussian_kde(poll_result)(x), # Library for KDE (auto selects bandwidth)\n",
    "    mode='lines', line=dict(color='red', width=3)) # Formatting\n",
    "    )\n"
   ]
  },
  {
   "cell_type": "markdown",
   "id": "8982e4f5",
   "metadata": {},
   "source": [
    "Using seaborn instead:"
   ]
  },
  {
   "cell_type": "code",
   "execution_count": 90,
   "id": "0fd204a4",
   "metadata": {
    "trusted": true
   },
   "outputs": [
    {
     "data": {
      "text/plain": [
       "<matplotlib.lines.Line2D at 0x1c7974d4740>"
      ]
     },
     "execution_count": 90,
     "metadata": {},
     "output_type": "execute_result"
    },
    {
     "data": {
      "image/png": "[encoded data removed]",
      "text/plain": [
       "<Figure size 700x500 with 1 Axes>"
      ]
     },
     "metadata": {},
     "output_type": "display_data"
    }
   ],
   "source": [
    "sns.histplot(poll_result, stat='density', kde=True);\n",
    "plt.axvline(actual_barbie, color='orange', linestyle='dashed', linewidth=2)"
   ]
  },
  {
   "cell_type": "markdown",
   "id": "b95fd263-8320-48ea-b1b3-b5147a0fbba1",
   "metadata": {},
   "source": [
    "What fraction of these simulated samples would have predicted Barbie?"
   ]
  },
  {
   "cell_type": "code",
   "execution_count": 91,
   "id": "22ab6384-0d07-44fc-9e95-a6632b8a2eef",
   "metadata": {
    "trusted": true
   },
   "outputs": [
    {
     "data": {
      "text/plain": [
       "0.951"
      ]
     },
     "execution_count": 91,
     "metadata": {},
     "output_type": "execute_result"
    }
   ],
   "source": [
    "poll_result = pd.Series(poll_result)\n",
    "np.sum(poll_result > 0.5)/1000"
   ]
  },
  {
   "cell_type": "markdown",
   "id": "53ba31f4",
   "metadata": {},
   "source": [
    "##### Return to Slides"
   ]
  },
  {
   "cell_type": "markdown",
   "id": "b5772aaa-42b1-4788-bcc1-485b2a126cab",
   "metadata": {},
   "source": [
    "---\n",
    "\n",
    "## Simulating from a Multinomial Distribution"
   ]
  },
  {
   "cell_type": "markdown",
   "id": "e554bff2-94b2-4fae-83b9-47783f065029",
   "metadata": {},
   "source": [
    "Sometimes instead of having individual reports in the population, we have **aggregate** statistics. For example, we could have only learned that 53\\% of election voters voted Democrat. Even so, we can still simulate probability samples if we assume the population is large.\n",
    "\n",
    "Specifically, we can use **multinomial** probabilities to simulate random samples **with replacement**."
   ]
  },
  {
   "cell_type": "markdown",
   "id": "c3cbab5e-ebeb-423b-a036-1a4b158b3b55",
   "metadata": {},
   "source": [
    "### Marbles"
   ]
  },
  {
   "cell_type": "markdown",
   "id": "08f20ae4-2a09-49af-917a-8a0a1e09ef70",
   "metadata": {},
   "source": [
    "Suppose we have a very large bag of marbles with the following statistics:\n",
    "* 60\\% blue\n",
    "* 30\\% green\n",
    "* 10\\% red\n",
    "\n",
    "We then draw 100 marbles from this bag at random with replacement."
   ]
  },
  {
   "cell_type": "code",
   "execution_count": 92,
   "id": "74a56536-ce12-4bef-ad57-d7961b849ece",
   "metadata": {
    "trusted": true
   },
   "outputs": [
    {
     "data": {
      "text/plain": [
       "array([61, 28, 11])"
      ]
     },
     "execution_count": 92,
     "metadata": {},
     "output_type": "execute_result"
    }
   ],
   "source": [
    "np.random.multinomial(100, [0.60, 0.30, 0.10])"
   ]
  },
  {
   "cell_type": "markdown",
   "id": "c478514a-d1ff-4f2e-9226-f4a3c5f23de8",
   "metadata": {},
   "source": [
    "We can repeat this simulation multiple times, say 20:"
   ]
  },
  {
   "cell_type": "code",
   "execution_count": 93,
   "id": "9eafdf83-7f92-411a-92de-4ffc5525bba9",
   "metadata": {
    "trusted": true
   },
   "outputs": [
    {
     "data": {
      "text/plain": [
       "array([[62, 34,  4],\n",
       "       [68, 22, 10],\n",
       "       [62, 29,  9],\n",
       "       [52, 36, 12],\n",
       "       [62, 27, 11],\n",
       "       [56, 32, 12],\n",
       "       [52, 31, 17],\n",
       "       [56, 32, 12],\n",
       "       [63, 27, 10],\n",
       "       [55, 34, 11],\n",
       "       [59, 30, 11],\n",
       "       [61, 26, 13],\n",
       "       [59, 24, 17],\n",
       "       [66, 25,  9],\n",
       "       [55, 26, 19],\n",
       "       [62, 29,  9],\n",
       "       [67, 23, 10],\n",
       "       [68, 26,  6],\n",
       "       [60, 33,  7],\n",
       "       [55, 34, 11]])"
      ]
     },
     "execution_count": 93,
     "metadata": {},
     "output_type": "execute_result"
    }
   ],
   "source": [
    "np.random.multinomial(100, [0.60, 0.30, 0.10], size=20)"
   ]
  }
 ],
 "metadata": {
  "kernelspec": {
   "display_name": "Python 3",
   "language": "python",
   "name": "python3"
  },
  "language_info": {
   "codemirror_mode": {
    "name": "ipython",
    "version": 3
   },
   "file_extension": ".py",
   "mimetype": "text/x-python",
   "name": "python",
   "nbconvert_exporter": "python",
   "pygments_lexer": "ipython3",
   "version": "3.12.3"
  }
 },
 "nbformat": 4,
 "nbformat_minor": 5
}
