{
 "cells": [
  {
   "cell_type": "markdown",
   "id": "6c6d2b77-a7bb-41eb-ab16-3542184a7b91",
   "metadata": {},
   "source": [
    "# Lecture 24 – Data 100, Summer 2024\n",
    "\n",
    "Data 100, Summer 2024\n",
    "\n",
    "[Acknowledgments Page](https://ds100.org/su24/acks/)"
   ]
  },
  {
   "cell_type": "code",
   "execution_count": 1,
   "id": "2f1b941e-654b-42dd-9385-afe39fcde915",
   "metadata": {},
   "outputs": [],
   "source": [
    "import pandas as pd\n",
    "import numpy as np\n",
    "import scipy as sp\n",
    "import plotly.express as px\n",
    "import seaborn as sns"
   ]
  },
  {
   "cell_type": "markdown",
   "id": "8ef2b69d",
   "metadata": {},
   "source": [
    "## Working with High Dimensional Data\n",
    "\n",
    "In the following cells we will use visualization tools to push as far as we can in visualizing the MPG dataset in high-dimensional space:"
   ]
  },
  {
   "cell_type": "code",
   "execution_count": 2,
   "id": "fd65834b",
   "metadata": {},
   "outputs": [
    {
     "data": {
      "text/html": [
       "<div>\n",
       "<style scoped>\n",
       "    .dataframe tbody tr th:only-of-type {\n",
       "        vertical-align: middle;\n",
       "    }\n",
       "\n",
       "    .dataframe tbody tr th {\n",
       "        vertical-align: top;\n",
       "    }\n",
       "\n",
       "    .dataframe thead th {\n",
       "        text-align: right;\n",
       "    }\n",
       "</style>\n",
       "<table border=\"1\" class=\"dataframe\">\n",
       "  <thead>\n",
       "    <tr style=\"text-align: right;\">\n",
       "      <th></th>\n",
       "      <th>mpg</th>\n",
       "      <th>cylinders</th>\n",
       "      <th>displacement</th>\n",
       "      <th>horsepower</th>\n",
       "      <th>weight</th>\n",
       "      <th>acceleration</th>\n",
       "      <th>model_year</th>\n",
       "      <th>origin</th>\n",
       "      <th>name</th>\n",
       "    </tr>\n",
       "  </thead>\n",
       "  <tbody>\n",
       "    <tr>\n",
       "      <th>0</th>\n",
       "      <td>18.0</td>\n",
       "      <td>8</td>\n",
       "      <td>307.0</td>\n",
       "      <td>130.0</td>\n",
       "      <td>3504</td>\n",
       "      <td>12.0</td>\n",
       "      <td>70</td>\n",
       "      <td>usa</td>\n",
       "      <td>chevrolet chevelle malibu</td>\n",
       "    </tr>\n",
       "    <tr>\n",
       "      <th>1</th>\n",
       "      <td>15.0</td>\n",
       "      <td>8</td>\n",
       "      <td>350.0</td>\n",
       "      <td>165.0</td>\n",
       "      <td>3693</td>\n",
       "      <td>11.5</td>\n",
       "      <td>70</td>\n",
       "      <td>usa</td>\n",
       "      <td>buick skylark 320</td>\n",
       "    </tr>\n",
       "    <tr>\n",
       "      <th>2</th>\n",
       "      <td>18.0</td>\n",
       "      <td>8</td>\n",
       "      <td>318.0</td>\n",
       "      <td>150.0</td>\n",
       "      <td>3436</td>\n",
       "      <td>11.0</td>\n",
       "      <td>70</td>\n",
       "      <td>usa</td>\n",
       "      <td>plymouth satellite</td>\n",
       "    </tr>\n",
       "    <tr>\n",
       "      <th>3</th>\n",
       "      <td>16.0</td>\n",
       "      <td>8</td>\n",
       "      <td>304.0</td>\n",
       "      <td>150.0</td>\n",
       "      <td>3433</td>\n",
       "      <td>12.0</td>\n",
       "      <td>70</td>\n",
       "      <td>usa</td>\n",
       "      <td>amc rebel sst</td>\n",
       "    </tr>\n",
       "    <tr>\n",
       "      <th>4</th>\n",
       "      <td>17.0</td>\n",
       "      <td>8</td>\n",
       "      <td>302.0</td>\n",
       "      <td>140.0</td>\n",
       "      <td>3449</td>\n",
       "      <td>10.5</td>\n",
       "      <td>70</td>\n",
       "      <td>usa</td>\n",
       "      <td>ford torino</td>\n",
       "    </tr>\n",
       "  </tbody>\n",
       "</table>\n",
       "</div>"
      ],
      "text/plain": [
       "    mpg  cylinders  displacement  horsepower  weight  acceleration  \\\n",
       "0  18.0          8         307.0       130.0    3504          12.0   \n",
       "1  15.0          8         350.0       165.0    3693          11.5   \n",
       "2  18.0          8         318.0       150.0    3436          11.0   \n",
       "3  16.0          8         304.0       150.0    3433          12.0   \n",
       "4  17.0          8         302.0       140.0    3449          10.5   \n",
       "\n",
       "   model_year origin                       name  \n",
       "0          70    usa  chevrolet chevelle malibu  \n",
       "1          70    usa          buick skylark 320  \n",
       "2          70    usa         plymouth satellite  \n",
       "3          70    usa              amc rebel sst  \n",
       "4          70    usa                ford torino  "
      ]
     },
     "execution_count": 2,
     "metadata": {},
     "output_type": "execute_result"
    }
   ],
   "source": [
    "mpg = sns.load_dataset(\"mpg\").dropna()\n",
    "mpg.head()"
   ]
  },
  {
   "cell_type": "code",
   "execution_count": 3,
   "id": "d39d4471",
   "metadata": {},
   "outputs": [
    {
     "data": {
      "application/vnd.plotly.v1+json": {
       "config": {
        "plotlyServerURL": "https://plot.ly"
       },
       "data": [
        {
         "alignmentgroup": "True",
         "bingroup": "x",
         "hovertemplate": "displacement=%{x}<br>count=%{y}<extra></extra>",
         "legendgroup": "",
         "marker": {
          "color": "#636efa",
          "pattern": {
           "shape": ""
          }
         },
         "name": "",
         "offsetgroup": "",
         "orientation": "v",
         "showlegend": false,
         "type": "histogram",
         "x": [
          307,
          350,
          318,
          304,
          302,
          429,
          454,
          440,
          455,
          390,
          383,
          340,
          400,
          455,
          113,
          198,
          199,
          200,
          97,
          97,
          110,
          107,
          104,
          121,
          199,
          360,
          307,
          318,
          304,
          97,
          140,
          113,
          232,
          225,
          250,
          250,
          232,
          350,
          400,
          351,
          318,
          383,
          400,
          400,
          258,
          140,
          250,
          250,
          122,
          116,
          79,
          88,
          71,
          72,
          97,
          91,
          113,
          97.5,
          97,
          140,
          122,
          350,
          400,
          318,
          351,
          304,
          429,
          350,
          350,
          400,
          70,
          304,
          307,
          302,
          318,
          121,
          121,
          120,
          96,
          122,
          97,
          120,
          98,
          97,
          350,
          304,
          350,
          302,
          318,
          429,
          400,
          351,
          318,
          440,
          455,
          360,
          225,
          250,
          232,
          250,
          198,
          97,
          400,
          400,
          360,
          350,
          232,
          97,
          140,
          108,
          70,
          122,
          155,
          98,
          350,
          400,
          68,
          116,
          114,
          121,
          318,
          121,
          156,
          350,
          198,
          232,
          250,
          79,
          122,
          71,
          140,
          250,
          258,
          225,
          302,
          350,
          318,
          302,
          304,
          98,
          79,
          97,
          76,
          83,
          90,
          90,
          116,
          120,
          108,
          79,
          225,
          250,
          250,
          250,
          400,
          350,
          318,
          351,
          231,
          250,
          258,
          225,
          231,
          262,
          302,
          97,
          140,
          232,
          140,
          134,
          90,
          119,
          171,
          90,
          232,
          115,
          120,
          121,
          121,
          91,
          107,
          116,
          140,
          98,
          101,
          305,
          318,
          304,
          351,
          225,
          250,
          200,
          232,
          85,
          98,
          90,
          91,
          225,
          250,
          250,
          258,
          97,
          85,
          97,
          140,
          130,
          318,
          120,
          156,
          168,
          350,
          350,
          302,
          318,
          98,
          111,
          79,
          122,
          85,
          305,
          260,
          318,
          302,
          250,
          231,
          225,
          250,
          400,
          350,
          400,
          351,
          97,
          151,
          97,
          140,
          98,
          98,
          97,
          97,
          146,
          121,
          80,
          90,
          98,
          78,
          85,
          91,
          260,
          318,
          302,
          231,
          200,
          200,
          140,
          225,
          232,
          231,
          200,
          225,
          258,
          305,
          231,
          302,
          318,
          98,
          134,
          119,
          105,
          134,
          156,
          151,
          119,
          131,
          163,
          121,
          163,
          89,
          98,
          231,
          200,
          140,
          232,
          225,
          305,
          302,
          351,
          318,
          350,
          351,
          267,
          360,
          89,
          86,
          98,
          121,
          183,
          350,
          141,
          260,
          105,
          105,
          85,
          91,
          151,
          173,
          173,
          151,
          98,
          89,
          98,
          86,
          151,
          140,
          151,
          225,
          97,
          134,
          120,
          119,
          108,
          86,
          156,
          85,
          90,
          90,
          121,
          146,
          91,
          97,
          89,
          168,
          70,
          122,
          107,
          135,
          151,
          156,
          173,
          135,
          79,
          86,
          81,
          97,
          85,
          89,
          91,
          105,
          98,
          98,
          105,
          107,
          108,
          119,
          120,
          141,
          145,
          168,
          146,
          231,
          350,
          200,
          225,
          112,
          112,
          112,
          112,
          135,
          151,
          140,
          105,
          91,
          91,
          105,
          98,
          120,
          107,
          108,
          91,
          91,
          91,
          181,
          262,
          156,
          232,
          144,
          135,
          151,
          140,
          97,
          135,
          120,
          119
         ],
         "xaxis": "x",
         "yaxis": "y"
        }
       ],
       "layout": {
        "barmode": "relative",
        "legend": {
         "tracegroupgap": 0
        },
        "margin": {
         "t": 60
        },
        "template": {
         "data": {
          "bar": [
           {
            "error_x": {
             "color": "#2a3f5f"
            },
            "error_y": {
             "color": "#2a3f5f"
            },
            "marker": {
             "line": {
              "color": "#E5ECF6",
              "width": 0.5
             },
             "pattern": {
              "fillmode": "overlay",
              "size": 10,
              "solidity": 0.2
             }
            },
            "type": "bar"
           }
          ],
          "barpolar": [
           {
            "marker": {
             "line": {
              "color": "#E5ECF6",
              "width": 0.5
             },
             "pattern": {
              "fillmode": "overlay",
              "size": 10,
              "solidity": 0.2
             }
            },
            "type": "barpolar"
           }
          ],
          "carpet": [
           {
            "aaxis": {
             "endlinecolor": "#2a3f5f",
             "gridcolor": "white",
             "linecolor": "white",
             "minorgridcolor": "white",
             "startlinecolor": "#2a3f5f"
            },
            "baxis": {
             "endlinecolor": "#2a3f5f",
             "gridcolor": "white",
             "linecolor": "white",
             "minorgridcolor": "white",
             "startlinecolor": "#2a3f5f"
            },
            "type": "carpet"
           }
          ],
          "choropleth": [
           {
            "colorbar": {
             "outlinewidth": 0,
             "ticks": ""
            },
            "type": "choropleth"
           }
          ],
          "contour": [
           {
            "colorbar": {
             "outlinewidth": 0,
             "ticks": ""
            },
            "colorscale": [
             [
              0,
              "#0d0887"
             ],
             [
              0.1111111111111111,
              "#46039f"
             ],
             [
              0.2222222222222222,
              "#7201a8"
             ],
             [
              0.3333333333333333,
              "#9c179e"
             ],
             [
              0.4444444444444444,
              "#bd3786"
             ],
             [
              0.5555555555555556,
              "#d8576b"
             ],
             [
              0.6666666666666666,
              "#ed7953"
             ],
             [
              0.7777777777777778,
              "#fb9f3a"
             ],
             [
              0.8888888888888888,
              "#fdca26"
             ],
             [
              1,
              "#f0f921"
             ]
            ],
            "type": "contour"
           }
          ],
          "contourcarpet": [
           {
            "colorbar": {
             "outlinewidth": 0,
             "ticks": ""
            },
            "type": "contourcarpet"
           }
          ],
          "heatmap": [
           {
            "colorbar": {
             "outlinewidth": 0,
             "ticks": ""
            },
            "colorscale": [
             [
              0,
              "#0d0887"
             ],
             [
              0.1111111111111111,
              "#46039f"
             ],
             [
              0.2222222222222222,
              "#7201a8"
             ],
             [
              0.3333333333333333,
              "#9c179e"
             ],
             [
              0.4444444444444444,
              "#bd3786"
             ],
             [
              0.5555555555555556,
              "#d8576b"
             ],
             [
              0.6666666666666666,
              "#ed7953"
             ],
             [
              0.7777777777777778,
              "#fb9f3a"
             ],
             [
              0.8888888888888888,
              "#fdca26"
             ],
             [
              1,
              "#f0f921"
             ]
            ],
            "type": "heatmap"
           }
          ],
          "heatmapgl": [
           {
            "colorbar": {
             "outlinewidth": 0,
             "ticks": ""
            },
            "colorscale": [
             [
              0,
              "#0d0887"
             ],
             [
              0.1111111111111111,
              "#46039f"
             ],
             [
              0.2222222222222222,
              "#7201a8"
             ],
             [
              0.3333333333333333,
              "#9c179e"
             ],
             [
              0.4444444444444444,
              "#bd3786"
             ],
             [
              0.5555555555555556,
              "#d8576b"
             ],
             [
              0.6666666666666666,
              "#ed7953"
             ],
             [
              0.7777777777777778,
              "#fb9f3a"
             ],
             [
              0.8888888888888888,
              "#fdca26"
             ],
             [
              1,
              "#f0f921"
             ]
            ],
            "type": "heatmapgl"
           }
          ],
          "histogram": [
           {
            "marker": {
             "pattern": {
              "fillmode": "overlay",
              "size": 10,
              "solidity": 0.2
             }
            },
            "type": "histogram"
           }
          ],
          "histogram2d": [
           {
            "colorbar": {
             "outlinewidth": 0,
             "ticks": ""
            },
            "colorscale": [
             [
              0,
              "#0d0887"
             ],
             [
              0.1111111111111111,
              "#46039f"
             ],
             [
              0.2222222222222222,
              "#7201a8"
             ],
             [
              0.3333333333333333,
              "#9c179e"
             ],
             [
              0.4444444444444444,
              "#bd3786"
             ],
             [
              0.5555555555555556,
              "#d8576b"
             ],
             [
              0.6666666666666666,
              "#ed7953"
             ],
             [
              0.7777777777777778,
              "#fb9f3a"
             ],
             [
              0.8888888888888888,
              "#fdca26"
             ],
             [
              1,
              "#f0f921"
             ]
            ],
            "type": "histogram2d"
           }
          ],
          "histogram2dcontour": [
           {
            "colorbar": {
             "outlinewidth": 0,
             "ticks": ""
            },
            "colorscale": [
             [
              0,
              "#0d0887"
             ],
             [
              0.1111111111111111,
              "#46039f"
             ],
             [
              0.2222222222222222,
              "#7201a8"
             ],
             [
              0.3333333333333333,
              "#9c179e"
             ],
             [
              0.4444444444444444,
              "#bd3786"
             ],
             [
              0.5555555555555556,
              "#d8576b"
             ],
             [
              0.6666666666666666,
              "#ed7953"
             ],
             [
              0.7777777777777778,
              "#fb9f3a"
             ],
             [
              0.8888888888888888,
              "#fdca26"
             ],
             [
              1,
              "#f0f921"
             ]
            ],
            "type": "histogram2dcontour"
           }
          ],
          "mesh3d": [
           {
            "colorbar": {
             "outlinewidth": 0,
             "ticks": ""
            },
            "type": "mesh3d"
           }
          ],
          "parcoords": [
           {
            "line": {
             "colorbar": {
              "outlinewidth": 0,
              "ticks": ""
             }
            },
            "type": "parcoords"
           }
          ],
          "pie": [
           {
            "automargin": true,
            "type": "pie"
           }
          ],
          "scatter": [
           {
            "fillpattern": {
             "fillmode": "overlay",
             "size": 10,
             "solidity": 0.2
            },
            "type": "scatter"
           }
          ],
          "scatter3d": [
           {
            "line": {
             "colorbar": {
              "outlinewidth": 0,
              "ticks": ""
             }
            },
            "marker": {
             "colorbar": {
              "outlinewidth": 0,
              "ticks": ""
             }
            },
            "type": "scatter3d"
           }
          ],
          "scattercarpet": [
           {
            "marker": {
             "colorbar": {
              "outlinewidth": 0,
              "ticks": ""
             }
            },
            "type": "scattercarpet"
           }
          ],
          "scattergeo": [
           {
            "marker": {
             "colorbar": {
              "outlinewidth": 0,
              "ticks": ""
             }
            },
            "type": "scattergeo"
           }
          ],
          "scattergl": [
           {
            "marker": {
             "colorbar": {
              "outlinewidth": 0,
              "ticks": ""
             }
            },
            "type": "scattergl"
           }
          ],
          "scattermapbox": [
           {
            "marker": {
             "colorbar": {
              "outlinewidth": 0,
              "ticks": ""
             }
            },
            "type": "scattermapbox"
           }
          ],
          "scatterpolar": [
           {
            "marker": {
             "colorbar": {
              "outlinewidth": 0,
              "ticks": ""
             }
            },
            "type": "scatterpolar"
           }
          ],
          "scatterpolargl": [
           {
            "marker": {
             "colorbar": {
              "outlinewidth": 0,
              "ticks": ""
             }
            },
            "type": "scatterpolargl"
           }
          ],
          "scatterternary": [
           {
            "marker": {
             "colorbar": {
              "outlinewidth": 0,
              "ticks": ""
             }
            },
            "type": "scatterternary"
           }
          ],
          "surface": [
           {
            "colorbar": {
             "outlinewidth": 0,
             "ticks": ""
            },
            "colorscale": [
             [
              0,
              "#0d0887"
             ],
             [
              0.1111111111111111,
              "#46039f"
             ],
             [
              0.2222222222222222,
              "#7201a8"
             ],
             [
              0.3333333333333333,
              "#9c179e"
             ],
             [
              0.4444444444444444,
              "#bd3786"
             ],
             [
              0.5555555555555556,
              "#d8576b"
             ],
             [
              0.6666666666666666,
              "#ed7953"
             ],
             [
              0.7777777777777778,
              "#fb9f3a"
             ],
             [
              0.8888888888888888,
              "#fdca26"
             ],
             [
              1,
              "#f0f921"
             ]
            ],
            "type": "surface"
           }
          ],
          "table": [
           {
            "cells": {
             "fill": {
              "color": "#EBF0F8"
             },
             "line": {
              "color": "white"
             }
            },
            "header": {
             "fill": {
              "color": "#C8D4E3"
             },
             "line": {
              "color": "white"
             }
            },
            "type": "table"
           }
          ]
         },
         "layout": {
          "annotationdefaults": {
           "arrowcolor": "#2a3f5f",
           "arrowhead": 0,
           "arrowwidth": 1
          },
          "autotypenumbers": "strict",
          "coloraxis": {
           "colorbar": {
            "outlinewidth": 0,
            "ticks": ""
           }
          },
          "colorscale": {
           "diverging": [
            [
             0,
             "#8e0152"
            ],
            [
             0.1,
             "#c51b7d"
            ],
            [
             0.2,
             "#de77ae"
            ],
            [
             0.3,
             "#f1b6da"
            ],
            [
             0.4,
             "#fde0ef"
            ],
            [
             0.5,
             "#f7f7f7"
            ],
            [
             0.6,
             "#e6f5d0"
            ],
            [
             0.7,
             "#b8e186"
            ],
            [
             0.8,
             "#7fbc41"
            ],
            [
             0.9,
             "#4d9221"
            ],
            [
             1,
             "#276419"
            ]
           ],
           "sequential": [
            [
             0,
             "#0d0887"
            ],
            [
             0.1111111111111111,
             "#46039f"
            ],
            [
             0.2222222222222222,
             "#7201a8"
            ],
            [
             0.3333333333333333,
             "#9c179e"
            ],
            [
             0.4444444444444444,
             "#bd3786"
            ],
            [
             0.5555555555555556,
             "#d8576b"
            ],
            [
             0.6666666666666666,
             "#ed7953"
            ],
            [
             0.7777777777777778,
             "#fb9f3a"
            ],
            [
             0.8888888888888888,
             "#fdca26"
            ],
            [
             1,
             "#f0f921"
            ]
           ],
           "sequentialminus": [
            [
             0,
             "#0d0887"
            ],
            [
             0.1111111111111111,
             "#46039f"
            ],
            [
             0.2222222222222222,
             "#7201a8"
            ],
            [
             0.3333333333333333,
             "#9c179e"
            ],
            [
             0.4444444444444444,
             "#bd3786"
            ],
            [
             0.5555555555555556,
             "#d8576b"
            ],
            [
             0.6666666666666666,
             "#ed7953"
            ],
            [
             0.7777777777777778,
             "#fb9f3a"
            ],
            [
             0.8888888888888888,
             "#fdca26"
            ],
            [
             1,
             "#f0f921"
            ]
           ]
          },
          "colorway": [
           "#636efa",
           "#EF553B",
           "#00cc96",
           "#ab63fa",
           "#FFA15A",
           "#19d3f3",
           "#FF6692",
           "#B6E880",
           "#FF97FF",
           "#FECB52"
          ],
          "font": {
           "color": "#2a3f5f"
          },
          "geo": {
           "bgcolor": "white",
           "lakecolor": "white",
           "landcolor": "#E5ECF6",
           "showlakes": true,
           "showland": true,
           "subunitcolor": "white"
          },
          "hoverlabel": {
           "align": "left"
          },
          "hovermode": "closest",
          "mapbox": {
           "style": "light"
          },
          "paper_bgcolor": "white",
          "plot_bgcolor": "#E5ECF6",
          "polar": {
           "angularaxis": {
            "gridcolor": "white",
            "linecolor": "white",
            "ticks": ""
           },
           "bgcolor": "#E5ECF6",
           "radialaxis": {
            "gridcolor": "white",
            "linecolor": "white",
            "ticks": ""
           }
          },
          "scene": {
           "xaxis": {
            "backgroundcolor": "#E5ECF6",
            "gridcolor": "white",
            "gridwidth": 2,
            "linecolor": "white",
            "showbackground": true,
            "ticks": "",
            "zerolinecolor": "white"
           },
           "yaxis": {
            "backgroundcolor": "#E5ECF6",
            "gridcolor": "white",
            "gridwidth": 2,
            "linecolor": "white",
            "showbackground": true,
            "ticks": "",
            "zerolinecolor": "white"
           },
           "zaxis": {
            "backgroundcolor": "#E5ECF6",
            "gridcolor": "white",
            "gridwidth": 2,
            "linecolor": "white",
            "showbackground": true,
            "ticks": "",
            "zerolinecolor": "white"
           }
          },
          "shapedefaults": {
           "line": {
            "color": "#2a3f5f"
           }
          },
          "ternary": {
           "aaxis": {
            "gridcolor": "white",
            "linecolor": "white",
            "ticks": ""
           },
           "baxis": {
            "gridcolor": "white",
            "linecolor": "white",
            "ticks": ""
           },
           "bgcolor": "#E5ECF6",
           "caxis": {
            "gridcolor": "white",
            "linecolor": "white",
            "ticks": ""
           }
          },
          "title": {
           "x": 0.05
          },
          "xaxis": {
           "automargin": true,
           "gridcolor": "white",
           "linecolor": "white",
           "ticks": "",
           "title": {
            "standoff": 15
           },
           "zerolinecolor": "white",
           "zerolinewidth": 2
          },
          "yaxis": {
           "automargin": true,
           "gridcolor": "white",
           "linecolor": "white",
           "ticks": "",
           "title": {
            "standoff": 15
           },
           "zerolinecolor": "white",
           "zerolinewidth": 2
          }
         }
        },
        "xaxis": {
         "anchor": "y",
         "domain": [
          0,
          1
         ],
         "title": {
          "text": "displacement"
         }
        },
        "yaxis": {
         "anchor": "x",
         "domain": [
          0,
          1
         ],
         "title": {
          "text": "count"
         }
        }
       }
      }
     },
     "metadata": {},
     "output_type": "display_data"
    }
   ],
   "source": [
    "px.histogram(mpg, x=\"displacement\")"
   ]
  },
  {
   "cell_type": "code",
   "execution_count": 4,
   "id": "6d3d077b",
   "metadata": {},
   "outputs": [
    {
     "data": {
      "application/vnd.plotly.v1+json": {
       "config": {
        "plotlyServerURL": "https://plot.ly"
       },
       "data": [
        {
         "hovertemplate": "displacement=%{x}<br>horsepower=%{y}<extra></extra>",
         "legendgroup": "",
         "marker": {
          "color": "#636efa",
          "symbol": "circle"
         },
         "mode": "markers",
         "name": "",
         "orientation": "v",
         "showlegend": false,
         "type": "scatter",
         "x": [
          307,
          350,
          318,
          304,
          302,
          429,
          454,
          440,
          455,
          390,
          383,
          340,
          400,
          455,
          113,
          198,
          199,
          200,
          97,
          97,
          110,
          107,
          104,
          121,
          199,
          360,
          307,
          318,
          304,
          97,
          140,
          113,
          232,
          225,
          250,
          250,
          232,
          350,
          400,
          351,
          318,
          383,
          400,
          400,
          258,
          140,
          250,
          250,
          122,
          116,
          79,
          88,
          71,
          72,
          97,
          91,
          113,
          97.5,
          97,
          140,
          122,
          350,
          400,
          318,
          351,
          304,
          429,
          350,
          350,
          400,
          70,
          304,
          307,
          302,
          318,
          121,
          121,
          120,
          96,
          122,
          97,
          120,
          98,
          97,
          350,
          304,
          350,
          302,
          318,
          429,
          400,
          351,
          318,
          440,
          455,
          360,
          225,
          250,
          232,
          250,
          198,
          97,
          400,
          400,
          360,
          350,
          232,
          97,
          140,
          108,
          70,
          122,
          155,
          98,
          350,
          400,
          68,
          116,
          114,
          121,
          318,
          121,
          156,
          350,
          198,
          232,
          250,
          79,
          122,
          71,
          140,
          250,
          258,
          225,
          302,
          350,
          318,
          302,
          304,
          98,
          79,
          97,
          76,
          83,
          90,
          90,
          116,
          120,
          108,
          79,
          225,
          250,
          250,
          250,
          400,
          350,
          318,
          351,
          231,
          250,
          258,
          225,
          231,
          262,
          302,
          97,
          140,
          232,
          140,
          134,
          90,
          119,
          171,
          90,
          232,
          115,
          120,
          121,
          121,
          91,
          107,
          116,
          140,
          98,
          101,
          305,
          318,
          304,
          351,
          225,
          250,
          200,
          232,
          85,
          98,
          90,
          91,
          225,
          250,
          250,
          258,
          97,
          85,
          97,
          140,
          130,
          318,
          120,
          156,
          168,
          350,
          350,
          302,
          318,
          98,
          111,
          79,
          122,
          85,
          305,
          260,
          318,
          302,
          250,
          231,
          225,
          250,
          400,
          350,
          400,
          351,
          97,
          151,
          97,
          140,
          98,
          98,
          97,
          97,
          146,
          121,
          80,
          90,
          98,
          78,
          85,
          91,
          260,
          318,
          302,
          231,
          200,
          200,
          140,
          225,
          232,
          231,
          200,
          225,
          258,
          305,
          231,
          302,
          318,
          98,
          134,
          119,
          105,
          134,
          156,
          151,
          119,
          131,
          163,
          121,
          163,
          89,
          98,
          231,
          200,
          140,
          232,
          225,
          305,
          302,
          351,
          318,
          350,
          351,
          267,
          360,
          89,
          86,
          98,
          121,
          183,
          350,
          141,
          260,
          105,
          105,
          85,
          91,
          151,
          173,
          173,
          151,
          98,
          89,
          98,
          86,
          151,
          140,
          151,
          225,
          97,
          134,
          120,
          119,
          108,
          86,
          156,
          85,
          90,
          90,
          121,
          146,
          91,
          97,
          89,
          168,
          70,
          122,
          107,
          135,
          151,
          156,
          173,
          135,
          79,
          86,
          81,
          97,
          85,
          89,
          91,
          105,
          98,
          98,
          105,
          107,
          108,
          119,
          120,
          141,
          145,
          168,
          146,
          231,
          350,
          200,
          225,
          112,
          112,
          112,
          112,
          135,
          151,
          140,
          105,
          91,
          91,
          105,
          98,
          120,
          107,
          108,
          91,
          91,
          91,
          181,
          262,
          156,
          232,
          144,
          135,
          151,
          140,
          97,
          135,
          120,
          119
         ],
         "xaxis": "x",
         "y": [
          130,
          165,
          150,
          150,
          140,
          198,
          220,
          215,
          225,
          190,
          170,
          160,
          150,
          225,
          95,
          95,
          97,
          85,
          88,
          46,
          87,
          90,
          95,
          113,
          90,
          215,
          200,
          210,
          193,
          88,
          90,
          95,
          100,
          105,
          100,
          88,
          100,
          165,
          175,
          153,
          150,
          180,
          170,
          175,
          110,
          72,
          100,
          88,
          86,
          90,
          70,
          76,
          65,
          69,
          60,
          70,
          95,
          80,
          54,
          90,
          86,
          165,
          175,
          150,
          153,
          150,
          208,
          155,
          160,
          190,
          97,
          150,
          130,
          140,
          150,
          112,
          76,
          87,
          69,
          86,
          92,
          97,
          80,
          88,
          175,
          150,
          145,
          137,
          150,
          198,
          150,
          158,
          150,
          215,
          225,
          175,
          105,
          100,
          100,
          88,
          95,
          46,
          150,
          167,
          170,
          180,
          100,
          88,
          72,
          94,
          90,
          85,
          107,
          90,
          145,
          230,
          49,
          75,
          91,
          112,
          150,
          110,
          122,
          180,
          95,
          100,
          100,
          67,
          80,
          65,
          75,
          100,
          110,
          105,
          140,
          150,
          150,
          140,
          150,
          83,
          67,
          78,
          52,
          61,
          75,
          75,
          75,
          97,
          93,
          67,
          95,
          105,
          72,
          72,
          170,
          145,
          150,
          148,
          110,
          105,
          110,
          95,
          110,
          110,
          129,
          75,
          83,
          100,
          78,
          96,
          71,
          97,
          97,
          70,
          90,
          95,
          88,
          98,
          115,
          53,
          86,
          81,
          92,
          79,
          83,
          140,
          150,
          120,
          152,
          100,
          105,
          81,
          90,
          52,
          60,
          70,
          53,
          100,
          78,
          110,
          95,
          71,
          70,
          75,
          72,
          102,
          150,
          88,
          108,
          120,
          180,
          145,
          130,
          150,
          68,
          80,
          58,
          96,
          70,
          145,
          110,
          145,
          130,
          110,
          105,
          100,
          98,
          180,
          170,
          190,
          149,
          78,
          88,
          75,
          89,
          63,
          83,
          67,
          78,
          97,
          110,
          110,
          48,
          66,
          52,
          70,
          60,
          110,
          140,
          139,
          105,
          95,
          85,
          88,
          100,
          90,
          105,
          85,
          110,
          120,
          145,
          165,
          139,
          140,
          68,
          95,
          97,
          75,
          95,
          105,
          85,
          97,
          103,
          125,
          115,
          133,
          71,
          68,
          115,
          85,
          88,
          90,
          110,
          130,
          129,
          138,
          135,
          155,
          142,
          125,
          150,
          71,
          65,
          80,
          80,
          77,
          125,
          71,
          90,
          70,
          70,
          65,
          69,
          90,
          115,
          115,
          90,
          76,
          60,
          70,
          65,
          90,
          88,
          90,
          90,
          78,
          90,
          75,
          92,
          75,
          65,
          105,
          65,
          48,
          48,
          67,
          67,
          67,
          67,
          62,
          132,
          100,
          88,
          72,
          84,
          84,
          92,
          110,
          84,
          58,
          64,
          60,
          67,
          65,
          62,
          68,
          63,
          65,
          65,
          74,
          75,
          75,
          100,
          74,
          80,
          76,
          116,
          120,
          110,
          105,
          88,
          85,
          88,
          88,
          88,
          85,
          84,
          90,
          92,
          74,
          68,
          68,
          63,
          70,
          88,
          75,
          70,
          67,
          67,
          67,
          110,
          85,
          92,
          112,
          96,
          84,
          90,
          86,
          52,
          84,
          79,
          82
         ],
         "yaxis": "y"
        }
       ],
       "layout": {
        "legend": {
         "tracegroupgap": 0
        },
        "margin": {
         "t": 60
        },
        "template": {
         "data": {
          "bar": [
           {
            "error_x": {
             "color": "#2a3f5f"
            },
            "error_y": {
             "color": "#2a3f5f"
            },
            "marker": {
             "line": {
              "color": "#E5ECF6",
              "width": 0.5
             },
             "pattern": {
              "fillmode": "overlay",
              "size": 10,
              "solidity": 0.2
             }
            },
            "type": "bar"
           }
          ],
          "barpolar": [
           {
            "marker": {
             "line": {
              "color": "#E5ECF6",
              "width": 0.5
             },
             "pattern": {
              "fillmode": "overlay",
              "size": 10,
              "solidity": 0.2
             }
            },
            "type": "barpolar"
           }
          ],
          "carpet": [
           {
            "aaxis": {
             "endlinecolor": "#2a3f5f",
             "gridcolor": "white",
             "linecolor": "white",
             "minorgridcolor": "white",
             "startlinecolor": "#2a3f5f"
            },
            "baxis": {
             "endlinecolor": "#2a3f5f",
             "gridcolor": "white",
             "linecolor": "white",
             "minorgridcolor": "white",
             "startlinecolor": "#2a3f5f"
            },
            "type": "carpet"
           }
          ],
          "choropleth": [
           {
            "colorbar": {
             "outlinewidth": 0,
             "ticks": ""
            },
            "type": "choropleth"
           }
          ],
          "contour": [
           {
            "colorbar": {
             "outlinewidth": 0,
             "ticks": ""
            },
            "colorscale": [
             [
              0,
              "#0d0887"
             ],
             [
              0.1111111111111111,
              "#46039f"
             ],
             [
              0.2222222222222222,
              "#7201a8"
             ],
             [
              0.3333333333333333,
              "#9c179e"
             ],
             [
              0.4444444444444444,
              "#bd3786"
             ],
             [
              0.5555555555555556,
              "#d8576b"
             ],
             [
              0.6666666666666666,
              "#ed7953"
             ],
             [
              0.7777777777777778,
              "#fb9f3a"
             ],
             [
              0.8888888888888888,
              "#fdca26"
             ],
             [
              1,
              "#f0f921"
             ]
            ],
            "type": "contour"
           }
          ],
          "contourcarpet": [
           {
            "colorbar": {
             "outlinewidth": 0,
             "ticks": ""
            },
            "type": "contourcarpet"
           }
          ],
          "heatmap": [
           {
            "colorbar": {
             "outlinewidth": 0,
             "ticks": ""
            },
            "colorscale": [
             [
              0,
              "#0d0887"
             ],
             [
              0.1111111111111111,
              "#46039f"
             ],
             [
              0.2222222222222222,
              "#7201a8"
             ],
             [
              0.3333333333333333,
              "#9c179e"
             ],
             [
              0.4444444444444444,
              "#bd3786"
             ],
             [
              0.5555555555555556,
              "#d8576b"
             ],
             [
              0.6666666666666666,
              "#ed7953"
             ],
             [
              0.7777777777777778,
              "#fb9f3a"
             ],
             [
              0.8888888888888888,
              "#fdca26"
             ],
             [
              1,
              "#f0f921"
             ]
            ],
            "type": "heatmap"
           }
          ],
          "heatmapgl": [
           {
            "colorbar": {
             "outlinewidth": 0,
             "ticks": ""
            },
            "colorscale": [
             [
              0,
              "#0d0887"
             ],
             [
              0.1111111111111111,
              "#46039f"
             ],
             [
              0.2222222222222222,
              "#7201a8"
             ],
             [
              0.3333333333333333,
              "#9c179e"
             ],
             [
              0.4444444444444444,
              "#bd3786"
             ],
             [
              0.5555555555555556,
              "#d8576b"
             ],
             [
              0.6666666666666666,
              "#ed7953"
             ],
             [
              0.7777777777777778,
              "#fb9f3a"
             ],
             [
              0.8888888888888888,
              "#fdca26"
             ],
             [
              1,
              "#f0f921"
             ]
            ],
            "type": "heatmapgl"
           }
          ],
          "histogram": [
           {
            "marker": {
             "pattern": {
              "fillmode": "overlay",
              "size": 10,
              "solidity": 0.2
             }
            },
            "type": "histogram"
           }
          ],
          "histogram2d": [
           {
            "colorbar": {
             "outlinewidth": 0,
             "ticks": ""
            },
            "colorscale": [
             [
              0,
              "#0d0887"
             ],
             [
              0.1111111111111111,
              "#46039f"
             ],
             [
              0.2222222222222222,
              "#7201a8"
             ],
             [
              0.3333333333333333,
              "#9c179e"
             ],
             [
              0.4444444444444444,
              "#bd3786"
             ],
             [
              0.5555555555555556,
              "#d8576b"
             ],
             [
              0.6666666666666666,
              "#ed7953"
             ],
             [
              0.7777777777777778,
              "#fb9f3a"
             ],
             [
              0.8888888888888888,
              "#fdca26"
             ],
             [
              1,
              "#f0f921"
             ]
            ],
            "type": "histogram2d"
           }
          ],
          "histogram2dcontour": [
           {
            "colorbar": {
             "outlinewidth": 0,
             "ticks": ""
            },
            "colorscale": [
             [
              0,
              "#0d0887"
             ],
             [
              0.1111111111111111,
              "#46039f"
             ],
             [
              0.2222222222222222,
              "#7201a8"
             ],
             [
              0.3333333333333333,
              "#9c179e"
             ],
             [
              0.4444444444444444,
              "#bd3786"
             ],
             [
              0.5555555555555556,
              "#d8576b"
             ],
             [
              0.6666666666666666,
              "#ed7953"
             ],
             [
              0.7777777777777778,
              "#fb9f3a"
             ],
             [
              0.8888888888888888,
              "#fdca26"
             ],
             [
              1,
              "#f0f921"
             ]
            ],
            "type": "histogram2dcontour"
           }
          ],
          "mesh3d": [
           {
            "colorbar": {
             "outlinewidth": 0,
             "ticks": ""
            },
            "type": "mesh3d"
           }
          ],
          "parcoords": [
           {
            "line": {
             "colorbar": {
              "outlinewidth": 0,
              "ticks": ""
             }
            },
            "type": "parcoords"
           }
          ],
          "pie": [
           {
            "automargin": true,
            "type": "pie"
           }
          ],
          "scatter": [
           {
            "fillpattern": {
             "fillmode": "overlay",
             "size": 10,
             "solidity": 0.2
            },
            "type": "scatter"
           }
          ],
          "scatter3d": [
           {
            "line": {
             "colorbar": {
              "outlinewidth": 0,
              "ticks": ""
             }
            },
            "marker": {
             "colorbar": {
              "outlinewidth": 0,
              "ticks": ""
             }
            },
            "type": "scatter3d"
           }
          ],
          "scattercarpet": [
           {
            "marker": {
             "colorbar": {
              "outlinewidth": 0,
              "ticks": ""
             }
            },
            "type": "scattercarpet"
           }
          ],
          "scattergeo": [
           {
            "marker": {
             "colorbar": {
              "outlinewidth": 0,
              "ticks": ""
             }
            },
            "type": "scattergeo"
           }
          ],
          "scattergl": [
           {
            "marker": {
             "colorbar": {
              "outlinewidth": 0,
              "ticks": ""
             }
            },
            "type": "scattergl"
           }
          ],
          "scattermapbox": [
           {
            "marker": {
             "colorbar": {
              "outlinewidth": 0,
              "ticks": ""
             }
            },
            "type": "scattermapbox"
           }
          ],
          "scatterpolar": [
           {
            "marker": {
             "colorbar": {
              "outlinewidth": 0,
              "ticks": ""
             }
            },
            "type": "scatterpolar"
           }
          ],
          "scatterpolargl": [
           {
            "marker": {
             "colorbar": {
              "outlinewidth": 0,
              "ticks": ""
             }
            },
            "type": "scatterpolargl"
           }
          ],
          "scatterternary": [
           {
            "marker": {
             "colorbar": {
              "outlinewidth": 0,
              "ticks": ""
             }
            },
            "type": "scatterternary"
           }
          ],
          "surface": [
           {
            "colorbar": {
             "outlinewidth": 0,
             "ticks": ""
            },
            "colorscale": [
             [
              0,
              "#0d0887"
             ],
             [
              0.1111111111111111,
              "#46039f"
             ],
             [
              0.2222222222222222,
              "#7201a8"
             ],
             [
              0.3333333333333333,
              "#9c179e"
             ],
             [
              0.4444444444444444,
              "#bd3786"
             ],
             [
              0.5555555555555556,
              "#d8576b"
             ],
             [
              0.6666666666666666,
              "#ed7953"
             ],
             [
              0.7777777777777778,
              "#fb9f3a"
             ],
             [
              0.8888888888888888,
              "#fdca26"
             ],
             [
              1,
              "#f0f921"
             ]
            ],
            "type": "surface"
           }
          ],
          "table": [
           {
            "cells": {
             "fill": {
              "color": "#EBF0F8"
             },
             "line": {
              "color": "white"
             }
            },
            "header": {
             "fill": {
              "color": "#C8D4E3"
             },
             "line": {
              "color": "white"
             }
            },
            "type": "table"
           }
          ]
         },
         "layout": {
          "annotationdefaults": {
           "arrowcolor": "#2a3f5f",
           "arrowhead": 0,
           "arrowwidth": 1
          },
          "autotypenumbers": "strict",
          "coloraxis": {
           "colorbar": {
            "outlinewidth": 0,
            "ticks": ""
           }
          },
          "colorscale": {
           "diverging": [
            [
             0,
             "#8e0152"
            ],
            [
             0.1,
             "#c51b7d"
            ],
            [
             0.2,
             "#de77ae"
            ],
            [
             0.3,
             "#f1b6da"
            ],
            [
             0.4,
             "#fde0ef"
            ],
            [
             0.5,
             "#f7f7f7"
            ],
            [
             0.6,
             "#e6f5d0"
            ],
            [
             0.7,
             "#b8e186"
            ],
            [
             0.8,
             "#7fbc41"
            ],
            [
             0.9,
             "#4d9221"
            ],
            [
             1,
             "#276419"
            ]
           ],
           "sequential": [
            [
             0,
             "#0d0887"
            ],
            [
             0.1111111111111111,
             "#46039f"
            ],
            [
             0.2222222222222222,
             "#7201a8"
            ],
            [
             0.3333333333333333,
             "#9c179e"
            ],
            [
             0.4444444444444444,
             "#bd3786"
            ],
            [
             0.5555555555555556,
             "#d8576b"
            ],
            [
             0.6666666666666666,
             "#ed7953"
            ],
            [
             0.7777777777777778,
             "#fb9f3a"
            ],
            [
             0.8888888888888888,
             "#fdca26"
            ],
            [
             1,
             "#f0f921"
            ]
           ],
           "sequentialminus": [
            [
             0,
             "#0d0887"
            ],
            [
             0.1111111111111111,
             "#46039f"
            ],
            [
             0.2222222222222222,
             "#7201a8"
            ],
            [
             0.3333333333333333,
             "#9c179e"
            ],
            [
             0.4444444444444444,
             "#bd3786"
            ],
            [
             0.5555555555555556,
             "#d8576b"
            ],
            [
             0.6666666666666666,
             "#ed7953"
            ],
            [
             0.7777777777777778,
             "#fb9f3a"
            ],
            [
             0.8888888888888888,
             "#fdca26"
            ],
            [
             1,
             "#f0f921"
            ]
           ]
          },
          "colorway": [
           "#636efa",
           "#EF553B",
           "#00cc96",
           "#ab63fa",
           "#FFA15A",
           "#19d3f3",
           "#FF6692",
           "#B6E880",
           "#FF97FF",
           "#FECB52"
          ],
          "font": {
           "color": "#2a3f5f"
          },
          "geo": {
           "bgcolor": "white",
           "lakecolor": "white",
           "landcolor": "#E5ECF6",
           "showlakes": true,
           "showland": true,
           "subunitcolor": "white"
          },
          "hoverlabel": {
           "align": "left"
          },
          "hovermode": "closest",
          "mapbox": {
           "style": "light"
          },
          "paper_bgcolor": "white",
          "plot_bgcolor": "#E5ECF6",
          "polar": {
           "angularaxis": {
            "gridcolor": "white",
            "linecolor": "white",
            "ticks": ""
           },
           "bgcolor": "#E5ECF6",
           "radialaxis": {
            "gridcolor": "white",
            "linecolor": "white",
            "ticks": ""
           }
          },
          "scene": {
           "xaxis": {
            "backgroundcolor": "#E5ECF6",
            "gridcolor": "white",
            "gridwidth": 2,
            "linecolor": "white",
            "showbackground": true,
            "ticks": "",
            "zerolinecolor": "white"
           },
           "yaxis": {
            "backgroundcolor": "#E5ECF6",
            "gridcolor": "white",
            "gridwidth": 2,
            "linecolor": "white",
            "showbackground": true,
            "ticks": "",
            "zerolinecolor": "white"
           },
           "zaxis": {
            "backgroundcolor": "#E5ECF6",
            "gridcolor": "white",
            "gridwidth": 2,
            "linecolor": "white",
            "showbackground": true,
            "ticks": "",
            "zerolinecolor": "white"
           }
          },
          "shapedefaults": {
           "line": {
            "color": "#2a3f5f"
           }
          },
          "ternary": {
           "aaxis": {
            "gridcolor": "white",
            "linecolor": "white",
            "ticks": ""
           },
           "baxis": {
            "gridcolor": "white",
            "linecolor": "white",
            "ticks": ""
           },
           "bgcolor": "#E5ECF6",
           "caxis": {
            "gridcolor": "white",
            "linecolor": "white",
            "ticks": ""
           }
          },
          "title": {
           "x": 0.05
          },
          "xaxis": {
           "automargin": true,
           "gridcolor": "white",
           "linecolor": "white",
           "ticks": "",
           "title": {
            "standoff": 15
           },
           "zerolinecolor": "white",
           "zerolinewidth": 2
          },
          "yaxis": {
           "automargin": true,
           "gridcolor": "white",
           "linecolor": "white",
           "ticks": "",
           "title": {
            "standoff": 15
           },
           "zerolinecolor": "white",
           "zerolinewidth": 2
          }
         }
        },
        "xaxis": {
         "anchor": "y",
         "domain": [
          0,
          1
         ],
         "title": {
          "text": "displacement"
         }
        },
        "yaxis": {
         "anchor": "x",
         "domain": [
          0,
          1
         ],
         "title": {
          "text": "horsepower"
         }
        }
       }
      }
     },
     "metadata": {},
     "output_type": "display_data"
    }
   ],
   "source": [
    "px.scatter(mpg, x=\"displacement\", y=\"horsepower\")"
   ]
  },
  {
   "cell_type": "code",
   "execution_count": 8,
   "id": "56186d74",
   "metadata": {},
   "outputs": [
    {
     "data": {
      "application/vnd.plotly.v1+json": {
       "config": {
        "plotlyServerURL": "https://plot.ly"
       },
       "data": [
        {
         "hovertemplate": "displacement=%{x}<br>horsepower=%{y}<br>weight=%{z}<extra></extra>",
         "legendgroup": "",
         "marker": {
          "color": "#636efa",
          "size": 3,
          "symbol": "circle"
         },
         "mode": "markers",
         "name": "",
         "scene": "scene",
         "showlegend": false,
         "type": "scatter3d",
         "x": [
          307,
          350,
          318,
          304,
          302,
          429,
          454,
          440,
          455,
          390,
          383,
          340,
          400,
          455,
          113,
          198,
          199,
          200,
          97,
          97,
          110,
          107,
          104,
          121,
          199,
          360,
          307,
          318,
          304,
          97,
          140,
          113,
          232,
          225,
          250,
          250,
          232,
          350,
          400,
          351,
          318,
          383,
          400,
          400,
          258,
          140,
          250,
          250,
          122,
          116,
          79,
          88,
          71,
          72,
          97,
          91,
          113,
          97.5,
          97,
          140,
          122,
          350,
          400,
          318,
          351,
          304,
          429,
          350,
          350,
          400,
          70,
          304,
          307,
          302,
          318,
          121,
          121,
          120,
          96,
          122,
          97,
          120,
          98,
          97,
          350,
          304,
          350,
          302,
          318,
          429,
          400,
          351,
          318,
          440,
          455,
          360,
          225,
          250,
          232,
          250,
          198,
          97,
          400,
          400,
          360,
          350,
          232,
          97,
          140,
          108,
          70,
          122,
          155,
          98,
          350,
          400,
          68,
          116,
          114,
          121,
          318,
          121,
          156,
          350,
          198,
          232,
          250,
          79,
          122,
          71,
          140,
          250,
          258,
          225,
          302,
          350,
          318,
          302,
          304,
          98,
          79,
          97,
          76,
          83,
          90,
          90,
          116,
          120,
          108,
          79,
          225,
          250,
          250,
          250,
          400,
          350,
          318,
          351,
          231,
          250,
          258,
          225,
          231,
          262,
          302,
          97,
          140,
          232,
          140,
          134,
          90,
          119,
          171,
          90,
          232,
          115,
          120,
          121,
          121,
          91,
          107,
          116,
          140,
          98,
          101,
          305,
          318,
          304,
          351,
          225,
          250,
          200,
          232,
          85,
          98,
          90,
          91,
          225,
          250,
          250,
          258,
          97,
          85,
          97,
          140,
          130,
          318,
          120,
          156,
          168,
          350,
          350,
          302,
          318,
          98,
          111,
          79,
          122,
          85,
          305,
          260,
          318,
          302,
          250,
          231,
          225,
          250,
          400,
          350,
          400,
          351,
          97,
          151,
          97,
          140,
          98,
          98,
          97,
          97,
          146,
          121,
          80,
          90,
          98,
          78,
          85,
          91,
          260,
          318,
          302,
          231,
          200,
          200,
          140,
          225,
          232,
          231,
          200,
          225,
          258,
          305,
          231,
          302,
          318,
          98,
          134,
          119,
          105,
          134,
          156,
          151,
          119,
          131,
          163,
          121,
          163,
          89,
          98,
          231,
          200,
          140,
          232,
          225,
          305,
          302,
          351,
          318,
          350,
          351,
          267,
          360,
          89,
          86,
          98,
          121,
          183,
          350,
          141,
          260,
          105,
          105,
          85,
          91,
          151,
          173,
          173,
          151,
          98,
          89,
          98,
          86,
          151,
          140,
          151,
          225,
          97,
          134,
          120,
          119,
          108,
          86,
          156,
          85,
          90,
          90,
          121,
          146,
          91,
          97,
          89,
          168,
          70,
          122,
          107,
          135,
          151,
          156,
          173,
          135,
          79,
          86,
          81,
          97,
          85,
          89,
          91,
          105,
          98,
          98,
          105,
          107,
          108,
          119,
          120,
          141,
          145,
          168,
          146,
          231,
          350,
          200,
          225,
          112,
          112,
          112,
          112,
          135,
          151,
          140,
          105,
          91,
          91,
          105,
          98,
          120,
          107,
          108,
          91,
          91,
          91,
          181,
          262,
          156,
          232,
          144,
          135,
          151,
          140,
          97,
          135,
          120,
          119
         ],
         "y": [
          130,
          165,
          150,
          150,
          140,
          198,
          220,
          215,
          225,
          190,
          170,
          160,
          150,
          225,
          95,
          95,
          97,
          85,
          88,
          46,
          87,
          90,
          95,
          113,
          90,
          215,
          200,
          210,
          193,
          88,
          90,
          95,
          100,
          105,
          100,
          88,
          100,
          165,
          175,
          153,
          150,
          180,
          170,
          175,
          110,
          72,
          100,
          88,
          86,
          90,
          70,
          76,
          65,
          69,
          60,
          70,
          95,
          80,
          54,
          90,
          86,
          165,
          175,
          150,
          153,
          150,
          208,
          155,
          160,
          190,
          97,
          150,
          130,
          140,
          150,
          112,
          76,
          87,
          69,
          86,
          92,
          97,
          80,
          88,
          175,
          150,
          145,
          137,
          150,
          198,
          150,
          158,
          150,
          215,
          225,
          175,
          105,
          100,
          100,
          88,
          95,
          46,
          150,
          167,
          170,
          180,
          100,
          88,
          72,
          94,
          90,
          85,
          107,
          90,
          145,
          230,
          49,
          75,
          91,
          112,
          150,
          110,
          122,
          180,
          95,
          100,
          100,
          67,
          80,
          65,
          75,
          100,
          110,
          105,
          140,
          150,
          150,
          140,
          150,
          83,
          67,
          78,
          52,
          61,
          75,
          75,
          75,
          97,
          93,
          67,
          95,
          105,
          72,
          72,
          170,
          145,
          150,
          148,
          110,
          105,
          110,
          95,
          110,
          110,
          129,
          75,
          83,
          100,
          78,
          96,
          71,
          97,
          97,
          70,
          90,
          95,
          88,
          98,
          115,
          53,
          86,
          81,
          92,
          79,
          83,
          140,
          150,
          120,
          152,
          100,
          105,
          81,
          90,
          52,
          60,
          70,
          53,
          100,
          78,
          110,
          95,
          71,
          70,
          75,
          72,
          102,
          150,
          88,
          108,
          120,
          180,
          145,
          130,
          150,
          68,
          80,
          58,
          96,
          70,
          145,
          110,
          145,
          130,
          110,
          105,
          100,
          98,
          180,
          170,
          190,
          149,
          78,
          88,
          75,
          89,
          63,
          83,
          67,
          78,
          97,
          110,
          110,
          48,
          66,
          52,
          70,
          60,
          110,
          140,
          139,
          105,
          95,
          85,
          88,
          100,
          90,
          105,
          85,
          110,
          120,
          145,
          165,
          139,
          140,
          68,
          95,
          97,
          75,
          95,
          105,
          85,
          97,
          103,
          125,
          115,
          133,
          71,
          68,
          115,
          85,
          88,
          90,
          110,
          130,
          129,
          138,
          135,
          155,
          142,
          125,
          150,
          71,
          65,
          80,
          80,
          77,
          125,
          71,
          90,
          70,
          70,
          65,
          69,
          90,
          115,
          115,
          90,
          76,
          60,
          70,
          65,
          90,
          88,
          90,
          90,
          78,
          90,
          75,
          92,
          75,
          65,
          105,
          65,
          48,
          48,
          67,
          67,
          67,
          67,
          62,
          132,
          100,
          88,
          72,
          84,
          84,
          92,
          110,
          84,
          58,
          64,
          60,
          67,
          65,
          62,
          68,
          63,
          65,
          65,
          74,
          75,
          75,
          100,
          74,
          80,
          76,
          116,
          120,
          110,
          105,
          88,
          85,
          88,
          88,
          88,
          85,
          84,
          90,
          92,
          74,
          68,
          68,
          63,
          70,
          88,
          75,
          70,
          67,
          67,
          67,
          110,
          85,
          92,
          112,
          96,
          84,
          90,
          86,
          52,
          84,
          79,
          82
         ],
         "z": [
          3504,
          3693,
          3436,
          3433,
          3449,
          4341,
          4354,
          4312,
          4425,
          3850,
          3563,
          3609,
          3761,
          3086,
          2372,
          2833,
          2774,
          2587,
          2130,
          1835,
          2672,
          2430,
          2375,
          2234,
          2648,
          4615,
          4376,
          4382,
          4732,
          2130,
          2264,
          2228,
          2634,
          3439,
          3329,
          3302,
          3288,
          4209,
          4464,
          4154,
          4096,
          4955,
          4746,
          5140,
          2962,
          2408,
          3282,
          3139,
          2220,
          2123,
          2074,
          2065,
          1773,
          1613,
          1834,
          1955,
          2278,
          2126,
          2254,
          2408,
          2226,
          4274,
          4385,
          4135,
          4129,
          3672,
          4633,
          4502,
          4456,
          4422,
          2330,
          3892,
          4098,
          4294,
          4077,
          2933,
          2511,
          2979,
          2189,
          2395,
          2288,
          2506,
          2164,
          2100,
          4100,
          3672,
          3988,
          4042,
          3777,
          4952,
          4464,
          4363,
          4237,
          4735,
          4951,
          3821,
          3121,
          3278,
          2945,
          3021,
          2904,
          1950,
          4997,
          4906,
          4654,
          4499,
          2789,
          2279,
          2401,
          2379,
          2124,
          2310,
          2472,
          2265,
          4082,
          4278,
          1867,
          2158,
          2582,
          2868,
          3399,
          2660,
          2807,
          3664,
          3102,
          2901,
          3336,
          1950,
          2451,
          1836,
          2542,
          3781,
          3632,
          3613,
          4141,
          4699,
          4457,
          4638,
          4257,
          2219,
          1963,
          2300,
          1649,
          2003,
          2125,
          2108,
          2246,
          2489,
          2391,
          2000,
          3264,
          3459,
          3432,
          3158,
          4668,
          4440,
          4498,
          4657,
          3907,
          3897,
          3730,
          3785,
          3039,
          3221,
          3169,
          2171,
          2639,
          2914,
          2592,
          2702,
          2223,
          2545,
          2984,
          1937,
          3211,
          2694,
          2957,
          2945,
          2671,
          1795,
          2464,
          2220,
          2572,
          2255,
          2202,
          4215,
          4190,
          3962,
          4215,
          3233,
          3353,
          3012,
          3085,
          2035,
          2164,
          1937,
          1795,
          3651,
          3574,
          3645,
          3193,
          1825,
          1990,
          2155,
          2565,
          3150,
          3940,
          3270,
          2930,
          3820,
          4380,
          4055,
          3870,
          3755,
          2045,
          2155,
          1825,
          2300,
          1945,
          3880,
          4060,
          4140,
          4295,
          3520,
          3425,
          3630,
          3525,
          4220,
          4165,
          4325,
          4335,
          1940,
          2740,
          2265,
          2755,
          2051,
          2075,
          1985,
          2190,
          2815,
          2600,
          2720,
          1985,
          1800,
          1985,
          2070,
          1800,
          3365,
          3735,
          3570,
          3535,
          3155,
          2965,
          2720,
          3430,
          3210,
          3380,
          3070,
          3620,
          3410,
          3425,
          3445,
          3205,
          4080,
          2155,
          2560,
          2300,
          2230,
          2515,
          2745,
          2855,
          2405,
          2830,
          3140,
          2795,
          3410,
          1990,
          2135,
          3245,
          2990,
          2890,
          3265,
          3360,
          3840,
          3725,
          3955,
          3830,
          4360,
          4054,
          3605,
          3940,
          1925,
          1975,
          1915,
          2670,
          3530,
          3900,
          3190,
          3420,
          2200,
          2150,
          2020,
          2130,
          2670,
          2595,
          2700,
          2556,
          2144,
          1968,
          2120,
          2019,
          2678,
          2870,
          3003,
          3381,
          2188,
          2711,
          2542,
          2434,
          2265,
          2110,
          2800,
          2110,
          2085,
          2335,
          2950,
          3250,
          1850,
          2145,
          1845,
          2910,
          2420,
          2500,
          2290,
          2490,
          2635,
          2620,
          2725,
          2385,
          1755,
          1875,
          1760,
          2065,
          1975,
          2050,
          1985,
          2215,
          2045,
          2380,
          2190,
          2210,
          2350,
          2615,
          2635,
          3230,
          3160,
          2900,
          2930,
          3415,
          3725,
          3060,
          3465,
          2605,
          2640,
          2395,
          2575,
          2525,
          2735,
          2865,
          1980,
          2025,
          1970,
          2125,
          2125,
          2160,
          2205,
          2245,
          1965,
          1965,
          1995,
          2945,
          3015,
          2585,
          2835,
          2665,
          2370,
          2950,
          2790,
          2130,
          2295,
          2625,
          2720
         ]
        }
       ],
       "layout": {
        "height": 800,
        "legend": {
         "tracegroupgap": 0
        },
        "margin": {
         "t": 60
        },
        "scene": {
         "domain": {
          "x": [
           0,
           1
          ],
          "y": [
           0,
           1
          ]
         },
         "xaxis": {
          "title": {
           "text": "displacement"
          }
         },
         "yaxis": {
          "title": {
           "text": "horsepower"
          }
         },
         "zaxis": {
          "title": {
           "text": "weight"
          }
         }
        },
        "template": {
         "data": {
          "bar": [
           {
            "error_x": {
             "color": "#2a3f5f"
            },
            "error_y": {
             "color": "#2a3f5f"
            },
            "marker": {
             "line": {
              "color": "#E5ECF6",
              "width": 0.5
             },
             "pattern": {
              "fillmode": "overlay",
              "size": 10,
              "solidity": 0.2
             }
            },
            "type": "bar"
           }
          ],
          "barpolar": [
           {
            "marker": {
             "line": {
              "color": "#E5ECF6",
              "width": 0.5
             },
             "pattern": {
              "fillmode": "overlay",
              "size": 10,
              "solidity": 0.2
             }
            },
            "type": "barpolar"
           }
          ],
          "carpet": [
           {
            "aaxis": {
             "endlinecolor": "#2a3f5f",
             "gridcolor": "white",
             "linecolor": "white",
             "minorgridcolor": "white",
             "startlinecolor": "#2a3f5f"
            },
            "baxis": {
             "endlinecolor": "#2a3f5f",
             "gridcolor": "white",
             "linecolor": "white",
             "minorgridcolor": "white",
             "startlinecolor": "#2a3f5f"
            },
            "type": "carpet"
           }
          ],
          "choropleth": [
           {
            "colorbar": {
             "outlinewidth": 0,
             "ticks": ""
            },
            "type": "choropleth"
           }
          ],
          "contour": [
           {
            "colorbar": {
             "outlinewidth": 0,
             "ticks": ""
            },
            "colorscale": [
             [
              0,
              "#0d0887"
             ],
             [
              0.1111111111111111,
              "#46039f"
             ],
             [
              0.2222222222222222,
              "#7201a8"
             ],
             [
              0.3333333333333333,
              "#9c179e"
             ],
             [
              0.4444444444444444,
              "#bd3786"
             ],
             [
              0.5555555555555556,
              "#d8576b"
             ],
             [
              0.6666666666666666,
              "#ed7953"
             ],
             [
              0.7777777777777778,
              "#fb9f3a"
             ],
             [
              0.8888888888888888,
              "#fdca26"
             ],
             [
              1,
              "#f0f921"
             ]
            ],
            "type": "contour"
           }
          ],
          "contourcarpet": [
           {
            "colorbar": {
             "outlinewidth": 0,
             "ticks": ""
            },
            "type": "contourcarpet"
           }
          ],
          "heatmap": [
           {
            "colorbar": {
             "outlinewidth": 0,
             "ticks": ""
            },
            "colorscale": [
             [
              0,
              "#0d0887"
             ],
             [
              0.1111111111111111,
              "#46039f"
             ],
             [
              0.2222222222222222,
              "#7201a8"
             ],
             [
              0.3333333333333333,
              "#9c179e"
             ],
             [
              0.4444444444444444,
              "#bd3786"
             ],
             [
              0.5555555555555556,
              "#d8576b"
             ],
             [
              0.6666666666666666,
              "#ed7953"
             ],
             [
              0.7777777777777778,
              "#fb9f3a"
             ],
             [
              0.8888888888888888,
              "#fdca26"
             ],
             [
              1,
              "#f0f921"
             ]
            ],
            "type": "heatmap"
           }
          ],
          "heatmapgl": [
           {
            "colorbar": {
             "outlinewidth": 0,
             "ticks": ""
            },
            "colorscale": [
             [
              0,
              "#0d0887"
             ],
             [
              0.1111111111111111,
              "#46039f"
             ],
             [
              0.2222222222222222,
              "#7201a8"
             ],
             [
              0.3333333333333333,
              "#9c179e"
             ],
             [
              0.4444444444444444,
              "#bd3786"
             ],
             [
              0.5555555555555556,
              "#d8576b"
             ],
             [
              0.6666666666666666,
              "#ed7953"
             ],
             [
              0.7777777777777778,
              "#fb9f3a"
             ],
             [
              0.8888888888888888,
              "#fdca26"
             ],
             [
              1,
              "#f0f921"
             ]
            ],
            "type": "heatmapgl"
           }
          ],
          "histogram": [
           {
            "marker": {
             "pattern": {
              "fillmode": "overlay",
              "size": 10,
              "solidity": 0.2
             }
            },
            "type": "histogram"
           }
          ],
          "histogram2d": [
           {
            "colorbar": {
             "outlinewidth": 0,
             "ticks": ""
            },
            "colorscale": [
             [
              0,
              "#0d0887"
             ],
             [
              0.1111111111111111,
              "#46039f"
             ],
             [
              0.2222222222222222,
              "#7201a8"
             ],
             [
              0.3333333333333333,
              "#9c179e"
             ],
             [
              0.4444444444444444,
              "#bd3786"
             ],
             [
              0.5555555555555556,
              "#d8576b"
             ],
             [
              0.6666666666666666,
              "#ed7953"
             ],
             [
              0.7777777777777778,
              "#fb9f3a"
             ],
             [
              0.8888888888888888,
              "#fdca26"
             ],
             [
              1,
              "#f0f921"
             ]
            ],
            "type": "histogram2d"
           }
          ],
          "histogram2dcontour": [
           {
            "colorbar": {
             "outlinewidth": 0,
             "ticks": ""
            },
            "colorscale": [
             [
              0,
              "#0d0887"
             ],
             [
              0.1111111111111111,
              "#46039f"
             ],
             [
              0.2222222222222222,
              "#7201a8"
             ],
             [
              0.3333333333333333,
              "#9c179e"
             ],
             [
              0.4444444444444444,
              "#bd3786"
             ],
             [
              0.5555555555555556,
              "#d8576b"
             ],
             [
              0.6666666666666666,
              "#ed7953"
             ],
             [
              0.7777777777777778,
              "#fb9f3a"
             ],
             [
              0.8888888888888888,
              "#fdca26"
             ],
             [
              1,
              "#f0f921"
             ]
            ],
            "type": "histogram2dcontour"
           }
          ],
          "mesh3d": [
           {
            "colorbar": {
             "outlinewidth": 0,
             "ticks": ""
            },
            "type": "mesh3d"
           }
          ],
          "parcoords": [
           {
            "line": {
             "colorbar": {
              "outlinewidth": 0,
              "ticks": ""
             }
            },
            "type": "parcoords"
           }
          ],
          "pie": [
           {
            "automargin": true,
            "type": "pie"
           }
          ],
          "scatter": [
           {
            "fillpattern": {
             "fillmode": "overlay",
             "size": 10,
             "solidity": 0.2
            },
            "type": "scatter"
           }
          ],
          "scatter3d": [
           {
            "line": {
             "colorbar": {
              "outlinewidth": 0,
              "ticks": ""
             }
            },
            "marker": {
             "colorbar": {
              "outlinewidth": 0,
              "ticks": ""
             }
            },
            "type": "scatter3d"
           }
          ],
          "scattercarpet": [
           {
            "marker": {
             "colorbar": {
              "outlinewidth": 0,
              "ticks": ""
             }
            },
            "type": "scattercarpet"
           }
          ],
          "scattergeo": [
           {
            "marker": {
             "colorbar": {
              "outlinewidth": 0,
              "ticks": ""
             }
            },
            "type": "scattergeo"
           }
          ],
          "scattergl": [
           {
            "marker": {
             "colorbar": {
              "outlinewidth": 0,
              "ticks": ""
             }
            },
            "type": "scattergl"
           }
          ],
          "scattermapbox": [
           {
            "marker": {
             "colorbar": {
              "outlinewidth": 0,
              "ticks": ""
             }
            },
            "type": "scattermapbox"
           }
          ],
          "scatterpolar": [
           {
            "marker": {
             "colorbar": {
              "outlinewidth": 0,
              "ticks": ""
             }
            },
            "type": "scatterpolar"
           }
          ],
          "scatterpolargl": [
           {
            "marker": {
             "colorbar": {
              "outlinewidth": 0,
              "ticks": ""
             }
            },
            "type": "scatterpolargl"
           }
          ],
          "scatterternary": [
           {
            "marker": {
             "colorbar": {
              "outlinewidth": 0,
              "ticks": ""
             }
            },
            "type": "scatterternary"
           }
          ],
          "surface": [
           {
            "colorbar": {
             "outlinewidth": 0,
             "ticks": ""
            },
            "colorscale": [
             [
              0,
              "#0d0887"
             ],
             [
              0.1111111111111111,
              "#46039f"
             ],
             [
              0.2222222222222222,
              "#7201a8"
             ],
             [
              0.3333333333333333,
              "#9c179e"
             ],
             [
              0.4444444444444444,
              "#bd3786"
             ],
             [
              0.5555555555555556,
              "#d8576b"
             ],
             [
              0.6666666666666666,
              "#ed7953"
             ],
             [
              0.7777777777777778,
              "#fb9f3a"
             ],
             [
              0.8888888888888888,
              "#fdca26"
             ],
             [
              1,
              "#f0f921"
             ]
            ],
            "type": "surface"
           }
          ],
          "table": [
           {
            "cells": {
             "fill": {
              "color": "#EBF0F8"
             },
             "line": {
              "color": "white"
             }
            },
            "header": {
             "fill": {
              "color": "#C8D4E3"
             },
             "line": {
              "color": "white"
             }
            },
            "type": "table"
           }
          ]
         },
         "layout": {
          "annotationdefaults": {
           "arrowcolor": "#2a3f5f",
           "arrowhead": 0,
           "arrowwidth": 1
          },
          "autotypenumbers": "strict",
          "coloraxis": {
           "colorbar": {
            "outlinewidth": 0,
            "ticks": ""
           }
          },
          "colorscale": {
           "diverging": [
            [
             0,
             "#8e0152"
            ],
            [
             0.1,
             "#c51b7d"
            ],
            [
             0.2,
             "#de77ae"
            ],
            [
             0.3,
             "#f1b6da"
            ],
            [
             0.4,
             "#fde0ef"
            ],
            [
             0.5,
             "#f7f7f7"
            ],
            [
             0.6,
             "#e6f5d0"
            ],
            [
             0.7,
             "#b8e186"
            ],
            [
             0.8,
             "#7fbc41"
            ],
            [
             0.9,
             "#4d9221"
            ],
            [
             1,
             "#276419"
            ]
           ],
           "sequential": [
            [
             0,
             "#0d0887"
            ],
            [
             0.1111111111111111,
             "#46039f"
            ],
            [
             0.2222222222222222,
             "#7201a8"
            ],
            [
             0.3333333333333333,
             "#9c179e"
            ],
            [
             0.4444444444444444,
             "#bd3786"
            ],
            [
             0.5555555555555556,
             "#d8576b"
            ],
            [
             0.6666666666666666,
             "#ed7953"
            ],
            [
             0.7777777777777778,
             "#fb9f3a"
            ],
            [
             0.8888888888888888,
             "#fdca26"
            ],
            [
             1,
             "#f0f921"
            ]
           ],
           "sequentialminus": [
            [
             0,
             "#0d0887"
            ],
            [
             0.1111111111111111,
             "#46039f"
            ],
            [
             0.2222222222222222,
             "#7201a8"
            ],
            [
             0.3333333333333333,
             "#9c179e"
            ],
            [
             0.4444444444444444,
             "#bd3786"
            ],
            [
             0.5555555555555556,
             "#d8576b"
            ],
            [
             0.6666666666666666,
             "#ed7953"
            ],
            [
             0.7777777777777778,
             "#fb9f3a"
            ],
            [
             0.8888888888888888,
             "#fdca26"
            ],
            [
             1,
             "#f0f921"
            ]
           ]
          },
          "colorway": [
           "#636efa",
           "#EF553B",
           "#00cc96",
           "#ab63fa",
           "#FFA15A",
           "#19d3f3",
           "#FF6692",
           "#B6E880",
           "#FF97FF",
           "#FECB52"
          ],
          "font": {
           "color": "#2a3f5f"
          },
          "geo": {
           "bgcolor": "white",
           "lakecolor": "white",
           "landcolor": "#E5ECF6",
           "showlakes": true,
           "showland": true,
           "subunitcolor": "white"
          },
          "hoverlabel": {
           "align": "left"
          },
          "hovermode": "closest",
          "mapbox": {
           "style": "light"
          },
          "paper_bgcolor": "white",
          "plot_bgcolor": "#E5ECF6",
          "polar": {
           "angularaxis": {
            "gridcolor": "white",
            "linecolor": "white",
            "ticks": ""
           },
           "bgcolor": "#E5ECF6",
           "radialaxis": {
            "gridcolor": "white",
            "linecolor": "white",
            "ticks": ""
           }
          },
          "scene": {
           "xaxis": {
            "backgroundcolor": "#E5ECF6",
            "gridcolor": "white",
            "gridwidth": 2,
            "linecolor": "white",
            "showbackground": true,
            "ticks": "",
            "zerolinecolor": "white"
           },
           "yaxis": {
            "backgroundcolor": "#E5ECF6",
            "gridcolor": "white",
            "gridwidth": 2,
            "linecolor": "white",
            "showbackground": true,
            "ticks": "",
            "zerolinecolor": "white"
           },
           "zaxis": {
            "backgroundcolor": "#E5ECF6",
            "gridcolor": "white",
            "gridwidth": 2,
            "linecolor": "white",
            "showbackground": true,
            "ticks": "",
            "zerolinecolor": "white"
           }
          },
          "shapedefaults": {
           "line": {
            "color": "#2a3f5f"
           }
          },
          "ternary": {
           "aaxis": {
            "gridcolor": "white",
            "linecolor": "white",
            "ticks": ""
           },
           "baxis": {
            "gridcolor": "white",
            "linecolor": "white",
            "ticks": ""
           },
           "bgcolor": "#E5ECF6",
           "caxis": {
            "gridcolor": "white",
            "linecolor": "white",
            "ticks": ""
           }
          },
          "title": {
           "x": 0.05
          },
          "xaxis": {
           "automargin": true,
           "gridcolor": "white",
           "linecolor": "white",
           "ticks": "",
           "title": {
            "standoff": 15
           },
           "zerolinecolor": "white",
           "zerolinewidth": 2
          },
          "yaxis": {
           "automargin": true,
           "gridcolor": "white",
           "linecolor": "white",
           "ticks": "",
           "title": {
            "standoff": 15
           },
           "zerolinecolor": "white",
           "zerolinewidth": 2
          }
         }
        },
        "width": 800
       }
      }
     },
     "metadata": {},
     "output_type": "display_data"
    }
   ],
   "source": [
    "fig = px.scatter_3d(mpg, x=\"displacement\", y=\"horsepower\", z=\"weight\",\n",
    "                    width=800, height=800)\n",
    "fig.update_traces(marker=dict(size=3))"
   ]
  },
  {
   "cell_type": "code",
   "execution_count": 6,
   "id": "ba25ffa5",
   "metadata": {},
   "outputs": [
    {
     "data": {
      "application/vnd.plotly.v1+json": {
       "config": {
        "plotlyServerURL": "https://plot.ly"
       },
       "data": [
        {
         "hovertemplate": "displacement=%{x}<br>horsepower=%{y}<br>weight=%{z}<br>model_year=%{marker.color}<extra></extra>",
         "legendgroup": "",
         "marker": {
          "color": [
           70,
           70,
           70,
           70,
           70,
           70,
           70,
           70,
           70,
           70,
           70,
           70,
           70,
           70,
           70,
           70,
           70,
           70,
           70,
           70,
           70,
           70,
           70,
           70,
           70,
           70,
           70,
           70,
           70,
           71,
           71,
           71,
           71,
           71,
           71,
           71,
           71,
           71,
           71,
           71,
           71,
           71,
           71,
           71,
           71,
           71,
           71,
           71,
           71,
           71,
           71,
           71,
           71,
           71,
           71,
           71,
           72,
           72,
           72,
           72,
           72,
           72,
           72,
           72,
           72,
           72,
           72,
           72,
           72,
           72,
           72,
           72,
           72,
           72,
           72,
           72,
           72,
           72,
           72,
           72,
           72,
           72,
           72,
           72,
           73,
           73,
           73,
           73,
           73,
           73,
           73,
           73,
           73,
           73,
           73,
           73,
           73,
           73,
           73,
           73,
           73,
           73,
           73,
           73,
           73,
           73,
           73,
           73,
           73,
           73,
           73,
           73,
           73,
           73,
           73,
           73,
           73,
           73,
           73,
           73,
           73,
           73,
           73,
           73,
           74,
           74,
           74,
           74,
           74,
           74,
           74,
           74,
           74,
           74,
           74,
           74,
           74,
           74,
           74,
           74,
           74,
           74,
           74,
           74,
           74,
           74,
           74,
           74,
           74,
           74,
           75,
           75,
           75,
           75,
           75,
           75,
           75,
           75,
           75,
           75,
           75,
           75,
           75,
           75,
           75,
           75,
           75,
           75,
           75,
           75,
           75,
           75,
           75,
           75,
           75,
           75,
           75,
           75,
           75,
           75,
           76,
           76,
           76,
           76,
           76,
           76,
           76,
           76,
           76,
           76,
           76,
           76,
           76,
           76,
           76,
           76,
           76,
           76,
           76,
           76,
           76,
           76,
           76,
           76,
           76,
           76,
           76,
           76,
           76,
           76,
           76,
           76,
           76,
           76,
           77,
           77,
           77,
           77,
           77,
           77,
           77,
           77,
           77,
           77,
           77,
           77,
           77,
           77,
           77,
           77,
           77,
           77,
           77,
           77,
           77,
           77,
           77,
           77,
           77,
           77,
           77,
           77,
           78,
           78,
           78,
           78,
           78,
           78,
           78,
           78,
           78,
           78,
           78,
           78,
           78,
           78,
           78,
           78,
           78,
           78,
           78,
           78,
           78,
           78,
           78,
           78,
           78,
           78,
           78,
           78,
           78,
           78,
           78,
           78,
           78,
           78,
           78,
           78,
           79,
           79,
           79,
           79,
           79,
           79,
           79,
           79,
           79,
           79,
           79,
           79,
           79,
           79,
           79,
           79,
           79,
           79,
           79,
           79,
           79,
           79,
           79,
           79,
           79,
           79,
           79,
           79,
           79,
           80,
           80,
           80,
           80,
           80,
           80,
           80,
           80,
           80,
           80,
           80,
           80,
           80,
           80,
           80,
           80,
           80,
           80,
           80,
           80,
           80,
           80,
           80,
           80,
           80,
           80,
           80,
           81,
           81,
           81,
           81,
           81,
           81,
           81,
           81,
           81,
           81,
           81,
           81,
           81,
           81,
           81,
           81,
           81,
           81,
           81,
           81,
           81,
           81,
           81,
           81,
           81,
           81,
           81,
           81,
           82,
           82,
           82,
           82,
           82,
           82,
           82,
           82,
           82,
           82,
           82,
           82,
           82,
           82,
           82,
           82,
           82,
           82,
           82,
           82,
           82,
           82,
           82,
           82,
           82,
           82,
           82,
           82,
           82,
           82
          ],
          "coloraxis": "coloraxis",
          "opacity": 0.7,
          "size": 5,
          "symbol": "circle"
         },
         "mode": "markers",
         "name": "",
         "scene": "scene",
         "showlegend": false,
         "type": "scatter3d",
         "x": [
          307,
          350,
          318,
          304,
          302,
          429,
          454,
          440,
          455,
          390,
          383,
          340,
          400,
          455,
          113,
          198,
          199,
          200,
          97,
          97,
          110,
          107,
          104,
          121,
          199,
          360,
          307,
          318,
          304,
          97,
          140,
          113,
          232,
          225,
          250,
          250,
          232,
          350,
          400,
          351,
          318,
          383,
          400,
          400,
          258,
          140,
          250,
          250,
          122,
          116,
          79,
          88,
          71,
          72,
          97,
          91,
          113,
          97.5,
          97,
          140,
          122,
          350,
          400,
          318,
          351,
          304,
          429,
          350,
          350,
          400,
          70,
          304,
          307,
          302,
          318,
          121,
          121,
          120,
          96,
          122,
          97,
          120,
          98,
          97,
          350,
          304,
          350,
          302,
          318,
          429,
          400,
          351,
          318,
          440,
          455,
          360,
          225,
          250,
          232,
          250,
          198,
          97,
          400,
          400,
          360,
          350,
          232,
          97,
          140,
          108,
          70,
          122,
          155,
          98,
          350,
          400,
          68,
          116,
          114,
          121,
          318,
          121,
          156,
          350,
          198,
          232,
          250,
          79,
          122,
          71,
          140,
          250,
          258,
          225,
          302,
          350,
          318,
          302,
          304,
          98,
          79,
          97,
          76,
          83,
          90,
          90,
          116,
          120,
          108,
          79,
          225,
          250,
          250,
          250,
          400,
          350,
          318,
          351,
          231,
          250,
          258,
          225,
          231,
          262,
          302,
          97,
          140,
          232,
          140,
          134,
          90,
          119,
          171,
          90,
          232,
          115,
          120,
          121,
          121,
          91,
          107,
          116,
          140,
          98,
          101,
          305,
          318,
          304,
          351,
          225,
          250,
          200,
          232,
          85,
          98,
          90,
          91,
          225,
          250,
          250,
          258,
          97,
          85,
          97,
          140,
          130,
          318,
          120,
          156,
          168,
          350,
          350,
          302,
          318,
          98,
          111,
          79,
          122,
          85,
          305,
          260,
          318,
          302,
          250,
          231,
          225,
          250,
          400,
          350,
          400,
          351,
          97,
          151,
          97,
          140,
          98,
          98,
          97,
          97,
          146,
          121,
          80,
          90,
          98,
          78,
          85,
          91,
          260,
          318,
          302,
          231,
          200,
          200,
          140,
          225,
          232,
          231,
          200,
          225,
          258,
          305,
          231,
          302,
          318,
          98,
          134,
          119,
          105,
          134,
          156,
          151,
          119,
          131,
          163,
          121,
          163,
          89,
          98,
          231,
          200,
          140,
          232,
          225,
          305,
          302,
          351,
          318,
          350,
          351,
          267,
          360,
          89,
          86,
          98,
          121,
          183,
          350,
          141,
          260,
          105,
          105,
          85,
          91,
          151,
          173,
          173,
          151,
          98,
          89,
          98,
          86,
          151,
          140,
          151,
          225,
          97,
          134,
          120,
          119,
          108,
          86,
          156,
          85,
          90,
          90,
          121,
          146,
          91,
          97,
          89,
          168,
          70,
          122,
          107,
          135,
          151,
          156,
          173,
          135,
          79,
          86,
          81,
          97,
          85,
          89,
          91,
          105,
          98,
          98,
          105,
          107,
          108,
          119,
          120,
          141,
          145,
          168,
          146,
          231,
          350,
          200,
          225,
          112,
          112,
          112,
          112,
          135,
          151,
          140,
          105,
          91,
          91,
          105,
          98,
          120,
          107,
          108,
          91,
          91,
          91,
          181,
          262,
          156,
          232,
          144,
          135,
          151,
          140,
          97,
          135,
          120,
          119
         ],
         "y": [
          130,
          165,
          150,
          150,
          140,
          198,
          220,
          215,
          225,
          190,
          170,
          160,
          150,
          225,
          95,
          95,
          97,
          85,
          88,
          46,
          87,
          90,
          95,
          113,
          90,
          215,
          200,
          210,
          193,
          88,
          90,
          95,
          100,
          105,
          100,
          88,
          100,
          165,
          175,
          153,
          150,
          180,
          170,
          175,
          110,
          72,
          100,
          88,
          86,
          90,
          70,
          76,
          65,
          69,
          60,
          70,
          95,
          80,
          54,
          90,
          86,
          165,
          175,
          150,
          153,
          150,
          208,
          155,
          160,
          190,
          97,
          150,
          130,
          140,
          150,
          112,
          76,
          87,
          69,
          86,
          92,
          97,
          80,
          88,
          175,
          150,
          145,
          137,
          150,
          198,
          150,
          158,
          150,
          215,
          225,
          175,
          105,
          100,
          100,
          88,
          95,
          46,
          150,
          167,
          170,
          180,
          100,
          88,
          72,
          94,
          90,
          85,
          107,
          90,
          145,
          230,
          49,
          75,
          91,
          112,
          150,
          110,
          122,
          180,
          95,
          100,
          100,
          67,
          80,
          65,
          75,
          100,
          110,
          105,
          140,
          150,
          150,
          140,
          150,
          83,
          67,
          78,
          52,
          61,
          75,
          75,
          75,
          97,
          93,
          67,
          95,
          105,
          72,
          72,
          170,
          145,
          150,
          148,
          110,
          105,
          110,
          95,
          110,
          110,
          129,
          75,
          83,
          100,
          78,
          96,
          71,
          97,
          97,
          70,
          90,
          95,
          88,
          98,
          115,
          53,
          86,
          81,
          92,
          79,
          83,
          140,
          150,
          120,
          152,
          100,
          105,
          81,
          90,
          52,
          60,
          70,
          53,
          100,
          78,
          110,
          95,
          71,
          70,
          75,
          72,
          102,
          150,
          88,
          108,
          120,
          180,
          145,
          130,
          150,
          68,
          80,
          58,
          96,
          70,
          145,
          110,
          145,
          130,
          110,
          105,
          100,
          98,
          180,
          170,
          190,
          149,
          78,
          88,
          75,
          89,
          63,
          83,
          67,
          78,
          97,
          110,
          110,
          48,
          66,
          52,
          70,
          60,
          110,
          140,
          139,
          105,
          95,
          85,
          88,
          100,
          90,
          105,
          85,
          110,
          120,
          145,
          165,
          139,
          140,
          68,
          95,
          97,
          75,
          95,
          105,
          85,
          97,
          103,
          125,
          115,
          133,
          71,
          68,
          115,
          85,
          88,
          90,
          110,
          130,
          129,
          138,
          135,
          155,
          142,
          125,
          150,
          71,
          65,
          80,
          80,
          77,
          125,
          71,
          90,
          70,
          70,
          65,
          69,
          90,
          115,
          115,
          90,
          76,
          60,
          70,
          65,
          90,
          88,
          90,
          90,
          78,
          90,
          75,
          92,
          75,
          65,
          105,
          65,
          48,
          48,
          67,
          67,
          67,
          67,
          62,
          132,
          100,
          88,
          72,
          84,
          84,
          92,
          110,
          84,
          58,
          64,
          60,
          67,
          65,
          62,
          68,
          63,
          65,
          65,
          74,
          75,
          75,
          100,
          74,
          80,
          76,
          116,
          120,
          110,
          105,
          88,
          85,
          88,
          88,
          88,
          85,
          84,
          90,
          92,
          74,
          68,
          68,
          63,
          70,
          88,
          75,
          70,
          67,
          67,
          67,
          110,
          85,
          92,
          112,
          96,
          84,
          90,
          86,
          52,
          84,
          79,
          82
         ],
         "z": [
          3504,
          3693,
          3436,
          3433,
          3449,
          4341,
          4354,
          4312,
          4425,
          3850,
          3563,
          3609,
          3761,
          3086,
          2372,
          2833,
          2774,
          2587,
          2130,
          1835,
          2672,
          2430,
          2375,
          2234,
          2648,
          4615,
          4376,
          4382,
          4732,
          2130,
          2264,
          2228,
          2634,
          3439,
          3329,
          3302,
          3288,
          4209,
          4464,
          4154,
          4096,
          4955,
          4746,
          5140,
          2962,
          2408,
          3282,
          3139,
          2220,
          2123,
          2074,
          2065,
          1773,
          1613,
          1834,
          1955,
          2278,
          2126,
          2254,
          2408,
          2226,
          4274,
          4385,
          4135,
          4129,
          3672,
          4633,
          4502,
          4456,
          4422,
          2330,
          3892,
          4098,
          4294,
          4077,
          2933,
          2511,
          2979,
          2189,
          2395,
          2288,
          2506,
          2164,
          2100,
          4100,
          3672,
          3988,
          4042,
          3777,
          4952,
          4464,
          4363,
          4237,
          4735,
          4951,
          3821,
          3121,
          3278,
          2945,
          3021,
          2904,
          1950,
          4997,
          4906,
          4654,
          4499,
          2789,
          2279,
          2401,
          2379,
          2124,
          2310,
          2472,
          2265,
          4082,
          4278,
          1867,
          2158,
          2582,
          2868,
          3399,
          2660,
          2807,
          3664,
          3102,
          2901,
          3336,
          1950,
          2451,
          1836,
          2542,
          3781,
          3632,
          3613,
          4141,
          4699,
          4457,
          4638,
          4257,
          2219,
          1963,
          2300,
          1649,
          2003,
          2125,
          2108,
          2246,
          2489,
          2391,
          2000,
          3264,
          3459,
          3432,
          3158,
          4668,
          4440,
          4498,
          4657,
          3907,
          3897,
          3730,
          3785,
          3039,
          3221,
          3169,
          2171,
          2639,
          2914,
          2592,
          2702,
          2223,
          2545,
          2984,
          1937,
          3211,
          2694,
          2957,
          2945,
          2671,
          1795,
          2464,
          2220,
          2572,
          2255,
          2202,
          4215,
          4190,
          3962,
          4215,
          3233,
          3353,
          3012,
          3085,
          2035,
          2164,
          1937,
          1795,
          3651,
          3574,
          3645,
          3193,
          1825,
          1990,
          2155,
          2565,
          3150,
          3940,
          3270,
          2930,
          3820,
          4380,
          4055,
          3870,
          3755,
          2045,
          2155,
          1825,
          2300,
          1945,
          3880,
          4060,
          4140,
          4295,
          3520,
          3425,
          3630,
          3525,
          4220,
          4165,
          4325,
          4335,
          1940,
          2740,
          2265,
          2755,
          2051,
          2075,
          1985,
          2190,
          2815,
          2600,
          2720,
          1985,
          1800,
          1985,
          2070,
          1800,
          3365,
          3735,
          3570,
          3535,
          3155,
          2965,
          2720,
          3430,
          3210,
          3380,
          3070,
          3620,
          3410,
          3425,
          3445,
          3205,
          4080,
          2155,
          2560,
          2300,
          2230,
          2515,
          2745,
          2855,
          2405,
          2830,
          3140,
          2795,
          3410,
          1990,
          2135,
          3245,
          2990,
          2890,
          3265,
          3360,
          3840,
          3725,
          3955,
          3830,
          4360,
          4054,
          3605,
          3940,
          1925,
          1975,
          1915,
          2670,
          3530,
          3900,
          3190,
          3420,
          2200,
          2150,
          2020,
          2130,
          2670,
          2595,
          2700,
          2556,
          2144,
          1968,
          2120,
          2019,
          2678,
          2870,
          3003,
          3381,
          2188,
          2711,
          2542,
          2434,
          2265,
          2110,
          2800,
          2110,
          2085,
          2335,
          2950,
          3250,
          1850,
          2145,
          1845,
          2910,
          2420,
          2500,
          2290,
          2490,
          2635,
          2620,
          2725,
          2385,
          1755,
          1875,
          1760,
          2065,
          1975,
          2050,
          1985,
          2215,
          2045,
          2380,
          2190,
          2210,
          2350,
          2615,
          2635,
          3230,
          3160,
          2900,
          2930,
          3415,
          3725,
          3060,
          3465,
          2605,
          2640,
          2395,
          2575,
          2525,
          2735,
          2865,
          1980,
          2025,
          1970,
          2125,
          2125,
          2160,
          2205,
          2245,
          1965,
          1965,
          1995,
          2945,
          3015,
          2585,
          2835,
          2665,
          2370,
          2950,
          2790,
          2130,
          2295,
          2625,
          2720
         ]
        }
       ],
       "layout": {
        "coloraxis": {
         "colorbar": {
          "title": {
           "text": "model_year"
          }
         },
         "colorscale": [
          [
           0,
           "#0d0887"
          ],
          [
           0.1111111111111111,
           "#46039f"
          ],
          [
           0.2222222222222222,
           "#7201a8"
          ],
          [
           0.3333333333333333,
           "#9c179e"
          ],
          [
           0.4444444444444444,
           "#bd3786"
          ],
          [
           0.5555555555555556,
           "#d8576b"
          ],
          [
           0.6666666666666666,
           "#ed7953"
          ],
          [
           0.7777777777777778,
           "#fb9f3a"
          ],
          [
           0.8888888888888888,
           "#fdca26"
          ],
          [
           1,
           "#f0f921"
          ]
         ]
        },
        "height": 800,
        "legend": {
         "tracegroupgap": 0
        },
        "margin": {
         "t": 60
        },
        "scene": {
         "domain": {
          "x": [
           0,
           1
          ],
          "y": [
           0,
           1
          ]
         },
         "xaxis": {
          "title": {
           "text": "displacement"
          }
         },
         "yaxis": {
          "title": {
           "text": "horsepower"
          }
         },
         "zaxis": {
          "title": {
           "text": "weight"
          }
         }
        },
        "template": {
         "data": {
          "bar": [
           {
            "error_x": {
             "color": "#2a3f5f"
            },
            "error_y": {
             "color": "#2a3f5f"
            },
            "marker": {
             "line": {
              "color": "#E5ECF6",
              "width": 0.5
             },
             "pattern": {
              "fillmode": "overlay",
              "size": 10,
              "solidity": 0.2
             }
            },
            "type": "bar"
           }
          ],
          "barpolar": [
           {
            "marker": {
             "line": {
              "color": "#E5ECF6",
              "width": 0.5
             },
             "pattern": {
              "fillmode": "overlay",
              "size": 10,
              "solidity": 0.2
             }
            },
            "type": "barpolar"
           }
          ],
          "carpet": [
           {
            "aaxis": {
             "endlinecolor": "#2a3f5f",
             "gridcolor": "white",
             "linecolor": "white",
             "minorgridcolor": "white",
             "startlinecolor": "#2a3f5f"
            },
            "baxis": {
             "endlinecolor": "#2a3f5f",
             "gridcolor": "white",
             "linecolor": "white",
             "minorgridcolor": "white",
             "startlinecolor": "#2a3f5f"
            },
            "type": "carpet"
           }
          ],
          "choropleth": [
           {
            "colorbar": {
             "outlinewidth": 0,
             "ticks": ""
            },
            "type": "choropleth"
           }
          ],
          "contour": [
           {
            "colorbar": {
             "outlinewidth": 0,
             "ticks": ""
            },
            "colorscale": [
             [
              0,
              "#0d0887"
             ],
             [
              0.1111111111111111,
              "#46039f"
             ],
             [
              0.2222222222222222,
              "#7201a8"
             ],
             [
              0.3333333333333333,
              "#9c179e"
             ],
             [
              0.4444444444444444,
              "#bd3786"
             ],
             [
              0.5555555555555556,
              "#d8576b"
             ],
             [
              0.6666666666666666,
              "#ed7953"
             ],
             [
              0.7777777777777778,
              "#fb9f3a"
             ],
             [
              0.8888888888888888,
              "#fdca26"
             ],
             [
              1,
              "#f0f921"
             ]
            ],
            "type": "contour"
           }
          ],
          "contourcarpet": [
           {
            "colorbar": {
             "outlinewidth": 0,
             "ticks": ""
            },
            "type": "contourcarpet"
           }
          ],
          "heatmap": [
           {
            "colorbar": {
             "outlinewidth": 0,
             "ticks": ""
            },
            "colorscale": [
             [
              0,
              "#0d0887"
             ],
             [
              0.1111111111111111,
              "#46039f"
             ],
             [
              0.2222222222222222,
              "#7201a8"
             ],
             [
              0.3333333333333333,
              "#9c179e"
             ],
             [
              0.4444444444444444,
              "#bd3786"
             ],
             [
              0.5555555555555556,
              "#d8576b"
             ],
             [
              0.6666666666666666,
              "#ed7953"
             ],
             [
              0.7777777777777778,
              "#fb9f3a"
             ],
             [
              0.8888888888888888,
              "#fdca26"
             ],
             [
              1,
              "#f0f921"
             ]
            ],
            "type": "heatmap"
           }
          ],
          "heatmapgl": [
           {
            "colorbar": {
             "outlinewidth": 0,
             "ticks": ""
            },
            "colorscale": [
             [
              0,
              "#0d0887"
             ],
             [
              0.1111111111111111,
              "#46039f"
             ],
             [
              0.2222222222222222,
              "#7201a8"
             ],
             [
              0.3333333333333333,
              "#9c179e"
             ],
             [
              0.4444444444444444,
              "#bd3786"
             ],
             [
              0.5555555555555556,
              "#d8576b"
             ],
             [
              0.6666666666666666,
              "#ed7953"
             ],
             [
              0.7777777777777778,
              "#fb9f3a"
             ],
             [
              0.8888888888888888,
              "#fdca26"
             ],
             [
              1,
              "#f0f921"
             ]
            ],
            "type": "heatmapgl"
           }
          ],
          "histogram": [
           {
            "marker": {
             "pattern": {
              "fillmode": "overlay",
              "size": 10,
              "solidity": 0.2
             }
            },
            "type": "histogram"
           }
          ],
          "histogram2d": [
           {
            "colorbar": {
             "outlinewidth": 0,
             "ticks": ""
            },
            "colorscale": [
             [
              0,
              "#0d0887"
             ],
             [
              0.1111111111111111,
              "#46039f"
             ],
             [
              0.2222222222222222,
              "#7201a8"
             ],
             [
              0.3333333333333333,
              "#9c179e"
             ],
             [
              0.4444444444444444,
              "#bd3786"
             ],
             [
              0.5555555555555556,
              "#d8576b"
             ],
             [
              0.6666666666666666,
              "#ed7953"
             ],
             [
              0.7777777777777778,
              "#fb9f3a"
             ],
             [
              0.8888888888888888,
              "#fdca26"
             ],
             [
              1,
              "#f0f921"
             ]
            ],
            "type": "histogram2d"
           }
          ],
          "histogram2dcontour": [
           {
            "colorbar": {
             "outlinewidth": 0,
             "ticks": ""
            },
            "colorscale": [
             [
              0,
              "#0d0887"
             ],
             [
              0.1111111111111111,
              "#46039f"
             ],
             [
              0.2222222222222222,
              "#7201a8"
             ],
             [
              0.3333333333333333,
              "#9c179e"
             ],
             [
              0.4444444444444444,
              "#bd3786"
             ],
             [
              0.5555555555555556,
              "#d8576b"
             ],
             [
              0.6666666666666666,
              "#ed7953"
             ],
             [
              0.7777777777777778,
              "#fb9f3a"
             ],
             [
              0.8888888888888888,
              "#fdca26"
             ],
             [
              1,
              "#f0f921"
             ]
            ],
            "type": "histogram2dcontour"
           }
          ],
          "mesh3d": [
           {
            "colorbar": {
             "outlinewidth": 0,
             "ticks": ""
            },
            "type": "mesh3d"
           }
          ],
          "parcoords": [
           {
            "line": {
             "colorbar": {
              "outlinewidth": 0,
              "ticks": ""
             }
            },
            "type": "parcoords"
           }
          ],
          "pie": [
           {
            "automargin": true,
            "type": "pie"
           }
          ],
          "scatter": [
           {
            "fillpattern": {
             "fillmode": "overlay",
             "size": 10,
             "solidity": 0.2
            },
            "type": "scatter"
           }
          ],
          "scatter3d": [
           {
            "line": {
             "colorbar": {
              "outlinewidth": 0,
              "ticks": ""
             }
            },
            "marker": {
             "colorbar": {
              "outlinewidth": 0,
              "ticks": ""
             }
            },
            "type": "scatter3d"
           }
          ],
          "scattercarpet": [
           {
            "marker": {
             "colorbar": {
              "outlinewidth": 0,
              "ticks": ""
             }
            },
            "type": "scattercarpet"
           }
          ],
          "scattergeo": [
           {
            "marker": {
             "colorbar": {
              "outlinewidth": 0,
              "ticks": ""
             }
            },
            "type": "scattergeo"
           }
          ],
          "scattergl": [
           {
            "marker": {
             "colorbar": {
              "outlinewidth": 0,
              "ticks": ""
             }
            },
            "type": "scattergl"
           }
          ],
          "scattermapbox": [
           {
            "marker": {
             "colorbar": {
              "outlinewidth": 0,
              "ticks": ""
             }
            },
            "type": "scattermapbox"
           }
          ],
          "scatterpolar": [
           {
            "marker": {
             "colorbar": {
              "outlinewidth": 0,
              "ticks": ""
             }
            },
            "type": "scatterpolar"
           }
          ],
          "scatterpolargl": [
           {
            "marker": {
             "colorbar": {
              "outlinewidth": 0,
              "ticks": ""
             }
            },
            "type": "scatterpolargl"
           }
          ],
          "scatterternary": [
           {
            "marker": {
             "colorbar": {
              "outlinewidth": 0,
              "ticks": ""
             }
            },
            "type": "scatterternary"
           }
          ],
          "surface": [
           {
            "colorbar": {
             "outlinewidth": 0,
             "ticks": ""
            },
            "colorscale": [
             [
              0,
              "#0d0887"
             ],
             [
              0.1111111111111111,
              "#46039f"
             ],
             [
              0.2222222222222222,
              "#7201a8"
             ],
             [
              0.3333333333333333,
              "#9c179e"
             ],
             [
              0.4444444444444444,
              "#bd3786"
             ],
             [
              0.5555555555555556,
              "#d8576b"
             ],
             [
              0.6666666666666666,
              "#ed7953"
             ],
             [
              0.7777777777777778,
              "#fb9f3a"
             ],
             [
              0.8888888888888888,
              "#fdca26"
             ],
             [
              1,
              "#f0f921"
             ]
            ],
            "type": "surface"
           }
          ],
          "table": [
           {
            "cells": {
             "fill": {
              "color": "#EBF0F8"
             },
             "line": {
              "color": "white"
             }
            },
            "header": {
             "fill": {
              "color": "#C8D4E3"
             },
             "line": {
              "color": "white"
             }
            },
            "type": "table"
           }
          ]
         },
         "layout": {
          "annotationdefaults": {
           "arrowcolor": "#2a3f5f",
           "arrowhead": 0,
           "arrowwidth": 1
          },
          "autotypenumbers": "strict",
          "coloraxis": {
           "colorbar": {
            "outlinewidth": 0,
            "ticks": ""
           }
          },
          "colorscale": {
           "diverging": [
            [
             0,
             "#8e0152"
            ],
            [
             0.1,
             "#c51b7d"
            ],
            [
             0.2,
             "#de77ae"
            ],
            [
             0.3,
             "#f1b6da"
            ],
            [
             0.4,
             "#fde0ef"
            ],
            [
             0.5,
             "#f7f7f7"
            ],
            [
             0.6,
             "#e6f5d0"
            ],
            [
             0.7,
             "#b8e186"
            ],
            [
             0.8,
             "#7fbc41"
            ],
            [
             0.9,
             "#4d9221"
            ],
            [
             1,
             "#276419"
            ]
           ],
           "sequential": [
            [
             0,
             "#0d0887"
            ],
            [
             0.1111111111111111,
             "#46039f"
            ],
            [
             0.2222222222222222,
             "#7201a8"
            ],
            [
             0.3333333333333333,
             "#9c179e"
            ],
            [
             0.4444444444444444,
             "#bd3786"
            ],
            [
             0.5555555555555556,
             "#d8576b"
            ],
            [
             0.6666666666666666,
             "#ed7953"
            ],
            [
             0.7777777777777778,
             "#fb9f3a"
            ],
            [
             0.8888888888888888,
             "#fdca26"
            ],
            [
             1,
             "#f0f921"
            ]
           ],
           "sequentialminus": [
            [
             0,
             "#0d0887"
            ],
            [
             0.1111111111111111,
             "#46039f"
            ],
            [
             0.2222222222222222,
             "#7201a8"
            ],
            [
             0.3333333333333333,
             "#9c179e"
            ],
            [
             0.4444444444444444,
             "#bd3786"
            ],
            [
             0.5555555555555556,
             "#d8576b"
            ],
            [
             0.6666666666666666,
             "#ed7953"
            ],
            [
             0.7777777777777778,
             "#fb9f3a"
            ],
            [
             0.8888888888888888,
             "#fdca26"
            ],
            [
             1,
             "#f0f921"
            ]
           ]
          },
          "colorway": [
           "#636efa",
           "#EF553B",
           "#00cc96",
           "#ab63fa",
           "#FFA15A",
           "#19d3f3",
           "#FF6692",
           "#B6E880",
           "#FF97FF",
           "#FECB52"
          ],
          "font": {
           "color": "#2a3f5f"
          },
          "geo": {
           "bgcolor": "white",
           "lakecolor": "white",
           "landcolor": "#E5ECF6",
           "showlakes": true,
           "showland": true,
           "subunitcolor": "white"
          },
          "hoverlabel": {
           "align": "left"
          },
          "hovermode": "closest",
          "mapbox": {
           "style": "light"
          },
          "paper_bgcolor": "white",
          "plot_bgcolor": "#E5ECF6",
          "polar": {
           "angularaxis": {
            "gridcolor": "white",
            "linecolor": "white",
            "ticks": ""
           },
           "bgcolor": "#E5ECF6",
           "radialaxis": {
            "gridcolor": "white",
            "linecolor": "white",
            "ticks": ""
           }
          },
          "scene": {
           "xaxis": {
            "backgroundcolor": "#E5ECF6",
            "gridcolor": "white",
            "gridwidth": 2,
            "linecolor": "white",
            "showbackground": true,
            "ticks": "",
            "zerolinecolor": "white"
           },
           "yaxis": {
            "backgroundcolor": "#E5ECF6",
            "gridcolor": "white",
            "gridwidth": 2,
            "linecolor": "white",
            "showbackground": true,
            "ticks": "",
            "zerolinecolor": "white"
           },
           "zaxis": {
            "backgroundcolor": "#E5ECF6",
            "gridcolor": "white",
            "gridwidth": 2,
            "linecolor": "white",
            "showbackground": true,
            "ticks": "",
            "zerolinecolor": "white"
           }
          },
          "shapedefaults": {
           "line": {
            "color": "#2a3f5f"
           }
          },
          "ternary": {
           "aaxis": {
            "gridcolor": "white",
            "linecolor": "white",
            "ticks": ""
           },
           "baxis": {
            "gridcolor": "white",
            "linecolor": "white",
            "ticks": ""
           },
           "bgcolor": "#E5ECF6",
           "caxis": {
            "gridcolor": "white",
            "linecolor": "white",
            "ticks": ""
           }
          },
          "title": {
           "x": 0.05
          },
          "xaxis": {
           "automargin": true,
           "gridcolor": "white",
           "linecolor": "white",
           "ticks": "",
           "title": {
            "standoff": 15
           },
           "zerolinecolor": "white",
           "zerolinewidth": 2
          },
          "yaxis": {
           "automargin": true,
           "gridcolor": "white",
           "linecolor": "white",
           "ticks": "",
           "title": {
            "standoff": 15
           },
           "zerolinecolor": "white",
           "zerolinewidth": 2
          }
         }
        },
        "width": 800
       }
      }
     },
     "metadata": {},
     "output_type": "display_data"
    }
   ],
   "source": [
    "fig = px.scatter_3d(mpg, x=\"displacement\", \n",
    "                    y=\"horsepower\", \n",
    "                    z=\"weight\", \n",
    "                    color=\"model_year\",\n",
    "                    width=800, height=800, \n",
    "                    opacity=.7)\n",
    "fig.update_traces(marker=dict(size=5))"
   ]
  },
  {
   "cell_type": "code",
   "execution_count": 9,
   "id": "030ca9c9",
   "metadata": {},
   "outputs": [
    {
     "data": {
      "application/vnd.plotly.v1+json": {
       "config": {
        "plotlyServerURL": "https://plot.ly"
       },
       "data": [
        {
         "hovertemplate": "origin=usa<br>displacement=%{x}<br>horsepower=%{y}<br>weight=%{z}<br>mpg=%{marker.size}<br>model_year=%{marker.color}<extra></extra>",
         "legendgroup": "usa",
         "marker": {
          "color": [
           70,
           70,
           70,
           70,
           70,
           70,
           70,
           70,
           70,
           70,
           70,
           70,
           70,
           70,
           70,
           70,
           70,
           70,
           70,
           70,
           70,
           70,
           71,
           71,
           71,
           71,
           71,
           71,
           71,
           71,
           71,
           71,
           71,
           71,
           71,
           71,
           71,
           71,
           71,
           71,
           71,
           72,
           72,
           72,
           72,
           72,
           72,
           72,
           72,
           72,
           72,
           72,
           72,
           72,
           72,
           72,
           72,
           72,
           72,
           73,
           73,
           73,
           73,
           73,
           73,
           73,
           73,
           73,
           73,
           73,
           73,
           73,
           73,
           73,
           73,
           73,
           73,
           73,
           73,
           73,
           73,
           73,
           73,
           73,
           73,
           73,
           73,
           73,
           74,
           74,
           74,
           74,
           74,
           74,
           74,
           74,
           74,
           74,
           74,
           74,
           74,
           74,
           75,
           75,
           75,
           75,
           75,
           75,
           75,
           75,
           75,
           75,
           75,
           75,
           75,
           75,
           75,
           75,
           75,
           75,
           75,
           75,
           76,
           76,
           76,
           76,
           76,
           76,
           76,
           76,
           76,
           76,
           76,
           76,
           76,
           76,
           76,
           76,
           76,
           76,
           76,
           76,
           76,
           76,
           77,
           77,
           77,
           77,
           77,
           77,
           77,
           77,
           77,
           77,
           77,
           77,
           77,
           77,
           77,
           77,
           77,
           77,
           78,
           78,
           78,
           78,
           78,
           78,
           78,
           78,
           78,
           78,
           78,
           78,
           78,
           78,
           78,
           78,
           78,
           78,
           78,
           78,
           78,
           78,
           79,
           79,
           79,
           79,
           79,
           79,
           79,
           79,
           79,
           79,
           79,
           79,
           79,
           79,
           79,
           79,
           79,
           79,
           79,
           79,
           79,
           79,
           79,
           80,
           80,
           80,
           80,
           80,
           80,
           81,
           81,
           81,
           81,
           81,
           81,
           81,
           81,
           81,
           81,
           81,
           81,
           81,
           82,
           82,
           82,
           82,
           82,
           82,
           82,
           82,
           82,
           82,
           82,
           82,
           82,
           82,
           82,
           82,
           82,
           82,
           82
          ],
          "coloraxis": "coloraxis",
          "opacity": 0.7,
          "size": [
           18,
           15,
           18,
           16,
           17,
           15,
           14,
           14,
           14,
           15,
           15,
           14,
           15,
           14,
           22,
           18,
           21,
           21,
           10,
           10,
           11,
           9,
           28,
           19,
           16,
           17,
           19,
           18,
           14,
           14,
           14,
           14,
           12,
           13,
           13,
           18,
           22,
           19,
           18,
           23,
           26,
           25,
           20,
           21,
           13,
           14,
           15,
           14,
           17,
           11,
           13,
           12,
           13,
           15,
           13,
           13,
           14,
           22,
           28,
           13,
           14,
           13,
           14,
           15,
           12,
           13,
           13,
           14,
           13,
           12,
           13,
           18,
           16,
           18,
           18,
           23,
           11,
           12,
           13,
           12,
           18,
           21,
           19,
           21,
           15,
           16,
           15,
           11,
           20,
           19,
           15,
           26,
           25,
           16,
           16,
           18,
           16,
           13,
           14,
           14,
           14,
           28,
           19,
           18,
           15,
           15,
           16,
           15,
           16,
           14,
           17,
           16,
           15,
           18,
           21,
           20,
           13,
           23,
           20,
           23,
           18,
           19,
           25,
           26,
           17.5,
           16,
           15.5,
           14.5,
           22,
           22,
           24,
           22.5,
           29,
           24.5,
           20,
           18,
           18.5,
           17.5,
           26.5,
           13,
           16.5,
           13,
           13,
           13,
           30,
           25.5,
           17.5,
           17,
           15.5,
           15,
           17.5,
           20.5,
           19,
           18.5,
           16,
           15.5,
           15.5,
           16,
           24.5,
           25.5,
           30.5,
           33.5,
           36.1,
           19.9,
           19.4,
           20.2,
           19.2,
           20.5,
           20.2,
           25.1,
           20.5,
           19.4,
           20.6,
           20.8,
           18.6,
           18.1,
           19.2,
           17.7,
           18.1,
           17.5,
           30,
           30.9,
           23.2,
           23.8,
           21.5,
           19.8,
           22.3,
           20.2,
           20.6,
           17,
           17.6,
           16.5,
           18.2,
           16.9,
           15.5,
           19.2,
           18.5,
           35.7,
           27.4,
           23,
           23.9,
           34.2,
           34.5,
           28.4,
           28.8,
           26.8,
           33.5,
           32.1,
           28,
           26.4,
           24.3,
           19.1,
           27.9,
           27.2,
           26.6,
           25.8,
           23.5,
           30,
           39,
           34.7,
           34.4,
           29.9,
           22.4,
           26.6,
           20.2,
           17.6,
           28,
           27,
           34,
           31,
           29,
           27,
           24,
           38,
           36,
           25,
           38,
           26,
           22,
           36,
           27,
           27,
           32,
           28,
           31
          ],
          "sizemode": "area",
          "sizeref": 0.1165,
          "symbol": "circle"
         },
         "mode": "markers",
         "name": "usa",
         "scene": "scene",
         "showlegend": true,
         "type": "scatter3d",
         "x": [
          307,
          350,
          318,
          304,
          302,
          429,
          454,
          440,
          455,
          390,
          383,
          340,
          400,
          455,
          198,
          199,
          200,
          199,
          360,
          307,
          318,
          304,
          140,
          232,
          225,
          250,
          250,
          232,
          350,
          400,
          351,
          318,
          383,
          400,
          400,
          258,
          140,
          250,
          250,
          122,
          91,
          97.5,
          140,
          122,
          350,
          400,
          318,
          351,
          304,
          429,
          350,
          350,
          400,
          304,
          307,
          302,
          318,
          122,
          98,
          350,
          304,
          350,
          302,
          318,
          429,
          400,
          351,
          318,
          440,
          455,
          360,
          225,
          250,
          232,
          250,
          198,
          400,
          400,
          360,
          350,
          232,
          140,
          122,
          155,
          350,
          400,
          318,
          350,
          198,
          232,
          250,
          122,
          140,
          250,
          258,
          225,
          302,
          350,
          318,
          302,
          304,
          90,
          225,
          250,
          250,
          250,
          400,
          350,
          318,
          351,
          231,
          250,
          258,
          225,
          231,
          262,
          302,
          140,
          232,
          140,
          171,
          232,
          140,
          98,
          305,
          318,
          304,
          351,
          225,
          250,
          200,
          232,
          85,
          98,
          225,
          250,
          250,
          258,
          140,
          318,
          350,
          350,
          302,
          318,
          111,
          122,
          305,
          260,
          318,
          302,
          250,
          231,
          225,
          250,
          400,
          350,
          400,
          351,
          151,
          140,
          98,
          98,
          98,
          260,
          318,
          302,
          231,
          200,
          200,
          140,
          225,
          232,
          231,
          200,
          225,
          258,
          305,
          231,
          302,
          318,
          98,
          105,
          156,
          151,
          231,
          200,
          140,
          232,
          225,
          305,
          302,
          351,
          318,
          350,
          351,
          267,
          360,
          98,
          121,
          350,
          260,
          105,
          105,
          151,
          173,
          173,
          151,
          98,
          151,
          140,
          151,
          225,
          156,
          135,
          151,
          156,
          173,
          135,
          86,
          105,
          98,
          98,
          231,
          350,
          200,
          225,
          112,
          112,
          112,
          112,
          135,
          151,
          140,
          105,
          98,
          181,
          262,
          156,
          232,
          135,
          151,
          140,
          135,
          120,
          119
         ],
         "y": [
          130,
          165,
          150,
          150,
          140,
          198,
          220,
          215,
          225,
          190,
          170,
          160,
          150,
          225,
          95,
          97,
          85,
          90,
          215,
          200,
          210,
          193,
          90,
          100,
          105,
          100,
          88,
          100,
          165,
          175,
          153,
          150,
          180,
          170,
          175,
          110,
          72,
          100,
          88,
          86,
          70,
          80,
          90,
          86,
          165,
          175,
          150,
          153,
          150,
          208,
          155,
          160,
          190,
          150,
          130,
          140,
          150,
          86,
          80,
          175,
          150,
          145,
          137,
          150,
          198,
          150,
          158,
          150,
          215,
          225,
          175,
          105,
          100,
          100,
          88,
          95,
          150,
          167,
          170,
          180,
          100,
          72,
          85,
          107,
          145,
          230,
          150,
          180,
          95,
          100,
          100,
          80,
          75,
          100,
          110,
          105,
          140,
          150,
          150,
          140,
          150,
          75,
          95,
          105,
          72,
          72,
          170,
          145,
          150,
          148,
          110,
          105,
          110,
          95,
          110,
          110,
          129,
          83,
          100,
          78,
          97,
          90,
          92,
          79,
          140,
          150,
          120,
          152,
          100,
          105,
          81,
          90,
          52,
          60,
          100,
          78,
          110,
          95,
          72,
          150,
          180,
          145,
          130,
          150,
          80,
          96,
          145,
          110,
          145,
          130,
          110,
          105,
          100,
          98,
          180,
          170,
          190,
          149,
          88,
          89,
          63,
          83,
          66,
          110,
          140,
          139,
          105,
          95,
          85,
          88,
          100,
          90,
          105,
          85,
          110,
          120,
          145,
          165,
          139,
          140,
          68,
          75,
          105,
          85,
          115,
          85,
          88,
          90,
          110,
          130,
          129,
          138,
          135,
          155,
          142,
          125,
          150,
          80,
          80,
          125,
          90,
          70,
          70,
          90,
          115,
          115,
          90,
          70,
          90,
          88,
          90,
          90,
          105,
          84,
          84,
          92,
          110,
          84,
          64,
          63,
          65,
          65,
          110,
          105,
          88,
          85,
          88,
          88,
          88,
          85,
          84,
          90,
          92,
          63,
          70,
          110,
          85,
          92,
          112,
          84,
          90,
          86,
          84,
          79,
          82
         ],
         "z": [
          3504,
          3693,
          3436,
          3433,
          3449,
          4341,
          4354,
          4312,
          4425,
          3850,
          3563,
          3609,
          3761,
          3086,
          2833,
          2774,
          2587,
          2648,
          4615,
          4376,
          4382,
          4732,
          2264,
          2634,
          3439,
          3329,
          3302,
          3288,
          4209,
          4464,
          4154,
          4096,
          4955,
          4746,
          5140,
          2962,
          2408,
          3282,
          3139,
          2220,
          1955,
          2126,
          2408,
          2226,
          4274,
          4385,
          4135,
          4129,
          3672,
          4633,
          4502,
          4456,
          4422,
          3892,
          4098,
          4294,
          4077,
          2395,
          2164,
          4100,
          3672,
          3988,
          4042,
          3777,
          4952,
          4464,
          4363,
          4237,
          4735,
          4951,
          3821,
          3121,
          3278,
          2945,
          3021,
          2904,
          4997,
          4906,
          4654,
          4499,
          2789,
          2401,
          2310,
          2472,
          4082,
          4278,
          3399,
          3664,
          3102,
          2901,
          3336,
          2451,
          2542,
          3781,
          3632,
          3613,
          4141,
          4699,
          4457,
          4638,
          4257,
          2125,
          3264,
          3459,
          3432,
          3158,
          4668,
          4440,
          4498,
          4657,
          3907,
          3897,
          3730,
          3785,
          3039,
          3221,
          3169,
          2639,
          2914,
          2592,
          2984,
          3211,
          2572,
          2255,
          4215,
          4190,
          3962,
          4215,
          3233,
          3353,
          3012,
          3085,
          2035,
          2164,
          3651,
          3574,
          3645,
          3193,
          2565,
          3940,
          4380,
          4055,
          3870,
          3755,
          2155,
          2300,
          3880,
          4060,
          4140,
          4295,
          3520,
          3425,
          3630,
          3525,
          4220,
          4165,
          4325,
          4335,
          2740,
          2755,
          2051,
          2075,
          1800,
          3365,
          3735,
          3570,
          3535,
          3155,
          2965,
          2720,
          3430,
          3210,
          3380,
          3070,
          3620,
          3410,
          3425,
          3445,
          3205,
          4080,
          2155,
          2230,
          2745,
          2855,
          3245,
          2990,
          2890,
          3265,
          3360,
          3840,
          3725,
          3955,
          3830,
          4360,
          4054,
          3605,
          3940,
          1915,
          2670,
          3900,
          3420,
          2200,
          2150,
          2670,
          2595,
          2700,
          2556,
          2120,
          2678,
          2870,
          3003,
          3381,
          2800,
          2490,
          2635,
          2620,
          2725,
          2385,
          1875,
          2215,
          2045,
          2380,
          3415,
          3725,
          3060,
          3465,
          2605,
          2640,
          2395,
          2575,
          2525,
          2735,
          2865,
          2125,
          2125,
          2945,
          3015,
          2585,
          2835,
          2370,
          2950,
          2790,
          2295,
          2625,
          2720
         ]
        },
        {
         "hovertemplate": "origin=japan<br>displacement=%{x}<br>horsepower=%{y}<br>weight=%{z}<br>mpg=%{marker.size}<br>model_year=%{marker.color}<extra></extra>",
         "legendgroup": "japan",
         "marker": {
          "color": [
           70,
           70,
           71,
           71,
           71,
           71,
           72,
           72,
           72,
           72,
           72,
           73,
           73,
           73,
           73,
           74,
           74,
           74,
           74,
           74,
           74,
           75,
           75,
           75,
           75,
           76,
           76,
           76,
           76,
           77,
           77,
           77,
           77,
           77,
           77,
           78,
           78,
           78,
           78,
           78,
           78,
           78,
           78,
           79,
           79,
           80,
           80,
           80,
           80,
           80,
           80,
           80,
           80,
           80,
           80,
           80,
           80,
           80,
           81,
           81,
           81,
           81,
           81,
           81,
           81,
           81,
           81,
           81,
           81,
           81,
           82,
           82,
           82,
           82,
           82,
           82,
           82,
           82,
           82
          ],
          "coloraxis": "coloraxis",
          "opacity": 0.7,
          "size": [
           24,
           27,
           27,
           25,
           31,
           35,
           24,
           19,
           28,
           23,
           27,
           20,
           22,
           18,
           20,
           31,
           32,
           31,
           32,
           24,
           26,
           29,
           24,
           24,
           33,
           33,
           32,
           28,
           19,
           31.5,
           33.5,
           26,
           30,
           22,
           21.5,
           32.8,
           39.4,
           36.1,
           27.5,
           27.2,
           21.1,
           23.9,
           29.5,
           34.1,
           31.8,
           38.1,
           37.2,
           29.8,
           31.3,
           37,
           32.2,
           46.6,
           40.8,
           44.6,
           33.8,
           32.7,
           23.7,
           32.4,
           39.1,
           35.1,
           32.3,
           37,
           37.7,
           34.1,
           33.7,
           32.4,
           32.9,
           31.6,
           25.4,
           24.2,
           37,
           31,
           36,
           36,
           34,
           38,
           32,
           38,
           32
          ],
          "sizemode": "area",
          "sizeref": 0.1165,
          "symbol": "diamond"
         },
         "mode": "markers",
         "name": "japan",
         "scene": "scene",
         "showlegend": true,
         "type": "scatter3d",
         "x": [
          113,
          97,
          97,
          113,
          71,
          72,
          113,
          70,
          97,
          120,
          97,
          97,
          108,
          70,
          156,
          79,
          71,
          76,
          83,
          120,
          108,
          97,
          134,
          119,
          91,
          91,
          85,
          97,
          156,
          98,
          85,
          97,
          97,
          146,
          80,
          78,
          85,
          91,
          134,
          119,
          134,
          119,
          98,
          86,
          85,
          89,
          86,
          134,
          120,
          119,
          108,
          86,
          85,
          91,
          97,
          168,
          70,
          107,
          79,
          81,
          97,
          85,
          89,
          91,
          107,
          108,
          119,
          120,
          168,
          146,
          91,
          91,
          120,
          107,
          108,
          91,
          91,
          91,
          144
         ],
         "y": [
          95,
          88,
          88,
          95,
          65,
          69,
          95,
          97,
          92,
          97,
          88,
          88,
          94,
          90,
          122,
          67,
          65,
          52,
          61,
          97,
          93,
          75,
          96,
          97,
          53,
          53,
          70,
          75,
          108,
          68,
          70,
          75,
          67,
          97,
          110,
          52,
          70,
          60,
          95,
          97,
          95,
          97,
          68,
          65,
          65,
          60,
          65,
          90,
          75,
          92,
          75,
          65,
          65,
          67,
          67,
          132,
          100,
          72,
          58,
          60,
          67,
          65,
          62,
          68,
          75,
          75,
          100,
          74,
          116,
          120,
          68,
          68,
          88,
          75,
          70,
          67,
          67,
          67,
          96
         ],
         "z": [
          2372,
          2130,
          2130,
          2228,
          1773,
          1613,
          2278,
          2330,
          2288,
          2506,
          2100,
          2279,
          2379,
          2124,
          2807,
          1950,
          1836,
          1649,
          2003,
          2489,
          2391,
          2171,
          2702,
          2545,
          1795,
          1795,
          1990,
          2155,
          2930,
          2045,
          1945,
          2265,
          1985,
          2815,
          2720,
          1985,
          2070,
          1800,
          2560,
          2300,
          2515,
          2405,
          2135,
          1975,
          2020,
          1968,
          2019,
          2711,
          2542,
          2434,
          2265,
          2110,
          2110,
          1850,
          2145,
          2910,
          2420,
          2290,
          1755,
          1760,
          2065,
          1975,
          2050,
          1985,
          2210,
          2350,
          2615,
          2635,
          2900,
          2930,
          2025,
          1970,
          2160,
          2205,
          2245,
          1965,
          1965,
          1995,
          2665
         ]
        },
        {
         "hovertemplate": "origin=europe<br>displacement=%{x}<br>horsepower=%{y}<br>weight=%{z}<br>mpg=%{marker.size}<br>model_year=%{marker.color}<extra></extra>",
         "legendgroup": "europe",
         "marker": {
          "color": [
           70,
           70,
           70,
           70,
           70,
           71,
           71,
           71,
           71,
           72,
           72,
           72,
           72,
           72,
           73,
           73,
           73,
           73,
           73,
           73,
           73,
           74,
           74,
           74,
           74,
           74,
           74,
           75,
           75,
           75,
           75,
           75,
           75,
           76,
           76,
           76,
           76,
           76,
           76,
           76,
           76,
           77,
           77,
           77,
           77,
           78,
           78,
           78,
           78,
           78,
           78,
           79,
           79,
           79,
           79,
           80,
           80,
           80,
           80,
           80,
           80,
           80,
           80,
           81,
           81,
           81,
           82,
           82
          ],
          "coloraxis": "coloraxis",
          "opacity": 0.7,
          "size": [
           26,
           25,
           24,
           25,
           26,
           28,
           30,
           30,
           27,
           23,
           18,
           22,
           21,
           26,
           26,
           26,
           29,
           24,
           20,
           19,
           24,
           29,
           26,
           26,
           24,
           26,
           31,
           25,
           29,
           23,
           23,
           22,
           25,
           28,
           25,
           27,
           29,
           29.5,
           20,
           19,
           16.5,
           36,
           29,
           30.5,
           21.5,
           43.1,
           20.3,
           17,
           21.6,
           16.2,
           31.5,
           31.9,
           25.4,
           27.2,
           37.3,
           41.5,
           34.3,
           44.3,
           43.4,
           36.4,
           30,
           29.8,
           35,
           33,
           28.1,
           30.7,
           36,
           44
          ],
          "sizemode": "area",
          "sizeref": 0.1165,
          "symbol": "square"
         },
         "mode": "markers",
         "name": "europe",
         "scene": "scene",
         "showlegend": true,
         "type": "scatter3d",
         "x": [
          97,
          110,
          107,
          104,
          121,
          116,
          79,
          88,
          97,
          97,
          121,
          121,
          120,
          96,
          97,
          98,
          68,
          116,
          114,
          121,
          121,
          98,
          79,
          97,
          90,
          116,
          79,
          90,
          90,
          115,
          120,
          121,
          121,
          107,
          116,
          101,
          90,
          97,
          130,
          120,
          168,
          79,
          97,
          97,
          121,
          90,
          131,
          163,
          121,
          163,
          89,
          89,
          183,
          141,
          91,
          98,
          97,
          90,
          90,
          121,
          146,
          89,
          122,
          105,
          141,
          145,
          105,
          97
         ],
         "y": [
          46,
          87,
          90,
          95,
          113,
          90,
          70,
          76,
          60,
          54,
          112,
          76,
          87,
          69,
          46,
          90,
          49,
          75,
          91,
          112,
          110,
          83,
          67,
          78,
          75,
          75,
          67,
          71,
          70,
          95,
          88,
          98,
          115,
          86,
          81,
          83,
          70,
          71,
          102,
          88,
          120,
          58,
          78,
          78,
          110,
          48,
          103,
          125,
          115,
          133,
          71,
          71,
          77,
          71,
          69,
          76,
          78,
          48,
          48,
          67,
          67,
          62,
          88,
          74,
          80,
          76,
          74,
          52
         ],
         "z": [
          1835,
          2672,
          2430,
          2375,
          2234,
          2123,
          2074,
          2065,
          1834,
          2254,
          2933,
          2511,
          2979,
          2189,
          1950,
          2265,
          1867,
          2158,
          2582,
          2868,
          2660,
          2219,
          1963,
          2300,
          2108,
          2246,
          2000,
          2223,
          1937,
          2694,
          2957,
          2945,
          2671,
          2464,
          2220,
          2202,
          1937,
          1825,
          3150,
          3270,
          3820,
          1825,
          1940,
          2190,
          2600,
          1985,
          2830,
          3140,
          2795,
          3410,
          1990,
          1925,
          3530,
          3190,
          2130,
          2144,
          2188,
          2085,
          2335,
          2950,
          3250,
          1845,
          2500,
          2190,
          3230,
          3160,
          1980,
          2130
         ]
        }
       ],
       "layout": {
        "coloraxis": {
         "colorbar": {
          "title": {
           "text": "model_year"
          }
         },
         "colorscale": [
          [
           0,
           "#0d0887"
          ],
          [
           0.1111111111111111,
           "#46039f"
          ],
          [
           0.2222222222222222,
           "#7201a8"
          ],
          [
           0.3333333333333333,
           "#9c179e"
          ],
          [
           0.4444444444444444,
           "#bd3786"
          ],
          [
           0.5555555555555556,
           "#d8576b"
          ],
          [
           0.6666666666666666,
           "#ed7953"
          ],
          [
           0.7777777777777778,
           "#fb9f3a"
          ],
          [
           0.8888888888888888,
           "#fdca26"
          ],
          [
           1,
           "#f0f921"
          ]
         ],
         "showscale": false
        },
        "height": 800,
        "legend": {
         "itemsizing": "constant",
         "title": {
          "text": "origin"
         },
         "tracegroupgap": 0
        },
        "margin": {
         "t": 60
        },
        "scene": {
         "domain": {
          "x": [
           0,
           1
          ],
          "y": [
           0,
           1
          ]
         },
         "xaxis": {
          "title": {
           "text": "displacement"
          }
         },
         "yaxis": {
          "title": {
           "text": "horsepower"
          }
         },
         "zaxis": {
          "title": {
           "text": "weight"
          }
         }
        },
        "template": {
         "data": {
          "bar": [
           {
            "error_x": {
             "color": "#2a3f5f"
            },
            "error_y": {
             "color": "#2a3f5f"
            },
            "marker": {
             "line": {
              "color": "#E5ECF6",
              "width": 0.5
             },
             "pattern": {
              "fillmode": "overlay",
              "size": 10,
              "solidity": 0.2
             }
            },
            "type": "bar"
           }
          ],
          "barpolar": [
           {
            "marker": {
             "line": {
              "color": "#E5ECF6",
              "width": 0.5
             },
             "pattern": {
              "fillmode": "overlay",
              "size": 10,
              "solidity": 0.2
             }
            },
            "type": "barpolar"
           }
          ],
          "carpet": [
           {
            "aaxis": {
             "endlinecolor": "#2a3f5f",
             "gridcolor": "white",
             "linecolor": "white",
             "minorgridcolor": "white",
             "startlinecolor": "#2a3f5f"
            },
            "baxis": {
             "endlinecolor": "#2a3f5f",
             "gridcolor": "white",
             "linecolor": "white",
             "minorgridcolor": "white",
             "startlinecolor": "#2a3f5f"
            },
            "type": "carpet"
           }
          ],
          "choropleth": [
           {
            "colorbar": {
             "outlinewidth": 0,
             "ticks": ""
            },
            "type": "choropleth"
           }
          ],
          "contour": [
           {
            "colorbar": {
             "outlinewidth": 0,
             "ticks": ""
            },
            "colorscale": [
             [
              0,
              "#0d0887"
             ],
             [
              0.1111111111111111,
              "#46039f"
             ],
             [
              0.2222222222222222,
              "#7201a8"
             ],
             [
              0.3333333333333333,
              "#9c179e"
             ],
             [
              0.4444444444444444,
              "#bd3786"
             ],
             [
              0.5555555555555556,
              "#d8576b"
             ],
             [
              0.6666666666666666,
              "#ed7953"
             ],
             [
              0.7777777777777778,
              "#fb9f3a"
             ],
             [
              0.8888888888888888,
              "#fdca26"
             ],
             [
              1,
              "#f0f921"
             ]
            ],
            "type": "contour"
           }
          ],
          "contourcarpet": [
           {
            "colorbar": {
             "outlinewidth": 0,
             "ticks": ""
            },
            "type": "contourcarpet"
           }
          ],
          "heatmap": [
           {
            "colorbar": {
             "outlinewidth": 0,
             "ticks": ""
            },
            "colorscale": [
             [
              0,
              "#0d0887"
             ],
             [
              0.1111111111111111,
              "#46039f"
             ],
             [
              0.2222222222222222,
              "#7201a8"
             ],
             [
              0.3333333333333333,
              "#9c179e"
             ],
             [
              0.4444444444444444,
              "#bd3786"
             ],
             [
              0.5555555555555556,
              "#d8576b"
             ],
             [
              0.6666666666666666,
              "#ed7953"
             ],
             [
              0.7777777777777778,
              "#fb9f3a"
             ],
             [
              0.8888888888888888,
              "#fdca26"
             ],
             [
              1,
              "#f0f921"
             ]
            ],
            "type": "heatmap"
           }
          ],
          "heatmapgl": [
           {
            "colorbar": {
             "outlinewidth": 0,
             "ticks": ""
            },
            "colorscale": [
             [
              0,
              "#0d0887"
             ],
             [
              0.1111111111111111,
              "#46039f"
             ],
             [
              0.2222222222222222,
              "#7201a8"
             ],
             [
              0.3333333333333333,
              "#9c179e"
             ],
             [
              0.4444444444444444,
              "#bd3786"
             ],
             [
              0.5555555555555556,
              "#d8576b"
             ],
             [
              0.6666666666666666,
              "#ed7953"
             ],
             [
              0.7777777777777778,
              "#fb9f3a"
             ],
             [
              0.8888888888888888,
              "#fdca26"
             ],
             [
              1,
              "#f0f921"
             ]
            ],
            "type": "heatmapgl"
           }
          ],
          "histogram": [
           {
            "marker": {
             "pattern": {
              "fillmode": "overlay",
              "size": 10,
              "solidity": 0.2
             }
            },
            "type": "histogram"
           }
          ],
          "histogram2d": [
           {
            "colorbar": {
             "outlinewidth": 0,
             "ticks": ""
            },
            "colorscale": [
             [
              0,
              "#0d0887"
             ],
             [
              0.1111111111111111,
              "#46039f"
             ],
             [
              0.2222222222222222,
              "#7201a8"
             ],
             [
              0.3333333333333333,
              "#9c179e"
             ],
             [
              0.4444444444444444,
              "#bd3786"
             ],
             [
              0.5555555555555556,
              "#d8576b"
             ],
             [
              0.6666666666666666,
              "#ed7953"
             ],
             [
              0.7777777777777778,
              "#fb9f3a"
             ],
             [
              0.8888888888888888,
              "#fdca26"
             ],
             [
              1,
              "#f0f921"
             ]
            ],
            "type": "histogram2d"
           }
          ],
          "histogram2dcontour": [
           {
            "colorbar": {
             "outlinewidth": 0,
             "ticks": ""
            },
            "colorscale": [
             [
              0,
              "#0d0887"
             ],
             [
              0.1111111111111111,
              "#46039f"
             ],
             [
              0.2222222222222222,
              "#7201a8"
             ],
             [
              0.3333333333333333,
              "#9c179e"
             ],
             [
              0.4444444444444444,
              "#bd3786"
             ],
             [
              0.5555555555555556,
              "#d8576b"
             ],
             [
              0.6666666666666666,
              "#ed7953"
             ],
             [
              0.7777777777777778,
              "#fb9f3a"
             ],
             [
              0.8888888888888888,
              "#fdca26"
             ],
             [
              1,
              "#f0f921"
             ]
            ],
            "type": "histogram2dcontour"
           }
          ],
          "mesh3d": [
           {
            "colorbar": {
             "outlinewidth": 0,
             "ticks": ""
            },
            "type": "mesh3d"
           }
          ],
          "parcoords": [
           {
            "line": {
             "colorbar": {
              "outlinewidth": 0,
              "ticks": ""
             }
            },
            "type": "parcoords"
           }
          ],
          "pie": [
           {
            "automargin": true,
            "type": "pie"
           }
          ],
          "scatter": [
           {
            "fillpattern": {
             "fillmode": "overlay",
             "size": 10,
             "solidity": 0.2
            },
            "type": "scatter"
           }
          ],
          "scatter3d": [
           {
            "line": {
             "colorbar": {
              "outlinewidth": 0,
              "ticks": ""
             }
            },
            "marker": {
             "colorbar": {
              "outlinewidth": 0,
              "ticks": ""
             }
            },
            "type": "scatter3d"
           }
          ],
          "scattercarpet": [
           {
            "marker": {
             "colorbar": {
              "outlinewidth": 0,
              "ticks": ""
             }
            },
            "type": "scattercarpet"
           }
          ],
          "scattergeo": [
           {
            "marker": {
             "colorbar": {
              "outlinewidth": 0,
              "ticks": ""
             }
            },
            "type": "scattergeo"
           }
          ],
          "scattergl": [
           {
            "marker": {
             "colorbar": {
              "outlinewidth": 0,
              "ticks": ""
             }
            },
            "type": "scattergl"
           }
          ],
          "scattermapbox": [
           {
            "marker": {
             "colorbar": {
              "outlinewidth": 0,
              "ticks": ""
             }
            },
            "type": "scattermapbox"
           }
          ],
          "scatterpolar": [
           {
            "marker": {
             "colorbar": {
              "outlinewidth": 0,
              "ticks": ""
             }
            },
            "type": "scatterpolar"
           }
          ],
          "scatterpolargl": [
           {
            "marker": {
             "colorbar": {
              "outlinewidth": 0,
              "ticks": ""
             }
            },
            "type": "scatterpolargl"
           }
          ],
          "scatterternary": [
           {
            "marker": {
             "colorbar": {
              "outlinewidth": 0,
              "ticks": ""
             }
            },
            "type": "scatterternary"
           }
          ],
          "surface": [
           {
            "colorbar": {
             "outlinewidth": 0,
             "ticks": ""
            },
            "colorscale": [
             [
              0,
              "#0d0887"
             ],
             [
              0.1111111111111111,
              "#46039f"
             ],
             [
              0.2222222222222222,
              "#7201a8"
             ],
             [
              0.3333333333333333,
              "#9c179e"
             ],
             [
              0.4444444444444444,
              "#bd3786"
             ],
             [
              0.5555555555555556,
              "#d8576b"
             ],
             [
              0.6666666666666666,
              "#ed7953"
             ],
             [
              0.7777777777777778,
              "#fb9f3a"
             ],
             [
              0.8888888888888888,
              "#fdca26"
             ],
             [
              1,
              "#f0f921"
             ]
            ],
            "type": "surface"
           }
          ],
          "table": [
           {
            "cells": {
             "fill": {
              "color": "#EBF0F8"
             },
             "line": {
              "color": "white"
             }
            },
            "header": {
             "fill": {
              "color": "#C8D4E3"
             },
             "line": {
              "color": "white"
             }
            },
            "type": "table"
           }
          ]
         },
         "layout": {
          "annotationdefaults": {
           "arrowcolor": "#2a3f5f",
           "arrowhead": 0,
           "arrowwidth": 1
          },
          "autotypenumbers": "strict",
          "coloraxis": {
           "colorbar": {
            "outlinewidth": 0,
            "ticks": ""
           }
          },
          "colorscale": {
           "diverging": [
            [
             0,
             "#8e0152"
            ],
            [
             0.1,
             "#c51b7d"
            ],
            [
             0.2,
             "#de77ae"
            ],
            [
             0.3,
             "#f1b6da"
            ],
            [
             0.4,
             "#fde0ef"
            ],
            [
             0.5,
             "#f7f7f7"
            ],
            [
             0.6,
             "#e6f5d0"
            ],
            [
             0.7,
             "#b8e186"
            ],
            [
             0.8,
             "#7fbc41"
            ],
            [
             0.9,
             "#4d9221"
            ],
            [
             1,
             "#276419"
            ]
           ],
           "sequential": [
            [
             0,
             "#0d0887"
            ],
            [
             0.1111111111111111,
             "#46039f"
            ],
            [
             0.2222222222222222,
             "#7201a8"
            ],
            [
             0.3333333333333333,
             "#9c179e"
            ],
            [
             0.4444444444444444,
             "#bd3786"
            ],
            [
             0.5555555555555556,
             "#d8576b"
            ],
            [
             0.6666666666666666,
             "#ed7953"
            ],
            [
             0.7777777777777778,
             "#fb9f3a"
            ],
            [
             0.8888888888888888,
             "#fdca26"
            ],
            [
             1,
             "#f0f921"
            ]
           ],
           "sequentialminus": [
            [
             0,
             "#0d0887"
            ],
            [
             0.1111111111111111,
             "#46039f"
            ],
            [
             0.2222222222222222,
             "#7201a8"
            ],
            [
             0.3333333333333333,
             "#9c179e"
            ],
            [
             0.4444444444444444,
             "#bd3786"
            ],
            [
             0.5555555555555556,
             "#d8576b"
            ],
            [
             0.6666666666666666,
             "#ed7953"
            ],
            [
             0.7777777777777778,
             "#fb9f3a"
            ],
            [
             0.8888888888888888,
             "#fdca26"
            ],
            [
             1,
             "#f0f921"
            ]
           ]
          },
          "colorway": [
           "#636efa",
           "#EF553B",
           "#00cc96",
           "#ab63fa",
           "#FFA15A",
           "#19d3f3",
           "#FF6692",
           "#B6E880",
           "#FF97FF",
           "#FECB52"
          ],
          "font": {
           "color": "#2a3f5f"
          },
          "geo": {
           "bgcolor": "white",
           "lakecolor": "white",
           "landcolor": "#E5ECF6",
           "showlakes": true,
           "showland": true,
           "subunitcolor": "white"
          },
          "hoverlabel": {
           "align": "left"
          },
          "hovermode": "closest",
          "mapbox": {
           "style": "light"
          },
          "paper_bgcolor": "white",
          "plot_bgcolor": "#E5ECF6",
          "polar": {
           "angularaxis": {
            "gridcolor": "white",
            "linecolor": "white",
            "ticks": ""
           },
           "bgcolor": "#E5ECF6",
           "radialaxis": {
            "gridcolor": "white",
            "linecolor": "white",
            "ticks": ""
           }
          },
          "scene": {
           "xaxis": {
            "backgroundcolor": "#E5ECF6",
            "gridcolor": "white",
            "gridwidth": 2,
            "linecolor": "white",
            "showbackground": true,
            "ticks": "",
            "zerolinecolor": "white"
           },
           "yaxis": {
            "backgroundcolor": "#E5ECF6",
            "gridcolor": "white",
            "gridwidth": 2,
            "linecolor": "white",
            "showbackground": true,
            "ticks": "",
            "zerolinecolor": "white"
           },
           "zaxis": {
            "backgroundcolor": "#E5ECF6",
            "gridcolor": "white",
            "gridwidth": 2,
            "linecolor": "white",
            "showbackground": true,
            "ticks": "",
            "zerolinecolor": "white"
           }
          },
          "shapedefaults": {
           "line": {
            "color": "#2a3f5f"
           }
          },
          "ternary": {
           "aaxis": {
            "gridcolor": "white",
            "linecolor": "white",
            "ticks": ""
           },
           "baxis": {
            "gridcolor": "white",
            "linecolor": "white",
            "ticks": ""
           },
           "bgcolor": "#E5ECF6",
           "caxis": {
            "gridcolor": "white",
            "linecolor": "white",
            "ticks": ""
           }
          },
          "title": {
           "x": 0.05
          },
          "xaxis": {
           "automargin": true,
           "gridcolor": "white",
           "linecolor": "white",
           "ticks": "",
           "title": {
            "standoff": 15
           },
           "zerolinecolor": "white",
           "zerolinewidth": 2
          },
          "yaxis": {
           "automargin": true,
           "gridcolor": "white",
           "linecolor": "white",
           "ticks": "",
           "title": {
            "standoff": 15
           },
           "zerolinecolor": "white",
           "zerolinewidth": 2
          }
         }
        },
        "width": 900
       }
      }
     },
     "metadata": {},
     "output_type": "display_data"
    }
   ],
   "source": [
    "fig = px.scatter_3d(mpg, x=\"displacement\", \n",
    "                    y=\"horsepower\", \n",
    "                    z=\"weight\", \n",
    "                    color=\"model_year\",\n",
    "                    size=\"mpg\",\n",
    "                    symbol=\"origin\",\n",
    "                    width=900, height=800, \n",
    "                    opacity=.7)\n",
    "# hide color scale legend on the plotly fig\n",
    "fig.update_layout(coloraxis_showscale=False)\n"
   ]
  },
  {
   "cell_type": "code",
   "execution_count": 10,
   "id": "364d42e7",
   "metadata": {},
   "outputs": [
    {
     "data": {
      "text/html": [
       "<div>\n",
       "<style scoped>\n",
       "    .dataframe tbody tr th:only-of-type {\n",
       "        vertical-align: middle;\n",
       "    }\n",
       "\n",
       "    .dataframe tbody tr th {\n",
       "        vertical-align: top;\n",
       "    }\n",
       "\n",
       "    .dataframe thead th {\n",
       "        text-align: right;\n",
       "    }\n",
       "</style>\n",
       "<table border=\"1\" class=\"dataframe\">\n",
       "  <thead>\n",
       "    <tr style=\"text-align: right;\">\n",
       "      <th></th>\n",
       "      <th>mpg</th>\n",
       "      <th>cylinders</th>\n",
       "      <th>displacement</th>\n",
       "      <th>horsepower</th>\n",
       "      <th>weight</th>\n",
       "      <th>acceleration</th>\n",
       "      <th>model_year</th>\n",
       "      <th>origin</th>\n",
       "      <th>name</th>\n",
       "      <th>z1</th>\n",
       "      <th>z2</th>\n",
       "    </tr>\n",
       "  </thead>\n",
       "  <tbody>\n",
       "    <tr>\n",
       "      <th>0</th>\n",
       "      <td>18.0</td>\n",
       "      <td>8</td>\n",
       "      <td>307.0</td>\n",
       "      <td>130.0</td>\n",
       "      <td>3504</td>\n",
       "      <td>12.0</td>\n",
       "      <td>70</td>\n",
       "      <td>usa</td>\n",
       "      <td>chevrolet chevelle malibu</td>\n",
       "      <td>536.436716</td>\n",
       "      <td>50.754633</td>\n",
       "    </tr>\n",
       "    <tr>\n",
       "      <th>1</th>\n",
       "      <td>15.0</td>\n",
       "      <td>8</td>\n",
       "      <td>350.0</td>\n",
       "      <td>165.0</td>\n",
       "      <td>3693</td>\n",
       "      <td>11.5</td>\n",
       "      <td>70</td>\n",
       "      <td>usa</td>\n",
       "      <td>buick skylark 320</td>\n",
       "      <td>730.333026</td>\n",
       "      <td>79.063105</td>\n",
       "    </tr>\n",
       "    <tr>\n",
       "      <th>2</th>\n",
       "      <td>18.0</td>\n",
       "      <td>8</td>\n",
       "      <td>318.0</td>\n",
       "      <td>150.0</td>\n",
       "      <td>3436</td>\n",
       "      <td>11.0</td>\n",
       "      <td>70</td>\n",
       "      <td>usa</td>\n",
       "      <td>plymouth satellite</td>\n",
       "      <td>470.971839</td>\n",
       "      <td>75.338465</td>\n",
       "    </tr>\n",
       "    <tr>\n",
       "      <th>3</th>\n",
       "      <td>16.0</td>\n",
       "      <td>8</td>\n",
       "      <td>304.0</td>\n",
       "      <td>150.0</td>\n",
       "      <td>3433</td>\n",
       "      <td>12.0</td>\n",
       "      <td>70</td>\n",
       "      <td>usa</td>\n",
       "      <td>amc rebel sst</td>\n",
       "      <td>466.393030</td>\n",
       "      <td>62.448249</td>\n",
       "    </tr>\n",
       "    <tr>\n",
       "      <th>4</th>\n",
       "      <td>17.0</td>\n",
       "      <td>8</td>\n",
       "      <td>302.0</td>\n",
       "      <td>140.0</td>\n",
       "      <td>3449</td>\n",
       "      <td>10.5</td>\n",
       "      <td>70</td>\n",
       "      <td>usa</td>\n",
       "      <td>ford torino</td>\n",
       "      <td>481.657494</td>\n",
       "      <td>55.643203</td>\n",
       "    </tr>\n",
       "  </tbody>\n",
       "</table>\n",
       "</div>"
      ],
      "text/plain": [
       "    mpg  cylinders  displacement  horsepower  weight  acceleration  \\\n",
       "0  18.0          8         307.0       130.0    3504          12.0   \n",
       "1  15.0          8         350.0       165.0    3693          11.5   \n",
       "2  18.0          8         318.0       150.0    3436          11.0   \n",
       "3  16.0          8         304.0       150.0    3433          12.0   \n",
       "4  17.0          8         302.0       140.0    3449          10.5   \n",
       "\n",
       "   model_year origin                       name          z1         z2  \n",
       "0          70    usa  chevrolet chevelle malibu  536.436716  50.754633  \n",
       "1          70    usa          buick skylark 320  730.333026  79.063105  \n",
       "2          70    usa         plymouth satellite  470.971839  75.338465  \n",
       "3          70    usa              amc rebel sst  466.393030  62.448249  \n",
       "4          70    usa                ford torino  481.657494  55.643203  "
      ]
     },
     "execution_count": 10,
     "metadata": {},
     "output_type": "execute_result"
    }
   ],
   "source": [
    "from sklearn.decomposition import PCA\n",
    "pca = PCA(n_components=2,)\n",
    "\n",
    "components = pca.fit_transform(mpg[[\"displacement\", \"horsepower\", \"weight\", \"model_year\"]])\n",
    "mpg[[\"z1\", \"z2\"]] = components\n",
    "mpg.head()"
   ]
  },
  {
   "cell_type": "code",
   "execution_count": 11,
   "id": "813bde71",
   "metadata": {},
   "outputs": [
    {
     "data": {
      "application/vnd.plotly.v1+json": {
       "config": {
        "plotlyServerURL": "https://plot.ly"
       },
       "data": [
        {
         "customdata": [
          [
           307,
           130,
           3504,
           "chevrolet chevelle malibu"
          ],
          [
           350,
           165,
           3693,
           "buick skylark 320"
          ],
          [
           318,
           150,
           3436,
           "plymouth satellite"
          ],
          [
           304,
           150,
           3433,
           "amc rebel sst"
          ],
          [
           302,
           140,
           3449,
           "ford torino"
          ],
          [
           429,
           198,
           4341,
           "ford galaxie 500"
          ],
          [
           454,
           220,
           4354,
           "chevrolet impala"
          ],
          [
           440,
           215,
           4312,
           "plymouth fury iii"
          ],
          [
           455,
           225,
           4425,
           "pontiac catalina"
          ],
          [
           390,
           190,
           3850,
           "amc ambassador dpl"
          ],
          [
           383,
           170,
           3563,
           "dodge challenger se"
          ],
          [
           340,
           160,
           3609,
           "plymouth 'cuda 340"
          ],
          [
           400,
           150,
           3761,
           "chevrolet monte carlo"
          ],
          [
           455,
           225,
           3086,
           "buick estate wagon (sw)"
          ],
          [
           113,
           95,
           2372,
           "toyota corona mark ii"
          ],
          [
           198,
           95,
           2833,
           "plymouth duster"
          ],
          [
           199,
           97,
           2774,
           "amc hornet"
          ],
          [
           200,
           85,
           2587,
           "ford maverick"
          ],
          [
           97,
           88,
           2130,
           "datsun pl510"
          ],
          [
           97,
           46,
           1835,
           "volkswagen 1131 deluxe sedan"
          ],
          [
           110,
           87,
           2672,
           "peugeot 504"
          ],
          [
           107,
           90,
           2430,
           "audi 100 ls"
          ],
          [
           104,
           95,
           2375,
           "saab 99e"
          ],
          [
           121,
           113,
           2234,
           "bmw 2002"
          ],
          [
           199,
           90,
           2648,
           "amc gremlin"
          ],
          [
           360,
           215,
           4615,
           "ford f250"
          ],
          [
           307,
           200,
           4376,
           "chevy c20"
          ],
          [
           318,
           210,
           4382,
           "dodge d200"
          ],
          [
           304,
           193,
           4732,
           "hi 1200d"
          ],
          [
           97,
           88,
           2130,
           "datsun pl510"
          ],
          [
           140,
           90,
           2264,
           "chevrolet vega 2300"
          ],
          [
           113,
           95,
           2228,
           "toyota corona"
          ],
          [
           232,
           100,
           2634,
           "amc gremlin"
          ],
          [
           225,
           105,
           3439,
           "plymouth satellite custom"
          ],
          [
           250,
           100,
           3329,
           "chevrolet chevelle malibu"
          ],
          [
           250,
           88,
           3302,
           "ford torino 500"
          ],
          [
           232,
           100,
           3288,
           "amc matador"
          ],
          [
           350,
           165,
           4209,
           "chevrolet impala"
          ],
          [
           400,
           175,
           4464,
           "pontiac catalina brougham"
          ],
          [
           351,
           153,
           4154,
           "ford galaxie 500"
          ],
          [
           318,
           150,
           4096,
           "plymouth fury iii"
          ],
          [
           383,
           180,
           4955,
           "dodge monaco (sw)"
          ],
          [
           400,
           170,
           4746,
           "ford country squire (sw)"
          ],
          [
           400,
           175,
           5140,
           "pontiac safari (sw)"
          ],
          [
           258,
           110,
           2962,
           "amc hornet sportabout (sw)"
          ],
          [
           140,
           72,
           2408,
           "chevrolet vega (sw)"
          ],
          [
           250,
           100,
           3282,
           "pontiac firebird"
          ],
          [
           250,
           88,
           3139,
           "ford mustang"
          ],
          [
           122,
           86,
           2220,
           "mercury capri 2000"
          ],
          [
           116,
           90,
           2123,
           "opel 1900"
          ],
          [
           79,
           70,
           2074,
           "peugeot 304"
          ],
          [
           88,
           76,
           2065,
           "fiat 124b"
          ],
          [
           71,
           65,
           1773,
           "toyota corolla 1200"
          ],
          [
           72,
           69,
           1613,
           "datsun 1200"
          ],
          [
           97,
           60,
           1834,
           "volkswagen model 111"
          ],
          [
           91,
           70,
           1955,
           "plymouth cricket"
          ],
          [
           113,
           95,
           2278,
           "toyota corona hardtop"
          ],
          [
           97.5,
           80,
           2126,
           "dodge colt hardtop"
          ],
          [
           97,
           54,
           2254,
           "volkswagen type 3"
          ],
          [
           140,
           90,
           2408,
           "chevrolet vega"
          ],
          [
           122,
           86,
           2226,
           "ford pinto runabout"
          ],
          [
           350,
           165,
           4274,
           "chevrolet impala"
          ],
          [
           400,
           175,
           4385,
           "pontiac catalina"
          ],
          [
           318,
           150,
           4135,
           "plymouth fury iii"
          ],
          [
           351,
           153,
           4129,
           "ford galaxie 500"
          ],
          [
           304,
           150,
           3672,
           "amc ambassador sst"
          ],
          [
           429,
           208,
           4633,
           "mercury marquis"
          ],
          [
           350,
           155,
           4502,
           "buick lesabre custom"
          ],
          [
           350,
           160,
           4456,
           "oldsmobile delta 88 royale"
          ],
          [
           400,
           190,
           4422,
           "chrysler newport royal"
          ],
          [
           70,
           97,
           2330,
           "mazda rx2 coupe"
          ],
          [
           304,
           150,
           3892,
           "amc matador (sw)"
          ],
          [
           307,
           130,
           4098,
           "chevrolet chevelle concours (sw)"
          ],
          [
           302,
           140,
           4294,
           "ford gran torino (sw)"
          ],
          [
           318,
           150,
           4077,
           "plymouth satellite custom (sw)"
          ],
          [
           121,
           112,
           2933,
           "volvo 145e (sw)"
          ],
          [
           121,
           76,
           2511,
           "volkswagen 411 (sw)"
          ],
          [
           120,
           87,
           2979,
           "peugeot 504 (sw)"
          ],
          [
           96,
           69,
           2189,
           "renault 12 (sw)"
          ],
          [
           122,
           86,
           2395,
           "ford pinto (sw)"
          ],
          [
           97,
           92,
           2288,
           "datsun 510 (sw)"
          ],
          [
           120,
           97,
           2506,
           "toyouta corona mark ii (sw)"
          ],
          [
           98,
           80,
           2164,
           "dodge colt (sw)"
          ],
          [
           97,
           88,
           2100,
           "toyota corolla 1600 (sw)"
          ],
          [
           350,
           175,
           4100,
           "buick century 350"
          ],
          [
           304,
           150,
           3672,
           "amc matador"
          ],
          [
           350,
           145,
           3988,
           "chevrolet malibu"
          ],
          [
           302,
           137,
           4042,
           "ford gran torino"
          ],
          [
           318,
           150,
           3777,
           "dodge coronet custom"
          ],
          [
           429,
           198,
           4952,
           "mercury marquis brougham"
          ],
          [
           400,
           150,
           4464,
           "chevrolet caprice classic"
          ],
          [
           351,
           158,
           4363,
           "ford ltd"
          ],
          [
           318,
           150,
           4237,
           "plymouth fury gran sedan"
          ],
          [
           440,
           215,
           4735,
           "chrysler new yorker brougham"
          ],
          [
           455,
           225,
           4951,
           "buick electra 225 custom"
          ],
          [
           360,
           175,
           3821,
           "amc ambassador brougham"
          ],
          [
           225,
           105,
           3121,
           "plymouth valiant"
          ],
          [
           250,
           100,
           3278,
           "chevrolet nova custom"
          ],
          [
           232,
           100,
           2945,
           "amc hornet"
          ],
          [
           250,
           88,
           3021,
           "ford maverick"
          ],
          [
           198,
           95,
           2904,
           "plymouth duster"
          ],
          [
           97,
           46,
           1950,
           "volkswagen super beetle"
          ],
          [
           400,
           150,
           4997,
           "chevrolet impala"
          ],
          [
           400,
           167,
           4906,
           "ford country"
          ],
          [
           360,
           170,
           4654,
           "plymouth custom suburb"
          ],
          [
           350,
           180,
           4499,
           "oldsmobile vista cruiser"
          ],
          [
           232,
           100,
           2789,
           "amc gremlin"
          ],
          [
           97,
           88,
           2279,
           "toyota carina"
          ],
          [
           140,
           72,
           2401,
           "chevrolet vega"
          ],
          [
           108,
           94,
           2379,
           "datsun 610"
          ],
          [
           70,
           90,
           2124,
           "maxda rx3"
          ],
          [
           122,
           85,
           2310,
           "ford pinto"
          ],
          [
           155,
           107,
           2472,
           "mercury capri v6"
          ],
          [
           98,
           90,
           2265,
           "fiat 124 sport coupe"
          ],
          [
           350,
           145,
           4082,
           "chevrolet monte carlo s"
          ],
          [
           400,
           230,
           4278,
           "pontiac grand prix"
          ],
          [
           68,
           49,
           1867,
           "fiat 128"
          ],
          [
           116,
           75,
           2158,
           "opel manta"
          ],
          [
           114,
           91,
           2582,
           "audi 100ls"
          ],
          [
           121,
           112,
           2868,
           "volvo 144ea"
          ],
          [
           318,
           150,
           3399,
           "dodge dart custom"
          ],
          [
           121,
           110,
           2660,
           "saab 99le"
          ],
          [
           156,
           122,
           2807,
           "toyota mark ii"
          ],
          [
           350,
           180,
           3664,
           "oldsmobile omega"
          ],
          [
           198,
           95,
           3102,
           "plymouth duster"
          ],
          [
           232,
           100,
           2901,
           "amc hornet"
          ],
          [
           250,
           100,
           3336,
           "chevrolet nova"
          ],
          [
           79,
           67,
           1950,
           "datsun b210"
          ],
          [
           122,
           80,
           2451,
           "ford pinto"
          ],
          [
           71,
           65,
           1836,
           "toyota corolla 1200"
          ],
          [
           140,
           75,
           2542,
           "chevrolet vega"
          ],
          [
           250,
           100,
           3781,
           "chevrolet chevelle malibu classic"
          ],
          [
           258,
           110,
           3632,
           "amc matador"
          ],
          [
           225,
           105,
           3613,
           "plymouth satellite sebring"
          ],
          [
           302,
           140,
           4141,
           "ford gran torino"
          ],
          [
           350,
           150,
           4699,
           "buick century luxus (sw)"
          ],
          [
           318,
           150,
           4457,
           "dodge coronet custom (sw)"
          ],
          [
           302,
           140,
           4638,
           "ford gran torino (sw)"
          ],
          [
           304,
           150,
           4257,
           "amc matador (sw)"
          ],
          [
           98,
           83,
           2219,
           "audi fox"
          ],
          [
           79,
           67,
           1963,
           "volkswagen dasher"
          ],
          [
           97,
           78,
           2300,
           "opel manta"
          ],
          [
           76,
           52,
           1649,
           "toyota corona"
          ],
          [
           83,
           61,
           2003,
           "datsun 710"
          ],
          [
           90,
           75,
           2125,
           "dodge colt"
          ],
          [
           90,
           75,
           2108,
           "fiat 128"
          ],
          [
           116,
           75,
           2246,
           "fiat 124 tc"
          ],
          [
           120,
           97,
           2489,
           "honda civic"
          ],
          [
           108,
           93,
           2391,
           "subaru"
          ],
          [
           79,
           67,
           2000,
           "fiat x1.9"
          ],
          [
           225,
           95,
           3264,
           "plymouth valiant custom"
          ],
          [
           250,
           105,
           3459,
           "chevrolet nova"
          ],
          [
           250,
           72,
           3432,
           "mercury monarch"
          ],
          [
           250,
           72,
           3158,
           "ford maverick"
          ],
          [
           400,
           170,
           4668,
           "pontiac catalina"
          ],
          [
           350,
           145,
           4440,
           "chevrolet bel air"
          ],
          [
           318,
           150,
           4498,
           "plymouth grand fury"
          ],
          [
           351,
           148,
           4657,
           "ford ltd"
          ],
          [
           231,
           110,
           3907,
           "buick century"
          ],
          [
           250,
           105,
           3897,
           "chevroelt chevelle malibu"
          ],
          [
           258,
           110,
           3730,
           "amc matador"
          ],
          [
           225,
           95,
           3785,
           "plymouth fury"
          ],
          [
           231,
           110,
           3039,
           "buick skyhawk"
          ],
          [
           262,
           110,
           3221,
           "chevrolet monza 2+2"
          ],
          [
           302,
           129,
           3169,
           "ford mustang ii"
          ],
          [
           97,
           75,
           2171,
           "toyota corolla"
          ],
          [
           140,
           83,
           2639,
           "ford pinto"
          ],
          [
           232,
           100,
           2914,
           "amc gremlin"
          ],
          [
           140,
           78,
           2592,
           "pontiac astro"
          ],
          [
           134,
           96,
           2702,
           "toyota corona"
          ],
          [
           90,
           71,
           2223,
           "volkswagen dasher"
          ],
          [
           119,
           97,
           2545,
           "datsun 710"
          ],
          [
           171,
           97,
           2984,
           "ford pinto"
          ],
          [
           90,
           70,
           1937,
           "volkswagen rabbit"
          ],
          [
           232,
           90,
           3211,
           "amc pacer"
          ],
          [
           115,
           95,
           2694,
           "audi 100ls"
          ],
          [
           120,
           88,
           2957,
           "peugeot 504"
          ],
          [
           121,
           98,
           2945,
           "volvo 244dl"
          ],
          [
           121,
           115,
           2671,
           "saab 99le"
          ],
          [
           91,
           53,
           1795,
           "honda civic cvcc"
          ],
          [
           107,
           86,
           2464,
           "fiat 131"
          ],
          [
           116,
           81,
           2220,
           "opel 1900"
          ],
          [
           140,
           92,
           2572,
           "capri ii"
          ],
          [
           98,
           79,
           2255,
           "dodge colt"
          ],
          [
           101,
           83,
           2202,
           "renault 12tl"
          ],
          [
           305,
           140,
           4215,
           "chevrolet chevelle malibu classic"
          ],
          [
           318,
           150,
           4190,
           "dodge coronet brougham"
          ],
          [
           304,
           120,
           3962,
           "amc matador"
          ],
          [
           351,
           152,
           4215,
           "ford gran torino"
          ],
          [
           225,
           100,
           3233,
           "plymouth valiant"
          ],
          [
           250,
           105,
           3353,
           "chevrolet nova"
          ],
          [
           200,
           81,
           3012,
           "ford maverick"
          ],
          [
           232,
           90,
           3085,
           "amc hornet"
          ],
          [
           85,
           52,
           2035,
           "chevrolet chevette"
          ],
          [
           98,
           60,
           2164,
           "chevrolet woody"
          ],
          [
           90,
           70,
           1937,
           "vw rabbit"
          ],
          [
           91,
           53,
           1795,
           "honda civic"
          ],
          [
           225,
           100,
           3651,
           "dodge aspen se"
          ],
          [
           250,
           78,
           3574,
           "ford granada ghia"
          ],
          [
           250,
           110,
           3645,
           "pontiac ventura sj"
          ],
          [
           258,
           95,
           3193,
           "amc pacer d/l"
          ],
          [
           97,
           71,
           1825,
           "volkswagen rabbit"
          ],
          [
           85,
           70,
           1990,
           "datsun b-210"
          ],
          [
           97,
           75,
           2155,
           "toyota corolla"
          ],
          [
           140,
           72,
           2565,
           "ford pinto"
          ],
          [
           130,
           102,
           3150,
           "volvo 245"
          ],
          [
           318,
           150,
           3940,
           "plymouth volare premier v8"
          ],
          [
           120,
           88,
           3270,
           "peugeot 504"
          ],
          [
           156,
           108,
           2930,
           "toyota mark ii"
          ],
          [
           168,
           120,
           3820,
           "mercedes-benz 280s"
          ],
          [
           350,
           180,
           4380,
           "cadillac seville"
          ],
          [
           350,
           145,
           4055,
           "chevy c10"
          ],
          [
           302,
           130,
           3870,
           "ford f108"
          ],
          [
           318,
           150,
           3755,
           "dodge d100"
          ],
          [
           98,
           68,
           2045,
           "honda accord cvcc"
          ],
          [
           111,
           80,
           2155,
           "buick opel isuzu deluxe"
          ],
          [
           79,
           58,
           1825,
           "renault 5 gtl"
          ],
          [
           122,
           96,
           2300,
           "plymouth arrow gs"
          ],
          [
           85,
           70,
           1945,
           "datsun f-10 hatchback"
          ],
          [
           305,
           145,
           3880,
           "chevrolet caprice classic"
          ],
          [
           260,
           110,
           4060,
           "oldsmobile cutlass supreme"
          ],
          [
           318,
           145,
           4140,
           "dodge monaco brougham"
          ],
          [
           302,
           130,
           4295,
           "mercury cougar brougham"
          ],
          [
           250,
           110,
           3520,
           "chevrolet concours"
          ],
          [
           231,
           105,
           3425,
           "buick skylark"
          ],
          [
           225,
           100,
           3630,
           "plymouth volare custom"
          ],
          [
           250,
           98,
           3525,
           "ford granada"
          ],
          [
           400,
           180,
           4220,
           "pontiac grand prix lj"
          ],
          [
           350,
           170,
           4165,
           "chevrolet monte carlo landau"
          ],
          [
           400,
           190,
           4325,
           "chrysler cordoba"
          ],
          [
           351,
           149,
           4335,
           "ford thunderbird"
          ],
          [
           97,
           78,
           1940,
           "volkswagen rabbit custom"
          ],
          [
           151,
           88,
           2740,
           "pontiac sunbird coupe"
          ],
          [
           97,
           75,
           2265,
           "toyota corolla liftback"
          ],
          [
           140,
           89,
           2755,
           "ford mustang ii 2+2"
          ],
          [
           98,
           63,
           2051,
           "chevrolet chevette"
          ],
          [
           98,
           83,
           2075,
           "dodge colt m/m"
          ],
          [
           97,
           67,
           1985,
           "subaru dl"
          ],
          [
           97,
           78,
           2190,
           "volkswagen dasher"
          ],
          [
           146,
           97,
           2815,
           "datsun 810"
          ],
          [
           121,
           110,
           2600,
           "bmw 320i"
          ],
          [
           80,
           110,
           2720,
           "mazda rx-4"
          ],
          [
           90,
           48,
           1985,
           "volkswagen rabbit custom diesel"
          ],
          [
           98,
           66,
           1800,
           "ford fiesta"
          ],
          [
           78,
           52,
           1985,
           "mazda glc deluxe"
          ],
          [
           85,
           70,
           2070,
           "datsun b210 gx"
          ],
          [
           91,
           60,
           1800,
           "honda civic cvcc"
          ],
          [
           260,
           110,
           3365,
           "oldsmobile cutlass salon brougham"
          ],
          [
           318,
           140,
           3735,
           "dodge diplomat"
          ],
          [
           302,
           139,
           3570,
           "mercury monarch ghia"
          ],
          [
           231,
           105,
           3535,
           "pontiac phoenix lj"
          ],
          [
           200,
           95,
           3155,
           "chevrolet malibu"
          ],
          [
           200,
           85,
           2965,
           "ford fairmont (auto)"
          ],
          [
           140,
           88,
           2720,
           "ford fairmont (man)"
          ],
          [
           225,
           100,
           3430,
           "plymouth volare"
          ],
          [
           232,
           90,
           3210,
           "amc concord"
          ],
          [
           231,
           105,
           3380,
           "buick century special"
          ],
          [
           200,
           85,
           3070,
           "mercury zephyr"
          ],
          [
           225,
           110,
           3620,
           "dodge aspen"
          ],
          [
           258,
           120,
           3410,
           "amc concord d/l"
          ],
          [
           305,
           145,
           3425,
           "chevrolet monte carlo landau"
          ],
          [
           231,
           165,
           3445,
           "buick regal sport coupe (turbo)"
          ],
          [
           302,
           139,
           3205,
           "ford futura"
          ],
          [
           318,
           140,
           4080,
           "dodge magnum xe"
          ],
          [
           98,
           68,
           2155,
           "chevrolet chevette"
          ],
          [
           134,
           95,
           2560,
           "toyota corona"
          ],
          [
           119,
           97,
           2300,
           "datsun 510"
          ],
          [
           105,
           75,
           2230,
           "dodge omni"
          ],
          [
           134,
           95,
           2515,
           "toyota celica gt liftback"
          ],
          [
           156,
           105,
           2745,
           "plymouth sapporo"
          ],
          [
           151,
           85,
           2855,
           "oldsmobile starfire sx"
          ],
          [
           119,
           97,
           2405,
           "datsun 200-sx"
          ],
          [
           131,
           103,
           2830,
           "audi 5000"
          ],
          [
           163,
           125,
           3140,
           "volvo 264gl"
          ],
          [
           121,
           115,
           2795,
           "saab 99gle"
          ],
          [
           163,
           133,
           3410,
           "peugeot 604sl"
          ],
          [
           89,
           71,
           1990,
           "volkswagen scirocco"
          ],
          [
           98,
           68,
           2135,
           "honda accord lx"
          ],
          [
           231,
           115,
           3245,
           "pontiac lemans v6"
          ],
          [
           200,
           85,
           2990,
           "mercury zephyr 6"
          ],
          [
           140,
           88,
           2890,
           "ford fairmont 4"
          ],
          [
           232,
           90,
           3265,
           "amc concord dl 6"
          ],
          [
           225,
           110,
           3360,
           "dodge aspen 6"
          ],
          [
           305,
           130,
           3840,
           "chevrolet caprice classic"
          ],
          [
           302,
           129,
           3725,
           "ford ltd landau"
          ],
          [
           351,
           138,
           3955,
           "mercury grand marquis"
          ],
          [
           318,
           135,
           3830,
           "dodge st. regis"
          ],
          [
           350,
           155,
           4360,
           "buick estate wagon (sw)"
          ],
          [
           351,
           142,
           4054,
           "ford country squire (sw)"
          ],
          [
           267,
           125,
           3605,
           "chevrolet malibu classic (sw)"
          ],
          [
           360,
           150,
           3940,
           "chrysler lebaron town @ country (sw)"
          ],
          [
           89,
           71,
           1925,
           "vw rabbit custom"
          ],
          [
           86,
           65,
           1975,
           "maxda glc deluxe"
          ],
          [
           98,
           80,
           1915,
           "dodge colt hatchback custom"
          ],
          [
           121,
           80,
           2670,
           "amc spirit dl"
          ],
          [
           183,
           77,
           3530,
           "mercedes benz 300d"
          ],
          [
           350,
           125,
           3900,
           "cadillac eldorado"
          ],
          [
           141,
           71,
           3190,
           "peugeot 504"
          ],
          [
           260,
           90,
           3420,
           "oldsmobile cutlass salon brougham"
          ],
          [
           105,
           70,
           2200,
           "plymouth horizon"
          ],
          [
           105,
           70,
           2150,
           "plymouth horizon tc3"
          ],
          [
           85,
           65,
           2020,
           "datsun 210"
          ],
          [
           91,
           69,
           2130,
           "fiat strada custom"
          ],
          [
           151,
           90,
           2670,
           "buick skylark limited"
          ],
          [
           173,
           115,
           2595,
           "chevrolet citation"
          ],
          [
           173,
           115,
           2700,
           "oldsmobile omega brougham"
          ],
          [
           151,
           90,
           2556,
           "pontiac phoenix"
          ],
          [
           98,
           76,
           2144,
           "vw rabbit"
          ],
          [
           89,
           60,
           1968,
           "toyota corolla tercel"
          ],
          [
           98,
           70,
           2120,
           "chevrolet chevette"
          ],
          [
           86,
           65,
           2019,
           "datsun 310"
          ],
          [
           151,
           90,
           2678,
           "chevrolet citation"
          ],
          [
           140,
           88,
           2870,
           "ford fairmont"
          ],
          [
           151,
           90,
           3003,
           "amc concord"
          ],
          [
           225,
           90,
           3381,
           "dodge aspen"
          ],
          [
           97,
           78,
           2188,
           "audi 4000"
          ],
          [
           134,
           90,
           2711,
           "toyota corona liftback"
          ],
          [
           120,
           75,
           2542,
           "mazda 626"
          ],
          [
           119,
           92,
           2434,
           "datsun 510 hatchback"
          ],
          [
           108,
           75,
           2265,
           "toyota corolla"
          ],
          [
           86,
           65,
           2110,
           "mazda glc"
          ],
          [
           156,
           105,
           2800,
           "dodge colt"
          ],
          [
           85,
           65,
           2110,
           "datsun 210"
          ],
          [
           90,
           48,
           2085,
           "vw rabbit c (diesel)"
          ],
          [
           90,
           48,
           2335,
           "vw dasher (diesel)"
          ],
          [
           121,
           67,
           2950,
           "audi 5000s (diesel)"
          ],
          [
           146,
           67,
           3250,
           "mercedes-benz 240d"
          ],
          [
           91,
           67,
           1850,
           "honda civic 1500 gl"
          ],
          [
           97,
           67,
           2145,
           "subaru dl"
          ],
          [
           89,
           62,
           1845,
           "vokswagen rabbit"
          ],
          [
           168,
           132,
           2910,
           "datsun 280-zx"
          ],
          [
           70,
           100,
           2420,
           "mazda rx-7 gs"
          ],
          [
           122,
           88,
           2500,
           "triumph tr7 coupe"
          ],
          [
           107,
           72,
           2290,
           "honda accord"
          ],
          [
           135,
           84,
           2490,
           "plymouth reliant"
          ],
          [
           151,
           84,
           2635,
           "buick skylark"
          ],
          [
           156,
           92,
           2620,
           "dodge aries wagon (sw)"
          ],
          [
           173,
           110,
           2725,
           "chevrolet citation"
          ],
          [
           135,
           84,
           2385,
           "plymouth reliant"
          ],
          [
           79,
           58,
           1755,
           "toyota starlet"
          ],
          [
           86,
           64,
           1875,
           "plymouth champ"
          ],
          [
           81,
           60,
           1760,
           "honda civic 1300"
          ],
          [
           97,
           67,
           2065,
           "subaru"
          ],
          [
           85,
           65,
           1975,
           "datsun 210 mpg"
          ],
          [
           89,
           62,
           2050,
           "toyota tercel"
          ],
          [
           91,
           68,
           1985,
           "mazda glc 4"
          ],
          [
           105,
           63,
           2215,
           "plymouth horizon 4"
          ],
          [
           98,
           65,
           2045,
           "ford escort 4w"
          ],
          [
           98,
           65,
           2380,
           "ford escort 2h"
          ],
          [
           105,
           74,
           2190,
           "volkswagen jetta"
          ],
          [
           107,
           75,
           2210,
           "honda prelude"
          ],
          [
           108,
           75,
           2350,
           "toyota corolla"
          ],
          [
           119,
           100,
           2615,
           "datsun 200sx"
          ],
          [
           120,
           74,
           2635,
           "mazda 626"
          ],
          [
           141,
           80,
           3230,
           "peugeot 505s turbo diesel"
          ],
          [
           145,
           76,
           3160,
           "volvo diesel"
          ],
          [
           168,
           116,
           2900,
           "toyota cressida"
          ],
          [
           146,
           120,
           2930,
           "datsun 810 maxima"
          ],
          [
           231,
           110,
           3415,
           "buick century"
          ],
          [
           350,
           105,
           3725,
           "oldsmobile cutlass ls"
          ],
          [
           200,
           88,
           3060,
           "ford granada gl"
          ],
          [
           225,
           85,
           3465,
           "chrysler lebaron salon"
          ],
          [
           112,
           88,
           2605,
           "chevrolet cavalier"
          ],
          [
           112,
           88,
           2640,
           "chevrolet cavalier wagon"
          ],
          [
           112,
           88,
           2395,
           "chevrolet cavalier 2-door"
          ],
          [
           112,
           85,
           2575,
           "pontiac j2000 se hatchback"
          ],
          [
           135,
           84,
           2525,
           "dodge aries se"
          ],
          [
           151,
           90,
           2735,
           "pontiac phoenix"
          ],
          [
           140,
           92,
           2865,
           "ford fairmont futura"
          ],
          [
           105,
           74,
           1980,
           "volkswagen rabbit l"
          ],
          [
           91,
           68,
           2025,
           "mazda glc custom l"
          ],
          [
           91,
           68,
           1970,
           "mazda glc custom"
          ],
          [
           105,
           63,
           2125,
           "plymouth horizon miser"
          ],
          [
           98,
           70,
           2125,
           "mercury lynx l"
          ],
          [
           120,
           88,
           2160,
           "nissan stanza xe"
          ],
          [
           107,
           75,
           2205,
           "honda accord"
          ],
          [
           108,
           70,
           2245,
           "toyota corolla"
          ],
          [
           91,
           67,
           1965,
           "honda civic"
          ],
          [
           91,
           67,
           1965,
           "honda civic (auto)"
          ],
          [
           91,
           67,
           1995,
           "datsun 310 gx"
          ],
          [
           181,
           110,
           2945,
           "buick century limited"
          ],
          [
           262,
           85,
           3015,
           "oldsmobile cutlass ciera (diesel)"
          ],
          [
           156,
           92,
           2585,
           "chrysler lebaron medallion"
          ],
          [
           232,
           112,
           2835,
           "ford granada l"
          ],
          [
           144,
           96,
           2665,
           "toyota celica gt"
          ],
          [
           135,
           84,
           2370,
           "dodge charger 2.2"
          ],
          [
           151,
           90,
           2950,
           "chevrolet camaro"
          ],
          [
           140,
           86,
           2790,
           "ford mustang gl"
          ],
          [
           97,
           52,
           2130,
           "vw pickup"
          ],
          [
           135,
           84,
           2295,
           "dodge rampage"
          ],
          [
           120,
           79,
           2625,
           "ford ranger"
          ],
          [
           119,
           82,
           2720,
           "chevy s-10"
          ]
         ],
         "hovertemplate": "z1=%{x}<br>z2=%{y}<br>displacement=%{customdata[0]}<br>horsepower=%{customdata[1]}<br>weight=%{customdata[2]}<br>name=%{customdata[3]}<br>model_year=%{marker.color}<extra></extra>",
         "legendgroup": "",
         "marker": {
          "color": [
           70,
           70,
           70,
           70,
           70,
           70,
           70,
           70,
           70,
           70,
           70,
           70,
           70,
           70,
           70,
           70,
           70,
           70,
           70,
           70,
           70,
           70,
           70,
           70,
           70,
           70,
           70,
           70,
           70,
           71,
           71,
           71,
           71,
           71,
           71,
           71,
           71,
           71,
           71,
           71,
           71,
           71,
           71,
           71,
           71,
           71,
           71,
           71,
           71,
           71,
           71,
           71,
           71,
           71,
           71,
           71,
           72,
           72,
           72,
           72,
           72,
           72,
           72,
           72,
           72,
           72,
           72,
           72,
           72,
           72,
           72,
           72,
           72,
           72,
           72,
           72,
           72,
           72,
           72,
           72,
           72,
           72,
           72,
           72,
           73,
           73,
           73,
           73,
           73,
           73,
           73,
           73,
           73,
           73,
           73,
           73,
           73,
           73,
           73,
           73,
           73,
           73,
           73,
           73,
           73,
           73,
           73,
           73,
           73,
           73,
           73,
           73,
           73,
           73,
           73,
           73,
           73,
           73,
           73,
           73,
           73,
           73,
           73,
           73,
           74,
           74,
           74,
           74,
           74,
           74,
           74,
           74,
           74,
           74,
           74,
           74,
           74,
           74,
           74,
           74,
           74,
           74,
           74,
           74,
           74,
           74,
           74,
           74,
           74,
           74,
           75,
           75,
           75,
           75,
           75,
           75,
           75,
           75,
           75,
           75,
           75,
           75,
           75,
           75,
           75,
           75,
           75,
           75,
           75,
           75,
           75,
           75,
           75,
           75,
           75,
           75,
           75,
           75,
           75,
           75,
           76,
           76,
           76,
           76,
           76,
           76,
           76,
           76,
           76,
           76,
           76,
           76,
           76,
           76,
           76,
           76,
           76,
           76,
           76,
           76,
           76,
           76,
           76,
           76,
           76,
           76,
           76,
           76,
           76,
           76,
           76,
           76,
           76,
           76,
           77,
           77,
           77,
           77,
           77,
           77,
           77,
           77,
           77,
           77,
           77,
           77,
           77,
           77,
           77,
           77,
           77,
           77,
           77,
           77,
           77,
           77,
           77,
           77,
           77,
           77,
           77,
           77,
           78,
           78,
           78,
           78,
           78,
           78,
           78,
           78,
           78,
           78,
           78,
           78,
           78,
           78,
           78,
           78,
           78,
           78,
           78,
           78,
           78,
           78,
           78,
           78,
           78,
           78,
           78,
           78,
           78,
           78,
           78,
           78,
           78,
           78,
           78,
           78,
           79,
           79,
           79,
           79,
           79,
           79,
           79,
           79,
           79,
           79,
           79,
           79,
           79,
           79,
           79,
           79,
           79,
           79,
           79,
           79,
           79,
           79,
           79,
           79,
           79,
           79,
           79,
           79,
           79,
           80,
           80,
           80,
           80,
           80,
           80,
           80,
           80,
           80,
           80,
           80,
           80,
           80,
           80,
           80,
           80,
           80,
           80,
           80,
           80,
           80,
           80,
           80,
           80,
           80,
           80,
           80,
           81,
           81,
           81,
           81,
           81,
           81,
           81,
           81,
           81,
           81,
           81,
           81,
           81,
           81,
           81,
           81,
           81,
           81,
           81,
           81,
           81,
           81,
           81,
           81,
           81,
           81,
           81,
           81,
           82,
           82,
           82,
           82,
           82,
           82,
           82,
           82,
           82,
           82,
           82,
           82,
           82,
           82,
           82,
           82,
           82,
           82,
           82,
           82,
           82,
           82,
           82,
           82,
           82,
           82,
           82,
           82,
           82,
           82
          ],
          "coloraxis": "coloraxis",
          "symbol": "circle"
         },
         "mode": "markers",
         "name": "",
         "orientation": "v",
         "showlegend": false,
         "type": "scatter",
         "x": [
          536.4367156333478,
          730.3330256702284,
          470.97183895921034,
          466.3930304353903,
          481.6574942693046,
          1383.906017680145,
          1400.5266184609027,
          1357.0386072051842,
          1471.3157974289934,
          891.7310059103916,
          605.2532374346374,
          645.609984543351,
          802.9675659633253,
          142.12251673179298,
          -610.8187031323946,
          -143.47600393360472,
          -201.85161749511008,
          -387.83530914439916,
          -853.1485488464177,
          -1147.624611353196,
          -313.67063786130075,
          -554.1243740943705,
          -608.8697478967415,
          -746.1918643823228,
          -327.2015739424569,
          1648.6721458274642,
          1404.7779582916473,
          1412.381441400892,
          1757.5548515098717,
          -853.1498856873345,
          -715.1366736413197,
          -753.7653965232716,
          -336.93743757632365,
          461.56125778321075,
          355.0305890462746,
          327.76072989407385,
          312.27272342141305,
          1242.5525498000025,
          1501.7916950553736,
          1187.6021016548439,
          1126.1367196389447,
          1987.4466845759061,
          1781.5315162994275,
          2172.840729970465,
          -7.977132694298689,
          -572.8927242899836,
          308.37481295010684,
          165.95452768821633,
          -761.0284357939995,
          -857.8481966653007,
          -911.4992998181078,
          -919.1705091771346,
          -1211.404368962455,
          -1369.9623331931828,
          -1148.0730853490018,
          -1028.2556568215164,
          -704.1329290065632,
          -857.3764926859271,
          -731.3842679854092,
          -572.1926539322758,
          -755.0737161120014,
          1307.0751586239985,
          1423.368947329409,
          1164.849750196976,
          1162.783862635115,
          703.6399415830051,
          1674.1544321127449,
          1533.0156358288668,
          1487.547371152803,
          1460.6824685529054,
          -657.3525205758519,
          922.0286807565553,
          1126.0836377201013,
          1320.4661142313353,
          1107.2745371421306,
          -52.35292021114719,
          -472.66504338675213,
          -7.7783383142000275,
          -795.4380490987796,
          -587.3114573832286,
          -696.1525324917948,
          -476.9244568714312,
          -819.5976306504763,
          -882.9315051428262,
          1134.7378532844496,
          703.6386047420888,
          1022.389119525662,
          1070.1935022282182,
          809.4703741554636,
          1990.427096407574,
          1500.8148447087842,
          1395.263565520835,
          1266.1013742456153,
          1776.9365815479423,
          1993.4594087484593,
          858.9246394420175,
          145.88758838688182,
          304.40143491966364,
          -28.217848153728482,
          48.81607572238772,
          -73.00001226852692,
          -1033.4708718534082,
          2029.911199161068,
          1940.240115362225,
          1685.6289847071002,
          1531.0104473912488,
          -183.07531774951894,
          -705.2438223834447,
          -579.8441305818842,
          -604.4846553482253,
          -862.1179008363156,
          -671.7292286986976,
          -506.2851593537239,
          -718.9490120230876,
          1115.7006717179975,
          1319.2944578256383,
          -1119.0619878593316,
          -823.6917132956501,
          -402.4022621721683,
          -116.87820271697638,
          434.23881321181807,
          -323.43276297787725,
          -173.0398227114706,
          702.1259146189095,
          123.54851614675181,
          -71.89693282935514,
          361.9753111335922,
          -1034.7120463475385,
          -531.9580725840628,
          -1148.8697859945971,
          -439.76123793452734,
          803.7161699164558,
          657.1118351751279,
          634.2828864249964,
          1168.5839992151705,
          1728.3753159831258,
          1484.4887765782487,
          1661.944014529964,
          1284.3527788853862,
          -764.8862183391511,
          -1021.8072572145559,
          -684.7886320600614,
          -1334.4350789212301,
          -981.8766503387508,
          -859.4242386427013,
          -876.2997321242938,
          -736.3375544671467,
          -493.80262403485676,
          -592.6128462099023,
          -985.0782419899133,
          287.4479245019543,
          484.2679683453848,
          456.1798007947891,
          184.18655291500363,
          1704.097434137866,
          1471.0760372367595,
          1525.1871593105843,
          1686.7179907959344,
          927.0092032237367,
          919.0600945181809,
          754.3927548751572,
          804.6321659084078,
          65.36635957536464,
          249.57799230377987,
          203.27286792952827,
          -812.9620853434212,
          -343.1612577889291,
          -58.99348053728909,
          -390.0118692180481,
          -280.80214111651776,
          -762.2991872090333,
          -438.3284414425448,
          3.4021160776073884,
          -1046.2435152012395,
          235.4416466811017,
          -290.95500437924875,
          -29.582255687714223,
          -40.9903566203302,
          -312.32116436808155,
          -1187.7516182616173,
          -520.5372764430463,
          -761.9160040154034,
          -409.3211888697515,
          -729.3084211498553,
          -781.4213611606419,
          1242.3823803245568,
          1219.4415876266976,
          990.3416474958572,
          1248.1096916999732,
          256.86846429226125,
          379.04296626630276,
          33.88813858355343,
          110.36312285896975,
          -950.235709936393,
          -820.3823193459475,
          -1046.244852042156,
          -1187.7529551025339,
          671.807068722007,
          597.372270729069,
          669.0992190477846,
          220.73985323449278,
          -1156.5852166054647,
          -994.2047266596314,
          -828.8462395787778,
          -417.0492628116235,
          163.69184569718118,
          971.2725658385716,
          281.1240227501021,
          -51.4902134467261,
          833.8312062858231,
          1412.8779824973517,
          1088.8944068421297,
          899.1764352491059,
          787.6274897153589,
          -938.2003740252899,
          -827.0519608243808,
          -1159.1512713636635,
          -681.2326992013964,
          -1038.8764874224105,
          910.029389620503,
          1082.201872848273,
          1169.6116110952044,
          1321.0624354480033,
          545.0133713128057,
          448.3418202014459,
          650.9595340508881,
          549.5091469494851,
          1259.7655440776152,
          1199.061616252745,
          1364.38620389453,
          1367.1125841175863,
          -1042.1560339577118,
          -241.4510554149806,
          -719.6532068329193,
          -227.77970296153035,
          -932.4391528353258,
          -907.8355854118608,
          -997.914247768342,
          -793.9870121695863,
          -167.22135251578857,
          -382.99867557069365,
          -268.56554445216943,
          -999.4563490056544,
          -1181.4852863517501,
          -1000.6725781070327,
          -914.7933133692645,
          -1182.5194788824726,
          392.2906554363667,
          767.3816236245734,
          601.7216390208346,
          557.5348529473044,
          176.38368429679167,
          -12.614442928086646,
          -262.5636699193751,
          452.422979779471,
          234.44496007119915,
          403.6700594386666,
          91.61654622292644,
          641.4211070043489,
          437.12206712950865,
          458.3604331251977,
          470.5320290989939,
          239.39486721017101,
          1109.8548736921866,
          -829.0073412794313,
          -421.80512308151356,
          -681.5380933176575,
          -753.4834751456806,
          -466.47554700337605,
          -235.25486445154274,
          -127.41154343313019,
          -577.3071041666449,
          -153.81386735955084,
          158.43192143668193,
          -189.23334008392158,
          426.7662015005794,
          -993.7110674856278,
          -848.8608630224812,
          270.04712149806437,
          12.201122409809159,
          -93.81007194436643,
          289.04080802367025,
          383.3239875037816,
          869.7351664537159,
          755.1954250226531,
          989.4643595853095,
          861.4896797301931,
          1392.0462735667952,
          1087.895160479768,
          631.9164756420855,
          976.070896102909,
          -1058.236349991457,
          -1009.1793723753083,
          -1066.7833342378653,
          -314.6830351495596,
          545.9906683351414,
          934.246261478937,
          203.44465551666144,
          446.10716205703284,
          -783.4599299341235,
          -833.0937342917487,
          -964.6232899007573,
          -854.5870033637516,
          -310.86312106430887,
          -381.82413909513525,
          -277.5931499441226,
          -424.0281949996943,
          -839.61771538722,
          -1015.9812528173086,
          -863.6757438784216,
          -965.5029613815148,
          -302.92304920800507,
          -113.66493052833312,
          19.696679116558244,
          403.3895071612628,
          -795.976374866641,
          -272.1085429362697,
          -442.0560879262589,
          -548.7170066540066,
          -718.3994614352414,
          -875.1694374506369,
          -180.66035333998843,
          -875.2837788979487,
          -900.1914139722371,
          -652.0223921841116,
          -37.24163945344844,
          263.4197228750927,
          -1132.6155787405492,
          -839.0900843466911,
          -1138.002477403886,
          -69.04177558753736,
          -567.9054662596886,
          -483.0132288263676,
          -693.8138019035109,
          -491.61075599011974,
          -345.8432601960212,
          -359.8499577340285,
          -252.9737567800944,
          -595.8417451411324,
          -1228.643944828005,
          -1108.488621838982,
          -1223.373947364439,
          -918.5055081598084,
          -1009.2963875044532,
          -934.5052163785399,
          -998.5666767492878,
          -768.845231774801,
          -938.3226225887272,
          -605.7761333926387,
          -793.2334962211207,
          -773.1123245168574,
          -634.0233308681954,
          -368.7322351875987,
          -349.77751572858324,
          243.4997289202406,
          174.31390034245123,
          -79.5933463654228,
          -52.172707325342344,
          438.6045472992055,
          759.7459312136111,
          81.80267602842196,
          486.5781263082049,
          -379.92832783030417,
          -345.1846647799666,
          -588.3903061323294,
          -409.82551164464985,
          -456.86842978069853,
          -246.3431859221455,
          -118.47511637956768,
          -1001.696811364063,
          -958.8609701041044,
          -1013.4581548974918,
          -858.1874164594424,
          -858.715037124492,
          -820.7544550346747,
          -778.0770417935364,
          -738.4504921930757,
          -1018.4605023998447,
          -1018.4605023998447,
          -988.6802197852696,
          -33.671622868967006,
          44.10318379919181,
          -394.5949576252824,
          -136.95664450967024,
          -316.39709975446067,
          -610.7332232893364,
          -32.91782718435752,
          -193.1596253155467,
          -854.5674053346656,
          -685.1839298257737,
          -359.5107781080733,
          -265.2039900761265
         ],
         "xaxis": "x",
         "y": [
          50.754633114376986,
          79.06310502802366,
          75.33846507589197,
          62.44824878777439,
          55.64320294832439,
          85.4230715076014,
          114.07348774798362,
          104.40324178659827,
          107.93569229581692,
          105.41657260677201,
          127.49022208812288,
          78.25135759302177,
          113.71214576468392,
          269.6380505231965,
          -6.611588507865889,
          18.178075856829395,
          26.845654226571085,
          46.79950375662588,
          5.38173216516833,
          28.49259203726757,
          -48.064159870501754,
          -20.785325776333224,
          -15.493347774151715,
          22.989944374940407,
          39.9761282758072,
          -7.916716516947673,
          -33.69386018438942,
          -21.02614317102433,
          -81.61122745446258,
          5.357875229598193,
          30.47561410384364,
          10.754501968619735,
          75.86062674910204,
          -26.490456157472323,
          8.968915171596706,
          8.653993277678268,
          -3.1187177473178735,
          16.72526986592038,
          36.24056715847813,
          20.738334268257375,
          -4.389317498267076,
          -37.656845635920575,
          0.6954463791694252,
          -45.395574859228105,
          63.84160362473354,
          7.722361141269516,
          14.644800785253778,
          28.33844763993585,
          17.55842607812059,
          24.784687757611337,
          -10.28161038441226,
          1.1124985408820294,
          17.0055420879647,
          38.46615918983089,
          32.760958498017644,
          15.448540528874503,
          4.69246884830801,
          3.9066848494215094,
          -19.771346906221254,
          13.061809756217741,
          16.809988000381452,
          8.85178389018617,
          45.75702859479969,
          -9.122951857935647,
          23.733565425058032,
          33.53805275356936,
          53.09202291230268,
          -21.66191370696785,
          -14.61698451963943,
          45.75819951018954,
          -41.69543975528316,
          6.97007754070637,
          -21.026613831493307,
          -46.44968844494866,
          -2.11866748363542,
          -61.76943397836044,
          -21.533838080178157,
          -75.72019918795385,
          -8.398904206758743,
          -3.599047504045103,
          -12.554772771862389,
          -15.619438285566048,
          -0.20902523458201472,
          8.956924004873002,
          32.820394272249146,
          33.51419581799922,
          37.40706634187312,
          -16.935021667840914,
          34.08653268924397,
          11.564987723348878,
          28.743817800506847,
          -3.0591489577365394,
          -21.464688210378597,
          53.24870045697406,
          44.342508025625065,
          75.97949371110866,
          11.864630506343929,
          15.080141008892866,
          38.255457008869115,
          42.540829564785724,
          9.532294867785964,
          14.533216005651553,
          -35.62314032883842,
          -19.568315541563635,
          -26.10632862405228,
          -13.874444584622438,
          57.094566705262864,
          -12.683603672071968,
          8.519991935993119,
          -12.559503563914063,
          -18.927740746030622,
          6.344033654972236,
          24.573545927225723,
          -9.450383868597697,
          26.055295114558945,
          75.04274676560479,
          -2.0011486204620326,
          16.04082926505336,
          -32.28873733558373,
          -53.9436618737665,
          79.73514464589034,
          -29.42077178418799,
          -10.466205585644133,
          86.96309770056199,
          -14.402739759360855,
          43.54519511587158,
          8.051999699022474,
          3.727611488616759,
          -12.197287218935372,
          9.325869288479907,
          -7.637637582128576,
          -45.6877683451776,
          -17.14152805751408,
          -47.574880087083415,
          -28.02058319077966,
          -46.98984884335616,
          -48.056520358811696,
          -88.04005446711099,
          -37.15632247904742,
          -6.004848650518284,
          2.157685680583967,
          -18.223108799965985,
          32.76818793026203,
          -0.6741932528481698,
          -4.609629841391211,
          -2.556649938579085,
          5.389782244338022,
          -13.614172253894168,
          -14.330484203295441,
          -2.3105646961248,
          -8.431881447889708,
          -5.335963553645712,
          -11.908075256502201,
          21.181130235881696,
          10.019573485085772,
          -17.225760239331038,
          -53.03168176586993,
          -41.5909529898897,
          -75.93376009476694,
          -58.230386931982,
          -29.000210315177725,
          -71.34967729289701,
          28.88897847234695,
          36.25485377669216,
          86.06012929082092,
          -3.562355437322566,
          -16.99186496031146,
          41.951412372268635,
          -12.805786444020583,
          -26.406114296734614,
          -17.660157776947813,
          -21.347394149175017,
          -25.138984145598414,
          16.580248580300804,
          3.1050316401712337,
          -43.723512549852046,
          -72.83701105390472,
          -67.46162694203417,
          -29.307077318605224,
          29.60993244672197,
          -26.226272873271256,
          10.269688506102824,
          -6.242913033068703,
          -11.591895052565462,
          -1.1597597204459476,
          -34.16497491693704,
          -15.860373403431907,
          -10.517639444409525,
          12.954513225548709,
          -3.222262051553855,
          7.441113022436298,
          -5.859981104991363,
          18.2973786901499,
          -5.374777391881906,
          -6.263681366327347,
          16.556391644730667,
          29.586075511151833,
          -53.7014149559935,
          -27.292584039898998,
          -26.33202879908839,
          31.356523681278134,
          37.006121147626104,
          5.422886724903833,
          -1.6539959937753963,
          -11.356796756669695,
          -82.53069186195049,
          14.330507520276,
          -110.65985090595717,
          -29.563149679444194,
          -122.10785714056374,
          0.4248439283521179,
          29.244339447609008,
          1.6790036646470696,
          36.67175940381986,
          10.467012373573425,
          13.064461027222762,
          16.069828368501163,
          10.733816763845653,
          10.83338835560113,
          7.756755682627642,
          -67.00667174001214,
          -11.335861251626625,
          -49.66935084122653,
          -11.26044527280456,
          -19.263262642364538,
          -51.18923789397218,
          -15.439799924957583,
          67.05353242396248,
          23.385530392438397,
          57.352976630737544,
          -2.4548508118209327,
          25.18018892346302,
          -17.33420366646189,
          -14.961840535777014,
          -29.260379063212753,
          8.252624134038228,
          11.313527954827066,
          16.468254742989956,
          -5.010692000244916,
          -28.44285333231585,
          -22.27038810477862,
          -75.57292389296455,
          4.1568774078271815,
          39.434295904290565,
          -6.010568507881629,
          -4.2859090418229755,
          31.02027395785008,
          16.900120292325738,
          36.05970181184384,
          40.541999677215415,
          -32.571107184366184,
          -19.005418991867174,
          0.9600363154184492,
          -25.35547408893703,
          -27.060390090575993,
          3.1542243571556696,
          -13.852761011667269,
          -11.720133672538878,
          -47.02584539786159,
          12.552160655190391,
          62.68030202820593,
          -3.8247048834368798,
          84.62068582582899,
          -5.603713862873093,
          -2.840832168428193,
          -9.62722615825217,
          8.168098349348327,
          -3.186113079626864,
          -4.1928675919847365,
          -8.163495925460325,
          -32.13975008535738,
          -4.512071638609001,
          -42.68950909847126,
          -43.27960596585302,
          -44.353325063474756,
          -73.50206600767163,
          9.459564804437406,
          -0.42556169453158077,
          5.40607194629726,
          -2.0829087125224817,
          -45.90913005262854,
          -3.511626381630208,
          -15.651186172775482,
          8.070161467182032,
          18.820182374214,
          40.10999870686919,
          23.073503027898482,
          -4.680491891292689,
          29.34625553897382,
          -1.0113076083043495,
          54.016457291171875,
          17.285336909031344,
          6.619569309049865,
          29.694093616440156,
          -39.71039121875435,
          -85.77123262112005,
          41.931886424132685,
          -86.25692365932301,
          4.27504116407502,
          -1.0768714017182504,
          4.961304783023337,
          0.23860310998227874,
          -6.173893021755333,
          -8.332548040017457,
          28.99911964552922,
          16.318949657571892,
          5.434493661193358,
          0.8235440768605997,
          8.79107284037778,
          1.9341001286971107,
          1.2821173309071412,
          -9.322513165146262,
          -43.517716514302066,
          -48.57065836596655,
          -24.17030549540189,
          -4.840735759565661,
          -29.400039204678222,
          -26.712931851552355,
          -9.551734794265627,
          -4.620727381685782,
          -9.707363325322547,
          -14.85320359981634,
          -10.653970958122699,
          -7.967188832796268,
          -38.158069756504176,
          -77.42153324202948,
          -89.98539953047523,
          27.02011383828092,
          -2.925479854893524,
          24.240909093788574,
          -8.732941286868567,
          -51.86112811395935,
          -15.874150137617022,
          -9.480307365276445,
          -3.576318287729805,
          -5.941307098678038,
          2.986875276531123,
          11.762340596694656,
          9.103851700227523,
          24.427847284858828,
          18.350246387919526,
          26.313167770931457,
          6.711745105122901,
          5.625247805109467,
          -0.5394701992220519,
          10.991142623381762,
          -5.021768064593658,
          9.477700372873187,
          -30.978080064895437,
          1.2748956419827948,
          1.0508018531596974,
          -14.909483831316606,
          -29.050098162814322,
          -38.26575791021506,
          -88.45352570299735,
          -77.4054941910515,
          -12.316545697062224,
          -35.572973651617474,
          -16.661248050330556,
          57.05856081012317,
          -9.690184983881238,
          -35.828105518704064,
          -38.06811032471609,
          -42.29483365403519,
          -12.707770348801432,
          -35.33908887229086,
          -7.82689855261907,
          -16.253747886891915,
          -41.769767089075174,
          26.6113786823273,
          6.136744740018372,
          12.778738543234113,
          5.823092132371073,
          1.2825686390827116,
          23.24451878188519,
          1.6307625360637132,
          -3.742977876295612,
          13.084594742235026,
          13.084594742235026,
          9.46168903139008,
          -7.256630489337255,
          53.516105622005526,
          7.189741670280085,
          54.90026922884829,
          -12.638786141015288,
          10.891447620079845,
          -42.217905481280724,
          -34.500271328802256,
          -5.631162162709927,
          19.94871189719221,
          -35.592172511470665,
          -47.11743063686012
         ],
         "yaxis": "y"
        }
       ],
       "layout": {
        "coloraxis": {
         "colorbar": {
          "title": {
           "text": "model_year"
          }
         },
         "colorscale": [
          [
           0,
           "#0d0887"
          ],
          [
           0.1111111111111111,
           "#46039f"
          ],
          [
           0.2222222222222222,
           "#7201a8"
          ],
          [
           0.3333333333333333,
           "#9c179e"
          ],
          [
           0.4444444444444444,
           "#bd3786"
          ],
          [
           0.5555555555555556,
           "#d8576b"
          ],
          [
           0.6666666666666666,
           "#ed7953"
          ],
          [
           0.7777777777777778,
           "#fb9f3a"
          ],
          [
           0.8888888888888888,
           "#fdca26"
          ],
          [
           1,
           "#f0f921"
          ]
         ]
        },
        "legend": {
         "tracegroupgap": 0
        },
        "margin": {
         "t": 60
        },
        "template": {
         "data": {
          "bar": [
           {
            "error_x": {
             "color": "#2a3f5f"
            },
            "error_y": {
             "color": "#2a3f5f"
            },
            "marker": {
             "line": {
              "color": "#E5ECF6",
              "width": 0.5
             },
             "pattern": {
              "fillmode": "overlay",
              "size": 10,
              "solidity": 0.2
             }
            },
            "type": "bar"
           }
          ],
          "barpolar": [
           {
            "marker": {
             "line": {
              "color": "#E5ECF6",
              "width": 0.5
             },
             "pattern": {
              "fillmode": "overlay",
              "size": 10,
              "solidity": 0.2
             }
            },
            "type": "barpolar"
           }
          ],
          "carpet": [
           {
            "aaxis": {
             "endlinecolor": "#2a3f5f",
             "gridcolor": "white",
             "linecolor": "white",
             "minorgridcolor": "white",
             "startlinecolor": "#2a3f5f"
            },
            "baxis": {
             "endlinecolor": "#2a3f5f",
             "gridcolor": "white",
             "linecolor": "white",
             "minorgridcolor": "white",
             "startlinecolor": "#2a3f5f"
            },
            "type": "carpet"
           }
          ],
          "choropleth": [
           {
            "colorbar": {
             "outlinewidth": 0,
             "ticks": ""
            },
            "type": "choropleth"
           }
          ],
          "contour": [
           {
            "colorbar": {
             "outlinewidth": 0,
             "ticks": ""
            },
            "colorscale": [
             [
              0,
              "#0d0887"
             ],
             [
              0.1111111111111111,
              "#46039f"
             ],
             [
              0.2222222222222222,
              "#7201a8"
             ],
             [
              0.3333333333333333,
              "#9c179e"
             ],
             [
              0.4444444444444444,
              "#bd3786"
             ],
             [
              0.5555555555555556,
              "#d8576b"
             ],
             [
              0.6666666666666666,
              "#ed7953"
             ],
             [
              0.7777777777777778,
              "#fb9f3a"
             ],
             [
              0.8888888888888888,
              "#fdca26"
             ],
             [
              1,
              "#f0f921"
             ]
            ],
            "type": "contour"
           }
          ],
          "contourcarpet": [
           {
            "colorbar": {
             "outlinewidth": 0,
             "ticks": ""
            },
            "type": "contourcarpet"
           }
          ],
          "heatmap": [
           {
            "colorbar": {
             "outlinewidth": 0,
             "ticks": ""
            },
            "colorscale": [
             [
              0,
              "#0d0887"
             ],
             [
              0.1111111111111111,
              "#46039f"
             ],
             [
              0.2222222222222222,
              "#7201a8"
             ],
             [
              0.3333333333333333,
              "#9c179e"
             ],
             [
              0.4444444444444444,
              "#bd3786"
             ],
             [
              0.5555555555555556,
              "#d8576b"
             ],
             [
              0.6666666666666666,
              "#ed7953"
             ],
             [
              0.7777777777777778,
              "#fb9f3a"
             ],
             [
              0.8888888888888888,
              "#fdca26"
             ],
             [
              1,
              "#f0f921"
             ]
            ],
            "type": "heatmap"
           }
          ],
          "heatmapgl": [
           {
            "colorbar": {
             "outlinewidth": 0,
             "ticks": ""
            },
            "colorscale": [
             [
              0,
              "#0d0887"
             ],
             [
              0.1111111111111111,
              "#46039f"
             ],
             [
              0.2222222222222222,
              "#7201a8"
             ],
             [
              0.3333333333333333,
              "#9c179e"
             ],
             [
              0.4444444444444444,
              "#bd3786"
             ],
             [
              0.5555555555555556,
              "#d8576b"
             ],
             [
              0.6666666666666666,
              "#ed7953"
             ],
             [
              0.7777777777777778,
              "#fb9f3a"
             ],
             [
              0.8888888888888888,
              "#fdca26"
             ],
             [
              1,
              "#f0f921"
             ]
            ],
            "type": "heatmapgl"
           }
          ],
          "histogram": [
           {
            "marker": {
             "pattern": {
              "fillmode": "overlay",
              "size": 10,
              "solidity": 0.2
             }
            },
            "type": "histogram"
           }
          ],
          "histogram2d": [
           {
            "colorbar": {
             "outlinewidth": 0,
             "ticks": ""
            },
            "colorscale": [
             [
              0,
              "#0d0887"
             ],
             [
              0.1111111111111111,
              "#46039f"
             ],
             [
              0.2222222222222222,
              "#7201a8"
             ],
             [
              0.3333333333333333,
              "#9c179e"
             ],
             [
              0.4444444444444444,
              "#bd3786"
             ],
             [
              0.5555555555555556,
              "#d8576b"
             ],
             [
              0.6666666666666666,
              "#ed7953"
             ],
             [
              0.7777777777777778,
              "#fb9f3a"
             ],
             [
              0.8888888888888888,
              "#fdca26"
             ],
             [
              1,
              "#f0f921"
             ]
            ],
            "type": "histogram2d"
           }
          ],
          "histogram2dcontour": [
           {
            "colorbar": {
             "outlinewidth": 0,
             "ticks": ""
            },
            "colorscale": [
             [
              0,
              "#0d0887"
             ],
             [
              0.1111111111111111,
              "#46039f"
             ],
             [
              0.2222222222222222,
              "#7201a8"
             ],
             [
              0.3333333333333333,
              "#9c179e"
             ],
             [
              0.4444444444444444,
              "#bd3786"
             ],
             [
              0.5555555555555556,
              "#d8576b"
             ],
             [
              0.6666666666666666,
              "#ed7953"
             ],
             [
              0.7777777777777778,
              "#fb9f3a"
             ],
             [
              0.8888888888888888,
              "#fdca26"
             ],
             [
              1,
              "#f0f921"
             ]
            ],
            "type": "histogram2dcontour"
           }
          ],
          "mesh3d": [
           {
            "colorbar": {
             "outlinewidth": 0,
             "ticks": ""
            },
            "type": "mesh3d"
           }
          ],
          "parcoords": [
           {
            "line": {
             "colorbar": {
              "outlinewidth": 0,
              "ticks": ""
             }
            },
            "type": "parcoords"
           }
          ],
          "pie": [
           {
            "automargin": true,
            "type": "pie"
           }
          ],
          "scatter": [
           {
            "fillpattern": {
             "fillmode": "overlay",
             "size": 10,
             "solidity": 0.2
            },
            "type": "scatter"
           }
          ],
          "scatter3d": [
           {
            "line": {
             "colorbar": {
              "outlinewidth": 0,
              "ticks": ""
             }
            },
            "marker": {
             "colorbar": {
              "outlinewidth": 0,
              "ticks": ""
             }
            },
            "type": "scatter3d"
           }
          ],
          "scattercarpet": [
           {
            "marker": {
             "colorbar": {
              "outlinewidth": 0,
              "ticks": ""
             }
            },
            "type": "scattercarpet"
           }
          ],
          "scattergeo": [
           {
            "marker": {
             "colorbar": {
              "outlinewidth": 0,
              "ticks": ""
             }
            },
            "type": "scattergeo"
           }
          ],
          "scattergl": [
           {
            "marker": {
             "colorbar": {
              "outlinewidth": 0,
              "ticks": ""
             }
            },
            "type": "scattergl"
           }
          ],
          "scattermapbox": [
           {
            "marker": {
             "colorbar": {
              "outlinewidth": 0,
              "ticks": ""
             }
            },
            "type": "scattermapbox"
           }
          ],
          "scatterpolar": [
           {
            "marker": {
             "colorbar": {
              "outlinewidth": 0,
              "ticks": ""
             }
            },
            "type": "scatterpolar"
           }
          ],
          "scatterpolargl": [
           {
            "marker": {
             "colorbar": {
              "outlinewidth": 0,
              "ticks": ""
             }
            },
            "type": "scatterpolargl"
           }
          ],
          "scatterternary": [
           {
            "marker": {
             "colorbar": {
              "outlinewidth": 0,
              "ticks": ""
             }
            },
            "type": "scatterternary"
           }
          ],
          "surface": [
           {
            "colorbar": {
             "outlinewidth": 0,
             "ticks": ""
            },
            "colorscale": [
             [
              0,
              "#0d0887"
             ],
             [
              0.1111111111111111,
              "#46039f"
             ],
             [
              0.2222222222222222,
              "#7201a8"
             ],
             [
              0.3333333333333333,
              "#9c179e"
             ],
             [
              0.4444444444444444,
              "#bd3786"
             ],
             [
              0.5555555555555556,
              "#d8576b"
             ],
             [
              0.6666666666666666,
              "#ed7953"
             ],
             [
              0.7777777777777778,
              "#fb9f3a"
             ],
             [
              0.8888888888888888,
              "#fdca26"
             ],
             [
              1,
              "#f0f921"
             ]
            ],
            "type": "surface"
           }
          ],
          "table": [
           {
            "cells": {
             "fill": {
              "color": "#EBF0F8"
             },
             "line": {
              "color": "white"
             }
            },
            "header": {
             "fill": {
              "color": "#C8D4E3"
             },
             "line": {
              "color": "white"
             }
            },
            "type": "table"
           }
          ]
         },
         "layout": {
          "annotationdefaults": {
           "arrowcolor": "#2a3f5f",
           "arrowhead": 0,
           "arrowwidth": 1
          },
          "autotypenumbers": "strict",
          "coloraxis": {
           "colorbar": {
            "outlinewidth": 0,
            "ticks": ""
           }
          },
          "colorscale": {
           "diverging": [
            [
             0,
             "#8e0152"
            ],
            [
             0.1,
             "#c51b7d"
            ],
            [
             0.2,
             "#de77ae"
            ],
            [
             0.3,
             "#f1b6da"
            ],
            [
             0.4,
             "#fde0ef"
            ],
            [
             0.5,
             "#f7f7f7"
            ],
            [
             0.6,
             "#e6f5d0"
            ],
            [
             0.7,
             "#b8e186"
            ],
            [
             0.8,
             "#7fbc41"
            ],
            [
             0.9,
             "#4d9221"
            ],
            [
             1,
             "#276419"
            ]
           ],
           "sequential": [
            [
             0,
             "#0d0887"
            ],
            [
             0.1111111111111111,
             "#46039f"
            ],
            [
             0.2222222222222222,
             "#7201a8"
            ],
            [
             0.3333333333333333,
             "#9c179e"
            ],
            [
             0.4444444444444444,
             "#bd3786"
            ],
            [
             0.5555555555555556,
             "#d8576b"
            ],
            [
             0.6666666666666666,
             "#ed7953"
            ],
            [
             0.7777777777777778,
             "#fb9f3a"
            ],
            [
             0.8888888888888888,
             "#fdca26"
            ],
            [
             1,
             "#f0f921"
            ]
           ],
           "sequentialminus": [
            [
             0,
             "#0d0887"
            ],
            [
             0.1111111111111111,
             "#46039f"
            ],
            [
             0.2222222222222222,
             "#7201a8"
            ],
            [
             0.3333333333333333,
             "#9c179e"
            ],
            [
             0.4444444444444444,
             "#bd3786"
            ],
            [
             0.5555555555555556,
             "#d8576b"
            ],
            [
             0.6666666666666666,
             "#ed7953"
            ],
            [
             0.7777777777777778,
             "#fb9f3a"
            ],
            [
             0.8888888888888888,
             "#fdca26"
            ],
            [
             1,
             "#f0f921"
            ]
           ]
          },
          "colorway": [
           "#636efa",
           "#EF553B",
           "#00cc96",
           "#ab63fa",
           "#FFA15A",
           "#19d3f3",
           "#FF6692",
           "#B6E880",
           "#FF97FF",
           "#FECB52"
          ],
          "font": {
           "color": "#2a3f5f"
          },
          "geo": {
           "bgcolor": "white",
           "lakecolor": "white",
           "landcolor": "#E5ECF6",
           "showlakes": true,
           "showland": true,
           "subunitcolor": "white"
          },
          "hoverlabel": {
           "align": "left"
          },
          "hovermode": "closest",
          "mapbox": {
           "style": "light"
          },
          "paper_bgcolor": "white",
          "plot_bgcolor": "#E5ECF6",
          "polar": {
           "angularaxis": {
            "gridcolor": "white",
            "linecolor": "white",
            "ticks": ""
           },
           "bgcolor": "#E5ECF6",
           "radialaxis": {
            "gridcolor": "white",
            "linecolor": "white",
            "ticks": ""
           }
          },
          "scene": {
           "xaxis": {
            "backgroundcolor": "#E5ECF6",
            "gridcolor": "white",
            "gridwidth": 2,
            "linecolor": "white",
            "showbackground": true,
            "ticks": "",
            "zerolinecolor": "white"
           },
           "yaxis": {
            "backgroundcolor": "#E5ECF6",
            "gridcolor": "white",
            "gridwidth": 2,
            "linecolor": "white",
            "showbackground": true,
            "ticks": "",
            "zerolinecolor": "white"
           },
           "zaxis": {
            "backgroundcolor": "#E5ECF6",
            "gridcolor": "white",
            "gridwidth": 2,
            "linecolor": "white",
            "showbackground": true,
            "ticks": "",
            "zerolinecolor": "white"
           }
          },
          "shapedefaults": {
           "line": {
            "color": "#2a3f5f"
           }
          },
          "ternary": {
           "aaxis": {
            "gridcolor": "white",
            "linecolor": "white",
            "ticks": ""
           },
           "baxis": {
            "gridcolor": "white",
            "linecolor": "white",
            "ticks": ""
           },
           "bgcolor": "#E5ECF6",
           "caxis": {
            "gridcolor": "white",
            "linecolor": "white",
            "ticks": ""
           }
          },
          "title": {
           "x": 0.05
          },
          "xaxis": {
           "automargin": true,
           "gridcolor": "white",
           "linecolor": "white",
           "ticks": "",
           "title": {
            "standoff": 15
           },
           "zerolinecolor": "white",
           "zerolinewidth": 2
          },
          "yaxis": {
           "automargin": true,
           "gridcolor": "white",
           "linecolor": "white",
           "ticks": "",
           "title": {
            "standoff": 15
           },
           "zerolinecolor": "white",
           "zerolinewidth": 2
          }
         }
        },
        "xaxis": {
         "anchor": "y",
         "domain": [
          0,
          1
         ],
         "title": {
          "text": "z1"
         }
        },
        "yaxis": {
         "anchor": "x",
         "domain": [
          0,
          1
         ],
         "title": {
          "text": "z2"
         }
        }
       }
      }
     },
     "metadata": {},
     "output_type": "display_data"
    }
   ],
   "source": [
    "px.scatter(mpg, x=\"z1\", y=\"z2\", color=\"model_year\", hover_data=[\"displacement\", \"horsepower\", \"weight\", \"name\"])"
   ]
  },
  {
   "cell_type": "markdown",
   "id": "3eeeadf0-3dfb-4667-a786-12f6efc119da",
   "metadata": {},
   "source": [
    "\n",
    "---\n",
    "\n",
    "## Singular Value Decomposition "
   ]
  },
  {
   "cell_type": "markdown",
   "id": "03982be2",
   "metadata": {},
   "source": [
    "Singular value decomposition is a numerical technique to automatically decompose matrix into three matrices. Given an input matrix X, SVD will return $U$, $S$ and $V^T$ such that $ X = U S V^T $.\n",
    "\n",
    "Check the documentation of `np.linalg.svd` [here](https://numpy.org/doc/stable/reference/generated/numpy.linalg.svd.html). There are multiple versions of SVD; to get the version that we will follow, we need to set the `full_matrices` parameter to `False`."
   ]
  },
  {
   "cell_type": "markdown",
   "id": "2b46dab1",
   "metadata": {},
   "source": [
    "For PCA we will typically work with data that is already centered."
   ]
  },
  {
   "cell_type": "code",
   "execution_count": 12,
   "id": "5e96118f-03c1-49ff-9c15-a50a690fb3b3",
   "metadata": {},
   "outputs": [
    {
     "data": {
      "text/html": [
       "<div>\n",
       "<style scoped>\n",
       "    .dataframe tbody tr th:only-of-type {\n",
       "        vertical-align: middle;\n",
       "    }\n",
       "\n",
       "    .dataframe tbody tr th {\n",
       "        vertical-align: top;\n",
       "    }\n",
       "\n",
       "    .dataframe thead th {\n",
       "        text-align: right;\n",
       "    }\n",
       "</style>\n",
       "<table border=\"1\" class=\"dataframe\">\n",
       "  <thead>\n",
       "    <tr style=\"text-align: right;\">\n",
       "      <th></th>\n",
       "      <th>width</th>\n",
       "      <th>height</th>\n",
       "      <th>area</th>\n",
       "      <th>perimeter</th>\n",
       "    </tr>\n",
       "  </thead>\n",
       "  <tbody>\n",
       "    <tr>\n",
       "      <th>0</th>\n",
       "      <td>8</td>\n",
       "      <td>6</td>\n",
       "      <td>48</td>\n",
       "      <td>28</td>\n",
       "    </tr>\n",
       "    <tr>\n",
       "      <th>1</th>\n",
       "      <td>2</td>\n",
       "      <td>4</td>\n",
       "      <td>8</td>\n",
       "      <td>12</td>\n",
       "    </tr>\n",
       "    <tr>\n",
       "      <th>2</th>\n",
       "      <td>1</td>\n",
       "      <td>3</td>\n",
       "      <td>3</td>\n",
       "      <td>8</td>\n",
       "    </tr>\n",
       "    <tr>\n",
       "      <th>3</th>\n",
       "      <td>9</td>\n",
       "      <td>3</td>\n",
       "      <td>27</td>\n",
       "      <td>24</td>\n",
       "    </tr>\n",
       "    <tr>\n",
       "      <th>4</th>\n",
       "      <td>9</td>\n",
       "      <td>8</td>\n",
       "      <td>72</td>\n",
       "      <td>34</td>\n",
       "    </tr>\n",
       "    <tr>\n",
       "      <th>...</th>\n",
       "      <td>...</td>\n",
       "      <td>...</td>\n",
       "      <td>...</td>\n",
       "      <td>...</td>\n",
       "    </tr>\n",
       "    <tr>\n",
       "      <th>95</th>\n",
       "      <td>8</td>\n",
       "      <td>5</td>\n",
       "      <td>40</td>\n",
       "      <td>26</td>\n",
       "    </tr>\n",
       "    <tr>\n",
       "      <th>96</th>\n",
       "      <td>8</td>\n",
       "      <td>7</td>\n",
       "      <td>56</td>\n",
       "      <td>30</td>\n",
       "    </tr>\n",
       "    <tr>\n",
       "      <th>97</th>\n",
       "      <td>1</td>\n",
       "      <td>4</td>\n",
       "      <td>4</td>\n",
       "      <td>10</td>\n",
       "    </tr>\n",
       "    <tr>\n",
       "      <th>98</th>\n",
       "      <td>1</td>\n",
       "      <td>6</td>\n",
       "      <td>6</td>\n",
       "      <td>14</td>\n",
       "    </tr>\n",
       "    <tr>\n",
       "      <th>99</th>\n",
       "      <td>2</td>\n",
       "      <td>6</td>\n",
       "      <td>12</td>\n",
       "      <td>16</td>\n",
       "    </tr>\n",
       "  </tbody>\n",
       "</table>\n",
       "<p>100 rows × 4 columns</p>\n",
       "</div>"
      ],
      "text/plain": [
       "    width  height  area  perimeter\n",
       "0       8       6    48         28\n",
       "1       2       4     8         12\n",
       "2       1       3     3          8\n",
       "3       9       3    27         24\n",
       "4       9       8    72         34\n",
       "..    ...     ...   ...        ...\n",
       "95      8       5    40         26\n",
       "96      8       7    56         30\n",
       "97      1       4     4         10\n",
       "98      1       6     6         14\n",
       "99      2       6    12         16\n",
       "\n",
       "[100 rows x 4 columns]"
      ]
     },
     "execution_count": 12,
     "metadata": {},
     "output_type": "execute_result"
    }
   ],
   "source": [
    "rectangle = pd.read_csv(\"data/rectangle_data.csv\")\n",
    "rectangle"
   ]
  },
  {
   "cell_type": "code",
   "execution_count": 13,
   "id": "19a2e9fd",
   "metadata": {},
   "outputs": [
    {
     "data": {
      "application/vnd.plotly.v1+json": {
       "config": {
        "plotlyServerURL": "https://plot.ly"
       },
       "data": [
        {
         "hovertemplate": "width=%{x}<br>height=%{y}<br>area=%{z}<extra></extra>",
         "legendgroup": "",
         "marker": {
          "color": "#636efa",
          "symbol": "circle"
         },
         "mode": "markers",
         "name": "",
         "scene": "scene",
         "showlegend": false,
         "type": "scatter3d",
         "x": [
          8,
          2,
          1,
          9,
          9,
          3,
          4,
          6,
          7,
          8,
          5,
          9,
          8,
          1,
          2,
          7,
          7,
          2,
          2,
          4,
          8,
          8,
          9,
          7,
          8,
          6,
          6,
          8,
          7,
          4,
          4,
          9,
          4,
          1,
          8,
          5,
          9,
          6,
          3,
          7,
          7,
          3,
          5,
          7,
          8,
          2,
          7,
          1,
          3,
          2,
          5,
          9,
          6,
          2,
          6,
          9,
          2,
          3,
          6,
          8,
          9,
          3,
          2,
          1,
          3,
          2,
          6,
          5,
          2,
          2,
          1,
          1,
          6,
          8,
          2,
          4,
          1,
          9,
          5,
          3,
          2,
          2,
          8,
          1,
          5,
          5,
          9,
          3,
          9,
          8,
          9,
          4,
          4,
          1,
          6,
          8,
          8,
          1,
          1,
          2
         ],
         "y": [
          6,
          4,
          3,
          3,
          8,
          1,
          2,
          5,
          1,
          2,
          5,
          5,
          4,
          2,
          9,
          8,
          5,
          4,
          5,
          3,
          1,
          5,
          8,
          3,
          3,
          6,
          4,
          4,
          2,
          4,
          1,
          7,
          2,
          2,
          1,
          4,
          5,
          9,
          7,
          3,
          7,
          3,
          5,
          3,
          2,
          6,
          1,
          2,
          5,
          6,
          6,
          1,
          3,
          6,
          8,
          1,
          8,
          7,
          5,
          6,
          2,
          9,
          5,
          4,
          3,
          9,
          4,
          2,
          6,
          5,
          3,
          3,
          7,
          6,
          7,
          6,
          1,
          8,
          5,
          9,
          8,
          2,
          3,
          8,
          1,
          7,
          5,
          1,
          7,
          5,
          8,
          5,
          5,
          5,
          6,
          5,
          7,
          4,
          6,
          6
         ],
         "z": [
          48,
          8,
          3,
          27,
          72,
          3,
          8,
          30,
          7,
          16,
          25,
          45,
          32,
          2,
          18,
          56,
          35,
          8,
          10,
          12,
          8,
          40,
          72,
          21,
          24,
          36,
          24,
          32,
          14,
          16,
          4,
          63,
          8,
          2,
          8,
          20,
          45,
          54,
          21,
          21,
          49,
          9,
          25,
          21,
          16,
          12,
          7,
          2,
          15,
          12,
          30,
          9,
          18,
          12,
          48,
          9,
          16,
          21,
          30,
          48,
          18,
          27,
          10,
          4,
          9,
          18,
          24,
          10,
          12,
          10,
          3,
          3,
          42,
          48,
          14,
          24,
          1,
          72,
          25,
          27,
          16,
          4,
          24,
          8,
          5,
          35,
          45,
          3,
          63,
          40,
          72,
          20,
          20,
          5,
          36,
          40,
          56,
          4,
          6,
          12
         ]
        }
       ],
       "layout": {
        "height": 800,
        "legend": {
         "tracegroupgap": 0
        },
        "margin": {
         "t": 60
        },
        "scene": {
         "domain": {
          "x": [
           0,
           1
          ],
          "y": [
           0,
           1
          ]
         },
         "xaxis": {
          "title": {
           "text": "width"
          }
         },
         "yaxis": {
          "title": {
           "text": "height"
          }
         },
         "zaxis": {
          "title": {
           "text": "area"
          }
         }
        },
        "template": {
         "data": {
          "bar": [
           {
            "error_x": {
             "color": "#2a3f5f"
            },
            "error_y": {
             "color": "#2a3f5f"
            },
            "marker": {
             "line": {
              "color": "#E5ECF6",
              "width": 0.5
             },
             "pattern": {
              "fillmode": "overlay",
              "size": 10,
              "solidity": 0.2
             }
            },
            "type": "bar"
           }
          ],
          "barpolar": [
           {
            "marker": {
             "line": {
              "color": "#E5ECF6",
              "width": 0.5
             },
             "pattern": {
              "fillmode": "overlay",
              "size": 10,
              "solidity": 0.2
             }
            },
            "type": "barpolar"
           }
          ],
          "carpet": [
           {
            "aaxis": {
             "endlinecolor": "#2a3f5f",
             "gridcolor": "white",
             "linecolor": "white",
             "minorgridcolor": "white",
             "startlinecolor": "#2a3f5f"
            },
            "baxis": {
             "endlinecolor": "#2a3f5f",
             "gridcolor": "white",
             "linecolor": "white",
             "minorgridcolor": "white",
             "startlinecolor": "#2a3f5f"
            },
            "type": "carpet"
           }
          ],
          "choropleth": [
           {
            "colorbar": {
             "outlinewidth": 0,
             "ticks": ""
            },
            "type": "choropleth"
           }
          ],
          "contour": [
           {
            "colorbar": {
             "outlinewidth": 0,
             "ticks": ""
            },
            "colorscale": [
             [
              0,
              "#0d0887"
             ],
             [
              0.1111111111111111,
              "#46039f"
             ],
             [
              0.2222222222222222,
              "#7201a8"
             ],
             [
              0.3333333333333333,
              "#9c179e"
             ],
             [
              0.4444444444444444,
              "#bd3786"
             ],
             [
              0.5555555555555556,
              "#d8576b"
             ],
             [
              0.6666666666666666,
              "#ed7953"
             ],
             [
              0.7777777777777778,
              "#fb9f3a"
             ],
             [
              0.8888888888888888,
              "#fdca26"
             ],
             [
              1,
              "#f0f921"
             ]
            ],
            "type": "contour"
           }
          ],
          "contourcarpet": [
           {
            "colorbar": {
             "outlinewidth": 0,
             "ticks": ""
            },
            "type": "contourcarpet"
           }
          ],
          "heatmap": [
           {
            "colorbar": {
             "outlinewidth": 0,
             "ticks": ""
            },
            "colorscale": [
             [
              0,
              "#0d0887"
             ],
             [
              0.1111111111111111,
              "#46039f"
             ],
             [
              0.2222222222222222,
              "#7201a8"
             ],
             [
              0.3333333333333333,
              "#9c179e"
             ],
             [
              0.4444444444444444,
              "#bd3786"
             ],
             [
              0.5555555555555556,
              "#d8576b"
             ],
             [
              0.6666666666666666,
              "#ed7953"
             ],
             [
              0.7777777777777778,
              "#fb9f3a"
             ],
             [
              0.8888888888888888,
              "#fdca26"
             ],
             [
              1,
              "#f0f921"
             ]
            ],
            "type": "heatmap"
           }
          ],
          "heatmapgl": [
           {
            "colorbar": {
             "outlinewidth": 0,
             "ticks": ""
            },
            "colorscale": [
             [
              0,
              "#0d0887"
             ],
             [
              0.1111111111111111,
              "#46039f"
             ],
             [
              0.2222222222222222,
              "#7201a8"
             ],
             [
              0.3333333333333333,
              "#9c179e"
             ],
             [
              0.4444444444444444,
              "#bd3786"
             ],
             [
              0.5555555555555556,
              "#d8576b"
             ],
             [
              0.6666666666666666,
              "#ed7953"
             ],
             [
              0.7777777777777778,
              "#fb9f3a"
             ],
             [
              0.8888888888888888,
              "#fdca26"
             ],
             [
              1,
              "#f0f921"
             ]
            ],
            "type": "heatmapgl"
           }
          ],
          "histogram": [
           {
            "marker": {
             "pattern": {
              "fillmode": "overlay",
              "size": 10,
              "solidity": 0.2
             }
            },
            "type": "histogram"
           }
          ],
          "histogram2d": [
           {
            "colorbar": {
             "outlinewidth": 0,
             "ticks": ""
            },
            "colorscale": [
             [
              0,
              "#0d0887"
             ],
             [
              0.1111111111111111,
              "#46039f"
             ],
             [
              0.2222222222222222,
              "#7201a8"
             ],
             [
              0.3333333333333333,
              "#9c179e"
             ],
             [
              0.4444444444444444,
              "#bd3786"
             ],
             [
              0.5555555555555556,
              "#d8576b"
             ],
             [
              0.6666666666666666,
              "#ed7953"
             ],
             [
              0.7777777777777778,
              "#fb9f3a"
             ],
             [
              0.8888888888888888,
              "#fdca26"
             ],
             [
              1,
              "#f0f921"
             ]
            ],
            "type": "histogram2d"
           }
          ],
          "histogram2dcontour": [
           {
            "colorbar": {
             "outlinewidth": 0,
             "ticks": ""
            },
            "colorscale": [
             [
              0,
              "#0d0887"
             ],
             [
              0.1111111111111111,
              "#46039f"
             ],
             [
              0.2222222222222222,
              "#7201a8"
             ],
             [
              0.3333333333333333,
              "#9c179e"
             ],
             [
              0.4444444444444444,
              "#bd3786"
             ],
             [
              0.5555555555555556,
              "#d8576b"
             ],
             [
              0.6666666666666666,
              "#ed7953"
             ],
             [
              0.7777777777777778,
              "#fb9f3a"
             ],
             [
              0.8888888888888888,
              "#fdca26"
             ],
             [
              1,
              "#f0f921"
             ]
            ],
            "type": "histogram2dcontour"
           }
          ],
          "mesh3d": [
           {
            "colorbar": {
             "outlinewidth": 0,
             "ticks": ""
            },
            "type": "mesh3d"
           }
          ],
          "parcoords": [
           {
            "line": {
             "colorbar": {
              "outlinewidth": 0,
              "ticks": ""
             }
            },
            "type": "parcoords"
           }
          ],
          "pie": [
           {
            "automargin": true,
            "type": "pie"
           }
          ],
          "scatter": [
           {
            "fillpattern": {
             "fillmode": "overlay",
             "size": 10,
             "solidity": 0.2
            },
            "type": "scatter"
           }
          ],
          "scatter3d": [
           {
            "line": {
             "colorbar": {
              "outlinewidth": 0,
              "ticks": ""
             }
            },
            "marker": {
             "colorbar": {
              "outlinewidth": 0,
              "ticks": ""
             }
            },
            "type": "scatter3d"
           }
          ],
          "scattercarpet": [
           {
            "marker": {
             "colorbar": {
              "outlinewidth": 0,
              "ticks": ""
             }
            },
            "type": "scattercarpet"
           }
          ],
          "scattergeo": [
           {
            "marker": {
             "colorbar": {
              "outlinewidth": 0,
              "ticks": ""
             }
            },
            "type": "scattergeo"
           }
          ],
          "scattergl": [
           {
            "marker": {
             "colorbar": {
              "outlinewidth": 0,
              "ticks": ""
             }
            },
            "type": "scattergl"
           }
          ],
          "scattermapbox": [
           {
            "marker": {
             "colorbar": {
              "outlinewidth": 0,
              "ticks": ""
             }
            },
            "type": "scattermapbox"
           }
          ],
          "scatterpolar": [
           {
            "marker": {
             "colorbar": {
              "outlinewidth": 0,
              "ticks": ""
             }
            },
            "type": "scatterpolar"
           }
          ],
          "scatterpolargl": [
           {
            "marker": {
             "colorbar": {
              "outlinewidth": 0,
              "ticks": ""
             }
            },
            "type": "scatterpolargl"
           }
          ],
          "scatterternary": [
           {
            "marker": {
             "colorbar": {
              "outlinewidth": 0,
              "ticks": ""
             }
            },
            "type": "scatterternary"
           }
          ],
          "surface": [
           {
            "colorbar": {
             "outlinewidth": 0,
             "ticks": ""
            },
            "colorscale": [
             [
              0,
              "#0d0887"
             ],
             [
              0.1111111111111111,
              "#46039f"
             ],
             [
              0.2222222222222222,
              "#7201a8"
             ],
             [
              0.3333333333333333,
              "#9c179e"
             ],
             [
              0.4444444444444444,
              "#bd3786"
             ],
             [
              0.5555555555555556,
              "#d8576b"
             ],
             [
              0.6666666666666666,
              "#ed7953"
             ],
             [
              0.7777777777777778,
              "#fb9f3a"
             ],
             [
              0.8888888888888888,
              "#fdca26"
             ],
             [
              1,
              "#f0f921"
             ]
            ],
            "type": "surface"
           }
          ],
          "table": [
           {
            "cells": {
             "fill": {
              "color": "#EBF0F8"
             },
             "line": {
              "color": "white"
             }
            },
            "header": {
             "fill": {
              "color": "#C8D4E3"
             },
             "line": {
              "color": "white"
             }
            },
            "type": "table"
           }
          ]
         },
         "layout": {
          "annotationdefaults": {
           "arrowcolor": "#2a3f5f",
           "arrowhead": 0,
           "arrowwidth": 1
          },
          "autotypenumbers": "strict",
          "coloraxis": {
           "colorbar": {
            "outlinewidth": 0,
            "ticks": ""
           }
          },
          "colorscale": {
           "diverging": [
            [
             0,
             "#8e0152"
            ],
            [
             0.1,
             "#c51b7d"
            ],
            [
             0.2,
             "#de77ae"
            ],
            [
             0.3,
             "#f1b6da"
            ],
            [
             0.4,
             "#fde0ef"
            ],
            [
             0.5,
             "#f7f7f7"
            ],
            [
             0.6,
             "#e6f5d0"
            ],
            [
             0.7,
             "#b8e186"
            ],
            [
             0.8,
             "#7fbc41"
            ],
            [
             0.9,
             "#4d9221"
            ],
            [
             1,
             "#276419"
            ]
           ],
           "sequential": [
            [
             0,
             "#0d0887"
            ],
            [
             0.1111111111111111,
             "#46039f"
            ],
            [
             0.2222222222222222,
             "#7201a8"
            ],
            [
             0.3333333333333333,
             "#9c179e"
            ],
            [
             0.4444444444444444,
             "#bd3786"
            ],
            [
             0.5555555555555556,
             "#d8576b"
            ],
            [
             0.6666666666666666,
             "#ed7953"
            ],
            [
             0.7777777777777778,
             "#fb9f3a"
            ],
            [
             0.8888888888888888,
             "#fdca26"
            ],
            [
             1,
             "#f0f921"
            ]
           ],
           "sequentialminus": [
            [
             0,
             "#0d0887"
            ],
            [
             0.1111111111111111,
             "#46039f"
            ],
            [
             0.2222222222222222,
             "#7201a8"
            ],
            [
             0.3333333333333333,
             "#9c179e"
            ],
            [
             0.4444444444444444,
             "#bd3786"
            ],
            [
             0.5555555555555556,
             "#d8576b"
            ],
            [
             0.6666666666666666,
             "#ed7953"
            ],
            [
             0.7777777777777778,
             "#fb9f3a"
            ],
            [
             0.8888888888888888,
             "#fdca26"
            ],
            [
             1,
             "#f0f921"
            ]
           ]
          },
          "colorway": [
           "#636efa",
           "#EF553B",
           "#00cc96",
           "#ab63fa",
           "#FFA15A",
           "#19d3f3",
           "#FF6692",
           "#B6E880",
           "#FF97FF",
           "#FECB52"
          ],
          "font": {
           "color": "#2a3f5f"
          },
          "geo": {
           "bgcolor": "white",
           "lakecolor": "white",
           "landcolor": "#E5ECF6",
           "showlakes": true,
           "showland": true,
           "subunitcolor": "white"
          },
          "hoverlabel": {
           "align": "left"
          },
          "hovermode": "closest",
          "mapbox": {
           "style": "light"
          },
          "paper_bgcolor": "white",
          "plot_bgcolor": "#E5ECF6",
          "polar": {
           "angularaxis": {
            "gridcolor": "white",
            "linecolor": "white",
            "ticks": ""
           },
           "bgcolor": "#E5ECF6",
           "radialaxis": {
            "gridcolor": "white",
            "linecolor": "white",
            "ticks": ""
           }
          },
          "scene": {
           "xaxis": {
            "backgroundcolor": "#E5ECF6",
            "gridcolor": "white",
            "gridwidth": 2,
            "linecolor": "white",
            "showbackground": true,
            "ticks": "",
            "zerolinecolor": "white"
           },
           "yaxis": {
            "backgroundcolor": "#E5ECF6",
            "gridcolor": "white",
            "gridwidth": 2,
            "linecolor": "white",
            "showbackground": true,
            "ticks": "",
            "zerolinecolor": "white"
           },
           "zaxis": {
            "backgroundcolor": "#E5ECF6",
            "gridcolor": "white",
            "gridwidth": 2,
            "linecolor": "white",
            "showbackground": true,
            "ticks": "",
            "zerolinecolor": "white"
           }
          },
          "shapedefaults": {
           "line": {
            "color": "#2a3f5f"
           }
          },
          "ternary": {
           "aaxis": {
            "gridcolor": "white",
            "linecolor": "white",
            "ticks": ""
           },
           "baxis": {
            "gridcolor": "white",
            "linecolor": "white",
            "ticks": ""
           },
           "bgcolor": "#E5ECF6",
           "caxis": {
            "gridcolor": "white",
            "linecolor": "white",
            "ticks": ""
           }
          },
          "title": {
           "x": 0.05
          },
          "xaxis": {
           "automargin": true,
           "gridcolor": "white",
           "linecolor": "white",
           "ticks": "",
           "title": {
            "standoff": 15
           },
           "zerolinecolor": "white",
           "zerolinewidth": 2
          },
          "yaxis": {
           "automargin": true,
           "gridcolor": "white",
           "linecolor": "white",
           "ticks": "",
           "title": {
            "standoff": 15
           },
           "zerolinecolor": "white",
           "zerolinewidth": 2
          }
         }
        },
        "width": 800
       }
      }
     },
     "metadata": {},
     "output_type": "display_data"
    }
   ],
   "source": [
    "px.scatter_3d(rectangle, x=\"width\", y=\"height\", z=\"area\", \n",
    "              width=800, height=800)"
   ]
  },
  {
   "cell_type": "code",
   "execution_count": 14,
   "id": "5e2515cf",
   "metadata": {},
   "outputs": [
    {
     "data": {
      "text/html": [
       "<div>\n",
       "<style scoped>\n",
       "    .dataframe tbody tr th:only-of-type {\n",
       "        vertical-align: middle;\n",
       "    }\n",
       "\n",
       "    .dataframe tbody tr th {\n",
       "        vertical-align: top;\n",
       "    }\n",
       "\n",
       "    .dataframe thead th {\n",
       "        text-align: right;\n",
       "    }\n",
       "</style>\n",
       "<table border=\"1\" class=\"dataframe\">\n",
       "  <thead>\n",
       "    <tr style=\"text-align: right;\">\n",
       "      <th></th>\n",
       "      <th>width</th>\n",
       "      <th>height</th>\n",
       "      <th>area</th>\n",
       "      <th>perimeter</th>\n",
       "    </tr>\n",
       "  </thead>\n",
       "  <tbody>\n",
       "    <tr>\n",
       "      <th>0</th>\n",
       "      <td>2.97</td>\n",
       "      <td>1.35</td>\n",
       "      <td>24.78</td>\n",
       "      <td>8.64</td>\n",
       "    </tr>\n",
       "    <tr>\n",
       "      <th>1</th>\n",
       "      <td>-3.03</td>\n",
       "      <td>-0.65</td>\n",
       "      <td>-15.22</td>\n",
       "      <td>-7.36</td>\n",
       "    </tr>\n",
       "    <tr>\n",
       "      <th>2</th>\n",
       "      <td>-4.03</td>\n",
       "      <td>-1.65</td>\n",
       "      <td>-20.22</td>\n",
       "      <td>-11.36</td>\n",
       "    </tr>\n",
       "    <tr>\n",
       "      <th>3</th>\n",
       "      <td>3.97</td>\n",
       "      <td>-1.65</td>\n",
       "      <td>3.78</td>\n",
       "      <td>4.64</td>\n",
       "    </tr>\n",
       "    <tr>\n",
       "      <th>4</th>\n",
       "      <td>3.97</td>\n",
       "      <td>3.35</td>\n",
       "      <td>48.78</td>\n",
       "      <td>14.64</td>\n",
       "    </tr>\n",
       "    <tr>\n",
       "      <th>...</th>\n",
       "      <td>...</td>\n",
       "      <td>...</td>\n",
       "      <td>...</td>\n",
       "      <td>...</td>\n",
       "    </tr>\n",
       "    <tr>\n",
       "      <th>95</th>\n",
       "      <td>2.97</td>\n",
       "      <td>0.35</td>\n",
       "      <td>16.78</td>\n",
       "      <td>6.64</td>\n",
       "    </tr>\n",
       "    <tr>\n",
       "      <th>96</th>\n",
       "      <td>2.97</td>\n",
       "      <td>2.35</td>\n",
       "      <td>32.78</td>\n",
       "      <td>10.64</td>\n",
       "    </tr>\n",
       "    <tr>\n",
       "      <th>97</th>\n",
       "      <td>-4.03</td>\n",
       "      <td>-0.65</td>\n",
       "      <td>-19.22</td>\n",
       "      <td>-9.36</td>\n",
       "    </tr>\n",
       "    <tr>\n",
       "      <th>98</th>\n",
       "      <td>-4.03</td>\n",
       "      <td>1.35</td>\n",
       "      <td>-17.22</td>\n",
       "      <td>-5.36</td>\n",
       "    </tr>\n",
       "    <tr>\n",
       "      <th>99</th>\n",
       "      <td>-3.03</td>\n",
       "      <td>1.35</td>\n",
       "      <td>-11.22</td>\n",
       "      <td>-3.36</td>\n",
       "    </tr>\n",
       "  </tbody>\n",
       "</table>\n",
       "<p>100 rows × 4 columns</p>\n",
       "</div>"
      ],
      "text/plain": [
       "    width  height   area  perimeter\n",
       "0    2.97    1.35  24.78       8.64\n",
       "1   -3.03   -0.65 -15.22      -7.36\n",
       "2   -4.03   -1.65 -20.22     -11.36\n",
       "3    3.97   -1.65   3.78       4.64\n",
       "4    3.97    3.35  48.78      14.64\n",
       "..    ...     ...    ...        ...\n",
       "95   2.97    0.35  16.78       6.64\n",
       "96   2.97    2.35  32.78      10.64\n",
       "97  -4.03   -0.65 -19.22      -9.36\n",
       "98  -4.03    1.35 -17.22      -5.36\n",
       "99  -3.03    1.35 -11.22      -3.36\n",
       "\n",
       "[100 rows x 4 columns]"
      ]
     },
     "execution_count": 14,
     "metadata": {},
     "output_type": "execute_result"
    }
   ],
   "source": [
    "X = rectangle - np.mean(rectangle, axis = 0)\n",
    "X"
   ]
  },
  {
   "cell_type": "code",
   "execution_count": 16,
   "id": "244b2e31-ed0b-409e-bdb3-9d9f582608b3",
   "metadata": {},
   "outputs": [],
   "source": [
    "U, S, Vt = np.linalg.svd(X, full_matrices = False)"
   ]
  },
  {
   "cell_type": "code",
   "execution_count": 17,
   "id": "0a3a28ed",
   "metadata": {},
   "outputs": [
    {
     "name": "stdout",
     "output_type": "stream",
     "text": [
      "Shape of U (100, 4)\n",
      "Shape of S (4,)\n",
      "Shape of Vt (4, 4)\n"
     ]
    }
   ],
   "source": [
    "print(\"Shape of U\", U.shape)\n",
    "print(\"Shape of S\", S.shape)\n",
    "print(\"Shape of Vt\", Vt.shape)"
   ]
  },
  {
   "cell_type": "markdown",
   "id": "0fe40bf8",
   "metadata": {},
   "source": [
    "$S$ is a little different in `NumPy`. Since the only useful values in the diagonal matrix $S$ are the singular values on the diagonal axis, only those values are returned and they are stored in an array.\n",
    "\n",
    "Our `rectangle_data` has a rank of $3$, so we should have 3 non-zero singular values, **sorted from largest to smallest**."
   ]
  },
  {
   "cell_type": "code",
   "execution_count": 18,
   "id": "f1ba3137",
   "metadata": {},
   "outputs": [
    {
     "data": {
      "text/plain": [
       "array([1.97388075e+02, 2.74346257e+01, 2.32626119e+01, 9.22425467e-15])"
      ]
     },
     "execution_count": 18,
     "metadata": {},
     "output_type": "execute_result"
    }
   ],
   "source": [
    "S"
   ]
  },
  {
   "cell_type": "markdown",
   "id": "18469f74",
   "metadata": {},
   "source": [
    "Hmm, looks like are four diagonal entries are not zero. What happened?\n",
    "\n",
    "It turns out there were some numerical rounding errors, but the last value is so small ($10^{-15}$) that it's practically $0$."
   ]
  },
  {
   "cell_type": "code",
   "execution_count": 19,
   "id": "18e558f7",
   "metadata": {},
   "outputs": [
    {
     "data": {
      "text/plain": [
       "True"
      ]
     },
     "execution_count": 19,
     "metadata": {},
     "output_type": "execute_result"
    }
   ],
   "source": [
    "np.isclose(S[3], 0)"
   ]
  },
  {
   "cell_type": "code",
   "execution_count": 20,
   "id": "a84465ac",
   "metadata": {},
   "outputs": [
    {
     "data": {
      "text/plain": [
       "array([197.38808,  27.43463,  23.26261,   0.     ])"
      ]
     },
     "execution_count": 20,
     "metadata": {},
     "output_type": "execute_result"
    }
   ],
   "source": [
    "S.round(5)"
   ]
  },
  {
   "cell_type": "markdown",
   "id": "eb0389b8",
   "metadata": {},
   "source": [
    "If we want the diagonal elements:"
   ]
  },
  {
   "cell_type": "code",
   "execution_count": 21,
   "id": "99b4e0f1",
   "metadata": {},
   "outputs": [
    {
     "data": {
      "text/plain": [
       "array([[1.97388075e+02, 0.00000000e+00, 0.00000000e+00, 0.00000000e+00],\n",
       "       [0.00000000e+00, 2.74346257e+01, 0.00000000e+00, 0.00000000e+00],\n",
       "       [0.00000000e+00, 0.00000000e+00, 2.32626119e+01, 0.00000000e+00],\n",
       "       [0.00000000e+00, 0.00000000e+00, 0.00000000e+00, 9.22425467e-15]])"
      ]
     },
     "execution_count": 21,
     "metadata": {},
     "output_type": "execute_result"
    }
   ],
   "source": [
    "Sm = np.diag(S)\n",
    "Sm"
   ]
  },
  {
   "cell_type": "markdown",
   "id": "dd5964ef",
   "metadata": {},
   "source": [
    "Examining U:"
   ]
  },
  {
   "cell_type": "code",
   "execution_count": 22,
   "id": "3ab7a5c6-dfd6-406f-8e7b-72bbd6e70dcd",
   "metadata": {},
   "outputs": [
    {
     "data": {
      "text/html": [
       "<div>\n",
       "<style scoped>\n",
       "    .dataframe tbody tr th:only-of-type {\n",
       "        vertical-align: middle;\n",
       "    }\n",
       "\n",
       "    .dataframe tbody tr th {\n",
       "        vertical-align: top;\n",
       "    }\n",
       "\n",
       "    .dataframe thead th {\n",
       "        text-align: right;\n",
       "    }\n",
       "</style>\n",
       "<table border=\"1\" class=\"dataframe\">\n",
       "  <thead>\n",
       "    <tr style=\"text-align: right;\">\n",
       "      <th></th>\n",
       "      <th>0</th>\n",
       "      <th>1</th>\n",
       "      <th>2</th>\n",
       "      <th>3</th>\n",
       "    </tr>\n",
       "  </thead>\n",
       "  <tbody>\n",
       "    <tr>\n",
       "      <th>0</th>\n",
       "      <td>-0.133910</td>\n",
       "      <td>0.005930</td>\n",
       "      <td>0.034734</td>\n",
       "      <td>-0.296836</td>\n",
       "    </tr>\n",
       "    <tr>\n",
       "      <th>1</th>\n",
       "      <td>0.086354</td>\n",
       "      <td>-0.079515</td>\n",
       "      <td>0.014948</td>\n",
       "      <td>0.711478</td>\n",
       "    </tr>\n",
       "    <tr>\n",
       "      <th>2</th>\n",
       "      <td>0.117766</td>\n",
       "      <td>-0.128963</td>\n",
       "      <td>0.085774</td>\n",
       "      <td>-0.065318</td>\n",
       "    </tr>\n",
       "    <tr>\n",
       "      <th>3</th>\n",
       "      <td>-0.027274</td>\n",
       "      <td>0.183177</td>\n",
       "      <td>0.010895</td>\n",
       "      <td>-0.031055</td>\n",
       "    </tr>\n",
       "    <tr>\n",
       "      <th>4</th>\n",
       "      <td>-0.258806</td>\n",
       "      <td>-0.094295</td>\n",
       "      <td>0.090270</td>\n",
       "      <td>-0.032818</td>\n",
       "    </tr>\n",
       "  </tbody>\n",
       "</table>\n",
       "</div>"
      ],
      "text/plain": [
       "          0         1         2         3\n",
       "0 -0.133910  0.005930  0.034734 -0.296836\n",
       "1  0.086354 -0.079515  0.014948  0.711478\n",
       "2  0.117766 -0.128963  0.085774 -0.065318\n",
       "3 -0.027274  0.183177  0.010895 -0.031055\n",
       "4 -0.258806 -0.094295  0.090270 -0.032818"
      ]
     },
     "execution_count": 22,
     "metadata": {},
     "output_type": "execute_result"
    }
   ],
   "source": [
    "pd.DataFrame(U).head(5)"
   ]
  },
  {
   "cell_type": "markdown",
   "id": "d03fe69f-ad01-4f3b-928b-52f526ea25d2",
   "metadata": {},
   "source": [
    "Finally, $V^{\\top}$:"
   ]
  },
  {
   "cell_type": "code",
   "execution_count": 23,
   "id": "02f98786-66f5-4e14-8116-759b174240fd",
   "metadata": {},
   "outputs": [
    {
     "data": {
      "text/html": [
       "<div>\n",
       "<style scoped>\n",
       "    .dataframe tbody tr th:only-of-type {\n",
       "        vertical-align: middle;\n",
       "    }\n",
       "\n",
       "    .dataframe tbody tr th {\n",
       "        vertical-align: top;\n",
       "    }\n",
       "\n",
       "    .dataframe thead th {\n",
       "        text-align: right;\n",
       "    }\n",
       "</style>\n",
       "<table border=\"1\" class=\"dataframe\">\n",
       "  <thead>\n",
       "    <tr style=\"text-align: right;\">\n",
       "      <th></th>\n",
       "      <th>0</th>\n",
       "      <th>1</th>\n",
       "      <th>2</th>\n",
       "      <th>3</th>\n",
       "    </tr>\n",
       "  </thead>\n",
       "  <tbody>\n",
       "    <tr>\n",
       "      <th>0</th>\n",
       "      <td>-0.098631</td>\n",
       "      <td>-0.072956</td>\n",
       "      <td>-0.931226</td>\n",
       "      <td>-0.343173</td>\n",
       "    </tr>\n",
       "    <tr>\n",
       "      <th>1</th>\n",
       "      <td>0.668460</td>\n",
       "      <td>-0.374186</td>\n",
       "      <td>-0.258375</td>\n",
       "      <td>0.588548</td>\n",
       "    </tr>\n",
       "    <tr>\n",
       "      <th>2</th>\n",
       "      <td>0.314625</td>\n",
       "      <td>-0.640483</td>\n",
       "      <td>0.257023</td>\n",
       "      <td>-0.651715</td>\n",
       "    </tr>\n",
       "    <tr>\n",
       "      <th>3</th>\n",
       "      <td>0.666667</td>\n",
       "      <td>0.666667</td>\n",
       "      <td>0.000000</td>\n",
       "      <td>-0.333333</td>\n",
       "    </tr>\n",
       "  </tbody>\n",
       "</table>\n",
       "</div>"
      ],
      "text/plain": [
       "          0         1         2         3\n",
       "0 -0.098631 -0.072956 -0.931226 -0.343173\n",
       "1  0.668460 -0.374186 -0.258375  0.588548\n",
       "2  0.314625 -0.640483  0.257023 -0.651715\n",
       "3  0.666667  0.666667  0.000000 -0.333333"
      ]
     },
     "execution_count": 23,
     "metadata": {},
     "output_type": "execute_result"
    }
   ],
   "source": [
    "pd.DataFrame(Vt)"
   ]
  },
  {
   "cell_type": "code",
   "execution_count": 24,
   "id": "939ee26c-78e2-4753-a013-ca239727c40a",
   "metadata": {},
   "outputs": [
    {
     "data": {
      "text/plain": [
       "(4, 4)"
      ]
     },
     "execution_count": 24,
     "metadata": {},
     "output_type": "execute_result"
    }
   ],
   "source": [
    "Vt.shape"
   ]
  },
  {
   "cell_type": "markdown",
   "id": "26fae4e1-2c09-43ed-a9b5-406aa958f58f",
   "metadata": {},
   "source": [
    "To check that this SVD is a valid decomposition, we can reverse it."
   ]
  },
  {
   "cell_type": "code",
   "execution_count": 25,
   "id": "5e2db8aa-dd4d-4942-9232-21bb8dcc71b3",
   "metadata": {},
   "outputs": [
    {
     "data": {
      "text/html": [
       "<div>\n",
       "<style scoped>\n",
       "    .dataframe tbody tr th:only-of-type {\n",
       "        vertical-align: middle;\n",
       "    }\n",
       "\n",
       "    .dataframe tbody tr th {\n",
       "        vertical-align: top;\n",
       "    }\n",
       "\n",
       "    .dataframe thead th {\n",
       "        text-align: right;\n",
       "    }\n",
       "</style>\n",
       "<table border=\"1\" class=\"dataframe\">\n",
       "  <thead>\n",
       "    <tr style=\"text-align: right;\">\n",
       "      <th></th>\n",
       "      <th>0</th>\n",
       "      <th>1</th>\n",
       "      <th>2</th>\n",
       "      <th>3</th>\n",
       "    </tr>\n",
       "  </thead>\n",
       "  <tbody>\n",
       "    <tr>\n",
       "      <th>0</th>\n",
       "      <td>2.97</td>\n",
       "      <td>1.35</td>\n",
       "      <td>24.78</td>\n",
       "      <td>8.64</td>\n",
       "    </tr>\n",
       "    <tr>\n",
       "      <th>1</th>\n",
       "      <td>-3.03</td>\n",
       "      <td>-0.65</td>\n",
       "      <td>-15.22</td>\n",
       "      <td>-7.36</td>\n",
       "    </tr>\n",
       "    <tr>\n",
       "      <th>2</th>\n",
       "      <td>-4.03</td>\n",
       "      <td>-1.65</td>\n",
       "      <td>-20.22</td>\n",
       "      <td>-11.36</td>\n",
       "    </tr>\n",
       "    <tr>\n",
       "      <th>3</th>\n",
       "      <td>3.97</td>\n",
       "      <td>-1.65</td>\n",
       "      <td>3.78</td>\n",
       "      <td>4.64</td>\n",
       "    </tr>\n",
       "    <tr>\n",
       "      <th>4</th>\n",
       "      <td>3.97</td>\n",
       "      <td>3.35</td>\n",
       "      <td>48.78</td>\n",
       "      <td>14.64</td>\n",
       "    </tr>\n",
       "  </tbody>\n",
       "</table>\n",
       "</div>"
      ],
      "text/plain": [
       "      0     1      2      3\n",
       "0  2.97  1.35  24.78   8.64\n",
       "1 -3.03 -0.65 -15.22  -7.36\n",
       "2 -4.03 -1.65 -20.22 -11.36\n",
       "3  3.97 -1.65   3.78   4.64\n",
       "4  3.97  3.35  48.78  14.64"
      ]
     },
     "metadata": {},
     "output_type": "display_data"
    },
    {
     "data": {
      "text/html": [
       "<div>\n",
       "<style scoped>\n",
       "    .dataframe tbody tr th:only-of-type {\n",
       "        vertical-align: middle;\n",
       "    }\n",
       "\n",
       "    .dataframe tbody tr th {\n",
       "        vertical-align: top;\n",
       "    }\n",
       "\n",
       "    .dataframe thead th {\n",
       "        text-align: right;\n",
       "    }\n",
       "</style>\n",
       "<table border=\"1\" class=\"dataframe\">\n",
       "  <thead>\n",
       "    <tr style=\"text-align: right;\">\n",
       "      <th></th>\n",
       "      <th>width</th>\n",
       "      <th>height</th>\n",
       "      <th>area</th>\n",
       "      <th>perimeter</th>\n",
       "    </tr>\n",
       "  </thead>\n",
       "  <tbody>\n",
       "    <tr>\n",
       "      <th>0</th>\n",
       "      <td>2.97</td>\n",
       "      <td>1.35</td>\n",
       "      <td>24.78</td>\n",
       "      <td>8.64</td>\n",
       "    </tr>\n",
       "    <tr>\n",
       "      <th>1</th>\n",
       "      <td>-3.03</td>\n",
       "      <td>-0.65</td>\n",
       "      <td>-15.22</td>\n",
       "      <td>-7.36</td>\n",
       "    </tr>\n",
       "    <tr>\n",
       "      <th>2</th>\n",
       "      <td>-4.03</td>\n",
       "      <td>-1.65</td>\n",
       "      <td>-20.22</td>\n",
       "      <td>-11.36</td>\n",
       "    </tr>\n",
       "    <tr>\n",
       "      <th>3</th>\n",
       "      <td>3.97</td>\n",
       "      <td>-1.65</td>\n",
       "      <td>3.78</td>\n",
       "      <td>4.64</td>\n",
       "    </tr>\n",
       "    <tr>\n",
       "      <th>4</th>\n",
       "      <td>3.97</td>\n",
       "      <td>3.35</td>\n",
       "      <td>48.78</td>\n",
       "      <td>14.64</td>\n",
       "    </tr>\n",
       "  </tbody>\n",
       "</table>\n",
       "</div>"
      ],
      "text/plain": [
       "   width  height   area  perimeter\n",
       "0   2.97    1.35  24.78       8.64\n",
       "1  -3.03   -0.65 -15.22      -7.36\n",
       "2  -4.03   -1.65 -20.22     -11.36\n",
       "3   3.97   -1.65   3.78       4.64\n",
       "4   3.97    3.35  48.78      14.64"
      ]
     },
     "metadata": {},
     "output_type": "display_data"
    }
   ],
   "source": [
    "display(pd.DataFrame(U @ Sm @ Vt).head(5))\n",
    "display(pd.DataFrame(X).head(5))"
   ]
  },
  {
   "cell_type": "markdown",
   "id": "b05d9884-fd2e-41e4-8c0d-b174f05dfaa0",
   "metadata": {},
   "source": [
    "## PCA with SVD\n",
    "\n",
    "### Step 1: Center the Data Matrix $X$"
   ]
  },
  {
   "cell_type": "code",
   "execution_count": 26,
   "id": "693c7cfa-c71d-4d7a-a34c-f537f7f56ce8",
   "metadata": {},
   "outputs": [
    {
     "data": {
      "text/html": [
       "<div>\n",
       "<style scoped>\n",
       "    .dataframe tbody tr th:only-of-type {\n",
       "        vertical-align: middle;\n",
       "    }\n",
       "\n",
       "    .dataframe tbody tr th {\n",
       "        vertical-align: top;\n",
       "    }\n",
       "\n",
       "    .dataframe thead th {\n",
       "        text-align: right;\n",
       "    }\n",
       "</style>\n",
       "<table border=\"1\" class=\"dataframe\">\n",
       "  <thead>\n",
       "    <tr style=\"text-align: right;\">\n",
       "      <th></th>\n",
       "      <th>width</th>\n",
       "      <th>height</th>\n",
       "      <th>area</th>\n",
       "      <th>perimeter</th>\n",
       "    </tr>\n",
       "  </thead>\n",
       "  <tbody>\n",
       "    <tr>\n",
       "      <th>0</th>\n",
       "      <td>2.97</td>\n",
       "      <td>1.35</td>\n",
       "      <td>24.78</td>\n",
       "      <td>8.64</td>\n",
       "    </tr>\n",
       "    <tr>\n",
       "      <th>1</th>\n",
       "      <td>-3.03</td>\n",
       "      <td>-0.65</td>\n",
       "      <td>-15.22</td>\n",
       "      <td>-7.36</td>\n",
       "    </tr>\n",
       "    <tr>\n",
       "      <th>2</th>\n",
       "      <td>-4.03</td>\n",
       "      <td>-1.65</td>\n",
       "      <td>-20.22</td>\n",
       "      <td>-11.36</td>\n",
       "    </tr>\n",
       "    <tr>\n",
       "      <th>3</th>\n",
       "      <td>3.97</td>\n",
       "      <td>-1.65</td>\n",
       "      <td>3.78</td>\n",
       "      <td>4.64</td>\n",
       "    </tr>\n",
       "    <tr>\n",
       "      <th>4</th>\n",
       "      <td>3.97</td>\n",
       "      <td>3.35</td>\n",
       "      <td>48.78</td>\n",
       "      <td>14.64</td>\n",
       "    </tr>\n",
       "    <tr>\n",
       "      <th>5</th>\n",
       "      <td>-2.03</td>\n",
       "      <td>-3.65</td>\n",
       "      <td>-20.22</td>\n",
       "      <td>-11.36</td>\n",
       "    </tr>\n",
       "    <tr>\n",
       "      <th>6</th>\n",
       "      <td>-1.03</td>\n",
       "      <td>-2.65</td>\n",
       "      <td>-15.22</td>\n",
       "      <td>-7.36</td>\n",
       "    </tr>\n",
       "    <tr>\n",
       "      <th>7</th>\n",
       "      <td>0.97</td>\n",
       "      <td>0.35</td>\n",
       "      <td>6.78</td>\n",
       "      <td>2.64</td>\n",
       "    </tr>\n",
       "    <tr>\n",
       "      <th>8</th>\n",
       "      <td>1.97</td>\n",
       "      <td>-3.65</td>\n",
       "      <td>-16.22</td>\n",
       "      <td>-3.36</td>\n",
       "    </tr>\n",
       "    <tr>\n",
       "      <th>9</th>\n",
       "      <td>2.97</td>\n",
       "      <td>-2.65</td>\n",
       "      <td>-7.22</td>\n",
       "      <td>0.64</td>\n",
       "    </tr>\n",
       "  </tbody>\n",
       "</table>\n",
       "</div>"
      ],
      "text/plain": [
       "   width  height   area  perimeter\n",
       "0   2.97    1.35  24.78       8.64\n",
       "1  -3.03   -0.65 -15.22      -7.36\n",
       "2  -4.03   -1.65 -20.22     -11.36\n",
       "3   3.97   -1.65   3.78       4.64\n",
       "4   3.97    3.35  48.78      14.64\n",
       "5  -2.03   -3.65 -20.22     -11.36\n",
       "6  -1.03   -2.65 -15.22      -7.36\n",
       "7   0.97    0.35   6.78       2.64\n",
       "8   1.97   -3.65 -16.22      -3.36\n",
       "9   2.97   -2.65  -7.22       0.64"
      ]
     },
     "execution_count": 26,
     "metadata": {},
     "output_type": "execute_result"
    }
   ],
   "source": [
    "X = rectangle - np.mean(rectangle, axis = 0)\n",
    "X.head(10)"
   ]
  },
  {
   "cell_type": "markdown",
   "id": "5ced91bc",
   "metadata": {},
   "source": [
    "In some situations where the units are on different scales it is useful to normalize the data before performing SVD. \n",
    "This can be done by dividing each column by its standard deviation."
   ]
  },
  {
   "cell_type": "code",
   "execution_count": 27,
   "id": "553010c1",
   "metadata": {},
   "outputs": [],
   "source": [
    "Xstd = X / np.std(X, axis = 0)"
   ]
  },
  {
   "cell_type": "markdown",
   "id": "85221dc2-5ae8-4927-8dba-ba3f3428f090",
   "metadata": {},
   "source": [
    "### Step 2: Get the SVD of centered $X$"
   ]
  },
  {
   "cell_type": "code",
   "execution_count": 28,
   "id": "fe344c03-91c0-408b-b751-c26b08a5be72",
   "metadata": {},
   "outputs": [],
   "source": [
    "U, S, Vt = np.linalg.svd(X, full_matrices = False)"
   ]
  },
  {
   "cell_type": "markdown",
   "id": "2766aa2f",
   "metadata": {},
   "source": [
    "Examining the singular values:"
   ]
  },
  {
   "cell_type": "code",
   "execution_count": 29,
   "id": "2c47adfb",
   "metadata": {},
   "outputs": [
    {
     "data": {
      "text/html": [
       "<div>\n",
       "<style scoped>\n",
       "    .dataframe tbody tr th:only-of-type {\n",
       "        vertical-align: middle;\n",
       "    }\n",
       "\n",
       "    .dataframe tbody tr th {\n",
       "        vertical-align: top;\n",
       "    }\n",
       "\n",
       "    .dataframe thead th {\n",
       "        text-align: right;\n",
       "    }\n",
       "</style>\n",
       "<table border=\"1\" class=\"dataframe\">\n",
       "  <thead>\n",
       "    <tr style=\"text-align: right;\">\n",
       "      <th></th>\n",
       "      <th>0</th>\n",
       "      <th>1</th>\n",
       "      <th>2</th>\n",
       "      <th>3</th>\n",
       "    </tr>\n",
       "  </thead>\n",
       "  <tbody>\n",
       "    <tr>\n",
       "      <th>0</th>\n",
       "      <td>197.388075</td>\n",
       "      <td>0.000000</td>\n",
       "      <td>0.000000</td>\n",
       "      <td>0.000000e+00</td>\n",
       "    </tr>\n",
       "    <tr>\n",
       "      <th>1</th>\n",
       "      <td>0.000000</td>\n",
       "      <td>27.434626</td>\n",
       "      <td>0.000000</td>\n",
       "      <td>0.000000e+00</td>\n",
       "    </tr>\n",
       "    <tr>\n",
       "      <th>2</th>\n",
       "      <td>0.000000</td>\n",
       "      <td>0.000000</td>\n",
       "      <td>23.262612</td>\n",
       "      <td>0.000000e+00</td>\n",
       "    </tr>\n",
       "    <tr>\n",
       "      <th>3</th>\n",
       "      <td>0.000000</td>\n",
       "      <td>0.000000</td>\n",
       "      <td>0.000000</td>\n",
       "      <td>9.224255e-15</td>\n",
       "    </tr>\n",
       "  </tbody>\n",
       "</table>\n",
       "</div>"
      ],
      "text/plain": [
       "            0          1          2             3\n",
       "0  197.388075   0.000000   0.000000  0.000000e+00\n",
       "1    0.000000  27.434626   0.000000  0.000000e+00\n",
       "2    0.000000   0.000000  23.262612  0.000000e+00\n",
       "3    0.000000   0.000000   0.000000  9.224255e-15"
      ]
     },
     "execution_count": 29,
     "metadata": {},
     "output_type": "execute_result"
    }
   ],
   "source": [
    "pd.DataFrame(np.diag(S))"
   ]
  },
  {
   "cell_type": "markdown",
   "id": "6c017bce",
   "metadata": {},
   "source": [
    "Computing the contribution to the total variance:"
   ]
  },
  {
   "cell_type": "code",
   "execution_count": 30,
   "id": "d354733e",
   "metadata": {},
   "outputs": [
    {
     "data": {
      "text/html": [
       "<div>\n",
       "<style scoped>\n",
       "    .dataframe tbody tr th:only-of-type {\n",
       "        vertical-align: middle;\n",
       "    }\n",
       "\n",
       "    .dataframe tbody tr th {\n",
       "        vertical-align: top;\n",
       "    }\n",
       "\n",
       "    .dataframe thead th {\n",
       "        text-align: right;\n",
       "    }\n",
       "</style>\n",
       "<table border=\"1\" class=\"dataframe\">\n",
       "  <thead>\n",
       "    <tr style=\"text-align: right;\">\n",
       "      <th></th>\n",
       "      <th>0</th>\n",
       "    </tr>\n",
       "  </thead>\n",
       "  <tbody>\n",
       "    <tr>\n",
       "      <th>0</th>\n",
       "      <td>389.62</td>\n",
       "    </tr>\n",
       "    <tr>\n",
       "      <th>1</th>\n",
       "      <td>7.53</td>\n",
       "    </tr>\n",
       "    <tr>\n",
       "      <th>2</th>\n",
       "      <td>5.41</td>\n",
       "    </tr>\n",
       "    <tr>\n",
       "      <th>3</th>\n",
       "      <td>0.00</td>\n",
       "    </tr>\n",
       "  </tbody>\n",
       "</table>\n",
       "</div>"
      ],
      "text/plain": [
       "        0\n",
       "0  389.62\n",
       "1    7.53\n",
       "2    5.41\n",
       "3    0.00"
      ]
     },
     "execution_count": 30,
     "metadata": {},
     "output_type": "execute_result"
    }
   ],
   "source": [
    "pd.DataFrame(np.round(S**2 / X.shape[0], 2))"
   ]
  },
  {
   "cell_type": "markdown",
   "id": "6bb8e359",
   "metadata": {},
   "source": [
    "Much of the variance is in the first dimension.  This is likely because the area is much larger than the other dimensions. Let's examine the standardized version."
   ]
  },
  {
   "cell_type": "code",
   "execution_count": 31,
   "id": "51b52463",
   "metadata": {},
   "outputs": [],
   "source": [
    "U, S, Vt = np.linalg.svd(Xstd, full_matrices = False)"
   ]
  },
  {
   "cell_type": "code",
   "execution_count": 32,
   "id": "4c0f8bfd",
   "metadata": {},
   "outputs": [
    {
     "data": {
      "text/html": [
       "<div>\n",
       "<style scoped>\n",
       "    .dataframe tbody tr th:only-of-type {\n",
       "        vertical-align: middle;\n",
       "    }\n",
       "\n",
       "    .dataframe tbody tr th {\n",
       "        vertical-align: top;\n",
       "    }\n",
       "\n",
       "    .dataframe thead th {\n",
       "        text-align: right;\n",
       "    }\n",
       "</style>\n",
       "<table border=\"1\" class=\"dataframe\">\n",
       "  <thead>\n",
       "    <tr style=\"text-align: right;\">\n",
       "      <th></th>\n",
       "      <th>0</th>\n",
       "    </tr>\n",
       "  </thead>\n",
       "  <tbody>\n",
       "    <tr>\n",
       "      <th>0</th>\n",
       "      <td>2.89</td>\n",
       "    </tr>\n",
       "    <tr>\n",
       "      <th>1</th>\n",
       "      <td>1.03</td>\n",
       "    </tr>\n",
       "    <tr>\n",
       "      <th>2</th>\n",
       "      <td>0.09</td>\n",
       "    </tr>\n",
       "    <tr>\n",
       "      <th>3</th>\n",
       "      <td>0.00</td>\n",
       "    </tr>\n",
       "  </tbody>\n",
       "</table>\n",
       "</div>"
      ],
      "text/plain": [
       "      0\n",
       "0  2.89\n",
       "1  1.03\n",
       "2  0.09\n",
       "3  0.00"
      ]
     },
     "execution_count": 32,
     "metadata": {},
     "output_type": "execute_result"
    }
   ],
   "source": [
    "pd.DataFrame(np.round(S**2 / X.shape[0], 2))"
   ]
  },
  {
   "cell_type": "markdown",
   "id": "9ba06c69",
   "metadata": {},
   "source": [
    "Now we see that most of the variance is in the first two dimensions which makes sense since rectangles are largely described by two numbers."
   ]
  },
  {
   "cell_type": "markdown",
   "id": "ce1246e1",
   "metadata": {},
   "source": [
    "### Step 3 Computing Approximations to the Data\n",
    "\n",
    "Let's try to approximate this data in two dimensions"
   ]
  },
  {
   "cell_type": "markdown",
   "id": "11c306ca",
   "metadata": {},
   "source": [
    "#### Using $Z = U * S$"
   ]
  },
  {
   "cell_type": "code",
   "execution_count": 33,
   "id": "251cbb62",
   "metadata": {},
   "outputs": [
    {
     "data": {
      "text/html": [
       "<div>\n",
       "<style scoped>\n",
       "    .dataframe tbody tr th:only-of-type {\n",
       "        vertical-align: middle;\n",
       "    }\n",
       "\n",
       "    .dataframe tbody tr th {\n",
       "        vertical-align: top;\n",
       "    }\n",
       "\n",
       "    .dataframe thead th {\n",
       "        text-align: right;\n",
       "    }\n",
       "</style>\n",
       "<table border=\"1\" class=\"dataframe\">\n",
       "  <thead>\n",
       "    <tr style=\"text-align: right;\">\n",
       "      <th></th>\n",
       "      <th>0</th>\n",
       "      <th>1</th>\n",
       "    </tr>\n",
       "  </thead>\n",
       "  <tbody>\n",
       "    <tr>\n",
       "      <th>0</th>\n",
       "      <td>-2.165116</td>\n",
       "      <td>0.250465</td>\n",
       "    </tr>\n",
       "    <tr>\n",
       "      <th>1</th>\n",
       "      <td>1.659346</td>\n",
       "      <td>-0.502647</td>\n",
       "    </tr>\n",
       "    <tr>\n",
       "      <th>2</th>\n",
       "      <td>2.462645</td>\n",
       "      <td>-0.416318</td>\n",
       "    </tr>\n",
       "    <tr>\n",
       "      <th>3</th>\n",
       "      <td>-0.856182</td>\n",
       "      <td>1.483758</td>\n",
       "    </tr>\n",
       "    <tr>\n",
       "      <th>4</th>\n",
       "      <td>-3.884287</td>\n",
       "      <td>-0.182623</td>\n",
       "    </tr>\n",
       "  </tbody>\n",
       "</table>\n",
       "</div>"
      ],
      "text/plain": [
       "          0         1\n",
       "0 -2.165116  0.250465\n",
       "1  1.659346 -0.502647\n",
       "2  2.462645 -0.416318\n",
       "3 -0.856182  1.483758\n",
       "4 -3.884287 -0.182623"
      ]
     },
     "execution_count": 33,
     "metadata": {},
     "output_type": "execute_result"
    }
   ],
   "source": [
    "Z = U[:, :2] @ np.diag(S[:2])\n",
    "pd.DataFrame(Z).head()"
   ]
  },
  {
   "cell_type": "markdown",
   "id": "21b4a312",
   "metadata": {},
   "source": [
    "#### Using $Z = X * V$"
   ]
  },
  {
   "cell_type": "code",
   "execution_count": 34,
   "id": "647a75dc",
   "metadata": {},
   "outputs": [
    {
     "data": {
      "text/html": [
       "<div>\n",
       "<style scoped>\n",
       "    .dataframe tbody tr th:only-of-type {\n",
       "        vertical-align: middle;\n",
       "    }\n",
       "\n",
       "    .dataframe tbody tr th {\n",
       "        vertical-align: top;\n",
       "    }\n",
       "\n",
       "    .dataframe thead th {\n",
       "        text-align: right;\n",
       "    }\n",
       "</style>\n",
       "<table border=\"1\" class=\"dataframe\">\n",
       "  <thead>\n",
       "    <tr style=\"text-align: right;\">\n",
       "      <th></th>\n",
       "      <th>0</th>\n",
       "      <th>1</th>\n",
       "    </tr>\n",
       "  </thead>\n",
       "  <tbody>\n",
       "    <tr>\n",
       "      <th>0</th>\n",
       "      <td>-2.165116</td>\n",
       "      <td>0.250465</td>\n",
       "    </tr>\n",
       "    <tr>\n",
       "      <th>1</th>\n",
       "      <td>1.659346</td>\n",
       "      <td>-0.502647</td>\n",
       "    </tr>\n",
       "    <tr>\n",
       "      <th>2</th>\n",
       "      <td>2.462645</td>\n",
       "      <td>-0.416318</td>\n",
       "    </tr>\n",
       "    <tr>\n",
       "      <th>3</th>\n",
       "      <td>-0.856182</td>\n",
       "      <td>1.483758</td>\n",
       "    </tr>\n",
       "    <tr>\n",
       "      <th>4</th>\n",
       "      <td>-3.884287</td>\n",
       "      <td>-0.182623</td>\n",
       "    </tr>\n",
       "  </tbody>\n",
       "</table>\n",
       "</div>"
      ],
      "text/plain": [
       "          0         1\n",
       "0 -2.165116  0.250465\n",
       "1  1.659346 -0.502647\n",
       "2  2.462645 -0.416318\n",
       "3 -0.856182  1.483758\n",
       "4 -3.884287 -0.182623"
      ]
     },
     "execution_count": 34,
     "metadata": {},
     "output_type": "execute_result"
    }
   ],
   "source": [
    "Z = Xstd.to_numpy() @ Vt.T[:,:2]\n",
    "pd.DataFrame(Z).head()"
   ]
  },
  {
   "cell_type": "code",
   "execution_count": 35,
   "id": "0a50d522",
   "metadata": {},
   "outputs": [
    {
     "data": {
      "application/vnd.plotly.v1+json": {
       "config": {
        "plotlyServerURL": "https://plot.ly"
       },
       "data": [
        {
         "hovertemplate": "x=%{x}<br>y=%{y}<extra></extra>",
         "legendgroup": "",
         "marker": {
          "color": "#636efa",
          "symbol": "circle"
         },
         "mode": "markers",
         "name": "",
         "orientation": "v",
         "showlegend": false,
         "type": "scatter",
         "x": [
          -2.1651160777896816,
          1.6593463772831654,
          2.4626451682557438,
          -0.8561819064078837,
          -3.8842865369868798,
          2.471879361290851,
          1.6685805703182726,
          -0.6367131603753297,
          1.0606664176460934,
          0.1332673298299869,
          -0.1598096276206121,
          -2.067423758639482,
          -1.0159243739798476,
          2.820065500684487,
          -0.2828806559149598,
          -2.7443290262121525,
          -1.113616693130047,
          1.6593463772831654,
          1.2709009706435404,
          1.2180850152568836,
          0.707863181734904,
          -1.5905202258847646,
          -3.8842865369868798,
          -0.02647513774197687,
          -0.4413285220749303,
          -1.1492588638584829,
          -0.12416745689217651,
          -1.0159243739798476,
          0.5170956399520583,
          0.7675894601954945,
          2.119076125379662,
          -3.2786656108710805,
          1.6685805703182726,
          2.820065500684487,
          0.707863181734904,
          0.321711001651659,
          -2.067423758639482,
          -2.686895974307942,
          -0.04494352381219116,
          -0.02647513774197687,
          -2.200758248518117,
          1.632938399589837,
          -0.1598096276206121,
          -0.02647513774197687,
          0.1332673298299869,
          0.8824555640039153,
          1.0606664176460934,
          2.820065500684487,
          0.7939974378888229,
          0.8824555640039153,
          -0.6413302568928833,
          0.35505994582371464,
          0.3883782465909766,
          0.8824555640039153,
          -2.174350270824789,
          0.35505994582371464,
          0.10556475072466527,
          -0.04494352381219116,
          -0.6367131603753297,
          -2.1651160777896816,
          -0.25056098029208457,
          -0.8838844855132053,
          1.2709009706435404,
          2.105224835827001,
          1.632938399589837,
          -0.2828806559149598,
          -0.12416745689217651,
          1.2847522601962011,
          0.8824555640039153,
          1.2709009706435404,
          2.4626451682557438,
          2.4626451682557438,
          -1.661804567341636,
          -2.1651160777896816,
          0.4940101573642903,
          -0.1334016499272837,
          3.17748583311323,
          -3.8842865369868798,
          -0.1598096276206121,
          -0.8838844855132053,
          0.10556475072466527,
          2.4362371905624154,
          -0.4413285220749303,
          0.675543506112029,
          1.7662728894684723,
          -1.1228508861651543,
          -2.067423758639482,
          2.471879361290851,
          -3.2786656108710805,
          -1.5905202258847646,
          -3.8842865369868798,
          0.3170939051341054,
          0.3170939051341054,
          1.7478045033982579,
          -1.1492588638584829,
          -1.5905202258847646,
          -2.739711929694599,
          2.105224835827001,
          1.390384170969515,
          0.8824555640039153
         ],
         "xaxis": "x",
         "y": [
          0.25046490007908,
          -0.5026469512656859,
          -0.41631824572257087,
          1.4837584345818795,
          -0.1826228916708117,
          0.7090740697071326,
          0.6227453641640174,
          0.11276684154037717,
          1.6698986666243485,
          1.5781768326987378,
          -0.12204617930643155,
          0.8172059040808031,
          0.914320866388909,
          -0.09382823723702306,
          -2.1218384041715437,
          -0.6441592407906861,
          0.3475798623871858,
          -0.5026469512656859,
          -0.8264852418468575,
          0.29621050939159815,
          1.9101048158536522,
          0.5823928832339945,
          -0.1826228916708117,
          1.0087392645057671,
          1.2462488495438233,
          -0.21646457742328967,
          0.441998260504044,
          0.914320866388909,
          1.339318965565058,
          -0.03032434538082102,
          0.9492802189364364,
          0.15065337357972666,
          0.6227453641640174,
          -0.09382823723702306,
          1.9101048158536522,
          0.2058369575616115,
          0.8172059040808031,
          -1.20415883431429,
          -1.2420453663536395,
          1.0087392645057671,
          -0.3135795397313954,
          0.05870092435354185,
          -0.12204617930643155,
          1.0087392645057671,
          1.5781768326987378,
          -1.150323532428029,
          1.6698986666243485,
          -0.09382823723702306,
          -0.5916722210000489,
          -1.150323532428029,
          -0.44992931617447457,
          2.1503109650829564,
          0.7712296794677108,
          -1.150323532428029,
          -0.8749274153506232,
          2.1503109650829564,
          -1.7980001135903723,
          -1.2420453663536395,
          0.11276684154037717,
          0.25046490007908,
          1.817034699832418,
          -1.8924185117072305,
          -0.8264852418468575,
          -0.7388082542081186,
          0.05870092435354185,
          -2.1218384041715437,
          0.441998260504044,
          0.8616032312976976,
          -1.150323532428029,
          -0.8264852418468575,
          -0.41631824572257087,
          -0.41631824572257087,
          -0.5456959963869564,
          0.25046490007908,
          -1.4741618230092004,
          -0.6833940549256594,
          0.22866177124852455,
          -0.1826228916708117,
          -0.12204617930643155,
          -1.8924185117072305,
          -1.7980001135903723,
          0.14502962989665721,
          1.2462488495438233,
          -2.0287682881503093,
          1.1894863681657404,
          -0.7778124530425174,
          0.8172059040808031,
          0.7090740697071326,
          0.15065337357972666,
          0.5823928832339945,
          -0.1826228916708117,
          -0.3568592001532403,
          -0.3568592001532403,
          -1.0612982626936664,
          -0.21646457742328967,
          0.5823928832339945,
          -0.08146308307583433,
          -0.7388082542081186,
          -1.383788271179214,
          -1.150323532428029
         ],
         "yaxis": "y"
        }
       ],
       "layout": {
        "legend": {
         "tracegroupgap": 0
        },
        "margin": {
         "t": 60
        },
        "template": {
         "data": {
          "bar": [
           {
            "error_x": {
             "color": "#2a3f5f"
            },
            "error_y": {
             "color": "#2a3f5f"
            },
            "marker": {
             "line": {
              "color": "#E5ECF6",
              "width": 0.5
             },
             "pattern": {
              "fillmode": "overlay",
              "size": 10,
              "solidity": 0.2
             }
            },
            "type": "bar"
           }
          ],
          "barpolar": [
           {
            "marker": {
             "line": {
              "color": "#E5ECF6",
              "width": 0.5
             },
             "pattern": {
              "fillmode": "overlay",
              "size": 10,
              "solidity": 0.2
             }
            },
            "type": "barpolar"
           }
          ],
          "carpet": [
           {
            "aaxis": {
             "endlinecolor": "#2a3f5f",
             "gridcolor": "white",
             "linecolor": "white",
             "minorgridcolor": "white",
             "startlinecolor": "#2a3f5f"
            },
            "baxis": {
             "endlinecolor": "#2a3f5f",
             "gridcolor": "white",
             "linecolor": "white",
             "minorgridcolor": "white",
             "startlinecolor": "#2a3f5f"
            },
            "type": "carpet"
           }
          ],
          "choropleth": [
           {
            "colorbar": {
             "outlinewidth": 0,
             "ticks": ""
            },
            "type": "choropleth"
           }
          ],
          "contour": [
           {
            "colorbar": {
             "outlinewidth": 0,
             "ticks": ""
            },
            "colorscale": [
             [
              0,
              "#0d0887"
             ],
             [
              0.1111111111111111,
              "#46039f"
             ],
             [
              0.2222222222222222,
              "#7201a8"
             ],
             [
              0.3333333333333333,
              "#9c179e"
             ],
             [
              0.4444444444444444,
              "#bd3786"
             ],
             [
              0.5555555555555556,
              "#d8576b"
             ],
             [
              0.6666666666666666,
              "#ed7953"
             ],
             [
              0.7777777777777778,
              "#fb9f3a"
             ],
             [
              0.8888888888888888,
              "#fdca26"
             ],
             [
              1,
              "#f0f921"
             ]
            ],
            "type": "contour"
           }
          ],
          "contourcarpet": [
           {
            "colorbar": {
             "outlinewidth": 0,
             "ticks": ""
            },
            "type": "contourcarpet"
           }
          ],
          "heatmap": [
           {
            "colorbar": {
             "outlinewidth": 0,
             "ticks": ""
            },
            "colorscale": [
             [
              0,
              "#0d0887"
             ],
             [
              0.1111111111111111,
              "#46039f"
             ],
             [
              0.2222222222222222,
              "#7201a8"
             ],
             [
              0.3333333333333333,
              "#9c179e"
             ],
             [
              0.4444444444444444,
              "#bd3786"
             ],
             [
              0.5555555555555556,
              "#d8576b"
             ],
             [
              0.6666666666666666,
              "#ed7953"
             ],
             [
              0.7777777777777778,
              "#fb9f3a"
             ],
             [
              0.8888888888888888,
              "#fdca26"
             ],
             [
              1,
              "#f0f921"
             ]
            ],
            "type": "heatmap"
           }
          ],
          "heatmapgl": [
           {
            "colorbar": {
             "outlinewidth": 0,
             "ticks": ""
            },
            "colorscale": [
             [
              0,
              "#0d0887"
             ],
             [
              0.1111111111111111,
              "#46039f"
             ],
             [
              0.2222222222222222,
              "#7201a8"
             ],
             [
              0.3333333333333333,
              "#9c179e"
             ],
             [
              0.4444444444444444,
              "#bd3786"
             ],
             [
              0.5555555555555556,
              "#d8576b"
             ],
             [
              0.6666666666666666,
              "#ed7953"
             ],
             [
              0.7777777777777778,
              "#fb9f3a"
             ],
             [
              0.8888888888888888,
              "#fdca26"
             ],
             [
              1,
              "#f0f921"
             ]
            ],
            "type": "heatmapgl"
           }
          ],
          "histogram": [
           {
            "marker": {
             "pattern": {
              "fillmode": "overlay",
              "size": 10,
              "solidity": 0.2
             }
            },
            "type": "histogram"
           }
          ],
          "histogram2d": [
           {
            "colorbar": {
             "outlinewidth": 0,
             "ticks": ""
            },
            "colorscale": [
             [
              0,
              "#0d0887"
             ],
             [
              0.1111111111111111,
              "#46039f"
             ],
             [
              0.2222222222222222,
              "#7201a8"
             ],
             [
              0.3333333333333333,
              "#9c179e"
             ],
             [
              0.4444444444444444,
              "#bd3786"
             ],
             [
              0.5555555555555556,
              "#d8576b"
             ],
             [
              0.6666666666666666,
              "#ed7953"
             ],
             [
              0.7777777777777778,
              "#fb9f3a"
             ],
             [
              0.8888888888888888,
              "#fdca26"
             ],
             [
              1,
              "#f0f921"
             ]
            ],
            "type": "histogram2d"
           }
          ],
          "histogram2dcontour": [
           {
            "colorbar": {
             "outlinewidth": 0,
             "ticks": ""
            },
            "colorscale": [
             [
              0,
              "#0d0887"
             ],
             [
              0.1111111111111111,
              "#46039f"
             ],
             [
              0.2222222222222222,
              "#7201a8"
             ],
             [
              0.3333333333333333,
              "#9c179e"
             ],
             [
              0.4444444444444444,
              "#bd3786"
             ],
             [
              0.5555555555555556,
              "#d8576b"
             ],
             [
              0.6666666666666666,
              "#ed7953"
             ],
             [
              0.7777777777777778,
              "#fb9f3a"
             ],
             [
              0.8888888888888888,
              "#fdca26"
             ],
             [
              1,
              "#f0f921"
             ]
            ],
            "type": "histogram2dcontour"
           }
          ],
          "mesh3d": [
           {
            "colorbar": {
             "outlinewidth": 0,
             "ticks": ""
            },
            "type": "mesh3d"
           }
          ],
          "parcoords": [
           {
            "line": {
             "colorbar": {
              "outlinewidth": 0,
              "ticks": ""
             }
            },
            "type": "parcoords"
           }
          ],
          "pie": [
           {
            "automargin": true,
            "type": "pie"
           }
          ],
          "scatter": [
           {
            "fillpattern": {
             "fillmode": "overlay",
             "size": 10,
             "solidity": 0.2
            },
            "type": "scatter"
           }
          ],
          "scatter3d": [
           {
            "line": {
             "colorbar": {
              "outlinewidth": 0,
              "ticks": ""
             }
            },
            "marker": {
             "colorbar": {
              "outlinewidth": 0,
              "ticks": ""
             }
            },
            "type": "scatter3d"
           }
          ],
          "scattercarpet": [
           {
            "marker": {
             "colorbar": {
              "outlinewidth": 0,
              "ticks": ""
             }
            },
            "type": "scattercarpet"
           }
          ],
          "scattergeo": [
           {
            "marker": {
             "colorbar": {
              "outlinewidth": 0,
              "ticks": ""
             }
            },
            "type": "scattergeo"
           }
          ],
          "scattergl": [
           {
            "marker": {
             "colorbar": {
              "outlinewidth": 0,
              "ticks": ""
             }
            },
            "type": "scattergl"
           }
          ],
          "scattermapbox": [
           {
            "marker": {
             "colorbar": {
              "outlinewidth": 0,
              "ticks": ""
             }
            },
            "type": "scattermapbox"
           }
          ],
          "scatterpolar": [
           {
            "marker": {
             "colorbar": {
              "outlinewidth": 0,
              "ticks": ""
             }
            },
            "type": "scatterpolar"
           }
          ],
          "scatterpolargl": [
           {
            "marker": {
             "colorbar": {
              "outlinewidth": 0,
              "ticks": ""
             }
            },
            "type": "scatterpolargl"
           }
          ],
          "scatterternary": [
           {
            "marker": {
             "colorbar": {
              "outlinewidth": 0,
              "ticks": ""
             }
            },
            "type": "scatterternary"
           }
          ],
          "surface": [
           {
            "colorbar": {
             "outlinewidth": 0,
             "ticks": ""
            },
            "colorscale": [
             [
              0,
              "#0d0887"
             ],
             [
              0.1111111111111111,
              "#46039f"
             ],
             [
              0.2222222222222222,
              "#7201a8"
             ],
             [
              0.3333333333333333,
              "#9c179e"
             ],
             [
              0.4444444444444444,
              "#bd3786"
             ],
             [
              0.5555555555555556,
              "#d8576b"
             ],
             [
              0.6666666666666666,
              "#ed7953"
             ],
             [
              0.7777777777777778,
              "#fb9f3a"
             ],
             [
              0.8888888888888888,
              "#fdca26"
             ],
             [
              1,
              "#f0f921"
             ]
            ],
            "type": "surface"
           }
          ],
          "table": [
           {
            "cells": {
             "fill": {
              "color": "#EBF0F8"
             },
             "line": {
              "color": "white"
             }
            },
            "header": {
             "fill": {
              "color": "#C8D4E3"
             },
             "line": {
              "color": "white"
             }
            },
            "type": "table"
           }
          ]
         },
         "layout": {
          "annotationdefaults": {
           "arrowcolor": "#2a3f5f",
           "arrowhead": 0,
           "arrowwidth": 1
          },
          "autotypenumbers": "strict",
          "coloraxis": {
           "colorbar": {
            "outlinewidth": 0,
            "ticks": ""
           }
          },
          "colorscale": {
           "diverging": [
            [
             0,
             "#8e0152"
            ],
            [
             0.1,
             "#c51b7d"
            ],
            [
             0.2,
             "#de77ae"
            ],
            [
             0.3,
             "#f1b6da"
            ],
            [
             0.4,
             "#fde0ef"
            ],
            [
             0.5,
             "#f7f7f7"
            ],
            [
             0.6,
             "#e6f5d0"
            ],
            [
             0.7,
             "#b8e186"
            ],
            [
             0.8,
             "#7fbc41"
            ],
            [
             0.9,
             "#4d9221"
            ],
            [
             1,
             "#276419"
            ]
           ],
           "sequential": [
            [
             0,
             "#0d0887"
            ],
            [
             0.1111111111111111,
             "#46039f"
            ],
            [
             0.2222222222222222,
             "#7201a8"
            ],
            [
             0.3333333333333333,
             "#9c179e"
            ],
            [
             0.4444444444444444,
             "#bd3786"
            ],
            [
             0.5555555555555556,
             "#d8576b"
            ],
            [
             0.6666666666666666,
             "#ed7953"
            ],
            [
             0.7777777777777778,
             "#fb9f3a"
            ],
            [
             0.8888888888888888,
             "#fdca26"
            ],
            [
             1,
             "#f0f921"
            ]
           ],
           "sequentialminus": [
            [
             0,
             "#0d0887"
            ],
            [
             0.1111111111111111,
             "#46039f"
            ],
            [
             0.2222222222222222,
             "#7201a8"
            ],
            [
             0.3333333333333333,
             "#9c179e"
            ],
            [
             0.4444444444444444,
             "#bd3786"
            ],
            [
             0.5555555555555556,
             "#d8576b"
            ],
            [
             0.6666666666666666,
             "#ed7953"
            ],
            [
             0.7777777777777778,
             "#fb9f3a"
            ],
            [
             0.8888888888888888,
             "#fdca26"
            ],
            [
             1,
             "#f0f921"
            ]
           ]
          },
          "colorway": [
           "#636efa",
           "#EF553B",
           "#00cc96",
           "#ab63fa",
           "#FFA15A",
           "#19d3f3",
           "#FF6692",
           "#B6E880",
           "#FF97FF",
           "#FECB52"
          ],
          "font": {
           "color": "#2a3f5f"
          },
          "geo": {
           "bgcolor": "white",
           "lakecolor": "white",
           "landcolor": "#E5ECF6",
           "showlakes": true,
           "showland": true,
           "subunitcolor": "white"
          },
          "hoverlabel": {
           "align": "left"
          },
          "hovermode": "closest",
          "mapbox": {
           "style": "light"
          },
          "paper_bgcolor": "white",
          "plot_bgcolor": "#E5ECF6",
          "polar": {
           "angularaxis": {
            "gridcolor": "white",
            "linecolor": "white",
            "ticks": ""
           },
           "bgcolor": "#E5ECF6",
           "radialaxis": {
            "gridcolor": "white",
            "linecolor": "white",
            "ticks": ""
           }
          },
          "scene": {
           "xaxis": {
            "backgroundcolor": "#E5ECF6",
            "gridcolor": "white",
            "gridwidth": 2,
            "linecolor": "white",
            "showbackground": true,
            "ticks": "",
            "zerolinecolor": "white"
           },
           "yaxis": {
            "backgroundcolor": "#E5ECF6",
            "gridcolor": "white",
            "gridwidth": 2,
            "linecolor": "white",
            "showbackground": true,
            "ticks": "",
            "zerolinecolor": "white"
           },
           "zaxis": {
            "backgroundcolor": "#E5ECF6",
            "gridcolor": "white",
            "gridwidth": 2,
            "linecolor": "white",
            "showbackground": true,
            "ticks": "",
            "zerolinecolor": "white"
           }
          },
          "shapedefaults": {
           "line": {
            "color": "#2a3f5f"
           }
          },
          "ternary": {
           "aaxis": {
            "gridcolor": "white",
            "linecolor": "white",
            "ticks": ""
           },
           "baxis": {
            "gridcolor": "white",
            "linecolor": "white",
            "ticks": ""
           },
           "bgcolor": "#E5ECF6",
           "caxis": {
            "gridcolor": "white",
            "linecolor": "white",
            "ticks": ""
           }
          },
          "title": {
           "x": 0.05
          },
          "xaxis": {
           "automargin": true,
           "gridcolor": "white",
           "linecolor": "white",
           "ticks": "",
           "title": {
            "standoff": 15
           },
           "zerolinecolor": "white",
           "zerolinewidth": 2
          },
          "yaxis": {
           "automargin": true,
           "gridcolor": "white",
           "linecolor": "white",
           "ticks": "",
           "title": {
            "standoff": 15
           },
           "zerolinecolor": "white",
           "zerolinewidth": 2
          }
         }
        },
        "xaxis": {
         "anchor": "y",
         "domain": [
          0,
          1
         ],
         "title": {
          "text": "x"
         }
        },
        "yaxis": {
         "anchor": "x",
         "domain": [
          0,
          1
         ],
         "title": {
          "text": "y"
         }
        }
       }
      }
     },
     "metadata": {},
     "output_type": "display_data"
    }
   ],
   "source": [
    "px.scatter(x=Z[:, 0], y=Z[:, 1])"
   ]
  },
  {
   "cell_type": "markdown",
   "id": "b19748d5",
   "metadata": {},
   "source": [
    "Comparing to scikit learn"
   ]
  },
  {
   "cell_type": "code",
   "execution_count": 36,
   "id": "68121dc4",
   "metadata": {},
   "outputs": [
    {
     "data": {
      "text/html": [
       "<div>\n",
       "<style scoped>\n",
       "    .dataframe tbody tr th:only-of-type {\n",
       "        vertical-align: middle;\n",
       "    }\n",
       "\n",
       "    .dataframe tbody tr th {\n",
       "        vertical-align: top;\n",
       "    }\n",
       "\n",
       "    .dataframe thead th {\n",
       "        text-align: right;\n",
       "    }\n",
       "</style>\n",
       "<table border=\"1\" class=\"dataframe\">\n",
       "  <thead>\n",
       "    <tr style=\"text-align: right;\">\n",
       "      <th></th>\n",
       "      <th>0</th>\n",
       "      <th>1</th>\n",
       "    </tr>\n",
       "  </thead>\n",
       "  <tbody>\n",
       "    <tr>\n",
       "      <th>0</th>\n",
       "      <td>26.432217</td>\n",
       "      <td>0.162686</td>\n",
       "    </tr>\n",
       "    <tr>\n",
       "      <th>1</th>\n",
       "      <td>-17.045285</td>\n",
       "      <td>-2.181451</td>\n",
       "    </tr>\n",
       "    <tr>\n",
       "      <th>2</th>\n",
       "      <td>-23.245695</td>\n",
       "      <td>-3.538040</td>\n",
       "    </tr>\n",
       "    <tr>\n",
       "      <th>3</th>\n",
       "      <td>5.383546</td>\n",
       "      <td>5.025395</td>\n",
       "    </tr>\n",
       "    <tr>\n",
       "      <th>4</th>\n",
       "      <td>51.085217</td>\n",
       "      <td>-2.586948</td>\n",
       "    </tr>\n",
       "  </tbody>\n",
       "</table>\n",
       "</div>"
      ],
      "text/plain": [
       "           0         1\n",
       "0  26.432217  0.162686\n",
       "1 -17.045285 -2.181451\n",
       "2 -23.245695 -3.538040\n",
       "3   5.383546  5.025395\n",
       "4  51.085217 -2.586948"
      ]
     },
     "execution_count": 36,
     "metadata": {},
     "output_type": "execute_result"
    }
   ],
   "source": [
    "pca = PCA(2)\n",
    "pd.DataFrame(pca.fit_transform(rectangle)).head(5)"
   ]
  },
  {
   "cell_type": "code",
   "execution_count": 37,
   "id": "179cdf1a",
   "metadata": {},
   "outputs": [
    {
     "data": {
      "text/html": [
       "<div>\n",
       "<style scoped>\n",
       "    .dataframe tbody tr th:only-of-type {\n",
       "        vertical-align: middle;\n",
       "    }\n",
       "\n",
       "    .dataframe tbody tr th {\n",
       "        vertical-align: top;\n",
       "    }\n",
       "\n",
       "    .dataframe thead th {\n",
       "        text-align: right;\n",
       "    }\n",
       "</style>\n",
       "<table border=\"1\" class=\"dataframe\">\n",
       "  <thead>\n",
       "    <tr style=\"text-align: right;\">\n",
       "      <th></th>\n",
       "      <th>0</th>\n",
       "      <th>1</th>\n",
       "    </tr>\n",
       "  </thead>\n",
       "  <tbody>\n",
       "    <tr>\n",
       "      <th>0</th>\n",
       "      <td>26.432217</td>\n",
       "      <td>0.162686</td>\n",
       "    </tr>\n",
       "    <tr>\n",
       "      <th>1</th>\n",
       "      <td>-17.045285</td>\n",
       "      <td>-2.181451</td>\n",
       "    </tr>\n",
       "    <tr>\n",
       "      <th>2</th>\n",
       "      <td>-23.245695</td>\n",
       "      <td>-3.538040</td>\n",
       "    </tr>\n",
       "    <tr>\n",
       "      <th>3</th>\n",
       "      <td>5.383546</td>\n",
       "      <td>5.025395</td>\n",
       "    </tr>\n",
       "    <tr>\n",
       "      <th>4</th>\n",
       "      <td>51.085217</td>\n",
       "      <td>-2.586948</td>\n",
       "    </tr>\n",
       "  </tbody>\n",
       "</table>\n",
       "</div>"
      ],
      "text/plain": [
       "           0         1\n",
       "0  26.432217  0.162686\n",
       "1 -17.045285 -2.181451\n",
       "2 -23.245695 -3.538040\n",
       "3   5.383546  5.025395\n",
       "4  51.085217 -2.586948"
      ]
     },
     "execution_count": 37,
     "metadata": {},
     "output_type": "execute_result"
    }
   ],
   "source": [
    "pd.DataFrame(pca.fit_transform(X)).head(5)"
   ]
  },
  {
   "cell_type": "code",
   "execution_count": 38,
   "id": "08d19d82",
   "metadata": {},
   "outputs": [
    {
     "data": {
      "text/html": [
       "<div>\n",
       "<style scoped>\n",
       "    .dataframe tbody tr th:only-of-type {\n",
       "        vertical-align: middle;\n",
       "    }\n",
       "\n",
       "    .dataframe tbody tr th {\n",
       "        vertical-align: top;\n",
       "    }\n",
       "\n",
       "    .dataframe thead th {\n",
       "        text-align: right;\n",
       "    }\n",
       "</style>\n",
       "<table border=\"1\" class=\"dataframe\">\n",
       "  <thead>\n",
       "    <tr style=\"text-align: right;\">\n",
       "      <th></th>\n",
       "      <th>0</th>\n",
       "      <th>1</th>\n",
       "    </tr>\n",
       "  </thead>\n",
       "  <tbody>\n",
       "    <tr>\n",
       "      <th>0</th>\n",
       "      <td>2.165116</td>\n",
       "      <td>-0.250465</td>\n",
       "    </tr>\n",
       "    <tr>\n",
       "      <th>1</th>\n",
       "      <td>-1.659346</td>\n",
       "      <td>0.502647</td>\n",
       "    </tr>\n",
       "    <tr>\n",
       "      <th>2</th>\n",
       "      <td>-2.462645</td>\n",
       "      <td>0.416318</td>\n",
       "    </tr>\n",
       "    <tr>\n",
       "      <th>3</th>\n",
       "      <td>0.856182</td>\n",
       "      <td>-1.483758</td>\n",
       "    </tr>\n",
       "    <tr>\n",
       "      <th>4</th>\n",
       "      <td>3.884287</td>\n",
       "      <td>0.182623</td>\n",
       "    </tr>\n",
       "  </tbody>\n",
       "</table>\n",
       "</div>"
      ],
      "text/plain": [
       "          0         1\n",
       "0  2.165116 -0.250465\n",
       "1 -1.659346  0.502647\n",
       "2 -2.462645  0.416318\n",
       "3  0.856182 -1.483758\n",
       "4  3.884287  0.182623"
      ]
     },
     "execution_count": 38,
     "metadata": {},
     "output_type": "execute_result"
    }
   ],
   "source": [
    "pd.DataFrame(pca.fit_transform(Xstd)).head(5)"
   ]
  },
  {
   "cell_type": "markdown",
   "id": "70ad8998-43b7-4601-876c-bc0b53d52921",
   "metadata": {},
   "source": [
    "Also notice that the covariance of the transformed diagonalized. "
   ]
  },
  {
   "cell_type": "code",
   "execution_count": 39,
   "id": "cdf7ea6a-5343-4274-baa1-7d62c2e0b9a3",
   "metadata": {},
   "outputs": [
    {
     "data": {
      "text/html": [
       "<div>\n",
       "<style scoped>\n",
       "    .dataframe tbody tr th:only-of-type {\n",
       "        vertical-align: middle;\n",
       "    }\n",
       "\n",
       "    .dataframe tbody tr th {\n",
       "        vertical-align: top;\n",
       "    }\n",
       "\n",
       "    .dataframe thead th {\n",
       "        text-align: right;\n",
       "    }\n",
       "</style>\n",
       "<table border=\"1\" class=\"dataframe\">\n",
       "  <thead>\n",
       "    <tr style=\"text-align: right;\">\n",
       "      <th></th>\n",
       "      <th>0</th>\n",
       "      <th>1</th>\n",
       "    </tr>\n",
       "  </thead>\n",
       "  <tbody>\n",
       "    <tr>\n",
       "      <th>0</th>\n",
       "      <td>2.915514e+00</td>\n",
       "      <td>7.808040e-17</td>\n",
       "    </tr>\n",
       "    <tr>\n",
       "      <th>1</th>\n",
       "      <td>7.808040e-17</td>\n",
       "      <td>1.037467e+00</td>\n",
       "    </tr>\n",
       "  </tbody>\n",
       "</table>\n",
       "</div>"
      ],
      "text/plain": [
       "              0             1\n",
       "0  2.915514e+00  7.808040e-17\n",
       "1  7.808040e-17  1.037467e+00"
      ]
     },
     "execution_count": 39,
     "metadata": {},
     "output_type": "execute_result"
    }
   ],
   "source": [
    "pd.DataFrame(np.cov(Z.T))"
   ]
  },
  {
   "cell_type": "markdown",
   "id": "048b2087",
   "metadata": {},
   "source": [
    "## Lower Rank Approximation of X"
   ]
  },
  {
   "cell_type": "markdown",
   "id": "6c4b985f",
   "metadata": {},
   "source": [
    "Let's now try to recover X from our approximation:"
   ]
  },
  {
   "cell_type": "code",
   "execution_count": 40,
   "id": "1a6bc0d2",
   "metadata": {},
   "outputs": [
    {
     "data": {
      "text/html": [
       "<div>\n",
       "<style scoped>\n",
       "    .dataframe tbody tr th:only-of-type {\n",
       "        vertical-align: middle;\n",
       "    }\n",
       "\n",
       "    .dataframe tbody tr th {\n",
       "        vertical-align: top;\n",
       "    }\n",
       "\n",
       "    .dataframe thead th {\n",
       "        text-align: right;\n",
       "    }\n",
       "</style>\n",
       "<table border=\"1\" class=\"dataframe\">\n",
       "  <thead>\n",
       "    <tr style=\"text-align: right;\">\n",
       "      <th></th>\n",
       "      <th>width</th>\n",
       "      <th>height</th>\n",
       "      <th>area</th>\n",
       "      <th>perimeter</th>\n",
       "    </tr>\n",
       "  </thead>\n",
       "  <tbody>\n",
       "    <tr>\n",
       "      <th>0</th>\n",
       "      <td>8</td>\n",
       "      <td>6</td>\n",
       "      <td>48</td>\n",
       "      <td>28</td>\n",
       "    </tr>\n",
       "    <tr>\n",
       "      <th>1</th>\n",
       "      <td>2</td>\n",
       "      <td>4</td>\n",
       "      <td>8</td>\n",
       "      <td>12</td>\n",
       "    </tr>\n",
       "    <tr>\n",
       "      <th>2</th>\n",
       "      <td>1</td>\n",
       "      <td>3</td>\n",
       "      <td>3</td>\n",
       "      <td>8</td>\n",
       "    </tr>\n",
       "    <tr>\n",
       "      <th>3</th>\n",
       "      <td>9</td>\n",
       "      <td>3</td>\n",
       "      <td>27</td>\n",
       "      <td>24</td>\n",
       "    </tr>\n",
       "    <tr>\n",
       "      <th>4</th>\n",
       "      <td>9</td>\n",
       "      <td>8</td>\n",
       "      <td>72</td>\n",
       "      <td>34</td>\n",
       "    </tr>\n",
       "  </tbody>\n",
       "</table>\n",
       "</div>"
      ],
      "text/plain": [
       "   width  height  area  perimeter\n",
       "0      8       6    48         28\n",
       "1      2       4     8         12\n",
       "2      1       3     3          8\n",
       "3      9       3    27         24\n",
       "4      9       8    72         34"
      ]
     },
     "execution_count": 40,
     "metadata": {},
     "output_type": "execute_result"
    }
   ],
   "source": [
    "rectangle.head()"
   ]
  },
  {
   "cell_type": "code",
   "execution_count": 41,
   "id": "0dad0a93",
   "metadata": {},
   "outputs": [
    {
     "data": {
      "text/html": [
       "<div>\n",
       "<style scoped>\n",
       "    .dataframe tbody tr th:only-of-type {\n",
       "        vertical-align: middle;\n",
       "    }\n",
       "\n",
       "    .dataframe tbody tr th {\n",
       "        vertical-align: top;\n",
       "    }\n",
       "\n",
       "    .dataframe thead th {\n",
       "        text-align: right;\n",
       "    }\n",
       "</style>\n",
       "<table border=\"1\" class=\"dataframe\">\n",
       "  <thead>\n",
       "    <tr style=\"text-align: right;\">\n",
       "      <th></th>\n",
       "      <th>width</th>\n",
       "      <th>height</th>\n",
       "      <th>area</th>\n",
       "      <th>perimeter</th>\n",
       "    </tr>\n",
       "  </thead>\n",
       "  <tbody>\n",
       "    <tr>\n",
       "      <th>0</th>\n",
       "      <td>8.111911</td>\n",
       "      <td>6.093164</td>\n",
       "      <td>45.859191</td>\n",
       "      <td>28.410150</td>\n",
       "    </tr>\n",
       "    <tr>\n",
       "      <th>1</th>\n",
       "      <td>2.103964</td>\n",
       "      <td>4.086549</td>\n",
       "      <td>6.011204</td>\n",
       "      <td>12.381026</td>\n",
       "    </tr>\n",
       "    <tr>\n",
       "      <th>2</th>\n",
       "      <td>1.285956</td>\n",
       "      <td>3.238055</td>\n",
       "      <td>-2.470229</td>\n",
       "      <td>9.048021</td>\n",
       "    </tr>\n",
       "  </tbody>\n",
       "</table>\n",
       "</div>"
      ],
      "text/plain": [
       "      width    height       area  perimeter\n",
       "0  8.111911  6.093164  45.859191  28.410150\n",
       "1  2.103964  4.086549   6.011204  12.381026\n",
       "2  1.285956  3.238055  -2.470229   9.048021"
      ]
     },
     "metadata": {},
     "output_type": "display_data"
    },
    {
     "data": {
      "application/vnd.plotly.v1+json": {
       "config": {
        "plotlyServerURL": "https://plot.ly"
       },
       "data": [
        {
         "hovertemplate": "width=%{x}<br>height=%{y}<br>area=%{z}<extra></extra>",
         "legendgroup": "",
         "marker": {
          "color": "#636efa",
          "symbol": "circle"
         },
         "mode": "markers",
         "name": "",
         "scene": "scene",
         "showlegend": false,
         "type": "scatter3d",
         "x": [
          8,
          2,
          1,
          9,
          9,
          3,
          4,
          6,
          7,
          8,
          5,
          9,
          8,
          1,
          2,
          7,
          7,
          2,
          2,
          4,
          8,
          8,
          9,
          7,
          8,
          6,
          6,
          8,
          7,
          4,
          4,
          9,
          4,
          1,
          8,
          5,
          9,
          6,
          3,
          7,
          7,
          3,
          5,
          7,
          8,
          2,
          7,
          1,
          3,
          2,
          5,
          9,
          6,
          2,
          6,
          9,
          2,
          3,
          6,
          8,
          9,
          3,
          2,
          1,
          3,
          2,
          6,
          5,
          2,
          2,
          1,
          1,
          6,
          8,
          2,
          4,
          1,
          9,
          5,
          3,
          2,
          2,
          8,
          1,
          5,
          5,
          9,
          3,
          9,
          8,
          9,
          4,
          4,
          1,
          6,
          8,
          8,
          1,
          1,
          2
         ],
         "y": [
          6,
          4,
          3,
          3,
          8,
          1,
          2,
          5,
          1,
          2,
          5,
          5,
          4,
          2,
          9,
          8,
          5,
          4,
          5,
          3,
          1,
          5,
          8,
          3,
          3,
          6,
          4,
          4,
          2,
          4,
          1,
          7,
          2,
          2,
          1,
          4,
          5,
          9,
          7,
          3,
          7,
          3,
          5,
          3,
          2,
          6,
          1,
          2,
          5,
          6,
          6,
          1,
          3,
          6,
          8,
          1,
          8,
          7,
          5,
          6,
          2,
          9,
          5,
          4,
          3,
          9,
          4,
          2,
          6,
          5,
          3,
          3,
          7,
          6,
          7,
          6,
          1,
          8,
          5,
          9,
          8,
          2,
          3,
          8,
          1,
          7,
          5,
          1,
          7,
          5,
          8,
          5,
          5,
          5,
          6,
          5,
          7,
          4,
          6,
          6
         ],
         "z": [
          48,
          8,
          3,
          27,
          72,
          3,
          8,
          30,
          7,
          16,
          25,
          45,
          32,
          2,
          18,
          56,
          35,
          8,
          10,
          12,
          8,
          40,
          72,
          21,
          24,
          36,
          24,
          32,
          14,
          16,
          4,
          63,
          8,
          2,
          8,
          20,
          45,
          54,
          21,
          21,
          49,
          9,
          25,
          21,
          16,
          12,
          7,
          2,
          15,
          12,
          30,
          9,
          18,
          12,
          48,
          9,
          16,
          21,
          30,
          48,
          18,
          27,
          10,
          4,
          9,
          18,
          24,
          10,
          12,
          10,
          3,
          3,
          42,
          48,
          14,
          24,
          1,
          72,
          25,
          27,
          16,
          4,
          24,
          8,
          5,
          35,
          45,
          3,
          63,
          40,
          72,
          20,
          20,
          5,
          36,
          40,
          56,
          4,
          6,
          12
         ]
        },
        {
         "mode": "markers",
         "name": "approximation",
         "type": "scatter3d",
         "x": [
          8.111910639036518,
          2.1039641797937088,
          1.285955810018966,
          8.762665432886287,
          9.411714977972832,
          3.3178966698742833,
          4.13590503964903,
          6.007327506259108,
          6.774662633192541,
          7.7334654270249885,
          5.002341591371842,
          9.022285250920905,
          7.922688033030756,
          1.437734749117062,
          1.5210625143753664,
          7.190551512111747,
          7.012313421146374,
          2.1039641797937128,
          1.9873838467100433,
          4.089721918594212,
          7.638854124022105,
          8.01729933603364,
          9.411714977972832,
          6.893488027169457,
          7.828076730027872,
          6.03154159723314,
          5.983113415285075,
          7.922688033030756,
          6.834075330180999,
          4.0435387975393935,
          4.182088160703849,
          9.281905068955524,
          4.13590503964903,
          1.437734749117062,
          7.638854124022105,
          5.013326106412235,
          9.022285250920905,
          6.104183870155238,
          2.8296063074588216,
          6.893488027169457,
          7.13113881512329,
          3.1551332157357965,
          5.002341591371842,
          6.893488027169457,
          7.7334654270249885,
          1.8708035136263734,
          6.774662633192541,
          1.437734749117062,
          2.992369761597309,
          1.8708035136263734,
          4.9913570763314485,
          8.50304561485167,
          5.958899324311043,
          1.8708035136263734,
          6.079969779181205,
          8.50304561485167,
          1.6376428474590354,
          2.8296063074588216,
          6.007327506259108,
          8.111910639036523,
          8.63285552386898,
          2.6668428533203334,
          1.9873838467100433,
          1.1341768709208706,
          3.1551332157357965,
          1.5210625143753664,
          5.983113415285075,
          5.03529513649302,
          1.8708035136263734,
          1.9873838467100433,
          1.285955810018966,
          1.285955810018966,
          6.055755688207173,
          8.111910639036523,
          1.7542231805427049,
          3.951172555429757,
          1.5895136882151566,
          9.411714977972832,
          5.002341591371842,
          2.6668428533203334,
          1.6376428474590354,
          2.3371248459610507,
          7.828076730027872,
          0.5270611145284931,
          5.046279651533413,
          4.980372561291055,
          9.022285250920905,
          3.3178966698742833,
          9.281905068955524,
          8.01729933603364,
          9.411714977972832,
          3.9973556764845752,
          3.9973556764845752,
          0.9823979318227769,
          6.03154159723314,
          8.01729933603364,
          8.206521942039407,
          1.1341768709208715,
          0.8306189927246823,
          1.8708035136263734
         ],
         "y": [
          6.093164242225655,
          4.086548911814643,
          3.238054724553453,
          2.8024218672195507,
          8.342747698217268,
          1.2646451008579365,
          2.1131392881191315,
          5.006100059600327,
          0.8124093901662883,
          1.7781132184398323,
          5.001949346260891,
          5.018552199618638,
          3.935638730332745,
          2.3644088403786068,
          8.601290383954314,
          8.158631810019871,
          5.010250772939765,
          4.086548911814647,
          4.98949720624258,
          3.0746924030532394,
          0.6993504624933764,
          5.014401486279201,
          8.342747698217268,
          2.9113300815530256,
          2.8568759743862886,
          6.026257995040609,
          3.985942124160046,
          3.935638730332745,
          1.8618697358596568,
          4.036245517987346,
          1.1515861731850245,
          7.2346825320177235,
          2.1131392881191315,
          2.3644088403786068,
          0.6993504624933764,
          4.011093821073696,
          5.018552199618638,
          9.086731801361456,
          6.858149328944057,
          2.9113300815530256,
          7.1091714643265025,
          3.129146510219977,
          5.001949346260891,
          2.9113300815530256,
          1.7781132184398323,
          5.892445500670514,
          0.8124093901662883,
          2.3644088403786068,
          4.993647919582018,
          5.892445500670514,
          5.992804871448086,
          0.5862915348204627,
          2.9657841887197636,
          5.892445500670514,
          8.066573865921173,
          0.5862915348204627,
          7.698342089526379,
          6.858149328944057,
          5.006100059600327,
          6.093164242225657,
          1.694356701020007,
          8.7226507383061,
          4.98949720624258,
          4.111700608728298,
          3.129146510219977,
          8.601290383954314,
          3.985942124160046,
          2.029382770699307,
          5.892445500670514,
          4.98949720624258,
          3.238054724553453,
          3.238054724553453,
          7.046415930480892,
          6.093164242225657,
          6.795393795098446,
          5.959351747855562,
          1.4907629562037608,
          8.342747698217268,
          5.001949346260891,
          8.7226507383061,
          7.698342089526379,
          2.280652322958781,
          2.8568759743862886,
          7.606284145427681,
          1.0385272455121122,
          6.98366039663528,
          5.018552199618638,
          1.2646451008579365,
          7.2346825320177235,
          5.014401486279201,
          8.342747698217268,
          4.997798632921454,
          4.997798632921454,
          4.985346492903144,
          6.026257995040609,
          5.014401486279201,
          7.171926998172113,
          4.111700608728299,
          5.858992377077991,
          5.892445500670514
         ],
         "z": [
          45.85919072585169,
          6.011203562076368,
          -2.4702292414341223,
          31.540122786602723,
          64.12404423084092,
          -3.0812461169629657,
          5.400186686547563,
          29.859827506205573,
          11.310620766950638,
          21.098708135513576,
          24.955206220174762,
          44.573691364298,
          33.478949430682654,
          -6.373704400176937,
          27.161897562106027,
          52.354819811200684,
          34.76444879223639,
          6.01120356207641,
          10.241342362082333,
          10.2836527690797,
          14.908587487929038,
          39.6690700782672,
          64.12404423084092,
          23.03753477959351,
          27.28882878309812,
          35.39662087126391,
          24.32303414114724,
          33.478949430682654,
          17.174077773272074,
          15.167118851611823,
          0.5167206040154397,
          57.60725994199329,
          5.400186686547563,
          -6.373704400176937,
          14.908587487929038,
          19.745076496379532,
          44.573691364298,
          52.00700096643891,
          24.259568530651194,
          23.03753477959351,
          46.49136280487926,
          6.03235876557509,
          24.955206220174762,
          23.03753477959351,
          21.098708135513576,
          14.471481162088256,
          11.310620766950638,
          -6.373704400176937,
          15.145963648113142,
          14.471481162088256,
          30.165335943969996,
          18.506554208907435,
          18.786240776088903,
          14.471481162088256,
          46.47020760138058,
          18.506554208907435,
          22.931758762100102,
          24.259568530651194,
          29.859827506205573,
          45.85919072585173,
          25.023338497755077,
          33.37317341318925,
          10.241342362082333,
          1.433245917308696,
          6.03235876557509,
          27.161897562106027,
          24.32303414114724,
          9.32481704878907,
          14.471481162088256,
          10.241342362082333,
          -2.4702292414341223,
          -2.4702292414341223,
          40.93341423632224,
          45.85919072585173,
          18.701619962094178,
          24.934051016676083,
          -10.277179558919762,
          64.12404423084092,
          24.955206220174762,
          33.37317341318925,
          22.931758762100102,
          -2.449074037935439,
          27.28882878309812,
          17.047146552279983,
          4.1146873249938345,
          35.375465667765226,
          44.573691364298,
          -3.0812461169629657,
          57.60725994199329,
          39.6690700782672,
          64.12404423084092,
          20.050584934143952,
          20.050584934143952,
          5.336721076051521,
          35.39662087126391,
          39.6690700782672,
          52.04931137343627,
          1.4332459173086995,
          9.240196234794343,
          14.471481162088256
         ]
        }
       ],
       "layout": {
        "height": 800,
        "legend": {
         "tracegroupgap": 0
        },
        "margin": {
         "t": 60
        },
        "scene": {
         "domain": {
          "x": [
           0,
           1
          ],
          "y": [
           0,
           1
          ]
         },
         "xaxis": {
          "title": {
           "text": "width"
          }
         },
         "yaxis": {
          "title": {
           "text": "height"
          }
         },
         "zaxis": {
          "title": {
           "text": "area"
          }
         }
        },
        "template": {
         "data": {
          "bar": [
           {
            "error_x": {
             "color": "#2a3f5f"
            },
            "error_y": {
             "color": "#2a3f5f"
            },
            "marker": {
             "line": {
              "color": "#E5ECF6",
              "width": 0.5
             },
             "pattern": {
              "fillmode": "overlay",
              "size": 10,
              "solidity": 0.2
             }
            },
            "type": "bar"
           }
          ],
          "barpolar": [
           {
            "marker": {
             "line": {
              "color": "#E5ECF6",
              "width": 0.5
             },
             "pattern": {
              "fillmode": "overlay",
              "size": 10,
              "solidity": 0.2
             }
            },
            "type": "barpolar"
           }
          ],
          "carpet": [
           {
            "aaxis": {
             "endlinecolor": "#2a3f5f",
             "gridcolor": "white",
             "linecolor": "white",
             "minorgridcolor": "white",
             "startlinecolor": "#2a3f5f"
            },
            "baxis": {
             "endlinecolor": "#2a3f5f",
             "gridcolor": "white",
             "linecolor": "white",
             "minorgridcolor": "white",
             "startlinecolor": "#2a3f5f"
            },
            "type": "carpet"
           }
          ],
          "choropleth": [
           {
            "colorbar": {
             "outlinewidth": 0,
             "ticks": ""
            },
            "type": "choropleth"
           }
          ],
          "contour": [
           {
            "colorbar": {
             "outlinewidth": 0,
             "ticks": ""
            },
            "colorscale": [
             [
              0,
              "#0d0887"
             ],
             [
              0.1111111111111111,
              "#46039f"
             ],
             [
              0.2222222222222222,
              "#7201a8"
             ],
             [
              0.3333333333333333,
              "#9c179e"
             ],
             [
              0.4444444444444444,
              "#bd3786"
             ],
             [
              0.5555555555555556,
              "#d8576b"
             ],
             [
              0.6666666666666666,
              "#ed7953"
             ],
             [
              0.7777777777777778,
              "#fb9f3a"
             ],
             [
              0.8888888888888888,
              "#fdca26"
             ],
             [
              1,
              "#f0f921"
             ]
            ],
            "type": "contour"
           }
          ],
          "contourcarpet": [
           {
            "colorbar": {
             "outlinewidth": 0,
             "ticks": ""
            },
            "type": "contourcarpet"
           }
          ],
          "heatmap": [
           {
            "colorbar": {
             "outlinewidth": 0,
             "ticks": ""
            },
            "colorscale": [
             [
              0,
              "#0d0887"
             ],
             [
              0.1111111111111111,
              "#46039f"
             ],
             [
              0.2222222222222222,
              "#7201a8"
             ],
             [
              0.3333333333333333,
              "#9c179e"
             ],
             [
              0.4444444444444444,
              "#bd3786"
             ],
             [
              0.5555555555555556,
              "#d8576b"
             ],
             [
              0.6666666666666666,
              "#ed7953"
             ],
             [
              0.7777777777777778,
              "#fb9f3a"
             ],
             [
              0.8888888888888888,
              "#fdca26"
             ],
             [
              1,
              "#f0f921"
             ]
            ],
            "type": "heatmap"
           }
          ],
          "heatmapgl": [
           {
            "colorbar": {
             "outlinewidth": 0,
             "ticks": ""
            },
            "colorscale": [
             [
              0,
              "#0d0887"
             ],
             [
              0.1111111111111111,
              "#46039f"
             ],
             [
              0.2222222222222222,
              "#7201a8"
             ],
             [
              0.3333333333333333,
              "#9c179e"
             ],
             [
              0.4444444444444444,
              "#bd3786"
             ],
             [
              0.5555555555555556,
              "#d8576b"
             ],
             [
              0.6666666666666666,
              "#ed7953"
             ],
             [
              0.7777777777777778,
              "#fb9f3a"
             ],
             [
              0.8888888888888888,
              "#fdca26"
             ],
             [
              1,
              "#f0f921"
             ]
            ],
            "type": "heatmapgl"
           }
          ],
          "histogram": [
           {
            "marker": {
             "pattern": {
              "fillmode": "overlay",
              "size": 10,
              "solidity": 0.2
             }
            },
            "type": "histogram"
           }
          ],
          "histogram2d": [
           {
            "colorbar": {
             "outlinewidth": 0,
             "ticks": ""
            },
            "colorscale": [
             [
              0,
              "#0d0887"
             ],
             [
              0.1111111111111111,
              "#46039f"
             ],
             [
              0.2222222222222222,
              "#7201a8"
             ],
             [
              0.3333333333333333,
              "#9c179e"
             ],
             [
              0.4444444444444444,
              "#bd3786"
             ],
             [
              0.5555555555555556,
              "#d8576b"
             ],
             [
              0.6666666666666666,
              "#ed7953"
             ],
             [
              0.7777777777777778,
              "#fb9f3a"
             ],
             [
              0.8888888888888888,
              "#fdca26"
             ],
             [
              1,
              "#f0f921"
             ]
            ],
            "type": "histogram2d"
           }
          ],
          "histogram2dcontour": [
           {
            "colorbar": {
             "outlinewidth": 0,
             "ticks": ""
            },
            "colorscale": [
             [
              0,
              "#0d0887"
             ],
             [
              0.1111111111111111,
              "#46039f"
             ],
             [
              0.2222222222222222,
              "#7201a8"
             ],
             [
              0.3333333333333333,
              "#9c179e"
             ],
             [
              0.4444444444444444,
              "#bd3786"
             ],
             [
              0.5555555555555556,
              "#d8576b"
             ],
             [
              0.6666666666666666,
              "#ed7953"
             ],
             [
              0.7777777777777778,
              "#fb9f3a"
             ],
             [
              0.8888888888888888,
              "#fdca26"
             ],
             [
              1,
              "#f0f921"
             ]
            ],
            "type": "histogram2dcontour"
           }
          ],
          "mesh3d": [
           {
            "colorbar": {
             "outlinewidth": 0,
             "ticks": ""
            },
            "type": "mesh3d"
           }
          ],
          "parcoords": [
           {
            "line": {
             "colorbar": {
              "outlinewidth": 0,
              "ticks": ""
             }
            },
            "type": "parcoords"
           }
          ],
          "pie": [
           {
            "automargin": true,
            "type": "pie"
           }
          ],
          "scatter": [
           {
            "fillpattern": {
             "fillmode": "overlay",
             "size": 10,
             "solidity": 0.2
            },
            "type": "scatter"
           }
          ],
          "scatter3d": [
           {
            "line": {
             "colorbar": {
              "outlinewidth": 0,
              "ticks": ""
             }
            },
            "marker": {
             "colorbar": {
              "outlinewidth": 0,
              "ticks": ""
             }
            },
            "type": "scatter3d"
           }
          ],
          "scattercarpet": [
           {
            "marker": {
             "colorbar": {
              "outlinewidth": 0,
              "ticks": ""
             }
            },
            "type": "scattercarpet"
           }
          ],
          "scattergeo": [
           {
            "marker": {
             "colorbar": {
              "outlinewidth": 0,
              "ticks": ""
             }
            },
            "type": "scattergeo"
           }
          ],
          "scattergl": [
           {
            "marker": {
             "colorbar": {
              "outlinewidth": 0,
              "ticks": ""
             }
            },
            "type": "scattergl"
           }
          ],
          "scattermapbox": [
           {
            "marker": {
             "colorbar": {
              "outlinewidth": 0,
              "ticks": ""
             }
            },
            "type": "scattermapbox"
           }
          ],
          "scatterpolar": [
           {
            "marker": {
             "colorbar": {
              "outlinewidth": 0,
              "ticks": ""
             }
            },
            "type": "scatterpolar"
           }
          ],
          "scatterpolargl": [
           {
            "marker": {
             "colorbar": {
              "outlinewidth": 0,
              "ticks": ""
             }
            },
            "type": "scatterpolargl"
           }
          ],
          "scatterternary": [
           {
            "marker": {
             "colorbar": {
              "outlinewidth": 0,
              "ticks": ""
             }
            },
            "type": "scatterternary"
           }
          ],
          "surface": [
           {
            "colorbar": {
             "outlinewidth": 0,
             "ticks": ""
            },
            "colorscale": [
             [
              0,
              "#0d0887"
             ],
             [
              0.1111111111111111,
              "#46039f"
             ],
             [
              0.2222222222222222,
              "#7201a8"
             ],
             [
              0.3333333333333333,
              "#9c179e"
             ],
             [
              0.4444444444444444,
              "#bd3786"
             ],
             [
              0.5555555555555556,
              "#d8576b"
             ],
             [
              0.6666666666666666,
              "#ed7953"
             ],
             [
              0.7777777777777778,
              "#fb9f3a"
             ],
             [
              0.8888888888888888,
              "#fdca26"
             ],
             [
              1,
              "#f0f921"
             ]
            ],
            "type": "surface"
           }
          ],
          "table": [
           {
            "cells": {
             "fill": {
              "color": "#EBF0F8"
             },
             "line": {
              "color": "white"
             }
            },
            "header": {
             "fill": {
              "color": "#C8D4E3"
             },
             "line": {
              "color": "white"
             }
            },
            "type": "table"
           }
          ]
         },
         "layout": {
          "annotationdefaults": {
           "arrowcolor": "#2a3f5f",
           "arrowhead": 0,
           "arrowwidth": 1
          },
          "autotypenumbers": "strict",
          "coloraxis": {
           "colorbar": {
            "outlinewidth": 0,
            "ticks": ""
           }
          },
          "colorscale": {
           "diverging": [
            [
             0,
             "#8e0152"
            ],
            [
             0.1,
             "#c51b7d"
            ],
            [
             0.2,
             "#de77ae"
            ],
            [
             0.3,
             "#f1b6da"
            ],
            [
             0.4,
             "#fde0ef"
            ],
            [
             0.5,
             "#f7f7f7"
            ],
            [
             0.6,
             "#e6f5d0"
            ],
            [
             0.7,
             "#b8e186"
            ],
            [
             0.8,
             "#7fbc41"
            ],
            [
             0.9,
             "#4d9221"
            ],
            [
             1,
             "#276419"
            ]
           ],
           "sequential": [
            [
             0,
             "#0d0887"
            ],
            [
             0.1111111111111111,
             "#46039f"
            ],
            [
             0.2222222222222222,
             "#7201a8"
            ],
            [
             0.3333333333333333,
             "#9c179e"
            ],
            [
             0.4444444444444444,
             "#bd3786"
            ],
            [
             0.5555555555555556,
             "#d8576b"
            ],
            [
             0.6666666666666666,
             "#ed7953"
            ],
            [
             0.7777777777777778,
             "#fb9f3a"
            ],
            [
             0.8888888888888888,
             "#fdca26"
            ],
            [
             1,
             "#f0f921"
            ]
           ],
           "sequentialminus": [
            [
             0,
             "#0d0887"
            ],
            [
             0.1111111111111111,
             "#46039f"
            ],
            [
             0.2222222222222222,
             "#7201a8"
            ],
            [
             0.3333333333333333,
             "#9c179e"
            ],
            [
             0.4444444444444444,
             "#bd3786"
            ],
            [
             0.5555555555555556,
             "#d8576b"
            ],
            [
             0.6666666666666666,
             "#ed7953"
            ],
            [
             0.7777777777777778,
             "#fb9f3a"
            ],
            [
             0.8888888888888888,
             "#fdca26"
            ],
            [
             1,
             "#f0f921"
            ]
           ]
          },
          "colorway": [
           "#636efa",
           "#EF553B",
           "#00cc96",
           "#ab63fa",
           "#FFA15A",
           "#19d3f3",
           "#FF6692",
           "#B6E880",
           "#FF97FF",
           "#FECB52"
          ],
          "font": {
           "color": "#2a3f5f"
          },
          "geo": {
           "bgcolor": "white",
           "lakecolor": "white",
           "landcolor": "#E5ECF6",
           "showlakes": true,
           "showland": true,
           "subunitcolor": "white"
          },
          "hoverlabel": {
           "align": "left"
          },
          "hovermode": "closest",
          "mapbox": {
           "style": "light"
          },
          "paper_bgcolor": "white",
          "plot_bgcolor": "#E5ECF6",
          "polar": {
           "angularaxis": {
            "gridcolor": "white",
            "linecolor": "white",
            "ticks": ""
           },
           "bgcolor": "#E5ECF6",
           "radialaxis": {
            "gridcolor": "white",
            "linecolor": "white",
            "ticks": ""
           }
          },
          "scene": {
           "xaxis": {
            "backgroundcolor": "#E5ECF6",
            "gridcolor": "white",
            "gridwidth": 2,
            "linecolor": "white",
            "showbackground": true,
            "ticks": "",
            "zerolinecolor": "white"
           },
           "yaxis": {
            "backgroundcolor": "#E5ECF6",
            "gridcolor": "white",
            "gridwidth": 2,
            "linecolor": "white",
            "showbackground": true,
            "ticks": "",
            "zerolinecolor": "white"
           },
           "zaxis": {
            "backgroundcolor": "#E5ECF6",
            "gridcolor": "white",
            "gridwidth": 2,
            "linecolor": "white",
            "showbackground": true,
            "ticks": "",
            "zerolinecolor": "white"
           }
          },
          "shapedefaults": {
           "line": {
            "color": "#2a3f5f"
           }
          },
          "ternary": {
           "aaxis": {
            "gridcolor": "white",
            "linecolor": "white",
            "ticks": ""
           },
           "baxis": {
            "gridcolor": "white",
            "linecolor": "white",
            "ticks": ""
           },
           "bgcolor": "#E5ECF6",
           "caxis": {
            "gridcolor": "white",
            "linecolor": "white",
            "ticks": ""
           }
          },
          "title": {
           "x": 0.05
          },
          "xaxis": {
           "automargin": true,
           "gridcolor": "white",
           "linecolor": "white",
           "ticks": "",
           "title": {
            "standoff": 15
           },
           "zerolinecolor": "white",
           "zerolinewidth": 2
          },
          "yaxis": {
           "automargin": true,
           "gridcolor": "white",
           "linecolor": "white",
           "ticks": "",
           "title": {
            "standoff": 15
           },
           "zerolinecolor": "white",
           "zerolinewidth": 2
          }
         }
        },
        "width": 800
       }
      }
     },
     "metadata": {},
     "output_type": "display_data"
    }
   ],
   "source": [
    "k = 2\n",
    "U, S, Vt = np.linalg.svd(Xstd, full_matrices = False)\n",
    "scaling = np.diag(np.std(X, axis = 0))\n",
    "# scaling = np.eye(X.shape[1])\n",
    "Z = U[:,:k] @ np.diag(S[:k])\n",
    "\n",
    "rectangle_hat = pd.DataFrame(\n",
    "    (Z @ Vt[:k, :]) @ scaling + np.mean(rectangle, axis = 0).to_numpy(),\n",
    "    columns = rectangle.columns)\n",
    "\n",
    "display(rectangle_hat.head(3))\n",
    "\n",
    "fig = px.scatter_3d(rectangle, x=\"width\", y=\"height\", z=\"area\",\n",
    "                    width=800, height=800)\n",
    "fig.add_scatter3d(x=rectangle_hat[\"width\"], y=rectangle_hat[\"height\"], z=rectangle_hat[\"area\"], \n",
    "                  mode=\"markers\", name = \"approximation\")\n"
   ]
  },
  {
   "cell_type": "code",
   "execution_count": null,
   "id": "8ccdc179",
   "metadata": {},
   "outputs": [],
   "source": []
  }
 ],
 "metadata": {
  "kernelspec": {
   "display_name": "Python 3",
   "language": "python",
   "name": "python3"
  },
  "language_info": {
   "codemirror_mode": {
    "name": "ipython",
    "version": 3
   },
   "file_extension": ".py",
   "mimetype": "text/x-python",
   "name": "python",
   "nbconvert_exporter": "python",
   "pygments_lexer": "ipython3",
   "version": "3.12.3"
  }
 },
 "nbformat": 4,
 "nbformat_minor": 5
}
