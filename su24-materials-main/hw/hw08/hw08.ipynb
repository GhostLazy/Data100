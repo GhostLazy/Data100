{
 "cells": [
  {
   "cell_type": "code",
   "execution_count": 1,
   "id": "d3c32313",
   "metadata": {
    "deletable": false,
    "editable": false
   },
   "outputs": [],
   "source": [
    "# Initialize Otter\n",
    "import otter\n",
    "grader = otter.Notebook(\"hw08.ipynb\")"
   ]
  },
  {
   "cell_type": "markdown",
   "id": "ef8c8ae6",
   "metadata": {},
   "source": [
    "# Homework 8: Probability and Estimators\n",
    "## Due Date: Thursday, July 25th, 11:59 PM PT\n",
    "\n",
    "You must submit this assignment to Gradescope by the on-time deadline, Thursday, July 25th, 11:59 PM PT. Please read the syllabus for the grace period policy. No late submissions beyond the grace period will be accepted. **We strongly encourage you to plan to submit your work to Gradescope several hours before the stated deadline.** This way, you will have ample time to reach out to staff for support if you encounter difficulties with submission. While course staff is happy to help guide you with submitting your assignment ahead of the deadline, we will not respond to last-minute requests for assistance (TAs need to sleep, after all!).\n",
    "\n",
    "Please read the instructions carefully when submitting your work to Gradescope.\n",
    "\n",
    "\n",
    "## Content Warning\n",
    "\n",
    "This assignment includes an analysis of daily COVID-19 cases by U.S. county through 2021. If you feel uncomfortable with this topic, **please contact your TA or the instructors.**\n",
    "\n",
    "\n",
    "## Collaboration Policy\n",
    "\n",
    "Data science is a collaborative activity. While you may talk with others about the homework, we ask that you **write your solutions individually**. If you do discuss the assignments with others please **include their names** below."
   ]
  },
  {
   "cell_type": "markdown",
   "id": "625d357f",
   "metadata": {},
   "source": [
    "**Collaborators**: *list collaborators here*"
   ]
  },
  {
   "cell_type": "markdown",
   "id": "8c38c5ac",
   "metadata": {},
   "source": [
    "## Introduction\n",
    "\n",
    "In this homework, we will investigate a dataset that contains information about COVID-19 cases in the United States, vaccination rates, and various other metadata that can assist in modeling different aspects of COVID-19.\n",
    "\n",
    "Through this homework assignment, you will demonstrate your experience with:\n",
    "* Bootstrap sampling,\n",
    "* Bias-variance tradeoff and decomposition, and\n",
    "* Multicollinearity in features.\n",
    "\n",
    "## Grading\n",
    "Grading is broken down into auto-graded answers and free responses. \n",
    "\n",
    "For auto-graded answers, the results of your code are compared to provided and/or hidden tests.\n",
    "\n",
    "For free response, readers will evaluate how well you answered the question and/or fulfilled the requirements of the question. \n",
    "\n",
    "### Score breakdown\n",
    "\n",
    "Question | Manual | Points\n",
    "--- |---| ---\n",
    "0 | No | 1\n",
    "1a| No | 3\n",
    "1b| No | 1\n",
    "1c| Yes | 3\n",
    "1d| Yes | 2\n",
    "1e| Yes | 1\n",
    "2a| No | 4\n",
    "2b| Yes |3\n",
    "2c| Yes | 1\n",
    "3a| No | 2\n",
    "3b| No | 4\n",
    "3c| No | 2\n",
    "3d| Yes | 3\n",
    "4a| No | 3\n",
    "4b| Yes | 3\n",
    "4c| No | 2\n",
    "4d| Yes | 2\n",
    "Total | 8 | 40\n",
    "\n",
    "If you run into any technical issues, we highly recommend checking out the [Data 100 Debugging Guide](https://ds100.org/debugging-guide/). "
   ]
  },
  {
   "cell_type": "code",
   "execution_count": 1,
   "id": "3597dd4f",
   "metadata": {},
   "outputs": [],
   "source": [
    "# Run this cell to set up your notebook\n",
    "import numpy as np\n",
    "import pandas as pd\n",
    "import sklearn.linear_model as lm\n",
    "from sklearn.model_selection import train_test_split\n",
    "\n",
    "import matplotlib.pyplot as plt\n",
    "import seaborn as sns\n",
    "from IPython.display import Markdown\n",
    "\n",
    "import scipy.stats\n",
    "\n",
    "import warnings\n",
    "warnings.filterwarnings(\"ignore\")"
   ]
  },
  {
   "cell_type": "markdown",
   "id": "c002aad6-f8be-4bbc-a88d-cae054ac512e",
   "metadata": {
    "deletable": false,
    "editable": false
   },
   "source": [
    "<hr style=\"border: 5px solid #003262;\" />\n",
    "<hr style=\"border: 1px solid #fdb515;\" />\n",
    "\n",
    "## Question 0: Week 6 Check-In\n",
    "\n",
    "Please fill out the following quick, anonymous check-in survey: [LINK](https://forms.gle/ricjE5yuH8tSGQkBA). At the end you will see a secret word, please set `q0` to this secret word as a string. \n",
    "\n",
    "If you fill out the form and forget to take note of the secret word, just click the form link again and you will see the secret word along with a message that you've already filled the form out!"
   ]
  },
  {
   "cell_type": "code",
   "execution_count": 4,
   "id": "3d062bec-c92f-4193-963e-90cf790356a3",
   "metadata": {
    "tags": []
   },
   "outputs": [
    {
     "data": {
      "text/plain": [
       "'...'"
      ]
     },
     "execution_count": 4,
     "metadata": {},
     "output_type": "execute_result"
    }
   ],
   "source": [
    "q0 = \"...\"\n",
    "q0"
   ]
  },
  {
   "cell_type": "code",
   "execution_count": 5,
   "id": "b065e3e9",
   "metadata": {
    "deletable": false,
    "editable": false
   },
   "outputs": [
    {
     "data": {
      "text/html": [
       "<p><strong><pre style='display: inline;'>q0</pre></strong> passed! 💯</p>"
      ],
      "text/plain": [
       "q0 results: All test cases passed!"
      ]
     },
     "execution_count": 5,
     "metadata": {},
     "output_type": "execute_result"
    }
   ],
   "source": [
    "grader.check(\"q0\")"
   ]
  },
  {
   "cell_type": "markdown",
   "id": "83ae55c9",
   "metadata": {},
   "source": [
    "<br/>\n",
    "\n",
    "<hr style=\"border: 5px solid #003262;\" />\n",
    "<hr style=\"border: 1px solid #fdb515;\" />\n",
    "\n",
    "## Question 1: Exploratory Data Analysis\n",
    "\n",
    "Let's perform some initial exploratory data analysis to examine and visualize potential trends in a COVID-19 dataset."
   ]
  },
  {
   "cell_type": "code",
   "execution_count": 6,
   "id": "d399f586",
   "metadata": {},
   "outputs": [
    {
     "data": {
      "text/html": [
       "<div>\n",
       "<style scoped>\n",
       "    .dataframe tbody tr th:only-of-type {\n",
       "        vertical-align: middle;\n",
       "    }\n",
       "\n",
       "    .dataframe tbody tr th {\n",
       "        vertical-align: top;\n",
       "    }\n",
       "\n",
       "    .dataframe thead th {\n",
       "        text-align: right;\n",
       "    }\n",
       "</style>\n",
       "<table border=\"1\" class=\"dataframe\">\n",
       "  <thead>\n",
       "    <tr style=\"text-align: right;\">\n",
       "      <th></th>\n",
       "      <th>UID</th>\n",
       "      <th>iso2</th>\n",
       "      <th>iso3</th>\n",
       "      <th>code3</th>\n",
       "      <th>FIPS</th>\n",
       "      <th>Admin2</th>\n",
       "      <th>Province_State</th>\n",
       "      <th>Country_Region</th>\n",
       "      <th>Lat</th>\n",
       "      <th>Long_</th>\n",
       "      <th>...</th>\n",
       "      <th>POPESTIMATE2018</th>\n",
       "      <th>POPESTIMATE2019</th>\n",
       "      <th>POPESTIMATE042020</th>\n",
       "      <th>POPESTIMATE2020</th>\n",
       "      <th>COUNTYFP</th>\n",
       "      <th>NEVER</th>\n",
       "      <th>RARELY</th>\n",
       "      <th>SOMETIMES</th>\n",
       "      <th>FREQUENTLY</th>\n",
       "      <th>ALWAYS</th>\n",
       "    </tr>\n",
       "  </thead>\n",
       "  <tbody>\n",
       "    <tr>\n",
       "      <th>0</th>\n",
       "      <td>84001001</td>\n",
       "      <td>US</td>\n",
       "      <td>USA</td>\n",
       "      <td>840</td>\n",
       "      <td>1001</td>\n",
       "      <td>Autauga</td>\n",
       "      <td>Alabama</td>\n",
       "      <td>US</td>\n",
       "      <td>32.539527</td>\n",
       "      <td>-86.644082</td>\n",
       "      <td>...</td>\n",
       "      <td>55533</td>\n",
       "      <td>55769</td>\n",
       "      <td>56130</td>\n",
       "      <td>56145</td>\n",
       "      <td>1001</td>\n",
       "      <td>0.053</td>\n",
       "      <td>0.074</td>\n",
       "      <td>0.134</td>\n",
       "      <td>0.295</td>\n",
       "      <td>0.444</td>\n",
       "    </tr>\n",
       "    <tr>\n",
       "      <th>1</th>\n",
       "      <td>84001003</td>\n",
       "      <td>US</td>\n",
       "      <td>USA</td>\n",
       "      <td>840</td>\n",
       "      <td>1003</td>\n",
       "      <td>Baldwin</td>\n",
       "      <td>Alabama</td>\n",
       "      <td>US</td>\n",
       "      <td>30.727750</td>\n",
       "      <td>-87.722071</td>\n",
       "      <td>...</td>\n",
       "      <td>218071</td>\n",
       "      <td>223565</td>\n",
       "      <td>227989</td>\n",
       "      <td>229287</td>\n",
       "      <td>1003</td>\n",
       "      <td>0.083</td>\n",
       "      <td>0.059</td>\n",
       "      <td>0.098</td>\n",
       "      <td>0.323</td>\n",
       "      <td>0.436</td>\n",
       "    </tr>\n",
       "    <tr>\n",
       "      <th>2</th>\n",
       "      <td>84001005</td>\n",
       "      <td>US</td>\n",
       "      <td>USA</td>\n",
       "      <td>840</td>\n",
       "      <td>1005</td>\n",
       "      <td>Barbour</td>\n",
       "      <td>Alabama</td>\n",
       "      <td>US</td>\n",
       "      <td>31.868263</td>\n",
       "      <td>-85.387129</td>\n",
       "      <td>...</td>\n",
       "      <td>24887</td>\n",
       "      <td>24657</td>\n",
       "      <td>24652</td>\n",
       "      <td>24589</td>\n",
       "      <td>1005</td>\n",
       "      <td>0.067</td>\n",
       "      <td>0.121</td>\n",
       "      <td>0.120</td>\n",
       "      <td>0.201</td>\n",
       "      <td>0.491</td>\n",
       "    </tr>\n",
       "    <tr>\n",
       "      <th>3</th>\n",
       "      <td>84001007</td>\n",
       "      <td>US</td>\n",
       "      <td>USA</td>\n",
       "      <td>840</td>\n",
       "      <td>1007</td>\n",
       "      <td>Bibb</td>\n",
       "      <td>Alabama</td>\n",
       "      <td>US</td>\n",
       "      <td>32.996421</td>\n",
       "      <td>-87.125115</td>\n",
       "      <td>...</td>\n",
       "      <td>22300</td>\n",
       "      <td>22313</td>\n",
       "      <td>22199</td>\n",
       "      <td>22136</td>\n",
       "      <td>1007</td>\n",
       "      <td>0.020</td>\n",
       "      <td>0.034</td>\n",
       "      <td>0.096</td>\n",
       "      <td>0.278</td>\n",
       "      <td>0.572</td>\n",
       "    </tr>\n",
       "    <tr>\n",
       "      <th>4</th>\n",
       "      <td>84001009</td>\n",
       "      <td>US</td>\n",
       "      <td>USA</td>\n",
       "      <td>840</td>\n",
       "      <td>1009</td>\n",
       "      <td>Blount</td>\n",
       "      <td>Alabama</td>\n",
       "      <td>US</td>\n",
       "      <td>33.982109</td>\n",
       "      <td>-86.567906</td>\n",
       "      <td>...</td>\n",
       "      <td>57770</td>\n",
       "      <td>57840</td>\n",
       "      <td>57932</td>\n",
       "      <td>57879</td>\n",
       "      <td>1009</td>\n",
       "      <td>0.053</td>\n",
       "      <td>0.114</td>\n",
       "      <td>0.180</td>\n",
       "      <td>0.194</td>\n",
       "      <td>0.459</td>\n",
       "    </tr>\n",
       "  </tbody>\n",
       "</table>\n",
       "<p>5 rows × 638 columns</p>\n",
       "</div>"
      ],
      "text/plain": [
       "        UID iso2 iso3  code3  FIPS   Admin2 Province_State Country_Region  \\\n",
       "0  84001001   US  USA    840  1001  Autauga        Alabama             US   \n",
       "1  84001003   US  USA    840  1003  Baldwin        Alabama             US   \n",
       "2  84001005   US  USA    840  1005  Barbour        Alabama             US   \n",
       "3  84001007   US  USA    840  1007     Bibb        Alabama             US   \n",
       "4  84001009   US  USA    840  1009   Blount        Alabama             US   \n",
       "\n",
       "         Lat      Long_  ... POPESTIMATE2018  POPESTIMATE2019  \\\n",
       "0  32.539527 -86.644082  ...           55533            55769   \n",
       "1  30.727750 -87.722071  ...          218071           223565   \n",
       "2  31.868263 -85.387129  ...           24887            24657   \n",
       "3  32.996421 -87.125115  ...           22300            22313   \n",
       "4  33.982109 -86.567906  ...           57770            57840   \n",
       "\n",
       "   POPESTIMATE042020  POPESTIMATE2020  COUNTYFP  NEVER  RARELY  SOMETIMES  \\\n",
       "0              56130            56145      1001  0.053   0.074      0.134   \n",
       "1             227989           229287      1003  0.083   0.059      0.098   \n",
       "2              24652            24589      1005  0.067   0.121      0.120   \n",
       "3              22199            22136      1007  0.020   0.034      0.096   \n",
       "4              57932            57879      1009  0.053   0.114      0.180   \n",
       "\n",
       "   FREQUENTLY  ALWAYS  \n",
       "0       0.295   0.444  \n",
       "1       0.323   0.436  \n",
       "2       0.201   0.491  \n",
       "3       0.278   0.572  \n",
       "4       0.194   0.459  \n",
       "\n",
       "[5 rows x 638 columns]"
      ]
     },
     "execution_count": 6,
     "metadata": {},
     "output_type": "execute_result"
    }
   ],
   "source": [
    "# Run this cell to load the data; no further action is needed.\n",
    "covid_data = pd.read_csv('data/covid_data.csv')\n",
    "covid_data.head(5)"
   ]
  },
  {
   "cell_type": "markdown",
   "id": "5130f947",
   "metadata": {},
   "source": [
    "The data have granularity at the county level; each row corresponds to COVID-19 data from one U.S. county. Here are some highlights and data sources:\n",
    "\n",
    "* The first few columns encode county and state data. Check out the [Federal Information Processing System (FIPS)](https://transition.fcc.gov/oet/info/maps/census/fips/fips.txt) numeric encoding for U.S. counties.\n",
    "* The next 600 columns record daily COVID-19 cases in the county for the date range 1/22/2020 to 9/12/2021. COVID-19 case data are from Center for Systems Sciences and Engineering (CSSE) at Johns Hopkins University [GitHub](https://github.com/CSSEGISandData/COVID-19/blob/master/csse_covid_19_data/csse_covid_19_time_series/time_series_covid19_confirmed_US.csv).\n",
    "* The next few columns include county populations from [U.S. census data](https://data.census.gov/), the latest of which is 2020.\n",
    "* The last 5 columns record mask usage survey data on a 5-point scale from `NEVER` to `ALWAYS`. The data was collected in July 2020 from the New York Times [GitHub](https://github.com/nytimes/covid-19-data/blob/master/mask-use/mask-use-by-county.csv). Each column represents the proportion of the population in that county who never/rarely/sometimes/frequently/always wear masks. Note, for a particular row, the numbers in those five columns sum up to $1$.\n",
    "\n",
    "We can use `covid_data.describe()` to see various statistics about the numerical features of the provided COVID-19 data. Do any particular statistics stand out to you? Which might be useful when modeling?\n",
    "\n",
    "**Note:** This isn't a question, so it's not worth any points. This is just food for thought as you start to explore the dataset."
   ]
  },
  {
   "cell_type": "code",
   "execution_count": 7,
   "id": "3487eb3f",
   "metadata": {},
   "outputs": [
    {
     "data": {
      "text/html": [
       "<div>\n",
       "<style scoped>\n",
       "    .dataframe tbody tr th:only-of-type {\n",
       "        vertical-align: middle;\n",
       "    }\n",
       "\n",
       "    .dataframe tbody tr th {\n",
       "        vertical-align: top;\n",
       "    }\n",
       "\n",
       "    .dataframe thead th {\n",
       "        text-align: right;\n",
       "    }\n",
       "</style>\n",
       "<table border=\"1\" class=\"dataframe\">\n",
       "  <thead>\n",
       "    <tr style=\"text-align: right;\">\n",
       "      <th></th>\n",
       "      <th>UID</th>\n",
       "      <th>code3</th>\n",
       "      <th>FIPS</th>\n",
       "      <th>Lat</th>\n",
       "      <th>Long_</th>\n",
       "      <th>1/22/20</th>\n",
       "      <th>1/23/20</th>\n",
       "      <th>1/24/20</th>\n",
       "      <th>1/25/20</th>\n",
       "      <th>1/26/20</th>\n",
       "      <th>...</th>\n",
       "      <th>POPESTIMATE2018</th>\n",
       "      <th>POPESTIMATE2019</th>\n",
       "      <th>POPESTIMATE042020</th>\n",
       "      <th>POPESTIMATE2020</th>\n",
       "      <th>COUNTYFP</th>\n",
       "      <th>NEVER</th>\n",
       "      <th>RARELY</th>\n",
       "      <th>SOMETIMES</th>\n",
       "      <th>FREQUENTLY</th>\n",
       "      <th>ALWAYS</th>\n",
       "    </tr>\n",
       "  </thead>\n",
       "  <tbody>\n",
       "    <tr>\n",
       "      <th>count</th>\n",
       "      <td>3.141000e+03</td>\n",
       "      <td>3141.0</td>\n",
       "      <td>3141.000000</td>\n",
       "      <td>3141.000000</td>\n",
       "      <td>3141.000000</td>\n",
       "      <td>3141.000000</td>\n",
       "      <td>3141.000000</td>\n",
       "      <td>3141.000000</td>\n",
       "      <td>3141.000000</td>\n",
       "      <td>3141.000000</td>\n",
       "      <td>...</td>\n",
       "      <td>3.141000e+03</td>\n",
       "      <td>3.141000e+03</td>\n",
       "      <td>3.141000e+03</td>\n",
       "      <td>3.141000e+03</td>\n",
       "      <td>3141.000000</td>\n",
       "      <td>3141.000000</td>\n",
       "      <td>3141.000000</td>\n",
       "      <td>3141.000000</td>\n",
       "      <td>3141.000000</td>\n",
       "      <td>3141.000000</td>\n",
       "    </tr>\n",
       "    <tr>\n",
       "      <th>mean</th>\n",
       "      <td>8.403039e+07</td>\n",
       "      <td>840.0</td>\n",
       "      <td>30392.602674</td>\n",
       "      <td>38.448156</td>\n",
       "      <td>-92.272006</td>\n",
       "      <td>0.000318</td>\n",
       "      <td>0.000318</td>\n",
       "      <td>0.000637</td>\n",
       "      <td>0.000637</td>\n",
       "      <td>0.001592</td>\n",
       "      <td>...</td>\n",
       "      <td>1.040525e+05</td>\n",
       "      <td>1.045274e+05</td>\n",
       "      <td>1.048677e+05</td>\n",
       "      <td>1.048949e+05</td>\n",
       "      <td>30392.602674</td>\n",
       "      <td>0.079952</td>\n",
       "      <td>0.082929</td>\n",
       "      <td>0.121340</td>\n",
       "      <td>0.207728</td>\n",
       "      <td>0.508044</td>\n",
       "    </tr>\n",
       "    <tr>\n",
       "      <th>std</th>\n",
       "      <td>1.515661e+04</td>\n",
       "      <td>0.0</td>\n",
       "      <td>15156.613190</td>\n",
       "      <td>5.292540</td>\n",
       "      <td>12.909318</td>\n",
       "      <td>0.017843</td>\n",
       "      <td>0.017843</td>\n",
       "      <td>0.025230</td>\n",
       "      <td>0.025230</td>\n",
       "      <td>0.039873</td>\n",
       "      <td>...</td>\n",
       "      <td>3.326200e+05</td>\n",
       "      <td>3.332156e+05</td>\n",
       "      <td>3.335848e+05</td>\n",
       "      <td>3.333719e+05</td>\n",
       "      <td>15156.613190</td>\n",
       "      <td>0.058543</td>\n",
       "      <td>0.055469</td>\n",
       "      <td>0.058007</td>\n",
       "      <td>0.063581</td>\n",
       "      <td>0.152190</td>\n",
       "    </tr>\n",
       "    <tr>\n",
       "      <th>min</th>\n",
       "      <td>8.400100e+07</td>\n",
       "      <td>840.0</td>\n",
       "      <td>1001.000000</td>\n",
       "      <td>19.601212</td>\n",
       "      <td>-174.159600</td>\n",
       "      <td>0.000000</td>\n",
       "      <td>0.000000</td>\n",
       "      <td>0.000000</td>\n",
       "      <td>0.000000</td>\n",
       "      <td>0.000000</td>\n",
       "      <td>...</td>\n",
       "      <td>8.700000e+01</td>\n",
       "      <td>8.700000e+01</td>\n",
       "      <td>9.000000e+01</td>\n",
       "      <td>8.700000e+01</td>\n",
       "      <td>1001.000000</td>\n",
       "      <td>0.000000</td>\n",
       "      <td>0.000000</td>\n",
       "      <td>0.001000</td>\n",
       "      <td>0.029000</td>\n",
       "      <td>0.115000</td>\n",
       "    </tr>\n",
       "    <tr>\n",
       "      <th>25%</th>\n",
       "      <td>8.401818e+07</td>\n",
       "      <td>840.0</td>\n",
       "      <td>18179.000000</td>\n",
       "      <td>34.693167</td>\n",
       "      <td>-98.218207</td>\n",
       "      <td>0.000000</td>\n",
       "      <td>0.000000</td>\n",
       "      <td>0.000000</td>\n",
       "      <td>0.000000</td>\n",
       "      <td>0.000000</td>\n",
       "      <td>...</td>\n",
       "      <td>1.096300e+04</td>\n",
       "      <td>1.093600e+04</td>\n",
       "      <td>1.091900e+04</td>\n",
       "      <td>1.092100e+04</td>\n",
       "      <td>18179.000000</td>\n",
       "      <td>0.034000</td>\n",
       "      <td>0.040000</td>\n",
       "      <td>0.079000</td>\n",
       "      <td>0.164000</td>\n",
       "      <td>0.393000</td>\n",
       "    </tr>\n",
       "    <tr>\n",
       "      <th>50%</th>\n",
       "      <td>8.402918e+07</td>\n",
       "      <td>840.0</td>\n",
       "      <td>29177.000000</td>\n",
       "      <td>38.373019</td>\n",
       "      <td>-90.396561</td>\n",
       "      <td>0.000000</td>\n",
       "      <td>0.000000</td>\n",
       "      <td>0.000000</td>\n",
       "      <td>0.000000</td>\n",
       "      <td>0.000000</td>\n",
       "      <td>...</td>\n",
       "      <td>2.583700e+04</td>\n",
       "      <td>2.573500e+04</td>\n",
       "      <td>2.570100e+04</td>\n",
       "      <td>2.565800e+04</td>\n",
       "      <td>29177.000000</td>\n",
       "      <td>0.068000</td>\n",
       "      <td>0.073000</td>\n",
       "      <td>0.115000</td>\n",
       "      <td>0.204000</td>\n",
       "      <td>0.497000</td>\n",
       "    </tr>\n",
       "    <tr>\n",
       "      <th>75%</th>\n",
       "      <td>8.404508e+07</td>\n",
       "      <td>840.0</td>\n",
       "      <td>45081.000000</td>\n",
       "      <td>41.802830</td>\n",
       "      <td>-83.436796</td>\n",
       "      <td>0.000000</td>\n",
       "      <td>0.000000</td>\n",
       "      <td>0.000000</td>\n",
       "      <td>0.000000</td>\n",
       "      <td>0.000000</td>\n",
       "      <td>...</td>\n",
       "      <td>6.813600e+04</td>\n",
       "      <td>6.828200e+04</td>\n",
       "      <td>6.822000e+04</td>\n",
       "      <td>6.824100e+04</td>\n",
       "      <td>45081.000000</td>\n",
       "      <td>0.113000</td>\n",
       "      <td>0.115000</td>\n",
       "      <td>0.156000</td>\n",
       "      <td>0.247000</td>\n",
       "      <td>0.613000</td>\n",
       "    </tr>\n",
       "    <tr>\n",
       "      <th>max</th>\n",
       "      <td>8.405604e+07</td>\n",
       "      <td>840.0</td>\n",
       "      <td>56045.000000</td>\n",
       "      <td>69.314792</td>\n",
       "      <td>-67.628135</td>\n",
       "      <td>1.000000</td>\n",
       "      <td>1.000000</td>\n",
       "      <td>1.000000</td>\n",
       "      <td>1.000000</td>\n",
       "      <td>1.000000</td>\n",
       "      <td>...</td>\n",
       "      <td>1.006153e+07</td>\n",
       "      <td>1.001160e+07</td>\n",
       "      <td>9.968969e+06</td>\n",
       "      <td>9.943046e+06</td>\n",
       "      <td>56045.000000</td>\n",
       "      <td>0.432000</td>\n",
       "      <td>0.384000</td>\n",
       "      <td>0.422000</td>\n",
       "      <td>0.549000</td>\n",
       "      <td>0.889000</td>\n",
       "    </tr>\n",
       "  </tbody>\n",
       "</table>\n",
       "<p>8 rows × 630 columns</p>\n",
       "</div>"
      ],
      "text/plain": [
       "                UID   code3          FIPS          Lat        Long_  \\\n",
       "count  3.141000e+03  3141.0   3141.000000  3141.000000  3141.000000   \n",
       "mean   8.403039e+07   840.0  30392.602674    38.448156   -92.272006   \n",
       "std    1.515661e+04     0.0  15156.613190     5.292540    12.909318   \n",
       "min    8.400100e+07   840.0   1001.000000    19.601212  -174.159600   \n",
       "25%    8.401818e+07   840.0  18179.000000    34.693167   -98.218207   \n",
       "50%    8.402918e+07   840.0  29177.000000    38.373019   -90.396561   \n",
       "75%    8.404508e+07   840.0  45081.000000    41.802830   -83.436796   \n",
       "max    8.405604e+07   840.0  56045.000000    69.314792   -67.628135   \n",
       "\n",
       "           1/22/20      1/23/20      1/24/20      1/25/20      1/26/20  ...  \\\n",
       "count  3141.000000  3141.000000  3141.000000  3141.000000  3141.000000  ...   \n",
       "mean      0.000318     0.000318     0.000637     0.000637     0.001592  ...   \n",
       "std       0.017843     0.017843     0.025230     0.025230     0.039873  ...   \n",
       "min       0.000000     0.000000     0.000000     0.000000     0.000000  ...   \n",
       "25%       0.000000     0.000000     0.000000     0.000000     0.000000  ...   \n",
       "50%       0.000000     0.000000     0.000000     0.000000     0.000000  ...   \n",
       "75%       0.000000     0.000000     0.000000     0.000000     0.000000  ...   \n",
       "max       1.000000     1.000000     1.000000     1.000000     1.000000  ...   \n",
       "\n",
       "       POPESTIMATE2018  POPESTIMATE2019  POPESTIMATE042020  POPESTIMATE2020  \\\n",
       "count     3.141000e+03     3.141000e+03       3.141000e+03     3.141000e+03   \n",
       "mean      1.040525e+05     1.045274e+05       1.048677e+05     1.048949e+05   \n",
       "std       3.326200e+05     3.332156e+05       3.335848e+05     3.333719e+05   \n",
       "min       8.700000e+01     8.700000e+01       9.000000e+01     8.700000e+01   \n",
       "25%       1.096300e+04     1.093600e+04       1.091900e+04     1.092100e+04   \n",
       "50%       2.583700e+04     2.573500e+04       2.570100e+04     2.565800e+04   \n",
       "75%       6.813600e+04     6.828200e+04       6.822000e+04     6.824100e+04   \n",
       "max       1.006153e+07     1.001160e+07       9.968969e+06     9.943046e+06   \n",
       "\n",
       "           COUNTYFP        NEVER       RARELY    SOMETIMES   FREQUENTLY  \\\n",
       "count   3141.000000  3141.000000  3141.000000  3141.000000  3141.000000   \n",
       "mean   30392.602674     0.079952     0.082929     0.121340     0.207728   \n",
       "std    15156.613190     0.058543     0.055469     0.058007     0.063581   \n",
       "min     1001.000000     0.000000     0.000000     0.001000     0.029000   \n",
       "25%    18179.000000     0.034000     0.040000     0.079000     0.164000   \n",
       "50%    29177.000000     0.068000     0.073000     0.115000     0.204000   \n",
       "75%    45081.000000     0.113000     0.115000     0.156000     0.247000   \n",
       "max    56045.000000     0.432000     0.384000     0.422000     0.549000   \n",
       "\n",
       "            ALWAYS  \n",
       "count  3141.000000  \n",
       "mean      0.508044  \n",
       "std       0.152190  \n",
       "min       0.115000  \n",
       "25%       0.393000  \n",
       "50%       0.497000  \n",
       "75%       0.613000  \n",
       "max       0.889000  \n",
       "\n",
       "[8 rows x 630 columns]"
      ]
     },
     "execution_count": 7,
     "metadata": {},
     "output_type": "execute_result"
    }
   ],
   "source": [
    "# Run this cell to load the data see see statistics of the covid_data\n",
    "covid_data.describe()"
   ]
  },
  {
   "cell_type": "markdown",
   "id": "06776ec8",
   "metadata": {
    "deletable": false,
    "editable": false
   },
   "source": [
    "<br>\n",
    "\n",
    "---\n",
    "\n",
    "### Question 1a\n",
    "\n",
    "In this homework, we will use linear regression to predict **the number of COVID-19 cases  per capita on September 12th, 2021**. Define a column `'9/12/2021_cpc'` in `covid_data` corresponding to **the number of cases per capita** on September 12th, 2021. \n",
    "\n",
    "Note that we will **always** use the `'POPESTIMATE2020'` as the population of each county.\n",
    "\n",
    "*Hint*: The number of cases per capita should be the total number of cases in a county divided by the population of the county."
   ]
  },
  {
   "cell_type": "code",
   "execution_count": 13,
   "id": "c903f696",
   "metadata": {
    "tags": []
   },
   "outputs": [],
   "source": [
    "covid_data['9/12/2021_cpc'] = covid_data[\"9/12/21\"] / covid_data[\"POPESTIMATE2020\"]"
   ]
  },
  {
   "cell_type": "code",
   "execution_count": 14,
   "id": "f750e0fd",
   "metadata": {
    "deletable": false,
    "editable": false
   },
   "outputs": [
    {
     "data": {
      "text/html": [
       "<p><strong><pre style='display: inline;'>q1a</pre></strong> passed! 🚀</p>"
      ],
      "text/plain": [
       "q1a results: All test cases passed!"
      ]
     },
     "execution_count": 14,
     "metadata": {},
     "output_type": "execute_result"
    }
   ],
   "source": [
    "grader.check(\"q1a\")"
   ]
  },
  {
   "cell_type": "markdown",
   "id": "2787a6f3",
   "metadata": {
    "deletable": false,
    "editable": false
   },
   "source": [
    "<br>\n",
    "\n",
    "---\n",
    "\n",
    "### Question 1b\n",
    "\n",
    "Assign `mask_data` to a `DataFrame` with six columns from the original `covid_data` table: the five mask usage columns described earlier and the `9/12/2021_cpc` column.\n",
    "\n",
    "**Note**: You should make a **copy** of these columns using `.copy()` ([documentation](https://pandas.pydata.org/docs/reference/api/pandas.DataFrame.copy.html)). This ensures that `covid_data` will not change if `mask_data` is modified, and vice versa. "
   ]
  },
  {
   "cell_type": "code",
   "execution_count": 19,
   "id": "389a3139",
   "metadata": {
    "tags": []
   },
   "outputs": [
    {
     "data": {
      "text/html": [
       "<div>\n",
       "<style scoped>\n",
       "    .dataframe tbody tr th:only-of-type {\n",
       "        vertical-align: middle;\n",
       "    }\n",
       "\n",
       "    .dataframe tbody tr th {\n",
       "        vertical-align: top;\n",
       "    }\n",
       "\n",
       "    .dataframe thead th {\n",
       "        text-align: right;\n",
       "    }\n",
       "</style>\n",
       "<table border=\"1\" class=\"dataframe\">\n",
       "  <thead>\n",
       "    <tr style=\"text-align: right;\">\n",
       "      <th></th>\n",
       "      <th>NEVER</th>\n",
       "      <th>RARELY</th>\n",
       "      <th>SOMETIMES</th>\n",
       "      <th>FREQUENTLY</th>\n",
       "      <th>ALWAYS</th>\n",
       "      <th>9/12/2021_cpc</th>\n",
       "    </tr>\n",
       "  </thead>\n",
       "  <tbody>\n",
       "    <tr>\n",
       "      <th>0</th>\n",
       "      <td>0.053</td>\n",
       "      <td>0.074</td>\n",
       "      <td>0.134</td>\n",
       "      <td>0.295</td>\n",
       "      <td>0.444</td>\n",
       "      <td>0.165411</td>\n",
       "    </tr>\n",
       "    <tr>\n",
       "      <th>1</th>\n",
       "      <td>0.083</td>\n",
       "      <td>0.059</td>\n",
       "      <td>0.098</td>\n",
       "      <td>0.323</td>\n",
       "      <td>0.436</td>\n",
       "      <td>0.152429</td>\n",
       "    </tr>\n",
       "    <tr>\n",
       "      <th>2</th>\n",
       "      <td>0.067</td>\n",
       "      <td>0.121</td>\n",
       "      <td>0.120</td>\n",
       "      <td>0.201</td>\n",
       "      <td>0.491</td>\n",
       "      <td>0.134003</td>\n",
       "    </tr>\n",
       "    <tr>\n",
       "      <th>3</th>\n",
       "      <td>0.020</td>\n",
       "      <td>0.034</td>\n",
       "      <td>0.096</td>\n",
       "      <td>0.278</td>\n",
       "      <td>0.572</td>\n",
       "      <td>0.171440</td>\n",
       "    </tr>\n",
       "    <tr>\n",
       "      <th>4</th>\n",
       "      <td>0.053</td>\n",
       "      <td>0.114</td>\n",
       "      <td>0.180</td>\n",
       "      <td>0.194</td>\n",
       "      <td>0.459</td>\n",
       "      <td>0.158538</td>\n",
       "    </tr>\n",
       "    <tr>\n",
       "      <th>...</th>\n",
       "      <td>...</td>\n",
       "      <td>...</td>\n",
       "      <td>...</td>\n",
       "      <td>...</td>\n",
       "      <td>...</td>\n",
       "      <td>...</td>\n",
       "    </tr>\n",
       "    <tr>\n",
       "      <th>3136</th>\n",
       "      <td>0.061</td>\n",
       "      <td>0.295</td>\n",
       "      <td>0.230</td>\n",
       "      <td>0.146</td>\n",
       "      <td>0.268</td>\n",
       "      <td>0.143205</td>\n",
       "    </tr>\n",
       "    <tr>\n",
       "      <th>3137</th>\n",
       "      <td>0.095</td>\n",
       "      <td>0.157</td>\n",
       "      <td>0.160</td>\n",
       "      <td>0.247</td>\n",
       "      <td>0.340</td>\n",
       "      <td>0.196238</td>\n",
       "    </tr>\n",
       "    <tr>\n",
       "      <th>3138</th>\n",
       "      <td>0.098</td>\n",
       "      <td>0.278</td>\n",
       "      <td>0.154</td>\n",
       "      <td>0.207</td>\n",
       "      <td>0.264</td>\n",
       "      <td>0.158496</td>\n",
       "    </tr>\n",
       "    <tr>\n",
       "      <th>3139</th>\n",
       "      <td>0.204</td>\n",
       "      <td>0.155</td>\n",
       "      <td>0.069</td>\n",
       "      <td>0.285</td>\n",
       "      <td>0.287</td>\n",
       "      <td>0.144330</td>\n",
       "    </tr>\n",
       "    <tr>\n",
       "      <th>3140</th>\n",
       "      <td>0.142</td>\n",
       "      <td>0.129</td>\n",
       "      <td>0.148</td>\n",
       "      <td>0.207</td>\n",
       "      <td>0.374</td>\n",
       "      <td>0.122942</td>\n",
       "    </tr>\n",
       "  </tbody>\n",
       "</table>\n",
       "<p>3141 rows × 6 columns</p>\n",
       "</div>"
      ],
      "text/plain": [
       "      NEVER  RARELY  SOMETIMES  FREQUENTLY  ALWAYS  9/12/2021_cpc\n",
       "0     0.053   0.074      0.134       0.295   0.444       0.165411\n",
       "1     0.083   0.059      0.098       0.323   0.436       0.152429\n",
       "2     0.067   0.121      0.120       0.201   0.491       0.134003\n",
       "3     0.020   0.034      0.096       0.278   0.572       0.171440\n",
       "4     0.053   0.114      0.180       0.194   0.459       0.158538\n",
       "...     ...     ...        ...         ...     ...            ...\n",
       "3136  0.061   0.295      0.230       0.146   0.268       0.143205\n",
       "3137  0.095   0.157      0.160       0.247   0.340       0.196238\n",
       "3138  0.098   0.278      0.154       0.207   0.264       0.158496\n",
       "3139  0.204   0.155      0.069       0.285   0.287       0.144330\n",
       "3140  0.142   0.129      0.148       0.207   0.374       0.122942\n",
       "\n",
       "[3141 rows x 6 columns]"
      ]
     },
     "execution_count": 19,
     "metadata": {},
     "output_type": "execute_result"
    }
   ],
   "source": [
    "mask_data = covid_data[[\"NEVER\", \"RARELY\", \"SOMETIMES\", \"FREQUENTLY\", \"ALWAYS\", \"9/12/2021_cpc\"]].copy()\n",
    "mask_data"
   ]
  },
  {
   "cell_type": "code",
   "execution_count": 20,
   "id": "e48984e7",
   "metadata": {
    "deletable": false,
    "editable": false
   },
   "outputs": [
    {
     "data": {
      "text/html": [
       "<p><strong><pre style='display: inline;'>q1b</pre></strong> passed! 🙌</p>"
      ],
      "text/plain": [
       "q1b results: All test cases passed!"
      ]
     },
     "execution_count": 20,
     "metadata": {},
     "output_type": "execute_result"
    }
   ],
   "source": [
    "grader.check(\"q1b\")"
   ]
  },
  {
   "cell_type": "markdown",
   "id": "71c56e7e",
   "metadata": {
    "deletable": false,
    "editable": false
   },
   "source": [
    "<!-- BEGIN QUESTION -->\n",
    "\n",
    "<br>\n",
    "\n",
    "---\n",
    "\n",
    "### Question 1c\n",
    "\n",
    "Our goal is to use county-wise mask usage data to predict the number of COVID-19 cases per capita on September 12th, 2021 (i.e., the column `9/12/2021_cpc`). But before modeling, let's do some EDA to explore the multicollinearity in these features, and then we will revisit this in question. \n",
    "\n",
    "Create a visualization that shows the pairwise correlation between each combination of columns in `mask_data`. For 2-D visualizations, consider Seaborn's [heatmap](https://seaborn.pydata.org/generated/seaborn.heatmap.html). Remember to title your plot.\n",
    "\n",
    "**Hint**: You should be plotting 36 values corresponding to the [pairwise correlations](https://pandas.pydata.org/docs/reference/api/pandas.DataFrame.corr.html) of the six columns in `mask_data`. You may optionally set `annot=True`, but it isn't necessary."
   ]
  },
  {
   "cell_type": "code",
   "execution_count": 25,
   "id": "b4c7ca49",
   "metadata": {
    "tags": []
   },
   "outputs": [
    {
     "data": {
      "text/plain": [
       "<Axes: >"
      ]
     },
     "execution_count": 25,
     "metadata": {},
     "output_type": "execute_result"
    },
    {
     "data": {
      "image/png": "[encoded data removed]",
      "text/plain": [
       "<Figure size 640x480 with 2 Axes>"
      ]
     },
     "metadata": {},
     "output_type": "display_data"
    }
   ],
   "source": [
    "sns.heatmap(mask_data.corr(), annot=True)"
   ]
  },
  {
   "cell_type": "markdown",
   "id": "b4a25b54",
   "metadata": {
    "deletable": false,
    "editable": false
   },
   "source": [
    "<!-- END QUESTION -->\n",
    "\n",
    "<!-- BEGIN QUESTION -->\n",
    "\n",
    "<br>\n",
    "\n",
    "---\n",
    "\n",
    "### Question 1d\n",
    "Describe the trends and takeaways visible in the visualization of pairwise correlations you plotted in part (c). Specifically, what does the correlation between pairs of features (i.e., mask usage categories) look like? What does the correlation between mask usage categories and COVID-19 cases per capita look like?"
   ]
  },
  {
   "cell_type": "markdown",
   "id": "3f68ce38",
   "metadata": {},
   "source": [
    "..."
   ]
  },
  {
   "cell_type": "markdown",
   "id": "800eded6-448a-4837-99da-ce6174dc3ca9",
   "metadata": {
    "deletable": false,
    "editable": false
   },
   "source": [
    "<!-- END QUESTION -->\n",
    "\n",
    "<!-- BEGIN QUESTION -->\n",
    "\n",
    "<br>\n",
    "\n",
    "---\n",
    "### Question 1e\n",
    "If we were to build a linear regression model (with an intercept term) using all five mask usage columns as features, what problem would we encounter?"
   ]
  },
  {
   "cell_type": "markdown",
   "id": "dade205f",
   "metadata": {},
   "source": [
    "_Mulitcollinearity._"
   ]
  },
  {
   "cell_type": "markdown",
   "id": "5079491b",
   "metadata": {
    "deletable": false,
    "editable": false,
    "tags": []
   },
   "source": [
    "<!-- END QUESTION -->\n",
    "\n",
    "<br/>\n",
    "\n",
    "<hr style=\"border: 1px solid #fdb515;\" />\n",
    "\n",
    "## Question 2: Creating a Preliminary COVID-19 Model\n",
    "\n",
    "This question will guide you through creating a linear regression model that will predict the number of COVID-19 cases per capita given various COVID-19 safety protocols that have been implemented. Then, we will investigate the bias, variance, and observational noise of this model in the next two questions."
   ]
  },
  {
   "cell_type": "markdown",
   "id": "584ef547",
   "metadata": {
    "deletable": false,
    "editable": false
   },
   "source": [
    "<br>\n",
    "\n",
    "---\n",
    "\n",
    "### Question 2a\n",
    "\n",
    "Despite the problems we discussed in the previous question, let's train a linear regression model with an intercept term using `scikit-learn` to predict the number of COVID-19 cases per capita for September 12, 2021, using county-wise mask usage data from `mask_data`. Use `train_test_split` [(documentation)](https://scikit-learn.org/stable/modules/generated/sklearn.model_selection.train_test_split.html) to evaluate your model's RMSE on a held-out test set with 33% of the COVID-19 data; call the resulting splits `X_train`, `X_test`, `Y_train`, and `Y_test`.\n",
    "\n",
    "To pass the autograder, make sure to set the parameter `random_state` to 42 in your call to `train_test_split` to generate a reproducible data split ([documentation](http://scikit-learn.org/stable/modules/generated/sklearn.model_selection.train_test_split.html))."
   ]
  },
  {
   "cell_type": "code",
   "execution_count": 36,
   "id": "2525c32c",
   "metadata": {
    "tags": []
   },
   "outputs": [
    {
     "data": {
      "text/plain": [
       "(0.03552339478226883, 0.037954861477287)"
      ]
     },
     "execution_count": 36,
     "metadata": {},
     "output_type": "execute_result"
    }
   ],
   "source": [
    "# Create train/test sets\n",
    "X = mask_data[[\"NEVER\", \"RARELY\", \"SOMETIMES\", \"FREQUENTLY\", \"ALWAYS\"]]\n",
    "Y = mask_data[\"9/12/2021_cpc\"]\n",
    "X_train, X_test, Y_train, Y_test = train_test_split(X, Y, test_size=0.33, random_state=42)\n",
    "\n",
    "# Fit the linear model and make predictions (you will need multiple lines)\n",
    "model = lm.LinearRegression()\n",
    "model.fit(X_train, Y_train)\n",
    "Y_train_hat = model.predict(X_train)\n",
    "Y_test_hat = model.predict(X_test)\n",
    "\n",
    "# Compute RMSE on train and test sets\n",
    "train_rmse_cpc = np.sqrt(np.mean((Y_train - Y_train_hat)**2))\n",
    "test_rmse_cpc = np.sqrt(np.mean((Y_test - Y_test_hat)**2))\n",
    "\n",
    "train_rmse_cpc, test_rmse_cpc"
   ]
  },
  {
   "cell_type": "code",
   "execution_count": 37,
   "id": "36001223",
   "metadata": {
    "deletable": false,
    "editable": false
   },
   "outputs": [
    {
     "data": {
      "text/html": [
       "<p><strong><pre style='display: inline;'>q2a</pre></strong> passed! ✨</p>"
      ],
      "text/plain": [
       "q2a results: All test cases passed!"
      ]
     },
     "execution_count": 37,
     "metadata": {},
     "output_type": "execute_result"
    }
   ],
   "source": [
    "grader.check(\"q2a\")"
   ]
  },
  {
   "cell_type": "markdown",
   "id": "ca7823ad",
   "metadata": {
    "deletable": false,
    "editable": false
   },
   "source": [
    "<!-- BEGIN QUESTION -->\n",
    "\n",
    "<br>\n",
    "\n",
    "---\n",
    "\n",
    "### Question 2b\n",
    "\n",
    "To visualize the model performance from part (a), let's make the following two visualizations: \n",
    "1. The observed values vs. the predicted values on the test set.\n",
    "2. The residuals plot (note: in multiple linear regression, the residual plot has the residuals plotted against the predicted values).\n",
    "\n",
    "In both plots, the predicted values should be on the x-axis so that it is easy to make comparisons.\n",
    "\n",
    "**Note:**\n",
    "* We've used `plt.subplot` ([documentation](https://matplotlib.org/stable/gallery/subplots_axes_and_figures/subplots_demo.html)) so that you can view both visualizations side-by-side. For example, `plt.subplot(121)` sets the plottable area to the first column of a 1x2 plot grid; you can then call `Matplotlib` and `Seaborn` functions to plot that area, before the next `plt.subplot(122)` area is set.\n",
    "* **Remember to add a guiding line to both plots where $\\hat{Y} = Y$, i.e., where the residual is 0**. `plt.plot` and `plt.axhline` might be helpful here!\n",
    "* Consider setting the x-axes of the plots to have the same limits to make it easier to compare the graphs.\n",
    "* Please add descriptive titles and axis labels for your plots!"
   ]
  },
  {
   "cell_type": "code",
   "execution_count": 70,
   "id": "ce45870d",
   "metadata": {
    "tags": []
   },
   "outputs": [
    {
     "data": {
      "image/png": "[encoded data removed]",
      "text/plain": [
       "<Figure size 1200x600 with 2 Axes>"
      ]
     },
     "metadata": {},
     "output_type": "display_data"
    }
   ],
   "source": [
    "plt.figure(figsize=(12,6))      # do not change this line\n",
    "plt.subplot(121)                # do not change this line\n",
    "# 1. plot observations vs. predictions\n",
    "plt.scatter(Y_test, Y_test_hat)\n",
    "plt.plot([0.1, 0.165], [0.1, 0.165], c=\"r\", ls=\"--\")\n",
    "plt.xlabel(\"$Y$\", fontsize=15)\n",
    "plt.ylabel(\"$\\hat{Y}$\", fontsize=15)\n",
    "plt.title(\"$Y$ vs. $\\hat{Y}$\", fontsize=15)\n",
    "\n",
    "plt.subplot(122)               # do not change this line\n",
    "# 2. plot residual plot\n",
    "plt.scatter(Y_test, Y_test - Y_test_hat)\n",
    "plt.axhline(0, color=\"red\", ls=\"--\")\n",
    "plt.xlabel(\"$Y$\", fontsize=15)\n",
    "plt.ylabel(\"$Y - \\hat{Y}$\", fontsize=18)\n",
    "plt.title(\"Residual\", fontsize=18)\n",
    "\n",
    "plt.tight_layout()             # do not change this line"
   ]
  },
  {
   "cell_type": "markdown",
   "id": "9185dd56",
   "metadata": {
    "deletable": false,
    "editable": false
   },
   "source": [
    "<!-- END QUESTION -->\n",
    "\n",
    "<!-- BEGIN QUESTION -->\n",
    "\n",
    "<br>\n",
    "\n",
    "---\n",
    "\n",
    "### Question 2c\n",
    "\n",
    "Describe what the plots in part (b) indicate about this linear model. In particular, are the predictions good?"
   ]
  },
  {
   "cell_type": "markdown",
   "id": "93fa2e02",
   "metadata": {},
   "source": [
    "_Terrible._"
   ]
  },
  {
   "cell_type": "markdown",
   "id": "5ad0bb3b",
   "metadata": {
    "deletable": false,
    "editable": false
   },
   "source": [
    "<!-- END QUESTION -->\n",
    "\n",
    "<br/>\n",
    "\n",
    "<hr style=\"border: 1px solid #fdb515;\" />\n",
    "\n",
    "## Question 3: Performing Multicollinearity Analysis\n",
    "\n",
    "This question will guide you through performing an analysis that can reveal potential multicollinearity in our features, which is not ideal. In particular, we will use bootstrapping to get $95\\%$ confidence intervals on the fitted parameters. Here's a reminder of the outline of bootstrapping:\n",
    "\n",
    "1. `3a` Assume the sample is a representative sample. We can simulate different samples by resampling from the original sample.\n",
    "2. `3b` Calculate statistic(s) for each resample to simulate different potential result. Statistics can be a mean (Lab 10), correlation (Lab 10), coefficients of a linear model (Question 3 below), and any function of the sample data.\n",
    "3. `3c` Use the distribution of the above statistics calculated on each of the resamples to construct a confidence interval.\n",
    "4. `3d` Use the result of the confidence interval to make an inference of the population."
   ]
  },
  {
   "cell_type": "markdown",
   "id": "63b26f95",
   "metadata": {
    "deletable": false,
    "editable": false
   },
   "source": [
    "<br>\n",
    "\n",
    "---\n",
    "\n",
    "### Question 3a\n",
    "\n",
    "Fill in the blanks below to implement the `bootstrap_sample` function that performs bootstrapping on the given dataset `data` $k$ times. To perform a bootstrap on a `DataFrame` with $n$ rows, randomly draw $n$ samples *with replacement* so that the bootstrapped `DataFrame` is the same size as the original `DataFrame`. The `bootstrap_sample` function should return a list containing $k$ bootstrapped `DataFrames`, each of which has $n$ rows.\n",
    "\n",
    "**Hint**: You may find `df.sample` helpful, see [documentation](https://pandas.pydata.org/docs/reference/api/pandas.DataFrame.sample.html). This is very similar to Lab 10."
   ]
  },
  {
   "cell_type": "code",
   "execution_count": 72,
   "id": "542d7436",
   "metadata": {
    "tags": []
   },
   "outputs": [
    {
     "data": {
      "text/html": [
       "<div>\n",
       "<style scoped>\n",
       "    .dataframe tbody tr th:only-of-type {\n",
       "        vertical-align: middle;\n",
       "    }\n",
       "\n",
       "    .dataframe tbody tr th {\n",
       "        vertical-align: top;\n",
       "    }\n",
       "\n",
       "    .dataframe thead th {\n",
       "        text-align: right;\n",
       "    }\n",
       "</style>\n",
       "<table border=\"1\" class=\"dataframe\">\n",
       "  <thead>\n",
       "    <tr style=\"text-align: right;\">\n",
       "      <th></th>\n",
       "      <th>NEVER</th>\n",
       "      <th>RARELY</th>\n",
       "      <th>SOMETIMES</th>\n",
       "      <th>FREQUENTLY</th>\n",
       "      <th>ALWAYS</th>\n",
       "      <th>9/12/2021_cpc</th>\n",
       "    </tr>\n",
       "  </thead>\n",
       "  <tbody>\n",
       "    <tr>\n",
       "      <th>443</th>\n",
       "      <td>0.035</td>\n",
       "      <td>0.048</td>\n",
       "      <td>0.083</td>\n",
       "      <td>0.193</td>\n",
       "      <td>0.641</td>\n",
       "      <td>0.119140</td>\n",
       "    </tr>\n",
       "    <tr>\n",
       "      <th>2029</th>\n",
       "      <td>0.081</td>\n",
       "      <td>0.163</td>\n",
       "      <td>0.249</td>\n",
       "      <td>0.251</td>\n",
       "      <td>0.257</td>\n",
       "      <td>0.134935</td>\n",
       "    </tr>\n",
       "    <tr>\n",
       "      <th>2467</th>\n",
       "      <td>0.063</td>\n",
       "      <td>0.057</td>\n",
       "      <td>0.082</td>\n",
       "      <td>0.217</td>\n",
       "      <td>0.581</td>\n",
       "      <td>0.160043</td>\n",
       "    </tr>\n",
       "    <tr>\n",
       "      <th>867</th>\n",
       "      <td>0.144</td>\n",
       "      <td>0.138</td>\n",
       "      <td>0.281</td>\n",
       "      <td>0.162</td>\n",
       "      <td>0.275</td>\n",
       "      <td>0.128307</td>\n",
       "    </tr>\n",
       "    <tr>\n",
       "      <th>2551</th>\n",
       "      <td>0.049</td>\n",
       "      <td>0.060</td>\n",
       "      <td>0.119</td>\n",
       "      <td>0.205</td>\n",
       "      <td>0.567</td>\n",
       "      <td>0.109993</td>\n",
       "    </tr>\n",
       "    <tr>\n",
       "      <th>...</th>\n",
       "      <td>...</td>\n",
       "      <td>...</td>\n",
       "      <td>...</td>\n",
       "      <td>...</td>\n",
       "      <td>...</td>\n",
       "      <td>...</td>\n",
       "    </tr>\n",
       "    <tr>\n",
       "      <th>3034</th>\n",
       "      <td>0.082</td>\n",
       "      <td>0.024</td>\n",
       "      <td>0.191</td>\n",
       "      <td>0.210</td>\n",
       "      <td>0.493</td>\n",
       "      <td>0.073876</td>\n",
       "    </tr>\n",
       "    <tr>\n",
       "      <th>1056</th>\n",
       "      <td>0.129</td>\n",
       "      <td>0.069</td>\n",
       "      <td>0.129</td>\n",
       "      <td>0.273</td>\n",
       "      <td>0.399</td>\n",
       "      <td>0.214915</td>\n",
       "    </tr>\n",
       "    <tr>\n",
       "      <th>258</th>\n",
       "      <td>0.087</td>\n",
       "      <td>0.094</td>\n",
       "      <td>0.074</td>\n",
       "      <td>0.295</td>\n",
       "      <td>0.450</td>\n",
       "      <td>0.106222</td>\n",
       "    </tr>\n",
       "    <tr>\n",
       "      <th>1674</th>\n",
       "      <td>0.113</td>\n",
       "      <td>0.167</td>\n",
       "      <td>0.131</td>\n",
       "      <td>0.163</td>\n",
       "      <td>0.425</td>\n",
       "      <td>0.196263</td>\n",
       "    </tr>\n",
       "    <tr>\n",
       "      <th>2245</th>\n",
       "      <td>0.027</td>\n",
       "      <td>0.074</td>\n",
       "      <td>0.159</td>\n",
       "      <td>0.173</td>\n",
       "      <td>0.568</td>\n",
       "      <td>0.106262</td>\n",
       "    </tr>\n",
       "  </tbody>\n",
       "</table>\n",
       "<p>3141 rows × 6 columns</p>\n",
       "</div>"
      ],
      "text/plain": [
       "      NEVER  RARELY  SOMETIMES  FREQUENTLY  ALWAYS  9/12/2021_cpc\n",
       "443   0.035   0.048      0.083       0.193   0.641       0.119140\n",
       "2029  0.081   0.163      0.249       0.251   0.257       0.134935\n",
       "2467  0.063   0.057      0.082       0.217   0.581       0.160043\n",
       "867   0.144   0.138      0.281       0.162   0.275       0.128307\n",
       "2551  0.049   0.060      0.119       0.205   0.567       0.109993\n",
       "...     ...     ...        ...         ...     ...            ...\n",
       "3034  0.082   0.024      0.191       0.210   0.493       0.073876\n",
       "1056  0.129   0.069      0.129       0.273   0.399       0.214915\n",
       "258   0.087   0.094      0.074       0.295   0.450       0.106222\n",
       "1674  0.113   0.167      0.131       0.163   0.425       0.196263\n",
       "2245  0.027   0.074      0.159       0.173   0.568       0.106262\n",
       "\n",
       "[3141 rows x 6 columns]"
      ]
     },
     "execution_count": 72,
     "metadata": {},
     "output_type": "execute_result"
    }
   ],
   "source": [
    "def bootstrap_sample(data, k):\n",
    "    \"\"\"\n",
    "    Performs bootstrap sampling on data to obtain k samples of size n.\n",
    "    \n",
    "    Arguments:\n",
    "        data - Dataset contained as a Pandas DataFrame \n",
    "        k - Number of randomly drawn samples\n",
    "    \n",
    "    Returns:\n",
    "        samples - List containing k Pandas DataFrames of size n each\n",
    "                  corresponding to each sample  \n",
    "    \"\"\"\n",
    "    n = len(data)\n",
    "    samples = []\n",
    "    for _ in range(k):\n",
    "        sample = data.sample(n, replace=True)\n",
    "        samples.append(sample)\n",
    "    return samples\n",
    "\n",
    "# Print out the first DataFrame only\n",
    "bootstrap_sample(mask_data, 1)[0]"
   ]
  },
  {
   "cell_type": "code",
   "execution_count": 73,
   "id": "4cb9fe24",
   "metadata": {
    "deletable": false,
    "editable": false
   },
   "outputs": [
    {
     "data": {
      "text/html": [
       "<p><strong><pre style='display: inline;'>q3a</pre></strong> passed! 🎉</p>"
      ],
      "text/plain": [
       "q3a results: All test cases passed!"
      ]
     },
     "execution_count": 73,
     "metadata": {},
     "output_type": "execute_result"
    }
   ],
   "source": [
    "grader.check(\"q3a\")"
   ]
  },
  {
   "cell_type": "markdown",
   "id": "770c545e",
   "metadata": {
    "deletable": false,
    "editable": false
   },
   "source": [
    "<br>\n",
    "\n",
    "---\n",
    "\n",
    "### Question 3b\n",
    "\n",
    "Using the function from the previous part, let's do the following:\n",
    "\n",
    "1. Generate 1000 bootstrapped samples from the original `mask_data` `DataFrame`. \n",
    "2. For each of the 1000 bootstrapped samples, use `sklearn` to fit a linear regression model (with an intercept term) like we did in Question 2, where mask usage categories are the features and `9/12/2021_cpc` is the response. You should fit 1000 models in total. \n",
    "3. Store each of the 1000 trained models in the `models` list.\n",
    "\n",
    "**Hint:**\n",
    "* You *should not* create any validation or testing sets in this subpart; each model should fit to one entire bootstrapped `DataFrame`.\n",
    "* `LinearRegression` is an object type; to store a new model you must create a new instance first!\n",
    "* Do not use `X` and `Y` as variable names while bootstrapping as this will override the values stored in `q2a`.\n",
    "* When fitting each model, remember that your design matrix should be a 2D array or `pandas` `DataFrame` whereas the true labels should be a `Series`."
   ]
  },
  {
   "cell_type": "code",
   "execution_count": 77,
   "id": "b5e1b10b",
   "metadata": {
    "tags": []
   },
   "outputs": [],
   "source": [
    "np.random.seed(42) # DO NOT REMOVE THIS LINE\n",
    "\n",
    "datasets = bootstrap_sample(mask_data, 1000)\n",
    "models = []\n",
    "for dataset in datasets:\n",
    "    model = lm.LinearRegression()\n",
    "    model.fit(dataset[[\"NEVER\", \"RARELY\", \"SOMETIMES\", \"FREQUENTLY\", \"ALWAYS\"]], dataset[\"9/12/2021_cpc\"])\n",
    "    models.append(model)\n",
    "\n",
    "# Datasets take up a lot of memory, so we should remove them!\n",
    "del datasets"
   ]
  },
  {
   "cell_type": "code",
   "execution_count": 78,
   "id": "69a7c8f6",
   "metadata": {
    "deletable": false,
    "editable": false
   },
   "outputs": [
    {
     "data": {
      "text/html": [
       "<p><strong><pre style='display: inline;'>q3b</pre></strong> passed! ✨</p>"
      ],
      "text/plain": [
       "q3b results: All test cases passed!"
      ]
     },
     "execution_count": 78,
     "metadata": {},
     "output_type": "execute_result"
    }
   ],
   "source": [
    "grader.check(\"q3b\")"
   ]
  },
  {
   "cell_type": "markdown",
   "id": "754713cc",
   "metadata": {
    "deletable": false,
    "editable": false
   },
   "source": [
    "<br>\n",
    "\n",
    "---\n",
    "\n",
    "### Question 3c\n",
    "\n",
    "Fill in the blanks below in the `confidence_interval` function to generate a $95\\%$ confidence interval for each of our parameters $\\theta_i$, including the intercept term $\\theta_0$. All of the helper code to extract coefficients from our trained models has been implemented for you already.\n",
    "\n",
    "**Hint**: \n",
    "- For a refresher on confidence intervals, refer to this section in the [Data 8 textbook](https://inferentialthinking.com/chapters/13/3/Confidence_Intervals.html). \n",
    "- Pay close attention to how the arrays used below are formatted. What does each row represent? What does each column represent? To get the $i$th column from a 2D-array, you can use `2D_array[:, i]`.\n"
   ]
  },
  {
   "cell_type": "code",
   "execution_count": 82,
   "id": "c40b3e47",
   "metadata": {
    "tags": []
   },
   "outputs": [
    {
     "data": {
      "text/markdown": [
       "#### Confidence Intervals:"
      ],
      "text/plain": [
       "<IPython.core.display.Markdown object>"
      ]
     },
     "metadata": {},
     "output_type": "display_data"
    },
    {
     "data": {
      "text/markdown": [
       "|parameter|lower|upper|\n",
       "----|----|----|\n",
       "|$\\theta_0$|-2.6200726729046546|1.2507871842260834|\n",
       "|$\\theta_1$|-1.089682887413483|2.798332585238311|\n",
       "|$\\theta_2$|-1.14613315408184|2.7445190254359266|\n",
       "|$\\theta_3$|-1.0182943692233446|2.8436420433761893|\n",
       "|$\\theta_4$|-1.1582158941590666|2.732939257340753|\n",
       "|$\\theta_5$|-1.1477854499076416|2.719510905202876|"
      ],
      "text/plain": [
       "<IPython.core.display.Markdown object>"
      ]
     },
     "metadata": {},
     "output_type": "display_data"
    }
   ],
   "source": [
    "def extract_coefs(models, include_intercept = True):\n",
    "    \"\"\"\n",
    "    NOTE: This function has already been implemented. You do not need to modify this!\n",
    "    \n",
    "    Extracts coefficients of all the linear regression models in MODELS and returns\n",
    "    it as a NumPy array with one model's coefficients as each row.\n",
    "    \n",
    "    Arguments:\n",
    "        models - Contains k sklearn LinearRegression models, each with p + 1 coefficients.\n",
    "        include_intercept - Whether to include an intercept in returned coefficients.\n",
    "    \n",
    "    Returns:\n",
    "        coef_array - Coefficients of all k models, each with p + 1 coefficients (if intercept\n",
    "                     enabled, otherwise p). The returned object is k x (p + 1) NumPy array.\n",
    "    \"\"\"\n",
    "    coef_array = np.zeros(shape = (len(models), len(models[0].coef_) + 1))\n",
    "    for i, m in enumerate(models):\n",
    "        coef_array[i, 0] = m.intercept_\n",
    "        coef_array[i, 1:] = m.coef_\n",
    "    if include_intercept:\n",
    "        return coef_array \n",
    "    return coef_array[:, 1:]\n",
    "\n",
    "def confidence_interval(coefs):\n",
    "    \"\"\"\n",
    "    Calculates confidence intervals for each theta_i based on coefficients of \n",
    "    bootstrapped models. Returns output as a list of confidence intervals.\n",
    "    \n",
    "    Arguments:\n",
    "        coefs - Output of extract_coefs, a k x (p + 1) or k x p NumPy array containing\n",
    "                coefficients of bootstrapped models.\n",
    "    \n",
    "    Returns:\n",
    "        cis - Confidence intervals of each parameter theta_i in the form of a \n",
    "              list like this: [(0.5, 0.75), (0.2, 0.4), ...].\n",
    "    \"\"\"\n",
    "    cis = []\n",
    "    \n",
    "    # FILL IN CODE BELOW\n",
    "    for i in range(len(coefs[0])):\n",
    "        theta_i_values = coefs[:, i]\n",
    "        theta_i_lower_ci, theta_i_upper_ci = np.percentile(theta_i_values, 2.5), np.percentile(theta_i_values, 97.5)\n",
    "        cis.append((theta_i_lower_ci, theta_i_upper_ci))\n",
    "    \n",
    "    return cis\n",
    "\n",
    "\n",
    "# Compute confidence intervals\n",
    "model_coefs = extract_coefs(models)\n",
    "cis = confidence_interval(model_coefs)\n",
    "\n",
    "# Pretty print in a table\n",
    "display(Markdown('#### Confidence Intervals:'))\n",
    "md_list = [\"|parameter|lower|upper|\",\n",
    "           \"----|----|----|\"]\n",
    "md_list += [fr\"|$\\theta_{i}$|{lci}|{uci}|\" for i, (lci, uci) in enumerate(cis)]\n",
    "display(Markdown('\\n'.join(md_list)))"
   ]
  },
  {
   "cell_type": "code",
   "execution_count": 83,
   "id": "5eb45a6f",
   "metadata": {
    "deletable": false,
    "editable": false
   },
   "outputs": [
    {
     "data": {
      "text/html": [
       "<p><strong><pre style='display: inline;'>q3c</pre></strong> passed! ✨</p>"
      ],
      "text/plain": [
       "q3c results: All test cases passed!"
      ]
     },
     "execution_count": 83,
     "metadata": {},
     "output_type": "execute_result"
    }
   ],
   "source": [
    "grader.check(\"q3c\")"
   ]
  },
  {
   "cell_type": "markdown",
   "id": "f472257c",
   "metadata": {
    "deletable": false,
    "editable": false
   },
   "source": [
    "<!-- BEGIN QUESTION -->\n",
    "\n",
    "<br>\n",
    "\n",
    "---\n",
    "\n",
    "### Question 3d\n",
    "\n",
    "Interpret the confidence intervals above for each of the $\\theta_i$, where $\\theta_0$ is the intercept term, and the remaining $\\theta_i$'s are parameters corresponding to mask usage features. How does this relate to your observations in `q1d`, and what does that indicate about the usefulness of all the features for your model?\n",
    "\n",
    "Hint: The lecture or [course notes](https://ds100.org/course-notes/inference_causality/inference_causality.html) discussing collinearity might be a useful starting point when approaching this question."
   ]
  },
  {
   "cell_type": "markdown",
   "id": "43012b3d",
   "metadata": {},
   "source": [
    "Can not reject $H_0$. Must remove one independent vairable to solve multicollinearity."
   ]
  },
  {
   "cell_type": "markdown",
   "id": "0d20bd06-2331-4537-8fe6-9bf92cc8cfcc",
   "metadata": {
    "deletable": false,
    "editable": false
   },
   "source": [
    "<!-- END QUESTION -->\n",
    "\n",
    "<br/>\n",
    "\n",
    "<hr style=\"border: 1px solid #fdb515;\" />\n",
    "\n",
    "## Question 4: Performing Bias-Variance Analysis\n",
    "\n",
    "This question will guide you through performing an analysis that can estimate the bias and variance of our models, which can be helpful in modeling.\n",
    "\n",
    "Recall that the **model variance** on a data point $\\vec{x_k}$ is simply the variance of our predictions on that sample point $\\vec{x_k}$. \n",
    "\n",
    "$$\\text{model variance} = \\mathrm{Var}(\\hat{Y}(\\vec{x_k})) = \\mathrm{Var}(\\vec{x_k}^T\\hat{\\theta})$$\n",
    "\n",
    "Since we are using OLS, we can also rewrite our model as $\\hat{Y}(\\vec{x_k}) = \\vec{x_k}^T\\hat{\\theta} = \\hat{\\theta_0} 1 + \\hat{\\theta_1}x_{k, 1} + ... + \\hat{\\theta_p}x_{k, p}$. To estimate the model variance, we can sample a particular data point $(\\vec{x_k}, y_k)$ and calculate the variance of the predictions using different fitted models in `models`. Note that the variance is taken across different models $\\hat{Y}(\\vec{x_k})$, which are pre-selected and fixed. \n",
    "\n",
    "Also, recall that **model risk** for this point is the same as the mean square error over all possible fitted models:\n",
    "\n",
    "$$\n",
    "\\text{model risk} = \\mathbb{E}\\left[\\left(y_k - \\hat{Y}(\\vec{x_k}) \\right)^2\\right] \\approx \\frac{1}{\\# \\text{ of bootstrap}}\\sum_{j=1}^{\\# \\text{ of bootstrap}} (y_k - \\hat{Y}_j(\\vec{x_k}))^2 = MSE(\\vec{x_k})\n",
    "$$\n",
    "\n",
    "where the subscript $j$ is used to denote different models. Here, we are considering a particular observation of the random response variable $y_k$. Therefore model risk is an expectation over the estimate $\\hat{\\theta}_j$, coefficients corresponding to different models. $\\hat{\\theta}_j$ itself is a random variable because it was derived by fitting to different random resamples. We can also find the ratio of model variance to model risk. You can interpret this ratio as the proportion of the expected square error on the data point \"captured\" or \"explained\" by the model variance: \n",
    "\n",
    "$$\n",
    "\\frac{\\text{model variance}}{\\text{model risk}}=\\frac{\\mathrm{Var}(\\hat{Y}(\\vec{x_k}))}{\\mathbb{E}\\left[\\left(y_k - \\hat{Y}(\\vec{x_k}) \\right)^2\\right]}\n",
    "$$"
   ]
  },
  {
   "cell_type": "markdown",
   "id": "4302f9fe",
   "metadata": {
    "deletable": false,
    "editable": false
   },
   "source": [
    "<br>\n",
    "\n",
    "---\n",
    "\n",
    "### Question 4a\n",
    "\n",
    "Let's use the last row of our design matrix `X` and its corresponding `Y` value to find these quantities! Recall we defined `X` and `Y` back in Question `2a`, which is what you should be referencing here.\n",
    "\n",
    "Complete the function `simulate` that takes in a data point `xk`, `yk` and returns `model_risk`, `model_var`, and `ratio`, the ratio of model variance to model risk.\n",
    "\n",
    "Here is a suggested format, but you do not need to follow the skeleton code:\n",
    "* Assign `predictions` to a length 1000 vector where each element is the prediction on `xk` using a model in `models`. Note that `sklearn`'s `.predict` returns an array, but we only need a **scalar prediction**! Try to print out a prediction and adjust your code if needed.\n",
    "* Use `predictions` to compute the estimated `model_risk`.\n",
    "* Use `predictions` to compute the estimated `model_var`.\n",
    "* Use `model_risk` and `model_var` to compute the `ratio`, the ratio of model variance to model risk.\n",
    "\n",
    "**Hint**: You can use list comprehension for creating your predictions to save yourself the overhead of using multiple appends, as well as `np.mean` and `np.var` for computing means and variances of an array or list."
   ]
  },
  {
   "cell_type": "code",
   "execution_count": 101,
   "id": "74c888da",
   "metadata": {
    "tags": []
   },
   "outputs": [
    {
     "data": {
      "text/plain": [
       "(0.000153458640941587, 9.816864640764886e-07, 0.006397075186207084)"
      ]
     },
     "execution_count": 101,
     "metadata": {},
     "output_type": "execute_result"
    }
   ],
   "source": [
    "def simulate(xk, yk, models):\n",
    "    predictions = [model.predict(xk) for model in models]\n",
    "    model_risk = np.mean((yk - predictions)**2)\n",
    "    model_var = np.var(predictions)\n",
    "    ratio = model_var / model_risk\n",
    "    return model_risk, model_var, ratio\n",
    "x_last = X.iloc[[-1]]\n",
    "y_last = Y.iloc[-1]\n",
    "model_risk, model_var, ratio = simulate(x_last, y_last, models)\n",
    "model_risk, model_var, ratio"
   ]
  },
  {
   "cell_type": "code",
   "execution_count": 102,
   "id": "eb8c5df1",
   "metadata": {
    "deletable": false,
    "editable": false
   },
   "outputs": [
    {
     "data": {
      "text/html": [
       "<p><strong><pre style='display: inline;'>q4a</pre></strong> passed! 🚀</p>"
      ],
      "text/plain": [
       "q4a results: All test cases passed!"
      ]
     },
     "execution_count": 102,
     "metadata": {},
     "output_type": "execute_result"
    }
   ],
   "source": [
    "grader.check(\"q4a\")"
   ]
  },
  {
   "cell_type": "markdown",
   "id": "c2474933",
   "metadata": {
    "deletable": false,
    "editable": false
   },
   "source": [
    "<!-- BEGIN QUESTION -->\n",
    "\n",
    "<br>\n",
    "\n",
    "---\n",
    "\n",
    "### Question 4b\n",
    "\n",
    "Comment on the ratio `ratio`, which is the proportion of the expected square error on the data point captured by the model variance. Is the model variance the dominant term in the bias-variance decomposition? If not, what term(s) dominate the bias-variance decomposition?\n",
    "\n",
    "**Note**: The Bias-Variance decomposition from the lecture is:\n",
    "\n",
    "$$\n",
    "\\text{model risk} = \\sigma^2 + (\\text{model bias})^2 + \\text{model variance}\n",
    "$$\n",
    "\n",
    "where $\\sigma^2$ is the observation variance, or \"irreducible error\".\n"
   ]
  },
  {
   "cell_type": "markdown",
   "id": "5ea3a45b",
   "metadata": {},
   "source": [
    "No. Model bias."
   ]
  },
  {
   "cell_type": "markdown",
   "id": "b65ab4d8",
   "metadata": {
    "deletable": false,
    "editable": false
   },
   "source": [
    "<!-- END QUESTION -->\n",
    "\n",
    "<br>\n",
    "\n",
    "---\n",
    "\n",
    "### Question 4c\n",
    "\n",
    "Now let's calculate the average variance and average mean squared error across 250 randomly sampled $(x_i, y_i)$ points. In other words, estimate the following quantities across all $x_i$ and $y_i$ in `X_sample` and `Y_sample`:\n",
    "\n",
    "* Average variance is given by: $$\\frac{1}{250} \\sum_{k=1}^{250} \\mathrm{Var}\\left(\\hat{Y}(\\vec{x_k})\\right)$$\n",
    "* Average mean squared error is given by: $$\\frac{1}{250} \\sum_{k=1}^{250} \\mathbb{E}\\left[ (y_k - \\hat{Y}(\\vec{x_k}))^2 \\right]$$\n",
    "\n",
    "**Hint:** Call `simulate` from `q4a`.\n",
    "\n",
    "Note that this question may take a little longer to run than usual. However, if your code runs for more than ~10 minutes, please reassess your code in `q4a` and `q4c`. "
   ]
  },
  {
   "cell_type": "code",
   "execution_count": 105,
   "id": "a0657927",
   "metadata": {
    "tags": []
   },
   "outputs": [
    {
     "data": {
      "text/plain": [
       "(2.5345984822549163e-06, 0.001609776631080761)"
      ]
     },
     "execution_count": 105,
     "metadata": {},
     "output_type": "execute_result"
    }
   ],
   "source": [
    "np.random.seed(42)\n",
    "\n",
    "X_sample = X.sample(250)         # Generate 250 x_i\n",
    "Y_sample = Y.loc[X_sample.index] # and select the corresponding y_i\n",
    "\n",
    "var, mse = [], []\n",
    "\n",
    "# Write your code to calculate the variances and MSEs below\n",
    "for i in range(250):\n",
    "    x_k, y_k = X_sample.iloc[[i]], Y_sample.iloc[i]\n",
    "    res = simulate(x_k, y_k, models)\n",
    "    var.append(res[1])\n",
    "    mse.append(res[0])\n",
    "\n",
    "avg_var, avg_mse = np.mean(var), np.mean(mse)\n",
    "avg_var, avg_mse"
   ]
  },
  {
   "cell_type": "code",
   "execution_count": 106,
   "id": "89b8c85b",
   "metadata": {
    "deletable": false,
    "editable": false
   },
   "outputs": [
    {
     "data": {
      "text/html": [
       "<p><strong><pre style='display: inline;'>q4c</pre></strong> passed! 🍀</p>"
      ],
      "text/plain": [
       "q4c results: All test cases passed!"
      ]
     },
     "execution_count": 106,
     "metadata": {},
     "output_type": "execute_result"
    }
   ],
   "source": [
    "grader.check(\"q4c\")"
   ]
  },
  {
   "cell_type": "markdown",
   "id": "1458361f",
   "metadata": {
    "deletable": false,
    "editable": false
   },
   "source": [
    "<!-- BEGIN QUESTION -->\n",
    "\n",
    "<br>\n",
    "\n",
    "---\n",
    "\n",
    "### Question 4d\n",
    "\n",
    "Propose a method of reducing the mean square error using the insights gained from the bias-variance decomposition above.\n",
    "\n",
    "Assume that the standard bias-variance decomposition used in lecture can be applied here."
   ]
  },
  {
   "cell_type": "markdown",
   "id": "58fc7d36",
   "metadata": {},
   "source": [
    "Find a balance between underfitting(model bias) and overfitting(model variance)."
   ]
  },
  {
   "cell_type": "markdown",
   "id": "076c0b07",
   "metadata": {
    "deletable": false,
    "editable": false,
    "nbgrader": {
     "grade": false,
     "grade_id": "finish",
     "locked": true,
     "schema_version": 2,
     "solution": false
    },
    "tags": []
   },
   "source": [
    "<!-- END QUESTION -->\n",
    "\n",
    "<br><br>\n",
    "\n",
    "\n",
    "<hr style=\"border: 5px solid #003262;\" />\n",
    "<hr style=\"border: 1px solid #fdb515;\" />\n",
    "\n",
    "## Congratulations! You have finished Homework 8!\n",
    "\n",
    "Here are some cats :) Can you find their names? There are two ways you can find them on JupyterLab.\n",
    "\n",
    "<img src=\"images/Pandas.jpg\" width=\"370px\"/> <img src=\"images/Patches.jpg\" width=\"200px\" /> <img src=\"images/Pishi.jpg\" width=\"208px\" />\n",
    "\n",
    "\n",
    "### Course Content Feedback\n",
    "\n",
    "If you have any feedback about this assignment or about any of our other weekly assignments, lectures, or discussions, please fill out the [Course Content Feedback Form](https://forms.gle/owfPCGgnrju1xQEA9). Your input is valuable in helping us improve the quality and relevance of our content to better meet your needs and expectations!\n",
    "\n",
    "### Submission Instructions\n",
    "\n",
    "Below, you will see a cell. Running this cell will automatically generate a zip file with your autograded answers. Once you submit this file to the Homework 8 Coding assignment on Gradescope, Gradescope will automatically submit a PDF file with your written answers to the Homework 8 Written assignment. If you run into any issues when running this cell, feel free to check this [section](https://ds100.org/debugging-guide/autograder_gradescope/autograder_gradescope.html#why-does-grader.exportrun_teststrue-fail-if-all-previous-tests-passed) in the Data 100 Debugging Guide.\n",
    "\n",
    "**Important**: Please check that your **plots/graphs and written responses** were generated and submitted correctly to the Homework 8 Written Assignment.\n",
    "\n",
    "**You are responsible for ensuring your submission follows our requirements and that the PDF for Homework 8 written answers was generated/submitted correctly. We will not be granting regrade requests nor extensions to submissions that don't follow instructions.** If you encounter any difficulties with submission, please don't hesitate to reach out to staff prior to the deadline. "
   ]
  },
  {
   "cell_type": "markdown",
   "id": "a6c0158b",
   "metadata": {
    "deletable": false,
    "editable": false
   },
   "source": [
    "## Submission\n",
    "\n",
    "Make sure you have run all cells in your notebook in order before running the cell below, so that all images/graphs appear in the output. The cell below will generate a zip file for you to submit. **Please save before exporting!**"
   ]
  },
  {
   "cell_type": "code",
   "execution_count": 107,
   "id": "22a9c481",
   "metadata": {
    "deletable": false,
    "editable": false
   },
   "outputs": [
    {
     "name": "stdout",
     "output_type": "stream",
     "text": [
      "Running your submission against local test cases...\n",
      "\n",
      "\n",
      "Your submission received the following results when run against available test cases:\n",
      "\n",
      "    q0 results: All test cases passed!\n",
      "\n",
      "    q1a results: All test cases passed!\n",
      "\n",
      "    q1b results: All test cases passed!\n",
      "\n",
      "    q2a results: All test cases passed!\n",
      "\n",
      "    q3a results: All test cases passed!\n",
      "\n",
      "    q3b results: All test cases passed!\n",
      "\n",
      "    q3c results: All test cases passed!\n",
      "\n",
      "    q4a results: All test cases passed!\n",
      "\n",
      "    q4c results: All test cases passed!\n"
     ]
    },
    {
     "data": {
      "text/html": [
       "\n",
       "                    <p>\n",
       "                        Your submission has been exported. Click\n",
       "                        <a href=\"hw08_2025_01_30T01_00_35_520218.zip\" download=\"hw08_2025_01_30T01_00_35_520218.zip\" target=\"_blank\">here</a> to download\n",
       "                        the zip file.\n",
       "                    </p>\n",
       "                "
      ],
      "text/plain": [
       "<IPython.core.display.HTML object>"
      ]
     },
     "metadata": {},
     "output_type": "display_data"
    }
   ],
   "source": [
    "# Save your notebook first, then run this cell to export your submission.\n",
    "grader.export(pdf=False, run_tests=True)"
   ]
  },
  {
   "cell_type": "markdown",
   "id": "1e6e7f67",
   "metadata": {},
   "source": [
    " "
   ]
  }
 ],
 "metadata": {
  "kernelspec": {
   "display_name": "Python 3",
   "language": "python",
   "name": "python3"
  },
  "language_info": {
   "codemirror_mode": {
    "name": "ipython",
    "version": 3
   },
   "file_extension": ".py",
   "mimetype": "text/x-python",
   "name": "python",
   "nbconvert_exporter": "python",
   "pygments_lexer": "ipython3",
   "version": "3.12.3"
  },
  "otter": {
   "OK_FORMAT": true,
   "require_no_pdf_confirmation": true,
   "tests": {
    "q0": {
     "name": "q0",
     "points": 1,
     "suites": [
      {
       "cases": [
        {
         "code": ">>> type(q0) == str\nTrue",
         "hidden": false,
         "locked": false
        }
       ],
       "scored": true,
       "setup": "",
       "teardown": "",
       "type": "doctest"
      }
     ]
    },
    "q1a": {
     "name": "q1a",
     "points": 3,
     "suites": [
      {
       "cases": [
        {
         "code": ">>> np.isclose(covid_data['9/12/2021_cpc'].iloc[0], 0.16541098940244012)\nTrue",
         "hidden": false,
         "locked": false
        },
        {
         "code": ">>> np.isclose(covid_data['9/12/2021_cpc'].sum(), 397.68435739730006)\nTrue",
         "hidden": false,
         "locked": false
        }
       ],
       "scored": true,
       "setup": "",
       "teardown": "",
       "type": "doctest"
      }
     ]
    },
    "q1b": {
     "name": "q1b",
     "points": 1,
     "suites": [
      {
       "cases": [
        {
         "code": ">>> mask_data.shape == (3141, 6) or mask_data.shape == (3141, 7)\nTrue",
         "hidden": false,
         "locked": false
        },
        {
         "code": ">>> set(mask_data.columns) == set(['NEVER', 'RARELY', 'SOMETIMES', 'FREQUENTLY', 'ALWAYS', '9/12/2021_cpc'])\nTrue",
         "hidden": false,
         "locked": false
        },
        {
         "code": ">>> np.isclose(mask_data['NEVER'].sum(), 251.13)\nTrue",
         "hidden": false,
         "locked": false
        },
        {
         "code": ">>> mask_data._is_view == False\nTrue",
         "hidden": false,
         "locked": false
        }
       ],
       "scored": true,
       "setup": "",
       "teardown": "",
       "type": "doctest"
      }
     ]
    },
    "q2a": {
     "name": "q2a",
     "points": 4,
     "suites": [
      {
       "cases": [
        {
         "code": ">>> X.equals(mask_data[['NEVER', 'RARELY', 'SOMETIMES', 'FREQUENTLY', 'ALWAYS']])\nTrue",
         "hidden": false,
         "locked": false
        },
        {
         "code": ">>> Y.equals(mask_data['9/12/2021_cpc'])\nTrue",
         "hidden": false,
         "locked": false
        },
        {
         "code": ">>> 0.01 <= train_rmse_cpc <= 0.05\nTrue",
         "hidden": false,
         "locked": false
        },
        {
         "code": ">>> 0.01 <= test_rmse_cpc <= 0.05\nTrue",
         "hidden": false,
         "locked": false
        }
       ],
       "scored": true,
       "setup": "",
       "teardown": "",
       "type": "doctest"
      }
     ]
    },
    "q3a": {
     "name": "q3a",
     "points": 2,
     "suites": [
      {
       "cases": [
        {
         "code": ">>> all([len(df_i) == len(mask_data) for df_i in bootstrap_sample(mask_data, 1)])\nTrue",
         "hidden": false,
         "locked": false
        },
        {
         "code": ">>> len(bootstrap_sample(mask_data, 3)) == 3\nTrue",
         "hidden": false,
         "locked": false
        },
        {
         "code": ">>> np.isclose(bootstrap_sample(mask_data, 1)[0]['NEVER'].mean(), 0.0799, atol=0.008)\nTrue",
         "hidden": false,
         "locked": false
        }
       ],
       "scored": true,
       "setup": "",
       "teardown": "",
       "type": "doctest"
      }
     ]
    },
    "q3b": {
     "name": "q3b",
     "points": 4,
     "suites": [
      {
       "cases": [
        {
         "code": ">>> X.equals(mask_data[['NEVER', 'RARELY', 'SOMETIMES', 'FREQUENTLY', 'ALWAYS']])\nTrue",
         "hidden": false,
         "locked": false
        },
        {
         "code": ">>> Y.equals(mask_data['9/12/2021_cpc'])\nTrue",
         "hidden": false,
         "locked": false
        },
        {
         "code": ">>> len(models) == 1000\nTrue",
         "hidden": false,
         "locked": false
        },
        {
         "code": ">>> all([isinstance(model, lm.LinearRegression) for model in models])\nTrue",
         "hidden": false,
         "locked": false
        },
        {
         "code": ">>> all([len(model.coef_) == 5 and model.intercept_ != 0 for model in models])\nTrue",
         "hidden": false,
         "locked": false
        },
        {
         "code": ">>> all(models[0].coef_ != models[1].coef_)\nTrue",
         "hidden": false,
         "locked": false
        }
       ],
       "scored": true,
       "setup": "",
       "teardown": "",
       "type": "doctest"
      }
     ]
    },
    "q3c": {
     "name": "q3c",
     "points": 2,
     "suites": [
      {
       "cases": [
        {
         "code": ">>> len(cis) == 6 and all((len(ci) == 2 for ci in cis))\nTrue",
         "hidden": false,
         "locked": false
        },
        {
         "code": ">>> all([lci < 0 and uci > 0 for lci, uci in cis])\nTrue",
         "hidden": false,
         "locked": false
        }
       ],
       "scored": true,
       "setup": "",
       "teardown": "",
       "type": "doctest"
      }
     ]
    },
    "q4a": {
     "name": "q4a",
     "points": 3,
     "suites": [
      {
       "cases": [
        {
         "code": ">>> model_risk <= 0.003\nTrue",
         "hidden": false,
         "locked": false
        },
        {
         "code": ">>> model_var <= 1e-05\nTrue",
         "hidden": false,
         "locked": false
        },
        {
         "code": ">>> np.isclose(ratio, 0.006397075186207152, atol=0.001)\nTrue",
         "hidden": false,
         "locked": false
        }
       ],
       "scored": true,
       "setup": "",
       "teardown": "",
       "type": "doctest"
      }
     ]
    },
    "q4c": {
     "name": "q4c",
     "points": 2,
     "suites": [
      {
       "cases": [
        {
         "code": ">>> avg_var <= 1e-05\nTrue",
         "hidden": false,
         "locked": false
        },
        {
         "code": ">>> avg_mse <= 0.005\nTrue",
         "hidden": false,
         "locked": false
        }
       ],
       "scored": true,
       "setup": "",
       "teardown": "",
       "type": "doctest"
      }
     ]
    }
   }
  }
 },
 "nbformat": 4,
 "nbformat_minor": 5
}
